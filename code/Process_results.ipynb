{
 "cells": [
  {
   "cell_type": "code",
   "execution_count": 1,
   "metadata": {},
   "outputs": [],
   "source": [
    "import pandas as pd\n",
    "import numpy as np\n",
    "import matplotlib.pyplot as plt"
   ]
  },
  {
   "cell_type": "code",
   "execution_count": 2,
   "metadata": {},
   "outputs": [],
   "source": [
    "import os\n",
    "mydir = '/results/'\n",
    "files = os.listdir(mydir)\n",
    "files_out = [i for i in files if i.endswith('.out')]"
   ]
  },
  {
   "cell_type": "code",
   "execution_count": 3,
   "metadata": {},
   "outputs": [],
   "source": [
    "files_err = [i for i in files if i.endswith('.err')]"
   ]
  },
  {
   "cell_type": "code",
   "execution_count": 4,
   "metadata": {},
   "outputs": [],
   "source": [
    "eachFile = files_out[0]"
   ]
  },
  {
   "cell_type": "code",
   "execution_count": 5,
   "metadata": {},
   "outputs": [
    {
     "name": "stdout",
     "output_type": "stream",
     "text": [
      "slurm_GCNGAP_ER.Status_layers_1_pooling_mean_dist_40_lr_0.001_graphfeatsize_100_nhiddim1_100_dropout_0.5_weight_decay_0.001_bsize_10.out\n"
     ]
    },
    {
     "name": "stderr",
     "output_type": "stream",
     "text": [
      "b'Skipping line 505: expected 1 fields, saw 3\\n'\n"
     ]
    }
   ],
   "source": [
    "filename = mydir+'/'+eachFile\n",
    "print(eachFile)\n",
    "df = pd.read_csv(filename,header = None, error_bad_lines=False)\n",
    "temp = df[df[0].str.contains(\"Epoch\")]"
   ]
  },
  {
   "cell_type": "markdown",
   "metadata": {},
   "source": [
    "# Get data"
   ]
  },
  {
   "cell_type": "code",
   "execution_count": 6,
   "metadata": {},
   "outputs": [
    {
     "name": "stdout",
     "output_type": "stream",
     "text": [
      "slurm_GCNGAP_ER.Status_layers_1_pooling_mean_dist_40_lr_0.001_graphfeatsize_100_nhiddim1_100_dropout_0.5_weight_decay_0.001_bsize_10.out\n",
      "slurm_GCNGAP_ER.Status_layers_2_pooling_mean_dist_40_lr_0.01_graphfeatsize_50_nhiddim1_150_dropout_0.3_weight_decay_0.1_bsize_10.out\n",
      "slurm_GCNGAP_ER.Status_layers_2_pooling_sum_dist_40_lr_0.001_graphfeatsize_100_nhiddim1_150_dropout_0.3_weight_decay_0.1_bsize_10.out\n",
      "slurm_GCNGAP_ER.Status_layers_2_pooling_att_dist_40_lr_0.001_graphfeatsize_150_nhiddim1_50_dropout_0.5_weight_decay_0.01_bsize_20.out\n",
      "slurm_GCNGAP_ER.Status_layers_2_pooling_mean_dist_40_lr_0.01_graphfeatsize_150_nhiddim1_50_dropout_0.3_weight_decay_0.1_bsize_30.out\n",
      "slurm_GCNGAP_ER.Status_layers_2_pooling_att_dist_40_lr_0.001_graphfeatsize_50_nhiddim1_150_dropout_0.3_weight_decay_0.001_bsize_20.out\n",
      "slurm_GCNGAP_ER.Status_layers_2_pooling_mean_dist_40_lr_0.001_graphfeatsize_100_nhiddim1_100_dropout_0.5_weight_decay_0.1_bsize_30.out\n",
      "slurm_GCNGAP_ER.Status_layers_1_pooling_att_dist_40_lr_0.001_graphfeatsize_150_nhiddim1_150_dropout_0.5_weight_decay_0.1_bsize_30.out\n",
      "slurm_GCNGAP_ER.Status_layers_2_pooling_att_dist_40_lr_0.001_graphfeatsize_100_nhiddim1_50_dropout_0.5_weight_decay_0.001_bsize_30.out\n",
      "slurm_GCNGAP_ER.Status_layers_2_pooling_sum_dist_40_lr_0.01_graphfeatsize_50_nhiddim1_50_dropout_0.3_weight_decay_0.001_bsize_30.out\n",
      "slurm_GCNGAP_ER.Status_layers_1_pooling_mean_dist_40_lr_0.001_graphfeatsize_50_nhiddim1_100_dropout_0.3_weight_decay_0.001_bsize_20.out\n",
      "slurm_GCNGAP_ER.Status_layers_1_pooling_att_dist_40_lr_0.01_graphfeatsize_150_nhiddim1_150_dropout_0.3_weight_decay_0.01_bsize_20.out\n",
      "slurm_GCNGAP_ER.Status_layers_1_pooling_mean_dist_80_lr_0.01_graphfeatsize_50_nhiddim1_50_dropout_0.5_weight_decay_0.01_bsize_30.out\n"
     ]
    },
    {
     "name": "stderr",
     "output_type": "stream",
     "text": [
      "b'Skipping line 505: expected 1 fields, saw 3\\n'\n",
      "b'Skipping line 509: expected 1 fields, saw 3\\n'\n",
      "b'Skipping line 481: expected 1 fields, saw 3\\n'\n",
      "b'Skipping line 593: expected 1 fields, saw 3\\n'\n",
      "b'Skipping line 443: expected 1 fields, saw 3\\n'\n",
      "b'Skipping line 490: expected 1 fields, saw 3\\n'\n",
      "b'Skipping line 456: expected 1 fields, saw 3\\n'\n",
      "b'Skipping line 471: expected 1 fields, saw 3\\n'\n",
      "b'Skipping line 485: expected 1 fields, saw 3\\n'\n",
      "b'Skipping line 361: expected 1 fields, saw 3\\n'\n",
      "b'Skipping line 518: expected 1 fields, saw 3\\n'\n",
      "b'Skipping line 503: expected 1 fields, saw 3\\n'\n",
      "b'Skipping line 740: expected 1 fields, saw 3\\n'\n",
      "b'Skipping line 671: expected 1 fields, saw 3\\n'\n",
      "b'Skipping line 443: expected 1 fields, saw 3\\n'\n",
      "b'Skipping line 460: expected 1 fields, saw 3\\n'\n",
      "b'Skipping line 520: expected 1 fields, saw 3\\n'\n",
      "b'Skipping line 455: expected 1 fields, saw 3\\n'\n",
      "b'Skipping line 444: expected 1 fields, saw 3\\n'\n",
      "b'Skipping line 444: expected 1 fields, saw 3\\n'\n",
      "b'Skipping line 459: expected 1 fields, saw 3\\n'\n",
      "b'Skipping line 478: expected 1 fields, saw 3\\n'\n",
      "b'Skipping line 574: expected 1 fields, saw 3\\n'\n",
      "b'Skipping line 509: expected 1 fields, saw 3\\n'\n",
      "b'Skipping line 449: expected 1 fields, saw 3\\n'\n"
     ]
    },
    {
     "name": "stdout",
     "output_type": "stream",
     "text": [
      "slurm_GCNGAP_ER.Status_layers_1_pooling_mean_dist_40_lr_0.001_graphfeatsize_150_nhiddim1_50_dropout_0.3_weight_decay_0.01_bsize_30.out\n",
      "slurm_GCNGAP_ER.Status_layers_1_pooling_mean_dist_80_lr_0.01_graphfeatsize_100_nhiddim1_50_dropout_0.5_weight_decay_0.1_bsize_10.out\n",
      "slurm_GCNGAP_ER.Status_layers_2_pooling_mean_dist_40_lr_0.001_graphfeatsize_150_nhiddim1_150_dropout_0.3_weight_decay_0.001_bsize_10.out\n",
      "slurm_GCNGAP_ER.Status_layers_1_pooling_att_dist_40_lr_0.001_graphfeatsize_50_nhiddim1_100_dropout_0.3_weight_decay_0.01_bsize_20.out\n",
      "slurm_GCNGAP_ER.Status_layers_1_pooling_sum_dist_40_lr_0.01_graphfeatsize_150_nhiddim1_150_dropout_0.3_weight_decay_0.1_bsize_30.out\n",
      "slurm_GCNGAP_ER.Status_layers_1_pooling_mean_dist_80_lr_0.01_graphfeatsize_100_nhiddim1_150_dropout_0.5_weight_decay_0.1_bsize_30.out\n",
      "slurm_GCNGAP_ER.Status_layers_1_pooling_att_dist_40_lr_0.01_graphfeatsize_100_nhiddim1_50_dropout_0.3_weight_decay_0.1_bsize_30.out\n",
      "slurm_GCNGAP_ER.Status_layers_2_pooling_mean_dist_40_lr_0.001_graphfeatsize_100_nhiddim1_50_dropout_0.5_weight_decay_0.1_bsize_30.out\n",
      "slurm_GCNGAP_ER.Status_layers_2_pooling_mean_dist_40_lr_0.001_graphfeatsize_150_nhiddim1_50_dropout_0.5_weight_decay_0.001_bsize_20.out\n",
      "slurm_GCNGAP_ER.Status_layers_1_pooling_mean_dist_40_lr_0.01_graphfeatsize_50_nhiddim1_100_dropout_0.5_weight_decay_0.01_bsize_10.out\n",
      "slurm_GCNGAP_ER.Status_layers_1_pooling_mean_dist_40_lr_0.001_graphfeatsize_150_nhiddim1_100_dropout_0.5_weight_decay_0.001_bsize_10.out\n",
      "slurm_GCNGAP_ER.Status_layers_1_pooling_sum_dist_80_lr_0.001_graphfeatsize_50_nhiddim1_50_dropout_0.3_weight_decay_0.01_bsize_10.out\n",
      "slurm_GCNGAP_ER.Status_layers_1_pooling_sum_dist_80_lr_0.01_graphfeatsize_100_nhiddim1_50_dropout_0.5_weight_decay_0.1_bsize_20.out\n",
      "not in\n",
      "slurm_GCNGAP_ER.Status_layers_2_pooling_mean_dist_40_lr_0.01_graphfeatsize_50_nhiddim1_50_dropout_0.3_weight_decay_0.1_bsize_20.out\n",
      "slurm_GCNGAP_ER.Status_layers_2_pooling_mean_dist_40_lr_0.001_graphfeatsize_50_nhiddim1_50_dropout_0.5_weight_decay_0.01_bsize_10.out\n",
      "slurm_GCNGAP_ER.Status_layers_1_pooling_sum_dist_40_lr_0.001_graphfeatsize_150_nhiddim1_100_dropout_0.3_weight_decay_0.01_bsize_30.out\n",
      "slurm_GCNGAP_ER.Status_layers_1_pooling_mean_dist_40_lr_0.01_graphfeatsize_150_nhiddim1_50_dropout_0.5_weight_decay_0.001_bsize_30.out\n",
      "slurm_GCNGAP_ER.Status_layers_1_pooling_mean_dist_80_lr_0.01_graphfeatsize_50_nhiddim1_100_dropout_0.5_weight_decay_0.001_bsize_20.out\n",
      "slurm_GCNGAP_ER.Status_layers_2_pooling_mean_dist_40_lr_0.001_graphfeatsize_100_nhiddim1_150_dropout_0.3_weight_decay_0.001_bsize_10.out\n",
      "slurm_GCNGAP_ER.Status_layers_2_pooling_sum_dist_40_lr_0.01_graphfeatsize_50_nhiddim1_50_dropout_0.5_weight_decay_0.1_bsize_30.out\n",
      "slurm_GCNGAP_ER.Status_layers_2_pooling_sum_dist_40_lr_0.001_graphfeatsize_50_nhiddim1_50_dropout_0.3_weight_decay_0.1_bsize_20.out\n",
      "slurm_GCNGAP_ER.Status_layers_1_pooling_mean_dist_80_lr_0.001_graphfeatsize_50_nhiddim1_50_dropout_0.5_weight_decay_0.001_bsize_10.out\n",
      "slurm_GCNGAP_ER.Status_layers_1_pooling_mean_dist_40_lr_0.001_graphfeatsize_100_nhiddim1_150_dropout_0.3_weight_decay_0.1_bsize_20.out\n",
      "slurm_GCNGAP_ER.Status_layers_1_pooling_sum_dist_80_lr_0.001_graphfeatsize_100_nhiddim1_100_dropout_0.5_weight_decay_0.1_bsize_10.out\n",
      "slurm_GCNGAP_ER.Status_layers_1_pooling_mean_dist_40_lr_0.001_graphfeatsize_150_nhiddim1_50_dropout_0.5_weight_decay_0.1_bsize_20.out\n",
      "slurm_GCNGAP_ER.Status_layers_1_pooling_sum_dist_80_lr_0.01_graphfeatsize_150_nhiddim1_50_dropout_0.5_weight_decay_0.01_bsize_10.out\n"
     ]
    },
    {
     "name": "stderr",
     "output_type": "stream",
     "text": [
      "b'Skipping line 443: expected 1 fields, saw 3\\n'\n",
      "b'Skipping line 635: expected 1 fields, saw 3\\n'\n",
      "b'Skipping line 442: expected 1 fields, saw 3\\n'\n",
      "b'Skipping line 456: expected 1 fields, saw 3\\n'\n",
      "b'Skipping line 451: expected 1 fields, saw 3\\n'\n",
      "b'Skipping line 469: expected 1 fields, saw 3\\n'\n",
      "b'Skipping line 470: expected 1 fields, saw 3\\n'\n",
      "b'Skipping line 471: expected 1 fields, saw 3\\n'\n",
      "b'Skipping line 513: expected 1 fields, saw 3\\n'\n",
      "b'Skipping line 464: expected 1 fields, saw 3\\n'\n",
      "b'Skipping line 465: expected 1 fields, saw 3\\n'\n",
      "b'Skipping line 482: expected 1 fields, saw 3\\n'\n",
      "b'Skipping line 444: expected 1 fields, saw 3\\n'\n"
     ]
    },
    {
     "name": "stdout",
     "output_type": "stream",
     "text": [
      "slurm_GCNGAP_ER.Status_layers_2_pooling_mean_dist_40_lr_0.01_graphfeatsize_150_nhiddim1_50_dropout_0.3_weight_decay_0.01_bsize_10.out\n",
      "slurm_GCNGAP_ER.Status_layers_1_pooling_sum_dist_40_lr_0.01_graphfeatsize_100_nhiddim1_50_dropout_0.3_weight_decay_0.01_bsize_20.out\n",
      "slurm_GCNGAP_ER.Status_layers_1_pooling_sum_dist_40_lr_0.001_graphfeatsize_50_nhiddim1_150_dropout_0.5_weight_decay_0.01_bsize_20.out\n",
      "slurm_GCNGAP_ER.Status_layers_1_pooling_mean_dist_40_lr_0.01_graphfeatsize_50_nhiddim1_100_dropout_0.5_weight_decay_0.001_bsize_20.out\n",
      "slurm_GCNGAP_ER.Status_layers_1_pooling_sum_dist_40_lr_0.001_graphfeatsize_150_nhiddim1_150_dropout_0.3_weight_decay_0.01_bsize_10.out\n",
      "slurm_GCNGAP_ER.Status_layers_2_pooling_sum_dist_40_lr_0.01_graphfeatsize_50_nhiddim1_50_dropout_0.3_weight_decay_0.01_bsize_10.out\n",
      "slurm_GCNGAP_ER.Status_layers_1_pooling_mean_dist_80_lr_0.01_graphfeatsize_50_nhiddim1_100_dropout_0.3_weight_decay_0.1_bsize_20.out\n",
      "slurm_GCNGAP_ER.Status_layers_1_pooling_mean_dist_80_lr_0.01_graphfeatsize_150_nhiddim1_50_dropout_0.5_weight_decay_0.001_bsize_30.out\n",
      "slurm_GCNGAP_ER.Status_layers_1_pooling_mean_dist_80_lr_0.001_graphfeatsize_50_nhiddim1_100_dropout_0.5_weight_decay_0.1_bsize_30.out\n",
      "slurm_GCNGAP_ER.Status_layers_1_pooling_sum_dist_40_lr_0.01_graphfeatsize_150_nhiddim1_100_dropout_0.5_weight_decay_0.01_bsize_20.out\n",
      "slurm_GCNGAP_ER.Status_layers_1_pooling_mean_dist_80_lr_0.001_graphfeatsize_100_nhiddim1_150_dropout_0.3_weight_decay_0.1_bsize_20.out\n",
      "slurm_GCNGAP_ER.Status_layers_1_pooling_sum_dist_40_lr_0.001_graphfeatsize_100_nhiddim1_100_dropout_0.5_weight_decay_0.1_bsize_10.out\n",
      "slurm_GCNGAP_ER.Status_layers_1_pooling_mean_dist_40_lr_0.001_graphfeatsize_50_nhiddim1_50_dropout_0.5_weight_decay_0.001_bsize_10.out"
     ]
    },
    {
     "name": "stderr",
     "output_type": "stream",
     "text": [
      "b'Skipping line 544: expected 1 fields, saw 3\\n'\n",
      "b'Skipping line 460: expected 1 fields, saw 3\\n'\n",
      "b'Skipping line 451: expected 1 fields, saw 3\\n'\n",
      "b'Skipping line 452: expected 1 fields, saw 3\\n'\n",
      "b'Skipping line 500: expected 1 fields, saw 3\\n'\n",
      "b'Skipping line 584: expected 1 fields, saw 3\\n'\n",
      "b'Skipping line 443: expected 1 fields, saw 3\\n'\n",
      "b'Skipping line 455: expected 1 fields, saw 3\\n'\n",
      "b'Skipping line 494: expected 1 fields, saw 3\\n'\n",
      "b'Skipping line 442: expected 1 fields, saw 3\\n'\n",
      "b'Skipping line 478: expected 1 fields, saw 3\\n'\n",
      "b'Skipping line 463: expected 1 fields, saw 3\\n'\n"
     ]
    },
    {
     "name": "stdout",
     "output_type": "stream",
     "text": [
      "\n",
      "slurm_GCNGAP_ER.Status_layers_2_pooling_sum_dist_40_lr_0.001_graphfeatsize_100_nhiddim1_50_dropout_0.3_weight_decay_0.001_bsize_30.out\n",
      "slurm_GCNGAP_ER.Status_layers_2_pooling_mean_dist_40_lr_0.001_graphfeatsize_50_nhiddim1_100_dropout_0.5_weight_decay_0.001_bsize_30.out\n",
      "slurm_GCNGAP_ER.Status_layers_1_pooling_sum_dist_40_lr_0.01_graphfeatsize_50_nhiddim1_150_dropout_0.3_weight_decay_0.1_bsize_30.out\n",
      "slurm_GCNGAP_ER.Status_layers_2_pooling_sum_dist_40_lr_0.001_graphfeatsize_50_nhiddim1_150_dropout_0.5_weight_decay_0.001_bsize_20.out\n",
      "slurm_GCNGAP_ER.Status_layers_1_pooling_sum_dist_40_lr_0.01_graphfeatsize_150_nhiddim1_50_dropout_0.3_weight_decay_0.1_bsize_10.out\n",
      "slurm_GCNGAP_ER.Status_layers_1_pooling_mean_dist_40_lr_0.01_graphfeatsize_50_nhiddim1_150_dropout_0.5_weight_decay_0.01_bsize_30.out\n",
      "slurm_GCNGAP_ER.Status_layers_2_pooling_att_dist_40_lr_0.01_graphfeatsize_150_nhiddim1_100_dropout_0.3_weight_decay_0.1_bsize_10.out\n",
      "slurm_GCNGAP_ER.Status_layers_2_pooling_sum_dist_40_lr_0.01_graphfeatsize_100_nhiddim1_50_dropout_0.3_weight_decay_0.01_bsize_30.out\n",
      "slurm_GCNGAP_ER.Status_layers_1_pooling_att_dist_40_lr_0.001_graphfeatsize_100_nhiddim1_150_dropout_0.5_weight_decay_0.01_bsize_20.out\n",
      "slurm_GCNGAP_ER.Status_layers_2_pooling_att_dist_40_lr_0.001_graphfeatsize_150_nhiddim1_100_dropout_0.3_weight_decay_0.1_bsize_30.out\n"
     ]
    },
    {
     "name": "stderr",
     "output_type": "stream",
     "text": [
      "b'Skipping line 504: expected 1 fields, saw 3\\n'\n",
      "b'Skipping line 476: expected 1 fields, saw 3\\n'\n",
      "b'Skipping line 484: expected 1 fields, saw 3\\n'\n",
      "b'Skipping line 550: expected 1 fields, saw 3\\n'\n",
      "b'Skipping line 362: expected 1 fields, saw 3\\n'\n",
      "b'Skipping line 512: expected 1 fields, saw 3\\n'\n",
      "b'Skipping line 687: expected 1 fields, saw 3\\n'\n",
      "b'Skipping line 450: expected 1 fields, saw 3\\n'\n",
      "b'Skipping line 442: expected 1 fields, saw 3\\n'\n",
      "b'Skipping line 504: expected 1 fields, saw 3\\n'\n",
      "b'Skipping line 453: expected 1 fields, saw 3\\n'\n"
     ]
    },
    {
     "name": "stdout",
     "output_type": "stream",
     "text": [
      "slurm_GCNGAP_ER.Status_layers_1_pooling_mean_dist_80_lr_0.001_graphfeatsize_50_nhiddim1_150_dropout_0.5_weight_decay_0.001_bsize_10.out\n",
      "slurm_GCNGAP_ER.Status_layers_1_pooling_mean_dist_40_lr_0.001_graphfeatsize_150_nhiddim1_50_dropout_0.3_weight_decay_0.001_bsize_30.out\n",
      "slurm_GCNGAP_ER.Status_layers_2_pooling_att_dist_40_lr_0.01_graphfeatsize_100_nhiddim1_50_dropout_0.3_weight_decay_0.001_bsize_10.out\n",
      "slurm_GCNGAP_ER.Status_layers_1_pooling_mean_dist_40_lr_0.01_graphfeatsize_150_nhiddim1_50_dropout_0.3_weight_decay_0.1_bsize_20.out\n",
      "slurm_GCNGAP_ER.Status_layers_1_pooling_mean_dist_80_lr_0.001_graphfeatsize_150_nhiddim1_50_dropout_0.3_weight_decay_0.01_bsize_30.out\n",
      "slurm_GCNGAP_ER.Status_layers_1_pooling_att_dist_40_lr_0.01_graphfeatsize_150_nhiddim1_50_dropout_0.5_weight_decay_0.01_bsize_10.out\n",
      "slurm_GCNGAP_ER.Status_layers_2_pooling_mean_dist_40_lr_0.01_graphfeatsize_50_nhiddim1_50_dropout_0.5_weight_decay_0.001_bsize_30.out\n",
      "slurm_GCNGAP_ER.Status_layers_1_pooling_sum_dist_40_lr_0.01_graphfeatsize_50_nhiddim1_50_dropout_0.3_weight_decay_0.001_bsize_20.out\n",
      "slurm_GCNGAP_ER.Status_layers_1_pooling_sum_dist_80_lr_0.01_graphfeatsize_50_nhiddim1_100_dropout_0.3_weight_decay_0.1_bsize_10.out\n",
      "slurm_GCNGAP_ER.Status_layers_2_pooling_mean_dist_40_lr_0.001_graphfeatsize_50_nhiddim1_100_dropout_0.5_weight_decay_0.01_bsize_20.out\n",
      "slurm_GCNGAP_ER.Status_layers_2_pooling_sum_dist_40_lr_0.001_graphfeatsize_50_nhiddim1_50_dropout_0.5_weight_decay_0.001_bsize_20.out\n"
     ]
    },
    {
     "name": "stderr",
     "output_type": "stream",
     "text": [
      "b'Skipping line 475: expected 1 fields, saw 3\\n'\n",
      "b'Skipping line 586: expected 1 fields, saw 3\\n'\n",
      "b'Skipping line 461: expected 1 fields, saw 3\\n'\n",
      "b'Skipping line 448: expected 1 fields, saw 3\\n'\n",
      "b'Skipping line 673: expected 1 fields, saw 3\\n'\n",
      "b'Skipping line 475: expected 1 fields, saw 3\\n'\n",
      "b'Skipping line 459: expected 1 fields, saw 3\\n'\n",
      "b'Skipping line 394: expected 1 fields, saw 3\\n'\n",
      "b'Skipping line 564: expected 1 fields, saw 3\\n'\n",
      "b'Skipping line 604: expected 1 fields, saw 3\\n'\n",
      "b'Skipping line 478: expected 1 fields, saw 3\\n'\n",
      "b'Skipping line 566: expected 1 fields, saw 3\\n'\n"
     ]
    },
    {
     "name": "stdout",
     "output_type": "stream",
     "text": [
      "slurm_GCNGAP_ER.Status_layers_1_pooling_att_dist_40_lr_0.001_graphfeatsize_50_nhiddim1_50_dropout_0.3_weight_decay_0.01_bsize_10.out\n",
      "slurm_GCNGAP_ER.Status_layers_2_pooling_sum_dist_40_lr_0.01_graphfeatsize_50_nhiddim1_100_dropout_0.5_weight_decay_0.001_bsize_10.out\n",
      "slurm_GCNGAP_ER.Status_layers_2_pooling_mean_dist_40_lr_0.01_graphfeatsize_150_nhiddim1_150_dropout_0.5_weight_decay_0.01_bsize_20.out\n",
      "slurm_GCNGAP_ER.Status_layers_2_pooling_sum_dist_40_lr_0.01_graphfeatsize_150_nhiddim1_150_dropout_0.3_weight_decay_0.1_bsize_20.out\n",
      "slurm_GCNGAP_ER.Status_layers_1_pooling_mean_dist_40_lr_0.001_graphfeatsize_150_nhiddim1_100_dropout_0.5_weight_decay_0.01_bsize_10.out\n",
      "slurm_GCNGAP_ER.Status_layers_1_pooling_sum_dist_40_lr_0.001_graphfeatsize_150_nhiddim1_50_dropout_0.5_weight_decay_0.1_bsize_30.out\n",
      "slurm_GCNGAP_ER.Status_layers_2_pooling_mean_dist_40_lr_0.001_graphfeatsize_100_nhiddim1_100_dropout_0.3_weight_decay_0.01_bsize_30.out\n",
      "slurm_GCNGAP_ER.Status_layers_2_pooling_sum_dist_40_lr_0.01_graphfeatsize_50_nhiddim1_150_dropout_0.5_weight_decay_0.01_bsize_30.out\n",
      "slurm_GCNGAP_ER.Status_layers_1_pooling_mean_dist_40_lr_0.01_graphfeatsize_100_nhiddim1_50_dropout_0.3_weight_decay_0.01_bsize_30.out\n",
      "slurm_GCNGAP_ER.Status_layers_2_pooling_att_dist_40_lr_0.01_graphfeatsize_100_nhiddim1_100_dropout_0.5_weight_decay_0.01_bsize_30.out\n",
      "slurm_GCNGAP_ER.Status_layers_2_pooling_sum_dist_40_lr_0.01_graphfeatsize_100_nhiddim1_150_dropout_0.5_weight_decay_0.001_bsize_10.out\n",
      "slurm_GCNGAP_ER.Status_layers_1_pooling_sum_dist_80_lr_0.001_graphfeatsize_150_nhiddim1_50_dropout_0.5_weight_decay_0.001_bsize_10.out\n"
     ]
    },
    {
     "name": "stderr",
     "output_type": "stream",
     "text": [
      "b'Skipping line 362: expected 1 fields, saw 3\\n'\n",
      "b'Skipping line 549: expected 1 fields, saw 3\\n'\n",
      "b'Skipping line 578: expected 1 fields, saw 3\\n'\n",
      "b'Skipping line 643: expected 1 fields, saw 3\\n'\n",
      "b'Skipping line 491: expected 1 fields, saw 3\\n'\n",
      "b'Skipping line 590: expected 1 fields, saw 3\\n'\n",
      "b'Skipping line 563: expected 1 fields, saw 3\\n'\n",
      "b'Skipping line 699: expected 1 fields, saw 3\\n'\n",
      "b'Skipping line 587: expected 1 fields, saw 3\\n'\n",
      "b'Skipping line 362: expected 1 fields, saw 3\\n'\n",
      "b'Skipping line 442: expected 1 fields, saw 3\\n'\n",
      "b'Skipping line 442: expected 1 fields, saw 3\\n'\n"
     ]
    },
    {
     "name": "stdout",
     "output_type": "stream",
     "text": [
      "slurm_GCNGAP_ER.Status_layers_1_pooling_sum_dist_40_lr_0.001_graphfeatsize_50_nhiddim1_150_dropout_0.3_weight_decay_0.001_bsize_30.out\n",
      "slurm_GCNGAP_ER.Status_layers_1_pooling_sum_dist_40_lr_0.001_graphfeatsize_50_nhiddim1_150_dropout_0.5_weight_decay_0.1_bsize_10.out\n",
      "slurm_GCNGAP_ER.Status_layers_2_pooling_att_dist_40_lr_0.001_graphfeatsize_100_nhiddim1_150_dropout_0.3_weight_decay_0.001_bsize_30.out\n",
      "slurm_GCNGAP_ER.Status_layers_2_pooling_sum_dist_40_lr_0.01_graphfeatsize_50_nhiddim1_100_dropout_0.5_weight_decay_0.1_bsize_20.out\n",
      "slurm_GCNGAP_ER.Status_layers_2_pooling_sum_dist_40_lr_0.001_graphfeatsize_100_nhiddim1_100_dropout_0.5_weight_decay_0.001_bsize_30.out\n",
      "slurm_GCNGAP_ER.Status_layers_1_pooling_mean_dist_40_lr_0.01_graphfeatsize_100_nhiddim1_100_dropout_0.3_weight_decay_0.01_bsize_20.out\n",
      "slurm_GCNGAP_ER.Status_layers_1_pooling_sum_dist_40_lr_0.001_graphfeatsize_100_nhiddim1_50_dropout_0.5_weight_decay_0.001_bsize_20.out\n",
      "slurm_GCNGAP_ER.Status_layers_1_pooling_mean_dist_80_lr_0.01_graphfeatsize_150_nhiddim1_150_dropout_0.5_weight_decay_0.001_bsize_20.out\n",
      "slurm_GCNGAP_ER.Status_layers_2_pooling_mean_dist_40_lr_0.01_graphfeatsize_50_nhiddim1_100_dropout_0.3_weight_decay_0.001_bsize_30.out\n",
      "slurm_GCNGAP_ER.Status_layers_1_pooling_mean_dist_80_lr_0.001_graphfeatsize_100_nhiddim1_100_dropout_0.5_weight_decay_0.01_bsize_20.out\n",
      "slurm_GCNGAP_ER.Status_layers_1_pooling_sum_dist_40_lr_0.001_graphfeatsize_100_nhiddim1_50_dropout_0.3_weight_decay_0.01_bsize_20.out\n",
      "slurm_GCNGAP_ER.Status_layers_1_pooling_sum_dist_80_lr_0.001_graphfeatsize_50_nhiddim1_50_dropout_0.3_weight_decay_0.001_bsize_20.out\n",
      "slurm_GCNGAP_ER.Status_layers_2_pooling_att_dist_40_lr_0.01_graphfeatsize_50_nhiddim1_50_dropout_0.3_weight_decay_0.1_bsize_10.out\n"
     ]
    },
    {
     "name": "stderr",
     "output_type": "stream",
     "text": [
      "b'Skipping line 522: expected 1 fields, saw 3\\n'\n",
      "b'Skipping line 467: expected 1 fields, saw 3\\n'\n",
      "b'Skipping line 529: expected 1 fields, saw 3\\n'\n",
      "b'Skipping line 462: expected 1 fields, saw 3\\n'\n",
      "b'Skipping line 575: expected 1 fields, saw 3\\n'\n",
      "b'Skipping line 564: expected 1 fields, saw 3\\n'\n",
      "b'Skipping line 450: expected 1 fields, saw 3\\n'\n",
      "b'Skipping line 456: expected 1 fields, saw 3\\n'\n",
      "b'Skipping line 714: expected 1 fields, saw 3\\n'\n",
      "b'Skipping line 442: expected 1 fields, saw 3\\n'\n",
      "b'Skipping line 445: expected 1 fields, saw 3\\n'\n",
      "b'Skipping line 448: expected 1 fields, saw 3\\n'\n",
      "b'Skipping line 568: expected 1 fields, saw 3\\n'\n",
      "b'Skipping line 443: expected 1 fields, saw 3\\n'\n"
     ]
    },
    {
     "name": "stdout",
     "output_type": "stream",
     "text": [
      "slurm_GCNGAP_ER.Status_layers_1_pooling_sum_dist_80_lr_0.001_graphfeatsize_100_nhiddim1_50_dropout_0.3_weight_decay_0.1_bsize_10.out\n",
      "slurm_GCNGAP_ER.Status_layers_1_pooling_mean_dist_40_lr_0.01_graphfeatsize_150_nhiddim1_150_dropout_0.3_weight_decay_0.1_bsize_20.out\n",
      "slurm_GCNGAP_ER.Status_layers_2_pooling_sum_dist_40_lr_0.001_graphfeatsize_100_nhiddim1_100_dropout_0.5_weight_decay_0.01_bsize_10.out\n",
      "slurm_GCNGAP_ER.Status_layers_1_pooling_sum_dist_80_lr_0.01_graphfeatsize_50_nhiddim1_100_dropout_0.3_weight_decay_0.001_bsize_10.out\n",
      "slurm_GCNGAP_ER.Status_layers_2_pooling_att_dist_40_lr_0.01_graphfeatsize_100_nhiddim1_150_dropout_0.5_weight_decay_0.1_bsize_30.out\n",
      "slurm_GCNGAP_ER.Status_layers_2_pooling_att_dist_40_lr_0.001_graphfeatsize_100_nhiddim1_150_dropout_0.5_weight_decay_0.1_bsize_10.out\n",
      "slurm_GCNGAP_ER.Status_layers_2_pooling_sum_dist_40_lr_0.01_graphfeatsize_100_nhiddim1_100_dropout_0.3_weight_decay_0.01_bsize_10.out\n",
      "slurm_GCNGAP_ER.Status_layers_1_pooling_att_dist_40_lr_0.001_graphfeatsize_50_nhiddim1_100_dropout_0.5_weight_decay_0.1_bsize_20.out\n",
      "slurm_GCNGAP_ER.Status_layers_2_pooling_sum_dist_40_lr_0.01_graphfeatsize_150_nhiddim1_150_dropout_0.5_weight_decay_0.001_bsize_10.out\n",
      "slurm_GCNGAP_ER.Status_layers_1_pooling_att_dist_40_lr_0.01_graphfeatsize_50_nhiddim1_50_dropout_0.3_weight_decay_0.01_bsize_30.out\n",
      "slurm_GCNGAP_ER.Status_layers_1_pooling_mean_dist_80_lr_0.01_graphfeatsize_100_nhiddim1_150_dropout_0.5_weight_decay_0.001_bsize_20.out\n",
      "slurm_GCNGAP_ER.Status_layers_2_pooling_att_dist_40_lr_0.01_graphfeatsize_150_nhiddim1_50_dropout_0.3_weight_decay_0.1_bsize_30.out\n",
      "slurm_GCNGAP_ER.Status_layers_2_pooling_att_dist_40_lr_0.001_graphfeatsize_150_nhiddim1_100_dropout_0.3_weight_decay_0.01_bsize_20.out\n"
     ]
    },
    {
     "name": "stderr",
     "output_type": "stream",
     "text": [
      "b'Skipping line 442: expected 1 fields, saw 3\\n'\n",
      "b'Skipping line 443: expected 1 fields, saw 3\\n'\n",
      "b'Skipping line 443: expected 1 fields, saw 3\\n'\n",
      "b'Skipping line 444: expected 1 fields, saw 3\\n'\n",
      "b'Skipping line 475: expected 1 fields, saw 3\\n'\n",
      "b'Skipping line 479: expected 1 fields, saw 3\\n'\n",
      "b'Skipping line 442: expected 1 fields, saw 3\\n'\n",
      "b'Skipping line 456: expected 1 fields, saw 3\\n'\n",
      "b'Skipping line 451: expected 1 fields, saw 3\\n'\n",
      "b'Skipping line 443: expected 1 fields, saw 3\\n'\n",
      "b'Skipping line 556: expected 1 fields, saw 3\\n'\n"
     ]
    },
    {
     "name": "stdout",
     "output_type": "stream",
     "text": [
      "slurm_GCNGAP_ER.Status_layers_2_pooling_att_dist_40_lr_0.001_graphfeatsize_150_nhiddim1_150_dropout_0.3_weight_decay_0.001_bsize_30.out\n",
      "slurm_GCNGAP_ER.Status_layers_2_pooling_att_dist_40_lr_0.01_graphfeatsize_50_nhiddim1_150_dropout_0.3_weight_decay_0.1_bsize_10.out\n",
      "slurm_GCNGAP_ER.Status_layers_1_pooling_sum_dist_40_lr_0.001_graphfeatsize_150_nhiddim1_150_dropout_0.3_weight_decay_0.1_bsize_30.out\n",
      "slurm_GCNGAP_ER.Status_layers_2_pooling_sum_dist_40_lr_0.001_graphfeatsize_150_nhiddim1_100_dropout_0.5_weight_decay_0.001_bsize_30.out\n",
      "slurm_GCNGAP_ER.Status_layers_1_pooling_att_dist_40_lr_0.01_graphfeatsize_100_nhiddim1_50_dropout_0.5_weight_decay_0.001_bsize_10.out\n",
      "slurm_GCNGAP_ER.Status_layers_1_pooling_mean_dist_40_lr_0.01_graphfeatsize_100_nhiddim1_100_dropout_0.3_weight_decay_0.001_bsize_10.out\n",
      "slurm_GCNGAP_ER.Status_layers_1_pooling_att_dist_40_lr_0.01_graphfeatsize_100_nhiddim1_150_dropout_0.5_weight_decay_0.1_bsize_20.out\n",
      "slurm_GCNGAP_ER.Status_layers_1_pooling_mean_dist_40_lr_0.01_graphfeatsize_50_nhiddim1_50_dropout_0.3_weight_decay_0.001_bsize_30.out\n",
      "slurm_GCNGAP_ER.Status_layers_1_pooling_att_dist_40_lr_0.001_graphfeatsize_100_nhiddim1_50_dropout_0.3_weight_decay_0.001_bsize_20.out\n"
     ]
    },
    {
     "name": "stderr",
     "output_type": "stream",
     "text": [
      "b'Skipping line 481: expected 1 fields, saw 3\\n'\n",
      "b'Skipping line 448: expected 1 fields, saw 3\\n'\n",
      "b'Skipping line 517: expected 1 fields, saw 3\\n'\n",
      "b'Skipping line 362: expected 1 fields, saw 3\\n'\n",
      "b'Skipping line 447: expected 1 fields, saw 3\\n'\n",
      "b'Skipping line 495: expected 1 fields, saw 3\\n'\n",
      "b'Skipping line 443: expected 1 fields, saw 3\\n'\n",
      "b'Skipping line 464: expected 1 fields, saw 3\\n'\n",
      "b'Skipping line 509: expected 1 fields, saw 3\\n'\n",
      "b'Skipping line 480: expected 1 fields, saw 3\\n'\n",
      "b'Skipping line 452: expected 1 fields, saw 3\\n'\n"
     ]
    },
    {
     "name": "stdout",
     "output_type": "stream",
     "text": [
      "slurm_GCNGAP_ER.Status_layers_2_pooling_sum_dist_40_lr_0.01_graphfeatsize_100_nhiddim1_50_dropout_0.3_weight_decay_0.1_bsize_10.out\n",
      "slurm_GCNGAP_ER.Status_layers_2_pooling_att_dist_40_lr_0.001_graphfeatsize_50_nhiddim1_100_dropout_0.5_weight_decay_0.1_bsize_30.out\n",
      "slurm_GCNGAP_ER.Status_layers_1_pooling_sum_dist_40_lr_0.001_graphfeatsize_50_nhiddim1_50_dropout_0.3_weight_decay_0.001_bsize_20.out\n",
      "slurm_GCNGAP_ER.Status_layers_1_pooling_sum_dist_40_lr_0.001_graphfeatsize_100_nhiddim1_100_dropout_0.3_weight_decay_0.001_bsize_20.out\n",
      "slurm_GCNGAP_ER.Status_layers_1_pooling_att_dist_40_lr_0.001_graphfeatsize_50_nhiddim1_150_dropout_0.5_weight_decay_0.001_bsize_30.out\n",
      "slurm_GCNGAP_ER.Status_layers_1_pooling_mean_dist_80_lr_0.01_graphfeatsize_150_nhiddim1_100_dropout_0.3_weight_decay_0.1_bsize_10.out\n",
      "slurm_GCNGAP_ER.Status_layers_1_pooling_att_dist_40_lr_0.001_graphfeatsize_100_nhiddim1_150_dropout_0.5_weight_decay_0.001_bsize_20.out\n",
      "slurm_GCNGAP_ER.Status_layers_2_pooling_sum_dist_40_lr_0.01_graphfeatsize_100_nhiddim1_150_dropout_0.3_weight_decay_0.01_bsize_30.out\n",
      "slurm_GCNGAP_ER.Status_layers_1_pooling_sum_dist_40_lr_0.01_graphfeatsize_50_nhiddim1_100_dropout_0.3_weight_decay_0.001_bsize_10.out\n",
      "slurm_GCNGAP_ER.Status_layers_2_pooling_sum_dist_40_lr_0.001_graphfeatsize_100_nhiddim1_150_dropout_0.5_weight_decay_0.01_bsize_30.out\n",
      "slurm_GCNGAP_ER.Status_layers_2_pooling_att_dist_40_lr_0.01_graphfeatsize_100_nhiddim1_150_dropout_0.3_weight_decay_0.001_bsize_10.out\n",
      "slurm_GCNGAP_ER.Status_layers_1_pooling_sum_dist_80_lr_0.001_graphfeatsize_50_nhiddim1_50_dropout_0.5_weight_decay_0.1_bsize_10.out\n"
     ]
    },
    {
     "name": "stderr",
     "output_type": "stream",
     "text": [
      "b'Skipping line 445: expected 1 fields, saw 3\\n'\n",
      "b'Skipping line 442: expected 1 fields, saw 3\\n'\n",
      "b'Skipping line 490: expected 1 fields, saw 3\\n'\n",
      "b'Skipping line 443: expected 1 fields, saw 3\\n'\n",
      "b'Skipping line 463: expected 1 fields, saw 3\\n'\n",
      "b'Skipping line 442: expected 1 fields, saw 3\\n'\n",
      "b'Skipping line 443: expected 1 fields, saw 3\\n'\n",
      "b'Skipping line 535: expected 1 fields, saw 3\\n'\n",
      "b'Skipping line 452: expected 1 fields, saw 3\\n'\n",
      "b'Skipping line 507: expected 1 fields, saw 3\\n'\n",
      "b'Skipping line 369: expected 1 fields, saw 3\\n'\n",
      "b'Skipping line 562: expected 1 fields, saw 3\\n'\n"
     ]
    },
    {
     "name": "stdout",
     "output_type": "stream",
     "text": [
      "slurm_GCNGAP_ER.Status_layers_1_pooling_sum_dist_40_lr_0.01_graphfeatsize_50_nhiddim1_150_dropout_0.5_weight_decay_0.01_bsize_20.out\n",
      "slurm_GCNGAP_ER.Status_layers_2_pooling_sum_dist_40_lr_0.001_graphfeatsize_150_nhiddim1_50_dropout_0.5_weight_decay_0.1_bsize_20.out\n",
      "slurm_GCNGAP_ER.Status_layers_1_pooling_att_dist_40_lr_0.001_graphfeatsize_100_nhiddim1_100_dropout_0.3_weight_decay_0.1_bsize_10.out\n",
      "slurm_GCNGAP_ER.Status_layers_1_pooling_mean_dist_80_lr_0.01_graphfeatsize_100_nhiddim1_100_dropout_0.3_weight_decay_0.01_bsize_20.out\n",
      "slurm_GCNGAP_ER.Status_layers_1_pooling_sum_dist_40_lr_0.01_graphfeatsize_100_nhiddim1_100_dropout_0.5_weight_decay_0.1_bsize_10.out\n",
      "slurm_GCNGAP_ER.Status_layers_2_pooling_mean_dist_40_lr_0.01_graphfeatsize_150_nhiddim1_100_dropout_0.5_weight_decay_0.1_bsize_20.out\n",
      "slurm_GCNGAP_ER.Status_layers_1_pooling_mean_dist_40_lr_0.01_graphfeatsize_150_nhiddim1_100_dropout_0.3_weight_decay_0.001_bsize_10.out\n",
      "slurm_GCNGAP_ER.Status_layers_2_pooling_mean_dist_40_lr_0.01_graphfeatsize_150_nhiddim1_50_dropout_0.3_weight_decay_0.001_bsize_20.out\n",
      "slurm_GCNGAP_ER.Status_layers_1_pooling_sum_dist_80_lr_0.001_graphfeatsize_100_nhiddim1_50_dropout_0.3_weight_decay_0.01_bsize_20.out\n",
      "slurm_GCNGAP_ER.Status_layers_1_pooling_mean_dist_80_lr_0.001_graphfeatsize_50_nhiddim1_50_dropout_0.5_weight_decay_0.1_bsize_20.out\n",
      "slurm_GCNGAP_ER.Status_layers_2_pooling_sum_dist_40_lr_0.01_graphfeatsize_50_nhiddim1_100_dropout_0.5_weight_decay_0.01_bsize_10.out\n",
      "slurm_GCNGAP_ER.Status_layers_1_pooling_mean_dist_40_lr_0.001_graphfeatsize_150_nhiddim1_150_dropout_0.5_weight_decay_0.01_bsize_30.out\n"
     ]
    },
    {
     "name": "stderr",
     "output_type": "stream",
     "text": [
      "b'Skipping line 458: expected 1 fields, saw 3\\n'\n",
      "b'Skipping line 588: expected 1 fields, saw 3\\n'\n",
      "b'Skipping line 475: expected 1 fields, saw 3\\n'\n",
      "b'Skipping line 443: expected 1 fields, saw 3\\n'\n",
      "b'Skipping line 460: expected 1 fields, saw 3\\n'\n",
      "b'Skipping line 458: expected 1 fields, saw 3\\n'\n",
      "b'Skipping line 527: expected 1 fields, saw 3\\n'\n",
      "b'Skipping line 478: expected 1 fields, saw 3\\n'\n",
      "b'Skipping line 467: expected 1 fields, saw 3\\n'\n",
      "b'Skipping line 679: expected 1 fields, saw 3\\n'\n",
      "b'Skipping line 522: expected 1 fields, saw 3\\n'\n",
      "b'Skipping line 613: expected 1 fields, saw 3\\n'\n"
     ]
    },
    {
     "name": "stdout",
     "output_type": "stream",
     "text": [
      "slurm_GCNGAP_ER.Status_layers_2_pooling_mean_dist_40_lr_0.001_graphfeatsize_100_nhiddim1_150_dropout_0.3_weight_decay_0.01_bsize_10.out\n",
      "slurm_GCNGAP_ER.Status_layers_2_pooling_sum_dist_40_lr_0.001_graphfeatsize_150_nhiddim1_100_dropout_0.5_weight_decay_0.1_bsize_30.out\n",
      "slurm_GCNGAP_ER.Status_layers_1_pooling_att_dist_40_lr_0.001_graphfeatsize_100_nhiddim1_50_dropout_0.3_weight_decay_0.1_bsize_10.out\n",
      "slurm_GCNGAP_ER.Status_layers_2_pooling_att_dist_40_lr_0.01_graphfeatsize_150_nhiddim1_150_dropout_0.3_weight_decay_0.001_bsize_10.out\n",
      "slurm_GCNGAP_ER.Status_layers_2_pooling_att_dist_40_lr_0.01_graphfeatsize_100_nhiddim1_150_dropout_0.5_weight_decay_0.01_bsize_10.out\n",
      "slurm_GCNGAP_ER.Status_layers_1_pooling_sum_dist_40_lr_0.001_graphfeatsize_150_nhiddim1_100_dropout_0.3_weight_decay_0.001_bsize_20.out\n",
      "slurm_GCNGAP_ER.Status_layers_2_pooling_mean_dist_40_lr_0.001_graphfeatsize_150_nhiddim1_150_dropout_0.3_weight_decay_0.1_bsize_10.out\n",
      "slurm_GCNGAP_ER.Status_layers_1_pooling_sum_dist_80_lr_0.001_graphfeatsize_50_nhiddim1_100_dropout_0.5_weight_decay_0.1_bsize_20.out\n",
      "not in\n",
      "slurm_GCNGAP_ER.Status_layers_1_pooling_att_dist_40_lr_0.001_graphfeatsize_150_nhiddim1_150_dropout_0.5_weight_decay_0.001_bsize_20.out\n",
      "slurm_GCNGAP_ER.Status_layers_1_pooling_mean_dist_80_lr_0.01_graphfeatsize_50_nhiddim1_150_dropout_0.5_weight_decay_0.001_bsize_30.out\n",
      "slurm_GCNGAP_ER.Status_layers_1_pooling_mean_dist_80_lr_0.001_graphfeatsize_150_nhiddim1_150_dropout_0.3_weight_decay_0.001_bsize_10.out\n",
      "slurm_GCNGAP_ER.Status_layers_1_pooling_mean_dist_40_lr_0.001_graphfeatsize_150_nhiddim1_50_dropout_0.5_weight_decay_0.01_bsize_10.out\n"
     ]
    },
    {
     "name": "stderr",
     "output_type": "stream",
     "text": [
      "b'Skipping line 471: expected 1 fields, saw 3\\n'\n",
      "b'Skipping line 531: expected 1 fields, saw 3\\n'\n",
      "b'Skipping line 617: expected 1 fields, saw 3\\n'\n",
      "b'Skipping line 362: expected 1 fields, saw 3\\n'\n",
      "b'Skipping line 445: expected 1 fields, saw 3\\n'\n",
      "b'Skipping line 472: expected 1 fields, saw 3\\n'\n",
      "b'Skipping line 460: expected 1 fields, saw 3\\n'\n",
      "b'Skipping line 481: expected 1 fields, saw 3\\n'\n",
      "b'Skipping line 681: expected 1 fields, saw 3\\n'\n",
      "b'Skipping line 711: expected 1 fields, saw 3\\n'\n",
      "b'Skipping line 527: expected 1 fields, saw 3\\n'\n"
     ]
    },
    {
     "name": "stdout",
     "output_type": "stream",
     "text": [
      "slurm_GCNGAP_ER.Status_layers_2_pooling_att_dist_40_lr_0.001_graphfeatsize_50_nhiddim1_50_dropout_0.5_weight_decay_0.01_bsize_20.out\n",
      "slurm_GCNGAP_ER.Status_layers_1_pooling_mean_dist_80_lr_0.01_graphfeatsize_50_nhiddim1_50_dropout_0.3_weight_decay_0.01_bsize_10.out\n",
      "slurm_GCNGAP_ER.Status_layers_2_pooling_sum_dist_40_lr_0.01_graphfeatsize_50_nhiddim1_100_dropout_0.3_weight_decay_0.1_bsize_20.out\n",
      "slurm_GCNGAP_ER.Status_layers_2_pooling_sum_dist_40_lr_0.001_graphfeatsize_150_nhiddim1_50_dropout_0.5_weight_decay_0.001_bsize_20.out\n",
      "slurm_GCNGAP_ER.Status_layers_2_pooling_mean_dist_40_lr_0.01_graphfeatsize_150_nhiddim1_100_dropout_0.3_weight_decay_0.01_bsize_20.out\n",
      "slurm_GCNGAP_ER.Status_layers_1_pooling_sum_dist_40_lr_0.001_graphfeatsize_50_nhiddim1_150_dropout_0.3_weight_decay_0.1_bsize_10.out\n",
      "slurm_GCNGAP_ER.Status_layers_2_pooling_att_dist_40_lr_0.01_graphfeatsize_150_nhiddim1_50_dropout_0.3_weight_decay_0.01_bsize_20.out\n",
      "slurm_GCNGAP_ER.Status_layers_2_pooling_mean_dist_40_lr_0.001_graphfeatsize_50_nhiddim1_150_dropout_0.3_weight_decay_0.01_bsize_20.out\n",
      "slurm_GCNGAP_ER.Status_layers_1_pooling_mean_dist_80_lr_0.01_graphfeatsize_100_nhiddim1_50_dropout_0.3_weight_decay_0.001_bsize_20.out\n",
      "slurm_GCNGAP_ER.Status_layers_1_pooling_sum_dist_40_lr_0.001_graphfeatsize_150_nhiddim1_50_dropout_0.3_weight_decay_0.1_bsize_30.out\n",
      "slurm_GCNGAP_ER.Status_layers_1_pooling_att_dist_40_lr_0.01_graphfeatsize_150_nhiddim1_100_dropout_0.5_weight_decay_0.001_bsize_10.out\n",
      "slurm_GCNGAP_ER.Status_layers_2_pooling_mean_dist_40_lr_0.01_graphfeatsize_150_nhiddim1_50_dropout_0.5_weight_decay_0.01_bsize_30.out\n",
      "slurm_GCNGAP_ER.Status_layers_1_pooling_sum_dist_40_lr_0.001_graphfeatsize_150_nhiddim1_150_dropout_0.5_weight_decay_0.1_bsize_30.out"
     ]
    },
    {
     "name": "stderr",
     "output_type": "stream",
     "text": [
      "b'Skipping line 465: expected 1 fields, saw 3\\n'\n",
      "b'Skipping line 474: expected 1 fields, saw 3\\n'\n",
      "b'Skipping line 604: expected 1 fields, saw 3\\n'\n",
      "b'Skipping line 541: expected 1 fields, saw 3\\n'\n",
      "b'Skipping line 557: expected 1 fields, saw 3\\n'\n",
      "b'Skipping line 588: expected 1 fields, saw 3\\n'\n",
      "b'Skipping line 453: expected 1 fields, saw 3\\n'\n",
      "b'Skipping line 531: expected 1 fields, saw 3\\n'\n",
      "b'Skipping line 449: expected 1 fields, saw 3\\n'\n",
      "b'Skipping line 600: expected 1 fields, saw 3\\n'\n",
      "b'Skipping line 610: expected 1 fields, saw 3\\n'\n"
     ]
    },
    {
     "name": "stdout",
     "output_type": "stream",
     "text": [
      "\n",
      "slurm_GCNGAP_ER.Status_layers_1_pooling_mean_dist_40_lr_0.001_graphfeatsize_50_nhiddim1_150_dropout_0.3_weight_decay_0.001_bsize_30.out\n",
      "slurm_GCNGAP_ER.Status_layers_1_pooling_sum_dist_40_lr_0.01_graphfeatsize_150_nhiddim1_150_dropout_0.3_weight_decay_0.01_bsize_20.out\n",
      "slurm_GCNGAP_ER.Status_layers_1_pooling_mean_dist_80_lr_0.001_graphfeatsize_150_nhiddim1_50_dropout_0.5_weight_decay_0.001_bsize_10.out\n",
      "slurm_GCNGAP_ER.Status_layers_1_pooling_att_dist_40_lr_0.01_graphfeatsize_50_nhiddim1_50_dropout_0.5_weight_decay_0.001_bsize_10.out\n",
      "slurm_GCNGAP_ER.Status_layers_2_pooling_att_dist_40_lr_0.01_graphfeatsize_50_nhiddim1_150_dropout_0.5_weight_decay_0.1_bsize_10.out\n",
      "slurm_GCNGAP_ER.Status_layers_2_pooling_att_dist_40_lr_0.01_graphfeatsize_150_nhiddim1_50_dropout_0.5_weight_decay_0.1_bsize_30.out\n",
      "slurm_GCNGAP_ER.Status_layers_1_pooling_mean_dist_80_lr_0.001_graphfeatsize_100_nhiddim1_150_dropout_0.3_weight_decay_0.001_bsize_10.out\n",
      "slurm_GCNGAP_ER.Status_layers_1_pooling_sum_dist_40_lr_0.001_graphfeatsize_50_nhiddim1_100_dropout_0.3_weight_decay_0.01_bsize_20.out\n",
      "slurm_GCNGAP_ER.Status_layers_1_pooling_sum_dist_40_lr_0.001_graphfeatsize_150_nhiddim1_100_dropout_0.5_weight_decay_0.01_bsize_10.out\n",
      "slurm_GCNGAP_ER.Status_layers_1_pooling_att_dist_40_lr_0.001_graphfeatsize_100_nhiddim1_100_dropout_0.3_weight_decay_0.01_bsize_20.out\n"
     ]
    },
    {
     "name": "stderr",
     "output_type": "stream",
     "text": [
      "b'Skipping line 518: expected 1 fields, saw 3\\n'\n",
      "b'Skipping line 446: expected 1 fields, saw 3\\n'\n",
      "b'Skipping line 523: expected 1 fields, saw 3\\n'\n",
      "b'Skipping line 456: expected 1 fields, saw 3\\n'\n",
      "b'Skipping line 445: expected 1 fields, saw 3\\n'\n",
      "b'Skipping line 443: expected 1 fields, saw 3\\n'\n",
      "b'Skipping line 466: expected 1 fields, saw 3\\n'\n",
      "b'Skipping line 436: expected 1 fields, saw 3\\n'\n",
      "b'Skipping line 442: expected 1 fields, saw 3\\n'\n",
      "b'Skipping line 512: expected 1 fields, saw 3\\n'\n",
      "b'Skipping line 707: expected 1 fields, saw 3\\n'\n"
     ]
    },
    {
     "name": "stdout",
     "output_type": "stream",
     "text": [
      "slurm_GCNGAP_ER.Status_layers_2_pooling_mean_dist_40_lr_0.001_graphfeatsize_50_nhiddim1_50_dropout_0.3_weight_decay_0.01_bsize_30.out\n",
      "slurm_GCNGAP_ER.Status_layers_1_pooling_att_dist_40_lr_0.001_graphfeatsize_50_nhiddim1_100_dropout_0.3_weight_decay_0.1_bsize_20.out\n",
      "slurm_GCNGAP_ER.Status_layers_2_pooling_att_dist_40_lr_0.01_graphfeatsize_100_nhiddim1_150_dropout_0.3_weight_decay_0.1_bsize_30.out\n",
      "slurm_GCNGAP_ER.Status_layers_1_pooling_att_dist_40_lr_0.01_graphfeatsize_100_nhiddim1_100_dropout_0.5_weight_decay_0.001_bsize_10.out\n",
      "slurm_GCNGAP_ER.Status_layers_2_pooling_att_dist_40_lr_0.001_graphfeatsize_100_nhiddim1_150_dropout_0.3_weight_decay_0.1_bsize_10.out\n",
      "slurm_GCNGAP_ER.Status_layers_1_pooling_mean_dist_40_lr_0.01_graphfeatsize_50_nhiddim1_100_dropout_0.3_weight_decay_0.01_bsize_30.out\n",
      "slurm_GCNGAP_ER.Status_layers_1_pooling_sum_dist_80_lr_0.01_graphfeatsize_50_nhiddim1_50_dropout_0.3_weight_decay_0.01_bsize_20.out\n",
      "slurm_GCNGAP_ER.Status_layers_1_pooling_mean_dist_40_lr_0.001_graphfeatsize_100_nhiddim1_50_dropout_0.5_weight_decay_0.001_bsize_20.out\n",
      "slurm_GCNGAP_ER.Status_layers_2_pooling_att_dist_40_lr_0.01_graphfeatsize_50_nhiddim1_50_dropout_0.5_weight_decay_0.1_bsize_10.out\n",
      "slurm_GCNGAP_ER.Status_layers_1_pooling_sum_dist_80_lr_0.001_graphfeatsize_100_nhiddim1_50_dropout_0.5_weight_decay_0.1_bsize_10.out\n",
      "slurm_GCNGAP_ER.Status_layers_2_pooling_sum_dist_40_lr_0.001_graphfeatsize_150_nhiddim1_50_dropout_0.5_weight_decay_0.01_bsize_20.out\n"
     ]
    },
    {
     "name": "stderr",
     "output_type": "stream",
     "text": [
      "b'Skipping line 477: expected 1 fields, saw 3\\n'\n",
      "b'Skipping line 443: expected 1 fields, saw 3\\n'\n",
      "b'Skipping line 461: expected 1 fields, saw 3\\n'\n",
      "b'Skipping line 445: expected 1 fields, saw 3\\n'\n",
      "b'Skipping line 738: expected 1 fields, saw 3\\n'\n",
      "b'Skipping line 444: expected 1 fields, saw 3\\n'\n",
      "b'Skipping line 593: expected 1 fields, saw 3\\n'\n",
      "b'Skipping line 447: expected 1 fields, saw 3\\n'\n",
      "b'Skipping line 514: expected 1 fields, saw 3\\n'\n",
      "b'Skipping line 442: expected 1 fields, saw 3\\n'\n",
      "b'Skipping line 445: expected 1 fields, saw 3\\n'\n"
     ]
    },
    {
     "name": "stdout",
     "output_type": "stream",
     "text": [
      "slurm_GCNGAP_ER.Status_layers_1_pooling_mean_dist_40_lr_0.01_graphfeatsize_150_nhiddim1_150_dropout_0.5_weight_decay_0.1_bsize_20.out\n",
      "slurm_GCNGAP_ER.Status_layers_2_pooling_att_dist_40_lr_0.001_graphfeatsize_50_nhiddim1_100_dropout_0.3_weight_decay_0.001_bsize_30.out\n",
      "slurm_GCNGAP_ER.Status_layers_1_pooling_sum_dist_80_lr_0.001_graphfeatsize_50_nhiddim1_50_dropout_0.3_weight_decay_0.1_bsize_10.out\n",
      "slurm_GCNGAP_ER.Status_layers_2_pooling_sum_dist_40_lr_0.01_graphfeatsize_100_nhiddim1_50_dropout_0.5_weight_decay_0.01_bsize_10.out\n",
      "slurm_GCNGAP_ER.Status_layers_1_pooling_sum_dist_40_lr_0.01_graphfeatsize_150_nhiddim1_100_dropout_0.3_weight_decay_0.001_bsize_10.out\n",
      "slurm_GCNGAP_ER.Status_layers_1_pooling_mean_dist_40_lr_0.01_graphfeatsize_50_nhiddim1_150_dropout_0.3_weight_decay_0.01_bsize_10.out\n",
      "slurm_GCNGAP_ER.Status_layers_2_pooling_att_dist_40_lr_0.001_graphfeatsize_50_nhiddim1_50_dropout_0.5_weight_decay_0.001_bsize_20.out\n",
      "slurm_GCNGAP_ER.Status_layers_1_pooling_mean_dist_80_lr_0.01_graphfeatsize_150_nhiddim1_100_dropout_0.5_weight_decay_0.1_bsize_10.out\n",
      "slurm_GCNGAP_ER.Status_layers_2_pooling_att_dist_40_lr_0.001_graphfeatsize_150_nhiddim1_50_dropout_0.3_weight_decay_0.001_bsize_20.out\n",
      "slurm_GCNGAP_ER.Status_layers_2_pooling_att_dist_40_lr_0.01_graphfeatsize_50_nhiddim1_100_dropout_0.5_weight_decay_0.001_bsize_10.out\n",
      "slurm_GCNGAP_ER.Status_layers_2_pooling_sum_dist_40_lr_0.01_graphfeatsize_100_nhiddim1_50_dropout_0.5_weight_decay_0.1_bsize_10.out\n",
      "slurm_GCNGAP_ER.Status_layers_2_pooling_att_dist_40_lr_0.001_graphfeatsize_50_nhiddim1_100_dropout_0.3_weight_decay_0.1_bsize_30.out\n"
     ]
    },
    {
     "name": "stderr",
     "output_type": "stream",
     "text": [
      "b'Skipping line 484: expected 1 fields, saw 3\\n'\n",
      "b'Skipping line 536: expected 1 fields, saw 3\\n'\n",
      "b'Skipping line 475: expected 1 fields, saw 3\\n'\n",
      "b'Skipping line 443: expected 1 fields, saw 3\\n'\n",
      "b'Skipping line 699: expected 1 fields, saw 3\\n'\n",
      "b'Skipping line 496: expected 1 fields, saw 3\\n'\n",
      "b'Skipping line 442: expected 1 fields, saw 3\\n'\n",
      "b'Skipping line 486: expected 1 fields, saw 3\\n'\n",
      "b'Skipping line 456: expected 1 fields, saw 3\\n'\n",
      "b'Skipping line 746: expected 1 fields, saw 3\\n'\n",
      "b'Skipping line 456: expected 1 fields, saw 3\\n'\n",
      "b'Skipping line 444: expected 1 fields, saw 3\\n'\n"
     ]
    },
    {
     "name": "stdout",
     "output_type": "stream",
     "text": [
      "slurm_GCNGAP_ER.Status_layers_1_pooling_att_dist_40_lr_0.01_graphfeatsize_100_nhiddim1_150_dropout_0.3_weight_decay_0.1_bsize_20.out\n",
      "slurm_GCNGAP_ER.Status_layers_2_pooling_sum_dist_40_lr_0.01_graphfeatsize_100_nhiddim1_50_dropout_0.3_weight_decay_0.001_bsize_10.out\n",
      "slurm_GCNGAP_ER.Status_layers_1_pooling_sum_dist_40_lr_0.001_graphfeatsize_150_nhiddim1_150_dropout_0.5_weight_decay_0.01_bsize_30.out\n",
      "slurm_GCNGAP_ER.Status_layers_2_pooling_sum_dist_40_lr_0.01_graphfeatsize_50_nhiddim1_50_dropout_0.5_weight_decay_0.01_bsize_30.out\n",
      "slurm_GCNGAP_ER.Status_layers_1_pooling_sum_dist_80_lr_0.001_graphfeatsize_50_nhiddim1_100_dropout_0.3_weight_decay_0.01_bsize_20.out\n",
      "not in\n",
      "slurm_GCNGAP_ER.Status_layers_2_pooling_mean_dist_40_lr_0.001_graphfeatsize_50_nhiddim1_150_dropout_0.5_weight_decay_0.001_bsize_20.out\n",
      "slurm_GCNGAP_ER.Status_layers_1_pooling_sum_dist_80_lr_0.001_graphfeatsize_50_nhiddim1_100_dropout_0.3_weight_decay_0.1_bsize_20.out\n",
      "not in\n",
      "slurm_GCNGAP_ER.Status_layers_2_pooling_sum_dist_40_lr_0.001_graphfeatsize_50_nhiddim1_100_dropout_0.5_weight_decay_0.001_bsize_30.out\n",
      "slurm_GCNGAP_ER.Status_layers_1_pooling_att_dist_40_lr_0.001_graphfeatsize_50_nhiddim1_50_dropout_0.5_weight_decay_0.01_bsize_30.out\n",
      "slurm_GCNGAP_ER.Status_layers_2_pooling_mean_dist_40_lr_0.001_graphfeatsize_150_nhiddim1_150_dropout_0.5_weight_decay_0.1_bsize_10.out\n",
      "slurm_GCNGAP_ER.Status_layers_1_pooling_att_dist_40_lr_0.001_graphfeatsize_100_nhiddim1_50_dropout_0.5_weight_decay_0.1_bsize_10.out\n",
      "slurm_GCNGAP_ER.Status_layers_1_pooling_mean_dist_40_lr_0.01_graphfeatsize_100_nhiddim1_50_dropout_0.3_weight_decay_0.001_bsize_20.out\n",
      "slurm_GCNGAP_ER.Status_layers_1_pooling_sum_dist_40_lr_0.01_graphfeatsize_100_nhiddim1_100_dropout_0.3_weight_decay_0.001_bsize_10.out\n",
      "slurm_GCNGAP_ER.Status_layers_2_pooling_sum_dist_40_lr_0.001_graphfeatsize_150_nhiddim1_100_dropout_0.3_weight_decay_0.1_bsize_30.out\n"
     ]
    },
    {
     "name": "stderr",
     "output_type": "stream",
     "text": [
      "b'Skipping line 442: expected 1 fields, saw 3\\n'\n",
      "b'Skipping line 362: expected 1 fields, saw 3\\n'\n",
      "b'Skipping line 400: expected 1 fields, saw 3\\n'\n",
      "b'Skipping line 484: expected 1 fields, saw 3\\n'\n",
      "b'Skipping line 442: expected 1 fields, saw 3\\n'\n",
      "b'Skipping line 569: expected 1 fields, saw 3\\n'\n",
      "b'Skipping line 445: expected 1 fields, saw 3\\n'\n",
      "b'Skipping line 458: expected 1 fields, saw 3\\n'\n",
      "b'Skipping line 461: expected 1 fields, saw 3\\n'\n",
      "b'Skipping line 368: expected 1 fields, saw 3\\n'\n",
      "b'Skipping line 476: expected 1 fields, saw 3\\n'\n",
      "b'Skipping line 490: expected 1 fields, saw 3\\n'\n"
     ]
    },
    {
     "name": "stdout",
     "output_type": "stream",
     "text": [
      "slurm_GCNGAP_ER.Status_layers_1_pooling_att_dist_40_lr_0.001_graphfeatsize_50_nhiddim1_150_dropout_0.5_weight_decay_0.01_bsize_20.out\n",
      "slurm_GCNGAP_ER.Status_layers_1_pooling_mean_dist_80_lr_0.001_graphfeatsize_50_nhiddim1_50_dropout_0.3_weight_decay_0.1_bsize_20.out\n",
      "slurm_GCNGAP_ER.Status_layers_1_pooling_sum_dist_40_lr_0.01_graphfeatsize_100_nhiddim1_100_dropout_0.3_weight_decay_0.1_bsize_10.out\n",
      "slurm_GCNGAP_ER.Status_layers_2_pooling_mean_dist_40_lr_0.01_graphfeatsize_150_nhiddim1_100_dropout_0.3_weight_decay_0.1_bsize_20.out\n",
      "slurm_GCNGAP_ER.Status_layers_1_pooling_att_dist_40_lr_0.01_graphfeatsize_150_nhiddim1_50_dropout_0.3_weight_decay_0.01_bsize_30.out\n",
      "slurm_GCNGAP_ER.Status_layers_1_pooling_mean_dist_80_lr_0.001_graphfeatsize_150_nhiddim1_50_dropout_0.5_weight_decay_0.01_bsize_10.out\n",
      "slurm_GCNGAP_ER.Status_layers_1_pooling_mean_dist_40_lr_0.01_graphfeatsize_50_nhiddim1_150_dropout_0.5_weight_decay_0.001_bsize_30.out\n",
      "slurm_GCNGAP_ER.Status_layers_1_pooling_sum_dist_80_lr_0.01_graphfeatsize_50_nhiddim1_50_dropout_0.5_weight_decay_0.001_bsize_10.out\n",
      "slurm_GCNGAP_ER.Status_layers_1_pooling_att_dist_40_lr_0.01_graphfeatsize_150_nhiddim1_100_dropout_0.5_weight_decay_0.01_bsize_20.out\n",
      "slurm_GCNGAP_ER.Status_layers_1_pooling_att_dist_40_lr_0.001_graphfeatsize_100_nhiddim1_100_dropout_0.5_weight_decay_0.1_bsize_10.out\n",
      "slurm_GCNGAP_ER.Status_layers_2_pooling_mean_dist_40_lr_0.001_graphfeatsize_100_nhiddim1_50_dropout_0.3_weight_decay_0.001_bsize_30.out\n",
      "slurm_GCNGAP_ER.Status_layers_2_pooling_sum_dist_40_lr_0.001_graphfeatsize_150_nhiddim1_50_dropout_0.3_weight_decay_0.1_bsize_20.out\n"
     ]
    },
    {
     "name": "stderr",
     "output_type": "stream",
     "text": [
      "b'Skipping line 489: expected 1 fields, saw 3\\n'\n",
      "b'Skipping line 563: expected 1 fields, saw 3\\n'\n",
      "b'Skipping line 443: expected 1 fields, saw 3\\n'\n",
      "b'Skipping line 483: expected 1 fields, saw 3\\n'\n",
      "b'Skipping line 713: expected 1 fields, saw 3\\n'\n",
      "b'Skipping line 525: expected 1 fields, saw 3\\n'\n",
      "b'Skipping line 442: expected 1 fields, saw 3\\n'\n",
      "b'Skipping line 472: expected 1 fields, saw 3\\n'\n",
      "b'Skipping line 466: expected 1 fields, saw 3\\n'\n",
      "b'Skipping line 493: expected 1 fields, saw 3\\n'\n",
      "b'Skipping line 519: expected 1 fields, saw 3\\n'\n",
      "b'Skipping line 444: expected 1 fields, saw 3\\n'\n"
     ]
    },
    {
     "name": "stdout",
     "output_type": "stream",
     "text": [
      "slurm_GCNGAP_ER.Status_layers_1_pooling_sum_dist_40_lr_0.01_graphfeatsize_150_nhiddim1_150_dropout_0.5_weight_decay_0.1_bsize_30.out\n",
      "slurm_GCNGAP_ER.Status_layers_1_pooling_sum_dist_80_lr_0.01_graphfeatsize_100_nhiddim1_50_dropout_0.5_weight_decay_0.001_bsize_10.out\n",
      "slurm_GCNGAP_ER.Status_layers_1_pooling_mean_dist_80_lr_0.01_graphfeatsize_100_nhiddim1_50_dropout_0.3_weight_decay_0.1_bsize_10.out\n",
      "slurm_GCNGAP_ER.Status_layers_1_pooling_mean_dist_80_lr_0.01_graphfeatsize_100_nhiddim1_100_dropout_0.5_weight_decay_0.001_bsize_30.out\n",
      "slurm_GCNGAP_ER.Status_layers_1_pooling_mean_dist_80_lr_0.01_graphfeatsize_100_nhiddim1_150_dropout_0.5_weight_decay_0.01_bsize_20.out\n",
      "slurm_GCNGAP_ER.Status_layers_2_pooling_sum_dist_40_lr_0.001_graphfeatsize_150_nhiddim1_150_dropout_0.5_weight_decay_0.001_bsize_20.out\n",
      "slurm_GCNGAP_ER.Status_layers_1_pooling_att_dist_40_lr_0.001_graphfeatsize_150_nhiddim1_150_dropout_0.3_weight_decay_0.1_bsize_30.out\n",
      "slurm_GCNGAP_ER.Status_layers_1_pooling_sum_dist_40_lr_0.01_graphfeatsize_50_nhiddim1_100_dropout_0.3_weight_decay_0.01_bsize_20.out\n",
      "slurm_GCNGAP_ER.Status_layers_2_pooling_att_dist_40_lr_0.001_graphfeatsize_150_nhiddim1_100_dropout_0.3_weight_decay_0.001_bsize_20.out\n",
      "slurm_GCNGAP_ER.Status_layers_1_pooling_mean_dist_80_lr_0.001_graphfeatsize_50_nhiddim1_50_dropout_0.5_weight_decay_0.01_bsize_20.out\n",
      "slurm_GCNGAP_ER.Status_layers_2_pooling_mean_dist_40_lr_0.001_graphfeatsize_100_nhiddim1_100_dropout_0.3_weight_decay_0.1_bsize_30.out\n",
      "slurm_GCNGAP_ER.Status_layers_1_pooling_att_dist_40_lr_0.001_graphfeatsize_150_nhiddim1_50_dropout_0.5_weight_decay_0.001_bsize_30.out\n"
     ]
    },
    {
     "name": "stderr",
     "output_type": "stream",
     "text": [
      "b'Skipping line 442: expected 1 fields, saw 3\\n'\n",
      "b'Skipping line 444: expected 1 fields, saw 3\\n'\n",
      "b'Skipping line 452: expected 1 fields, saw 3\\n'\n",
      "b'Skipping line 746: expected 1 fields, saw 3\\n'\n",
      "b'Skipping line 442: expected 1 fields, saw 3\\n'\n",
      "b'Skipping line 490: expected 1 fields, saw 3\\n'\n",
      "b'Skipping line 444: expected 1 fields, saw 3\\n'\n",
      "b'Skipping line 472: expected 1 fields, saw 3\\n'\n",
      "b'Skipping line 692: expected 1 fields, saw 3\\n'\n",
      "b'Skipping line 456: expected 1 fields, saw 3\\n'\n",
      "b'Skipping line 517: expected 1 fields, saw 3\\n'\n",
      "b'Skipping line 444: expected 1 fields, saw 3\\n'\n"
     ]
    },
    {
     "name": "stdout",
     "output_type": "stream",
     "text": [
      "slurm_GCNGAP_ER.Status_layers_2_pooling_mean_dist_40_lr_0.01_graphfeatsize_150_nhiddim1_50_dropout_0.5_weight_decay_0.1_bsize_30.out\n",
      "slurm_GCNGAP_ER.Status_layers_2_pooling_mean_dist_40_lr_0.01_graphfeatsize_50_nhiddim1_150_dropout_0.5_weight_decay_0.1_bsize_10.out\n",
      "slurm_GCNGAP_ER.Status_layers_2_pooling_mean_dist_40_lr_0.01_graphfeatsize_150_nhiddim1_150_dropout_0.5_weight_decay_0.001_bsize_10.out\n",
      "slurm_GCNGAP_ER.Status_layers_1_pooling_mean_dist_40_lr_0.01_graphfeatsize_100_nhiddim1_50_dropout_0.5_weight_decay_0.01_bsize_10.out\n",
      "slurm_GCNGAP_ER.Status_layers_2_pooling_sum_dist_40_lr_0.001_graphfeatsize_100_nhiddim1_150_dropout_0.5_weight_decay_0.1_bsize_10.out\n",
      "slurm_GCNGAP_ER.Status_layers_2_pooling_att_dist_40_lr_0.01_graphfeatsize_100_nhiddim1_100_dropout_0.3_weight_decay_0.01_bsize_10.out\n",
      "slurm_GCNGAP_ER.Status_layers_2_pooling_sum_dist_40_lr_0.01_graphfeatsize_50_nhiddim1_150_dropout_0.3_weight_decay_0.01_bsize_10.out\n",
      "slurm_GCNGAP_ER.Status_layers_1_pooling_mean_dist_80_lr_0.01_graphfeatsize_150_nhiddim1_50_dropout_0.3_weight_decay_0.01_bsize_20.out\n",
      "slurm_GCNGAP_ER.Status_layers_1_pooling_mean_dist_40_lr_0.001_graphfeatsize_150_nhiddim1_100_dropout_0.3_weight_decay_0.01_bsize_30.out\n",
      "slurm_GCNGAP_ER.Status_layers_2_pooling_mean_dist_40_lr_0.001_graphfeatsize_100_nhiddim1_100_dropout_0.5_weight_decay_0.01_bsize_10.out\n",
      "slurm_GCNGAP_ER.Status_layers_2_pooling_sum_dist_40_lr_0.001_graphfeatsize_100_nhiddim1_150_dropout_0.5_weight_decay_0.001_bsize_20.out\n",
      "slurm_GCNGAP_ER.Status_layers_2_pooling_sum_dist_40_lr_0.01_graphfeatsize_50_nhiddim1_50_dropout_0.3_weight_decay_0.1_bsize_30.out\n",
      "slurm_GCNGAP_ER.Status_layers_2_pooling_sum_dist_40_lr_0.001_graphfeatsize_50_nhiddim1_50_dropout_0.5_weight_decay_0.1_bsize_20.out"
     ]
    },
    {
     "name": "stderr",
     "output_type": "stream",
     "text": [
      "b'Skipping line 659: expected 1 fields, saw 3\\n'\n",
      "b'Skipping line 456: expected 1 fields, saw 3\\n'\n",
      "b'Skipping line 599: expected 1 fields, saw 3\\n'\n",
      "b'Skipping line 539: expected 1 fields, saw 3\\n'\n",
      "b'Skipping line 573: expected 1 fields, saw 3\\n'\n",
      "b'Skipping line 490: expected 1 fields, saw 3\\n'\n",
      "b'Skipping line 613: expected 1 fields, saw 3\\n'\n",
      "b'Skipping line 694: expected 1 fields, saw 3\\n'\n",
      "b'Skipping line 560: expected 1 fields, saw 3\\n'\n",
      "b'Skipping line 362: expected 1 fields, saw 3\\n'\n",
      "b'Skipping line 476: expected 1 fields, saw 3\\n'\n",
      "b'Skipping line 485: expected 1 fields, saw 3\\n'\n"
     ]
    },
    {
     "name": "stdout",
     "output_type": "stream",
     "text": [
      "\n",
      "slurm_GCNGAP_ER.Status_layers_1_pooling_mean_dist_40_lr_0.001_graphfeatsize_100_nhiddim1_150_dropout_0.5_weight_decay_0.1_bsize_20.out\n",
      "slurm_GCNGAP_ER.Status_layers_2_pooling_att_dist_40_lr_0.001_graphfeatsize_100_nhiddim1_100_dropout_0.3_weight_decay_0.001_bsize_20.out\n",
      "slurm_GCNGAP_ER.Status_layers_1_pooling_sum_dist_80_lr_0.001_graphfeatsize_100_nhiddim1_100_dropout_0.3_weight_decay_0.1_bsize_10.out\n",
      "slurm_GCNGAP_ER.Status_layers_1_pooling_mean_dist_40_lr_0.001_graphfeatsize_150_nhiddim1_50_dropout_0.3_weight_decay_0.1_bsize_20.out\n",
      "slurm_GCNGAP_ER.Status_layers_2_pooling_mean_dist_40_lr_0.01_graphfeatsize_50_nhiddim1_150_dropout_0.3_weight_decay_0.001_bsize_20.out\n",
      "slurm_GCNGAP_ER.Status_layers_1_pooling_mean_dist_80_lr_0.01_graphfeatsize_150_nhiddim1_100_dropout_0.5_weight_decay_0.001_bsize_30.out\n",
      "slurm_GCNGAP_ER.Status_layers_1_pooling_att_dist_40_lr_0.001_graphfeatsize_100_nhiddim1_50_dropout_0.3_weight_decay_0.01_bsize_20.out\n",
      "slurm_GCNGAP_ER.Status_layers_2_pooling_mean_dist_40_lr_0.01_graphfeatsize_50_nhiddim1_50_dropout_0.5_weight_decay_0.1_bsize_20.out\n",
      "slurm_GCNGAP_ER.Status_layers_1_pooling_att_dist_40_lr_0.01_graphfeatsize_50_nhiddim1_50_dropout_0.5_weight_decay_0.01_bsize_10.out\n",
      "slurm_GCNGAP_ER.Status_layers_2_pooling_mean_dist_40_lr_0.01_graphfeatsize_100_nhiddim1_150_dropout_0.5_weight_decay_0.001_bsize_10.out\n",
      "slurm_GCNGAP_ER.Status_layers_2_pooling_sum_dist_40_lr_0.01_graphfeatsize_100_nhiddim1_100_dropout_0.5_weight_decay_0.01_bsize_30.out\n",
      "slurm_GCNGAP_ER.Status_layers_2_pooling_mean_dist_40_lr_0.01_graphfeatsize_100_nhiddim1_50_dropout_0.5_weight_decay_0.001_bsize_30.out\n"
     ]
    },
    {
     "name": "stderr",
     "output_type": "stream",
     "text": [
      "b'Skipping line 470: expected 1 fields, saw 3\\n'\n",
      "b'Skipping line 460: expected 1 fields, saw 3\\n'\n",
      "b'Skipping line 594: expected 1 fields, saw 3\\n'\n",
      "b'Skipping line 486: expected 1 fields, saw 3\\n'\n",
      "b'Skipping line 454: expected 1 fields, saw 3\\n'\n",
      "b'Skipping line 451: expected 1 fields, saw 3\\n'\n",
      "b'Skipping line 535: expected 1 fields, saw 3\\n'\n",
      "b'Skipping line 443: expected 1 fields, saw 3\\n'\n",
      "b'Skipping line 461: expected 1 fields, saw 3\\n'\n",
      "b'Skipping line 454: expected 1 fields, saw 3\\n'\n",
      "b'Skipping line 498: expected 1 fields, saw 3\\n'\n",
      "b'Skipping line 489: expected 1 fields, saw 3\\n'\n",
      "b'Skipping line 442: expected 1 fields, saw 3\\n'\n"
     ]
    },
    {
     "name": "stdout",
     "output_type": "stream",
     "text": [
      "slurm_GCNGAP_ER.Status_layers_2_pooling_sum_dist_40_lr_0.001_graphfeatsize_100_nhiddim1_100_dropout_0.3_weight_decay_0.01_bsize_30.out\n",
      "slurm_GCNGAP_ER.Status_layers_1_pooling_sum_dist_80_lr_0.01_graphfeatsize_100_nhiddim1_50_dropout_0.3_weight_decay_0.1_bsize_20.out\n",
      "not in\n",
      "slurm_GCNGAP_ER.Status_layers_1_pooling_mean_dist_80_lr_0.01_graphfeatsize_100_nhiddim1_150_dropout_0.3_weight_decay_0.1_bsize_30.out\n",
      "slurm_GCNGAP_ER.Status_layers_1_pooling_sum_dist_40_lr_0.001_graphfeatsize_50_nhiddim1_100_dropout_0.3_weight_decay_0.001_bsize_20.out\n",
      "slurm_GCNGAP_ER.Status_layers_1_pooling_att_dist_40_lr_0.01_graphfeatsize_100_nhiddim1_50_dropout_0.5_weight_decay_0.1_bsize_30.out\n",
      "slurm_GCNGAP_ER.Status_layers_2_pooling_mean_dist_40_lr_0.001_graphfeatsize_100_nhiddim1_50_dropout_0.3_weight_decay_0.1_bsize_30.out\n",
      "slurm_GCNGAP_ER.Status_layers_2_pooling_att_dist_40_lr_0.01_graphfeatsize_150_nhiddim1_100_dropout_0.5_weight_decay_0.1_bsize_10.out\n",
      "slurm_GCNGAP_ER.Status_layers_2_pooling_att_dist_40_lr_0.001_graphfeatsize_150_nhiddim1_100_dropout_0.5_weight_decay_0.1_bsize_30.out\n",
      "slurm_GCNGAP_ER.Status_layers_2_pooling_sum_dist_40_lr_0.001_graphfeatsize_100_nhiddim1_150_dropout_0.3_weight_decay_0.01_bsize_10.out\n",
      "slurm_GCNGAP_ER.Status_layers_1_pooling_sum_dist_40_lr_0.01_graphfeatsize_150_nhiddim1_50_dropout_0.5_weight_decay_0.1_bsize_10.out\n",
      "slurm_GCNGAP_ER.Status_layers_2_pooling_sum_dist_40_lr_0.01_graphfeatsize_100_nhiddim1_150_dropout_0.5_weight_decay_0.01_bsize_10.out\n",
      "slurm_GCNGAP_ER.Status_layers_2_pooling_mean_dist_40_lr_0.001_graphfeatsize_100_nhiddim1_50_dropout_0.5_weight_decay_0.01_bsize_20.out\n",
      "slurm_GCNGAP_ER.Status_layers_1_pooling_sum_dist_40_lr_0.01_graphfeatsize_50_nhiddim1_150_dropout_0.5_weight_decay_0.1_bsize_30.out\n"
     ]
    },
    {
     "name": "stderr",
     "output_type": "stream",
     "text": [
      "b'Skipping line 450: expected 1 fields, saw 3\\n'\n",
      "b'Skipping line 361: expected 1 fields, saw 3\\n'\n",
      "b'Skipping line 446: expected 1 fields, saw 3\\n'\n",
      "b'Skipping line 462: expected 1 fields, saw 3\\n'\n",
      "b'Skipping line 443: expected 1 fields, saw 3\\n'\n",
      "b'Skipping line 454: expected 1 fields, saw 3\\n'\n",
      "b'Skipping line 487: expected 1 fields, saw 3\\n'\n",
      "b'Skipping line 589: expected 1 fields, saw 3\\n'\n",
      "b'Skipping line 450: expected 1 fields, saw 3\\n'\n",
      "b'Skipping line 612: expected 1 fields, saw 3\\n'\n",
      "b'Skipping line 559: expected 1 fields, saw 3\\n'\n",
      "b'Skipping line 483: expected 1 fields, saw 3\\n'\n"
     ]
    },
    {
     "name": "stdout",
     "output_type": "stream",
     "text": [
      "slurm_GCNGAP_ER.Status_layers_1_pooling_att_dist_40_lr_0.001_graphfeatsize_150_nhiddim1_100_dropout_0.5_weight_decay_0.001_bsize_30.out\n",
      "slurm_GCNGAP_ER.Status_layers_1_pooling_sum_dist_40_lr_0.001_graphfeatsize_150_nhiddim1_50_dropout_0.3_weight_decay_0.001_bsize_30.out\n",
      "slurm_GCNGAP_ER.Status_layers_1_pooling_sum_dist_40_lr_0.001_graphfeatsize_150_nhiddim1_150_dropout_0.3_weight_decay_0.001_bsize_30.out\n",
      "slurm_GCNGAP_ER.Status_layers_1_pooling_sum_dist_80_lr_0.001_graphfeatsize_50_nhiddim1_150_dropout_0.5_weight_decay_0.001_bsize_10.out\n",
      "not in\n",
      "slurm_GCNGAP_ER.Status_layers_1_pooling_mean_dist_80_lr_0.001_graphfeatsize_100_nhiddim1_150_dropout_0.5_weight_decay_0.1_bsize_20.out\n",
      "slurm_GCNGAP_ER.Status_layers_1_pooling_sum_dist_40_lr_0.001_graphfeatsize_100_nhiddim1_100_dropout_0.3_weight_decay_0.1_bsize_10.out\n",
      "slurm_GCNGAP_ER.Status_layers_2_pooling_att_dist_40_lr_0.001_graphfeatsize_150_nhiddim1_150_dropout_0.5_weight_decay_0.01_bsize_20.out\n",
      "slurm_GCNGAP_ER.Status_layers_1_pooling_mean_dist_80_lr_0.001_graphfeatsize_50_nhiddim1_100_dropout_0.3_weight_decay_0.1_bsize_30.out\n",
      "slurm_GCNGAP_ER.Status_layers_1_pooling_mean_dist_80_lr_0.01_graphfeatsize_50_nhiddim1_100_dropout_0.5_weight_decay_0.1_bsize_20.out\n",
      "slurm_GCNGAP_ER.Status_layers_1_pooling_att_dist_40_lr_0.001_graphfeatsize_50_nhiddim1_50_dropout_0.3_weight_decay_0.001_bsize_20.out\n",
      "slurm_GCNGAP_ER.Status_layers_2_pooling_sum_dist_40_lr_0.01_graphfeatsize_150_nhiddim1_150_dropout_0.5_weight_decay_0.1_bsize_20.out\n",
      "slurm_GCNGAP_ER.Status_layers_1_pooling_att_dist_40_lr_0.001_graphfeatsize_100_nhiddim1_100_dropout_0.5_weight_decay_0.001_bsize_30.out\n",
      "slurm_GCNGAP_ER.Status_layers_1_pooling_sum_dist_40_lr_0.001_graphfeatsize_100_nhiddim1_150_dropout_0.3_weight_decay_0.001_bsize_30.out"
     ]
    },
    {
     "name": "stderr",
     "output_type": "stream",
     "text": [
      "b'Skipping line 568: expected 1 fields, saw 3\\n'\n",
      "b'Skipping line 442: expected 1 fields, saw 3\\n'\n",
      "b'Skipping line 472: expected 1 fields, saw 3\\n'\n",
      "b'Skipping line 646: expected 1 fields, saw 3\\n'\n",
      "b'Skipping line 504: expected 1 fields, saw 3\\n'\n",
      "b'Skipping line 498: expected 1 fields, saw 3\\n'\n",
      "b'Skipping line 443: expected 1 fields, saw 3\\n'\n",
      "b'Skipping line 514: expected 1 fields, saw 3\\n'\n",
      "b'Skipping line 445: expected 1 fields, saw 3\\n'\n",
      "b'Skipping line 515: expected 1 fields, saw 3\\n'\n",
      "b'Skipping line 442: expected 1 fields, saw 3\\n'\n"
     ]
    },
    {
     "name": "stdout",
     "output_type": "stream",
     "text": [
      "\n",
      "slurm_GCNGAP_ER.Status_layers_1_pooling_att_dist_40_lr_0.001_graphfeatsize_50_nhiddim1_100_dropout_0.5_weight_decay_0.001_bsize_20.out\n",
      "slurm_GCNGAP_ER.Status_layers_2_pooling_att_dist_40_lr_0.01_graphfeatsize_100_nhiddim1_150_dropout_0.3_weight_decay_0.01_bsize_30.out\n",
      "slurm_GCNGAP_ER.Status_layers_1_pooling_att_dist_40_lr_0.01_graphfeatsize_50_nhiddim1_100_dropout_0.3_weight_decay_0.001_bsize_10.out\n",
      "slurm_GCNGAP_ER.Status_layers_1_pooling_mean_dist_40_lr_0.001_graphfeatsize_150_nhiddim1_150_dropout_0.3_weight_decay_0.01_bsize_10.out\n",
      "slurm_GCNGAP_ER.Status_layers_2_pooling_mean_dist_40_lr_0.001_graphfeatsize_100_nhiddim1_150_dropout_0.5_weight_decay_0.01_bsize_30.out\n",
      "slurm_GCNGAP_ER.Status_layers_1_pooling_sum_dist_80_lr_0.01_graphfeatsize_50_nhiddim1_100_dropout_0.5_weight_decay_0.1_bsize_10.out\n",
      "slurm_GCNGAP_ER.Status_layers_2_pooling_sum_dist_40_lr_0.01_graphfeatsize_50_nhiddim1_100_dropout_0.3_weight_decay_0.01_bsize_30.out\n",
      "slurm_GCNGAP_ER.Status_layers_1_pooling_sum_dist_40_lr_0.01_graphfeatsize_100_nhiddim1_50_dropout_0.5_weight_decay_0.001_bsize_10.out\n",
      "slurm_GCNGAP_ER.Status_layers_1_pooling_mean_dist_80_lr_0.001_graphfeatsize_100_nhiddim1_150_dropout_0.3_weight_decay_0.01_bsize_20.out\n",
      "slurm_GCNGAP_ER.Status_layers_1_pooling_mean_dist_40_lr_0.01_graphfeatsize_150_nhiddim1_50_dropout_0.5_weight_decay_0.1_bsize_20.out\n",
      "slurm_GCNGAP_ER.Status_layers_1_pooling_mean_dist_40_lr_0.01_graphfeatsize_100_nhiddim1_150_dropout_0.5_weight_decay_0.01_bsize_20.out\n"
     ]
    },
    {
     "name": "stderr",
     "output_type": "stream",
     "text": [
      "b'Skipping line 493: expected 1 fields, saw 3\\n'\n",
      "b'Skipping line 615: expected 1 fields, saw 3\\n'\n",
      "b'Skipping line 453: expected 1 fields, saw 3\\n'\n",
      "b'Skipping line 621: expected 1 fields, saw 3\\n'\n",
      "b'Skipping line 627: expected 1 fields, saw 3\\n'\n",
      "b'Skipping line 444: expected 1 fields, saw 3\\n'\n",
      "b'Skipping line 442: expected 1 fields, saw 3\\n'\n",
      "b'Skipping line 464: expected 1 fields, saw 3\\n'\n",
      "b'Skipping line 721: expected 1 fields, saw 3\\n'\n",
      "b'Skipping line 444: expected 1 fields, saw 3\\n'\n",
      "b'Skipping line 666: expected 1 fields, saw 3\\n'\n",
      "b'Skipping line 454: expected 1 fields, saw 3\\n'\n"
     ]
    },
    {
     "name": "stdout",
     "output_type": "stream",
     "text": [
      "slurm_GCNGAP_ER.Status_layers_2_pooling_sum_dist_40_lr_0.001_graphfeatsize_100_nhiddim1_50_dropout_0.3_weight_decay_0.01_bsize_30.out\n",
      "slurm_GCNGAP_ER.Status_layers_2_pooling_mean_dist_40_lr_0.01_graphfeatsize_50_nhiddim1_50_dropout_0.3_weight_decay_0.01_bsize_30.out\n",
      "slurm_GCNGAP_ER.Status_layers_1_pooling_sum_dist_40_lr_0.001_graphfeatsize_100_nhiddim1_50_dropout_0.5_weight_decay_0.1_bsize_30.out\n",
      "slurm_GCNGAP_ER.Status_layers_1_pooling_mean_dist_40_lr_0.01_graphfeatsize_150_nhiddim1_50_dropout_0.3_weight_decay_0.001_bsize_20.out\n",
      "slurm_GCNGAP_ER.Status_layers_1_pooling_mean_dist_80_lr_0.01_graphfeatsize_50_nhiddim1_100_dropout_0.3_weight_decay_0.01_bsize_10.out\n",
      "slurm_GCNGAP_ER.Status_layers_1_pooling_sum_dist_40_lr_0.001_graphfeatsize_50_nhiddim1_50_dropout_0.5_weight_decay_0.01_bsize_10.out\n",
      "slurm_GCNGAP_ER.Status_layers_1_pooling_mean_dist_80_lr_0.01_graphfeatsize_50_nhiddim1_100_dropout_0.3_weight_decay_0.001_bsize_30.out\n",
      "slurm_GCNGAP_ER.Status_layers_1_pooling_mean_dist_80_lr_0.001_graphfeatsize_150_nhiddim1_100_dropout_0.5_weight_decay_0.001_bsize_10.out\n",
      "slurm_GCNGAP_ER.Status_layers_1_pooling_sum_dist_80_lr_0.01_graphfeatsize_100_nhiddim1_100_dropout_0.3_weight_decay_0.001_bsize_20.out\n",
      "not in\n",
      "slurm_GCNGAP_ER.Status_layers_1_pooling_att_dist_40_lr_0.01_graphfeatsize_150_nhiddim1_150_dropout_0.3_weight_decay_0.001_bsize_10.out\n",
      "slurm_GCNGAP_ER.Status_layers_1_pooling_att_dist_40_lr_0.01_graphfeatsize_100_nhiddim1_100_dropout_0.5_weight_decay_0.01_bsize_20.out\n",
      "slurm_GCNGAP_ER.Status_layers_1_pooling_mean_dist_40_lr_0.001_graphfeatsize_50_nhiddim1_50_dropout_0.3_weight_decay_0.1_bsize_10.out\n"
     ]
    },
    {
     "name": "stderr",
     "output_type": "stream",
     "text": [
      "b'Skipping line 669: expected 1 fields, saw 3\\n'\n",
      "b'Skipping line 510: expected 1 fields, saw 3\\n'\n",
      "b'Skipping line 461: expected 1 fields, saw 3\\n'\n",
      "b'Skipping line 557: expected 1 fields, saw 3\\n'\n",
      "b'Skipping line 487: expected 1 fields, saw 3\\n'\n",
      "b'Skipping line 464: expected 1 fields, saw 3\\n'\n",
      "b'Skipping line 476: expected 1 fields, saw 3\\n'\n",
      "b'Skipping line 452: expected 1 fields, saw 3\\n'\n",
      "b'Skipping line 468: expected 1 fields, saw 3\\n'\n",
      "b'Skipping line 477: expected 1 fields, saw 3\\n'\n",
      "b'Skipping line 678: expected 1 fields, saw 3\\n'\n"
     ]
    },
    {
     "name": "stdout",
     "output_type": "stream",
     "text": [
      "slurm_GCNGAP_ER.Status_layers_2_pooling_mean_dist_40_lr_0.01_graphfeatsize_100_nhiddim1_50_dropout_0.3_weight_decay_0.01_bsize_20.out\n",
      "slurm_GCNGAP_ER.Status_layers_1_pooling_att_dist_40_lr_0.01_graphfeatsize_100_nhiddim1_100_dropout_0.3_weight_decay_0.1_bsize_30.out\n",
      "slurm_GCNGAP_ER.Status_layers_1_pooling_sum_dist_40_lr_0.01_graphfeatsize_150_nhiddim1_50_dropout_0.3_weight_decay_0.01_bsize_10.out\n",
      "slurm_GCNGAP_ER.Status_layers_1_pooling_mean_dist_40_lr_0.001_graphfeatsize_150_nhiddim1_150_dropout_0.3_weight_decay_0.1_bsize_10.out\n",
      "slurm_GCNGAP_ER.Status_layers_2_pooling_mean_dist_40_lr_0.001_graphfeatsize_150_nhiddim1_50_dropout_0.3_weight_decay_0.001_bsize_30.out\n",
      "slurm_GCNGAP_ER.Status_layers_2_pooling_att_dist_40_lr_0.001_graphfeatsize_50_nhiddim1_150_dropout_0.3_weight_decay_0.1_bsize_20.out\n",
      "slurm_GCNGAP_ER.Status_layers_1_pooling_sum_dist_80_lr_0.01_graphfeatsize_100_nhiddim1_50_dropout_0.5_weight_decay_0.01_bsize_20.out\n",
      "slurm_GCNGAP_ER.Status_layers_2_pooling_sum_dist_40_lr_0.001_graphfeatsize_150_nhiddim1_150_dropout_0.3_weight_decay_0.1_bsize_20.out\n",
      "slurm_GCNGAP_ER.Status_layers_1_pooling_mean_dist_80_lr_0.001_graphfeatsize_100_nhiddim1_100_dropout_0.5_weight_decay_0.001_bsize_10.out\n",
      "slurm_GCNGAP_ER.Status_layers_1_pooling_sum_dist_80_lr_0.001_graphfeatsize_150_nhiddim1_50_dropout_0.3_weight_decay_0.1_bsize_10.out\n",
      "slurm_GCNGAP_ER.Status_layers_2_pooling_att_dist_40_lr_0.001_graphfeatsize_100_nhiddim1_50_dropout_0.3_weight_decay_0.001_bsize_20.out\n",
      "slurm_GCNGAP_ER.Status_layers_1_pooling_sum_dist_40_lr_0.001_graphfeatsize_50_nhiddim1_50_dropout_0.3_weight_decay_0.1_bsize_20.out\n"
     ]
    },
    {
     "name": "stderr",
     "output_type": "stream",
     "text": [
      "b'Skipping line 444: expected 1 fields, saw 3\\n'\n",
      "b'Skipping line 477: expected 1 fields, saw 3\\n'\n",
      "b'Skipping line 449: expected 1 fields, saw 3\\n'\n",
      "b'Skipping line 483: expected 1 fields, saw 3\\n'\n",
      "b'Skipping line 450: expected 1 fields, saw 3\\n'\n",
      "b'Skipping line 442: expected 1 fields, saw 3\\n'\n",
      "b'Skipping line 536: expected 1 fields, saw 3\\n'\n",
      "b'Skipping line 476: expected 1 fields, saw 3\\n'\n",
      "b'Skipping line 588: expected 1 fields, saw 3\\n'\n",
      "b'Skipping line 467: expected 1 fields, saw 3\\n'\n",
      "b'Skipping line 553: expected 1 fields, saw 3\\n'\n",
      "b'Skipping line 361: expected 1 fields, saw 3\\n'\n"
     ]
    },
    {
     "name": "stdout",
     "output_type": "stream",
     "text": [
      "slurm_GCNGAP_ER.Status_layers_2_pooling_sum_dist_40_lr_0.01_graphfeatsize_50_nhiddim1_50_dropout_0.5_weight_decay_0.001_bsize_20.out\n",
      "slurm_GCNGAP_ER.Status_layers_1_pooling_mean_dist_40_lr_0.001_graphfeatsize_50_nhiddim1_100_dropout_0.5_weight_decay_0.001_bsize_30.out\n",
      "slurm_GCNGAP_ER.Status_layers_2_pooling_att_dist_40_lr_0.01_graphfeatsize_100_nhiddim1_50_dropout_0.5_weight_decay_0.01_bsize_30.out\n",
      "slurm_GCNGAP_ER.Status_layers_2_pooling_att_dist_40_lr_0.001_graphfeatsize_100_nhiddim1_50_dropout_0.5_weight_decay_0.01_bsize_10.out\n",
      "slurm_GCNGAP_ER.Status_layers_2_pooling_att_dist_40_lr_0.01_graphfeatsize_100_nhiddim1_50_dropout_0.3_weight_decay_0.1_bsize_30.out\n",
      "slurm_GCNGAP_ER.Status_layers_2_pooling_sum_dist_40_lr_0.01_graphfeatsize_150_nhiddim1_50_dropout_0.3_weight_decay_0.001_bsize_10.out\n",
      "slurm_GCNGAP_ER.Status_layers_2_pooling_att_dist_40_lr_0.001_graphfeatsize_50_nhiddim1_150_dropout_0.5_weight_decay_0.001_bsize_30.out\n",
      "slurm_GCNGAP_ER.Status_layers_2_pooling_mean_dist_40_lr_0.01_graphfeatsize_150_nhiddim1_150_dropout_0.3_weight_decay_0.1_bsize_30.out\n",
      "slurm_GCNGAP_ER.Status_layers_1_pooling_att_dist_40_lr_0.01_graphfeatsize_100_nhiddim1_150_dropout_0.3_weight_decay_0.001_bsize_10.out\n",
      "slurm_GCNGAP_ER.Status_layers_2_pooling_sum_dist_40_lr_0.001_graphfeatsize_50_nhiddim1_100_dropout_0.3_weight_decay_0.1_bsize_10.out\n",
      "slurm_GCNGAP_ER.Status_layers_1_pooling_sum_dist_40_lr_0.001_graphfeatsize_100_nhiddim1_150_dropout_0.5_weight_decay_0.01_bsize_30.out\n",
      "slurm_GCNGAP_ER.Status_layers_1_pooling_mean_dist_40_lr_0.01_graphfeatsize_50_nhiddim1_50_dropout_0.3_weight_decay_0.1_bsize_20.out\n",
      "slurm_GCNGAP_ER.Status_layers_2_pooling_att_dist_40_lr_0.01_graphfeatsize_50_nhiddim1_150_dropout_0.3_weight_decay_0.001_bsize_10.out"
     ]
    },
    {
     "name": "stderr",
     "output_type": "stream",
     "text": [
      "b'Skipping line 521: expected 1 fields, saw 3\\n'\n",
      "b'Skipping line 625: expected 1 fields, saw 3\\n'\n",
      "b'Skipping line 609: expected 1 fields, saw 3\\n'\n",
      "b'Skipping line 443: expected 1 fields, saw 3\\n'\n",
      "b'Skipping line 362: expected 1 fields, saw 3\\n'\n",
      "b'Skipping line 462: expected 1 fields, saw 3\\n'\n",
      "b'Skipping line 443: expected 1 fields, saw 3\\n'\n",
      "b'Skipping line 448: expected 1 fields, saw 3\\n'\n",
      "b'Skipping line 618: expected 1 fields, saw 3\\n'\n",
      "b'Skipping line 442: expected 1 fields, saw 3\\n'\n",
      "b'Skipping line 443: expected 1 fields, saw 3\\n'\n",
      "b'Skipping line 453: expected 1 fields, saw 3\\n'\n"
     ]
    },
    {
     "name": "stdout",
     "output_type": "stream",
     "text": [
      "\n",
      "slurm_GCNGAP_ER.Status_layers_1_pooling_mean_dist_80_lr_0.001_graphfeatsize_100_nhiddim1_50_dropout_0.5_weight_decay_0.001_bsize_10.out\n",
      "slurm_GCNGAP_ER.Status_layers_2_pooling_sum_dist_40_lr_0.01_graphfeatsize_50_nhiddim1_150_dropout_0.3_weight_decay_0.1_bsize_30.out\n",
      "slurm_GCNGAP_ER.Status_layers_1_pooling_sum_dist_40_lr_0.01_graphfeatsize_100_nhiddim1_150_dropout_0.3_weight_decay_0.01_bsize_20.out\n",
      "slurm_GCNGAP_ER.Status_layers_1_pooling_sum_dist_40_lr_0.01_graphfeatsize_50_nhiddim1_50_dropout_0.5_weight_decay_0.001_bsize_30.out\n",
      "slurm_GCNGAP_ER.Status_layers_1_pooling_sum_dist_40_lr_0.01_graphfeatsize_150_nhiddim1_150_dropout_0.5_weight_decay_0.001_bsize_10.out\n",
      "slurm_GCNGAP_ER.Status_layers_2_pooling_sum_dist_40_lr_0.01_graphfeatsize_150_nhiddim1_50_dropout_0.3_weight_decay_0.1_bsize_10.out\n",
      "slurm_GCNGAP_ER.Status_layers_1_pooling_sum_dist_40_lr_0.001_graphfeatsize_100_nhiddim1_100_dropout_0.5_weight_decay_0.01_bsize_10.out\n",
      "slurm_GCNGAP_ER.Status_layers_1_pooling_att_dist_40_lr_0.01_graphfeatsize_100_nhiddim1_50_dropout_0.5_weight_decay_0.01_bsize_20.out\n",
      "slurm_GCNGAP_ER.Status_layers_2_pooling_sum_dist_40_lr_0.001_graphfeatsize_50_nhiddim1_50_dropout_0.3_weight_decay_0.001_bsize_30.out\n",
      "slurm_GCNGAP_ER.Status_layers_1_pooling_sum_dist_40_lr_0.01_graphfeatsize_50_nhiddim1_50_dropout_0.3_weight_decay_0.01_bsize_10.out\n"
     ]
    },
    {
     "name": "stderr",
     "output_type": "stream",
     "text": [
      "b'Skipping line 499: expected 1 fields, saw 3\\n'\n",
      "b'Skipping line 466: expected 1 fields, saw 3\\n'\n",
      "b'Skipping line 443: expected 1 fields, saw 3\\n'\n",
      "b'Skipping line 442: expected 1 fields, saw 3\\n'\n",
      "b'Skipping line 443: expected 1 fields, saw 3\\n'\n",
      "b'Skipping line 508: expected 1 fields, saw 3\\n'\n",
      "b'Skipping line 389: expected 1 fields, saw 3\\n'\n",
      "b'Skipping line 507: expected 1 fields, saw 3\\n'\n",
      "b'Skipping line 442: expected 1 fields, saw 3\\n'\n",
      "b'Skipping line 520: expected 1 fields, saw 3\\n'\n",
      "b'Skipping line 519: expected 1 fields, saw 3\\n'\n"
     ]
    },
    {
     "name": "stdout",
     "output_type": "stream",
     "text": [
      "slurm_GCNGAP_ER.Status_layers_1_pooling_att_dist_40_lr_0.001_graphfeatsize_150_nhiddim1_100_dropout_0.3_weight_decay_0.01_bsize_20.out\n",
      "slurm_GCNGAP_ER.Status_layers_2_pooling_mean_dist_40_lr_0.01_graphfeatsize_50_nhiddim1_50_dropout_0.3_weight_decay_0.001_bsize_20.out\n",
      "slurm_GCNGAP_ER.Status_layers_2_pooling_sum_dist_40_lr_0.01_graphfeatsize_100_nhiddim1_150_dropout_0.3_weight_decay_0.1_bsize_10.out\n",
      "slurm_GCNGAP_ER.Status_layers_1_pooling_mean_dist_40_lr_0.001_graphfeatsize_150_nhiddim1_50_dropout_0.5_weight_decay_0.001_bsize_20.out\n",
      "slurm_GCNGAP_ER.Status_layers_1_pooling_att_dist_40_lr_0.01_graphfeatsize_50_nhiddim1_50_dropout_0.3_weight_decay_0.1_bsize_20.out\n",
      "slurm_GCNGAP_ER.Status_layers_1_pooling_mean_dist_40_lr_0.01_graphfeatsize_50_nhiddim1_50_dropout_0.3_weight_decay_0.01_bsize_20.out\n",
      "slurm_GCNGAP_ER.Status_layers_1_pooling_sum_dist_40_lr_0.01_graphfeatsize_100_nhiddim1_150_dropout_0.5_weight_decay_0.001_bsize_10.out\n",
      "slurm_GCNGAP_ER.Status_layers_2_pooling_sum_dist_40_lr_0.001_graphfeatsize_100_nhiddim1_50_dropout_0.5_weight_decay_0.1_bsize_20.out\n",
      "slurm_GCNGAP_ER.Status_layers_1_pooling_mean_dist_80_lr_0.001_graphfeatsize_150_nhiddim1_150_dropout_0.3_weight_decay_0.1_bsize_10.out\n",
      "slurm_GCNGAP_ER.Status_layers_1_pooling_sum_dist_40_lr_0.001_graphfeatsize_150_nhiddim1_100_dropout_0.5_weight_decay_0.1_bsize_20.out\n",
      "slurm_GCNGAP_ER.Status_layers_2_pooling_sum_dist_40_lr_0.001_graphfeatsize_50_nhiddim1_150_dropout_0.3_weight_decay_0.001_bsize_30.out\n",
      "slurm_GCNGAP_ER.Status_layers_2_pooling_mean_dist_40_lr_0.001_graphfeatsize_50_nhiddim1_100_dropout_0.3_weight_decay_0.001_bsize_20.out"
     ]
    },
    {
     "name": "stderr",
     "output_type": "stream",
     "text": [
      "b'Skipping line 527: expected 1 fields, saw 3\\n'\n",
      "b'Skipping line 534: expected 1 fields, saw 3\\n'\n",
      "b'Skipping line 542: expected 1 fields, saw 3\\n'\n",
      "b'Skipping line 448: expected 1 fields, saw 3\\n'\n",
      "b'Skipping line 728: expected 1 fields, saw 3\\n'\n",
      "b'Skipping line 442: expected 1 fields, saw 3\\n'\n",
      "b'Skipping line 485: expected 1 fields, saw 3\\n'\n",
      "b'Skipping line 456: expected 1 fields, saw 3\\n'\n",
      "b'Skipping line 587: expected 1 fields, saw 3\\n'\n",
      "b'Skipping line 362: expected 1 fields, saw 3\\n'\n",
      "b'Skipping line 505: expected 1 fields, saw 3\\n'\n"
     ]
    },
    {
     "name": "stdout",
     "output_type": "stream",
     "text": [
      "\n",
      "slurm_GCNGAP_ER.Status_layers_2_pooling_mean_dist_40_lr_0.01_graphfeatsize_100_nhiddim1_100_dropout_0.3_weight_decay_0.01_bsize_20.out\n",
      "slurm_GCNGAP_ER.Status_layers_2_pooling_sum_dist_40_lr_0.001_graphfeatsize_100_nhiddim1_50_dropout_0.5_weight_decay_0.001_bsize_20.out\n",
      "slurm_GCNGAP_ER.Status_layers_1_pooling_att_dist_40_lr_0.001_graphfeatsize_150_nhiddim1_50_dropout_0.3_weight_decay_0.1_bsize_10.out\n",
      "slurm_GCNGAP_ER.Status_layers_1_pooling_mean_dist_40_lr_0.01_graphfeatsize_150_nhiddim1_100_dropout_0.5_weight_decay_0.1_bsize_30.out\n",
      "slurm_GCNGAP_ER.Status_layers_2_pooling_att_dist_40_lr_0.01_graphfeatsize_100_nhiddim1_100_dropout_0.3_weight_decay_0.1_bsize_20.out\n",
      "slurm_GCNGAP_ER.Status_layers_1_pooling_mean_dist_40_lr_0.01_graphfeatsize_50_nhiddim1_100_dropout_0.3_weight_decay_0.001_bsize_30.out\n",
      "slurm_GCNGAP_ER.Status_layers_1_pooling_mean_dist_80_lr_0.01_graphfeatsize_150_nhiddim1_50_dropout_0.3_weight_decay_0.001_bsize_20.out\n",
      "slurm_GCNGAP_ER.Status_layers_1_pooling_mean_dist_80_lr_0.01_graphfeatsize_50_nhiddim1_150_dropout_0.3_weight_decay_0.01_bsize_30.out\n",
      "slurm_GCNGAP_ER.Status_layers_1_pooling_att_dist_40_lr_0.001_graphfeatsize_50_nhiddim1_150_dropout_0.3_weight_decay_0.1_bsize_30.out\n",
      "slurm_GCNGAP_ER.Status_layers_2_pooling_att_dist_40_lr_0.001_graphfeatsize_150_nhiddim1_150_dropout_0.5_weight_decay_0.001_bsize_20.out\n",
      "slurm_GCNGAP_ER.Status_layers_2_pooling_att_dist_40_lr_0.01_graphfeatsize_50_nhiddim1_100_dropout_0.3_weight_decay_0.01_bsize_10.out\n"
     ]
    },
    {
     "name": "stderr",
     "output_type": "stream",
     "text": [
      "b'Skipping line 574: expected 1 fields, saw 3\\n'\n",
      "b'Skipping line 442: expected 1 fields, saw 3\\n'\n",
      "b'Skipping line 455: expected 1 fields, saw 3\\n'\n",
      "b'Skipping line 445: expected 1 fields, saw 3\\n'\n",
      "b'Skipping line 443: expected 1 fields, saw 3\\n'\n",
      "b'Skipping line 456: expected 1 fields, saw 3\\n'\n",
      "b'Skipping line 457: expected 1 fields, saw 3\\n'\n",
      "b'Skipping line 616: expected 1 fields, saw 3\\n'\n",
      "b'Skipping line 472: expected 1 fields, saw 3\\n'\n",
      "b'Skipping line 476: expected 1 fields, saw 3\\n'\n",
      "b'Skipping line 643: expected 1 fields, saw 3\\n'\n",
      "b'Skipping line 707: expected 1 fields, saw 3\\n'\n",
      "b'Skipping line 444: expected 1 fields, saw 3\\n'\n"
     ]
    },
    {
     "name": "stdout",
     "output_type": "stream",
     "text": [
      "slurm_GCNGAP_ER.Status_layers_2_pooling_att_dist_40_lr_0.001_graphfeatsize_50_nhiddim1_100_dropout_0.3_weight_decay_0.01_bsize_30.out\n",
      "slurm_GCNGAP_ER.Status_layers_1_pooling_mean_dist_40_lr_0.01_graphfeatsize_100_nhiddim1_150_dropout_0.3_weight_decay_0.1_bsize_10.out\n",
      "slurm_GCNGAP_ER.Status_layers_2_pooling_sum_dist_40_lr_0.001_graphfeatsize_150_nhiddim1_100_dropout_0.3_weight_decay_0.001_bsize_20.out\n",
      "slurm_GCNGAP_ER.Status_layers_1_pooling_sum_dist_40_lr_0.01_graphfeatsize_50_nhiddim1_100_dropout_0.5_weight_decay_0.1_bsize_20.out\n",
      "slurm_GCNGAP_ER.Status_layers_1_pooling_mean_dist_80_lr_0.01_graphfeatsize_100_nhiddim1_150_dropout_0.3_weight_decay_0.001_bsize_30.out\n",
      "slurm_GCNGAP_ER.Status_layers_2_pooling_att_dist_40_lr_0.01_graphfeatsize_150_nhiddim1_150_dropout_0.3_weight_decay_0.01_bsize_30.out\n",
      "slurm_GCNGAP_ER.Status_layers_2_pooling_mean_dist_40_lr_0.01_graphfeatsize_100_nhiddim1_50_dropout_0.3_weight_decay_0.1_bsize_30.out\n",
      "slurm_GCNGAP_ER.Status_layers_1_pooling_mean_dist_40_lr_0.001_graphfeatsize_100_nhiddim1_150_dropout_0.3_weight_decay_0.01_bsize_10.out\n",
      "slurm_GCNGAP_ER.Status_layers_2_pooling_att_dist_40_lr_0.001_graphfeatsize_150_nhiddim1_150_dropout_0.5_weight_decay_0.1_bsize_20.out\n",
      "slurm_GCNGAP_ER.Status_layers_2_pooling_mean_dist_40_lr_0.001_graphfeatsize_150_nhiddim1_150_dropout_0.5_weight_decay_0.01_bsize_30.out\n",
      "slurm_GCNGAP_ER.Status_layers_1_pooling_mean_dist_40_lr_0.001_graphfeatsize_50_nhiddim1_100_dropout_0.5_weight_decay_0.01_bsize_20.out\n",
      "slurm_GCNGAP_ER.Status_layers_1_pooling_mean_dist_80_lr_0.001_graphfeatsize_150_nhiddim1_150_dropout_0.3_weight_decay_0.01_bsize_20.out\n"
     ]
    },
    {
     "name": "stderr",
     "output_type": "stream",
     "text": [
      "b'Skipping line 476: expected 1 fields, saw 3\\n'\n",
      "b'Skipping line 491: expected 1 fields, saw 3\\n'\n",
      "b'Skipping line 460: expected 1 fields, saw 3\\n'\n",
      "b'Skipping line 624: expected 1 fields, saw 3\\n'\n",
      "b'Skipping line 444: expected 1 fields, saw 3\\n'\n",
      "b'Skipping line 574: expected 1 fields, saw 3\\n'\n",
      "b'Skipping line 447: expected 1 fields, saw 3\\n'\n",
      "b'Skipping line 541: expected 1 fields, saw 3\\n'\n",
      "b'Skipping line 705: expected 1 fields, saw 3\\n'\n",
      "b'Skipping line 674: expected 1 fields, saw 3\\n'\n",
      "b'Skipping line 529: expected 1 fields, saw 3\\n'\n",
      "b'Skipping line 450: expected 1 fields, saw 3\\n'\n"
     ]
    },
    {
     "name": "stdout",
     "output_type": "stream",
     "text": [
      "slurm_GCNGAP_ER.Status_layers_1_pooling_att_dist_40_lr_0.01_graphfeatsize_50_nhiddim1_150_dropout_0.3_weight_decay_0.01_bsize_20.out\n",
      "slurm_GCNGAP_ER.Status_layers_1_pooling_sum_dist_40_lr_0.01_graphfeatsize_150_nhiddim1_50_dropout_0.5_weight_decay_0.001_bsize_10.out\n",
      "slurm_GCNGAP_ER.Status_layers_1_pooling_mean_dist_80_lr_0.01_graphfeatsize_50_nhiddim1_150_dropout_0.5_weight_decay_0.1_bsize_30.out\n",
      "slurm_GCNGAP_ER.Status_layers_1_pooling_att_dist_40_lr_0.001_graphfeatsize_150_nhiddim1_50_dropout_0.5_weight_decay_0.01_bsize_30.out\n",
      "slurm_GCNGAP_ER.Status_layers_2_pooling_mean_dist_40_lr_0.01_graphfeatsize_150_nhiddim1_100_dropout_0.3_weight_decay_0.001_bsize_10.out\n",
      "slurm_GCNGAP_ER.Status_layers_1_pooling_mean_dist_80_lr_0.001_graphfeatsize_50_nhiddim1_150_dropout_0.3_weight_decay_0.1_bsize_20.out\n",
      "slurm_GCNGAP_ER.Status_layers_1_pooling_mean_dist_40_lr_0.01_graphfeatsize_150_nhiddim1_150_dropout_0.5_weight_decay_0.01_bsize_20.out\n",
      "slurm_GCNGAP_ER.Status_layers_1_pooling_mean_dist_80_lr_0.001_graphfeatsize_100_nhiddim1_100_dropout_0.5_weight_decay_0.1_bsize_30.out\n",
      "slurm_GCNGAP_ER.Status_layers_1_pooling_mean_dist_80_lr_0.01_graphfeatsize_150_nhiddim1_50_dropout_0.5_weight_decay_0.1_bsize_10.out\n",
      "slurm_GCNGAP_ER.Status_layers_1_pooling_mean_dist_80_lr_0.01_graphfeatsize_150_nhiddim1_150_dropout_0.3_weight_decay_0.001_bsize_30.out\n",
      "slurm_GCNGAP_ER.Status_layers_2_pooling_sum_dist_40_lr_0.01_graphfeatsize_150_nhiddim1_150_dropout_0.5_weight_decay_0.01_bsize_10.out\n",
      "slurm_GCNGAP_ER.Status_layers_1_pooling_mean_dist_80_lr_0.01_graphfeatsize_100_nhiddim1_50_dropout_0.5_weight_decay_0.01_bsize_30.out\n"
     ]
    },
    {
     "name": "stderr",
     "output_type": "stream",
     "text": [
      "b'Skipping line 444: expected 1 fields, saw 3\\n'\n",
      "b'Skipping line 545: expected 1 fields, saw 3\\n'\n",
      "b'Skipping line 448: expected 1 fields, saw 3\\n'\n",
      "b'Skipping line 469: expected 1 fields, saw 3\\n'\n",
      "b'Skipping line 539: expected 1 fields, saw 3\\n'\n",
      "b'Skipping line 471: expected 1 fields, saw 3\\n'\n",
      "b'Skipping line 444: expected 1 fields, saw 3\\n'\n",
      "b'Skipping line 451: expected 1 fields, saw 3\\n'\n",
      "b'Skipping line 442: expected 1 fields, saw 3\\n'\n",
      "b'Skipping line 646: expected 1 fields, saw 3\\n'\n",
      "b'Skipping line 458: expected 1 fields, saw 3\\n'\n",
      "b'Skipping line 498: expected 1 fields, saw 3\\n'\n"
     ]
    },
    {
     "name": "stdout",
     "output_type": "stream",
     "text": [
      "slurm_GCNGAP_ER.Status_layers_2_pooling_mean_dist_40_lr_0.001_graphfeatsize_150_nhiddim1_50_dropout_0.5_weight_decay_0.1_bsize_30.out\n",
      "slurm_GCNGAP_ER.Status_layers_2_pooling_mean_dist_40_lr_0.01_graphfeatsize_50_nhiddim1_100_dropout_0.5_weight_decay_0.001_bsize_20.out\n",
      "slurm_GCNGAP_ER.Status_layers_2_pooling_sum_dist_40_lr_0.001_graphfeatsize_150_nhiddim1_150_dropout_0.3_weight_decay_0.01_bsize_10.out\n",
      "slurm_GCNGAP_ER.Status_layers_1_pooling_att_dist_40_lr_0.01_graphfeatsize_150_nhiddim1_50_dropout_0.3_weight_decay_0.1_bsize_30.out\n",
      "slurm_GCNGAP_ER.Status_layers_1_pooling_att_dist_40_lr_0.01_graphfeatsize_50_nhiddim1_150_dropout_0.3_weight_decay_0.1_bsize_10.out\n",
      "slurm_GCNGAP_ER.Status_layers_2_pooling_att_dist_40_lr_0.001_graphfeatsize_100_nhiddim1_150_dropout_0.5_weight_decay_0.001_bsize_20.out\n",
      "slurm_GCNGAP_ER.Status_layers_2_pooling_mean_dist_40_lr_0.001_graphfeatsize_50_nhiddim1_150_dropout_0.5_weight_decay_0.1_bsize_10.out\n",
      "slurm_GCNGAP_ER.Status_layers_2_pooling_sum_dist_40_lr_0.001_graphfeatsize_100_nhiddim1_100_dropout_0.3_weight_decay_0.001_bsize_20.out\n",
      "slurm_GCNGAP_ER.Status_layers_2_pooling_sum_dist_40_lr_0.001_graphfeatsize_50_nhiddim1_100_dropout_0.5_weight_decay_0.01_bsize_10.out\n",
      "slurm_GCNGAP_ER.Status_layers_1_pooling_sum_dist_80_lr_0.01_graphfeatsize_150_nhiddim1_50_dropout_0.5_weight_decay_0.1_bsize_20.out\n",
      "not in\n",
      "slurm_GCNGAP_ER.Status_layers_1_pooling_sum_dist_40_lr_0.001_graphfeatsize_100_nhiddim1_50_dropout_0.3_weight_decay_0.001_bsize_30.out\n",
      "slurm_GCNGAP_ER.Status_layers_2_pooling_sum_dist_40_lr_0.01_graphfeatsize_150_nhiddim1_100_dropout_0.5_weight_decay_0.1_bsize_30.out\n",
      "slurm_GCNGAP_ER.Status_layers_2_pooling_mean_dist_40_lr_0.001_graphfeatsize_50_nhiddim1_50_dropout_0.5_weight_decay_0.001_bsize_10.out\n"
     ]
    },
    {
     "name": "stderr",
     "output_type": "stream",
     "text": [
      "b'Skipping line 442: expected 1 fields, saw 3\\n'\n",
      "b'Skipping line 445: expected 1 fields, saw 3\\n'\n",
      "b'Skipping line 444: expected 1 fields, saw 3\\n'\n",
      "b'Skipping line 482: expected 1 fields, saw 3\\n'\n",
      "b'Skipping line 445: expected 1 fields, saw 3\\n'\n",
      "b'Skipping line 362: expected 1 fields, saw 3\\n'\n",
      "b'Skipping line 442: expected 1 fields, saw 3\\n'\n",
      "b'Skipping line 362: expected 1 fields, saw 3\\n'\n",
      "b'Skipping line 442: expected 1 fields, saw 3\\n'\n",
      "b'Skipping line 494: expected 1 fields, saw 3\\n'\n",
      "b'Skipping line 362: expected 1 fields, saw 3\\n'\n",
      "b'Skipping line 443: expected 1 fields, saw 3\\n'\n"
     ]
    },
    {
     "name": "stdout",
     "output_type": "stream",
     "text": [
      "slurm_GCNGAP_ER.Status_layers_1_pooling_sum_dist_40_lr_0.001_graphfeatsize_50_nhiddim1_150_dropout_0.5_weight_decay_0.001_bsize_20.out\n",
      "slurm_GCNGAP_ER.Status_layers_1_pooling_mean_dist_40_lr_0.01_graphfeatsize_50_nhiddim1_100_dropout_0.5_weight_decay_0.1_bsize_10.out\n",
      "slurm_GCNGAP_ER.Status_layers_2_pooling_att_dist_40_lr_0.001_graphfeatsize_100_nhiddim1_150_dropout_0.5_weight_decay_0.01_bsize_20.out\n",
      "slurm_GCNGAP_ER.Status_layers_1_pooling_sum_dist_40_lr_0.001_graphfeatsize_150_nhiddim1_50_dropout_0.3_weight_decay_0.01_bsize_10.out\n",
      "slurm_GCNGAP_ER.Status_layers_1_pooling_mean_dist_40_lr_0.001_graphfeatsize_100_nhiddim1_50_dropout_0.5_weight_decay_0.1_bsize_20.out\n",
      "slurm_GCNGAP_ER.Status_layers_2_pooling_att_dist_40_lr_0.01_graphfeatsize_50_nhiddim1_50_dropout_0.3_weight_decay_0.01_bsize_30.out\n",
      "slurm_GCNGAP_ER.Status_layers_2_pooling_mean_dist_40_lr_0.01_graphfeatsize_100_nhiddim1_100_dropout_0.3_weight_decay_0.001_bsize_10.out\n",
      "slurm_GCNGAP_ER.Status_layers_1_pooling_sum_dist_80_lr_0.01_graphfeatsize_150_nhiddim1_150_dropout_0.5_weight_decay_0.1_bsize_10.out\n",
      "slurm_GCNGAP_ER.Status_layers_1_pooling_att_dist_40_lr_0.001_graphfeatsize_150_nhiddim1_100_dropout_0.3_weight_decay_0.1_bsize_20.out\n",
      "slurm_GCNGAP_ER.Status_layers_1_pooling_sum_dist_80_lr_0.001_graphfeatsize_50_nhiddim1_100_dropout_0.3_weight_decay_0.001_bsize_10.out\n",
      "slurm_GCNGAP_ER.Status_layers_1_pooling_sum_dist_40_lr_0.001_graphfeatsize_150_nhiddim1_100_dropout_0.5_weight_decay_0.001_bsize_30.out\n",
      "slurm_GCNGAP_ER.Status_layers_2_pooling_mean_dist_40_lr_0.01_graphfeatsize_50_nhiddim1_150_dropout_0.5_weight_decay_0.01_bsize_20.out\n"
     ]
    },
    {
     "name": "stderr",
     "output_type": "stream",
     "text": [
      "b'Skipping line 549: expected 1 fields, saw 3\\n'\n",
      "b'Skipping line 442: expected 1 fields, saw 3\\n'\n",
      "b'Skipping line 496: expected 1 fields, saw 3\\n'\n",
      "b'Skipping line 583: expected 1 fields, saw 3\\n'\n",
      "b'Skipping line 451: expected 1 fields, saw 3\\n'\n",
      "b'Skipping line 527: expected 1 fields, saw 3\\n'\n",
      "b'Skipping line 467: expected 1 fields, saw 3\\n'\n",
      "b'Skipping line 365: expected 1 fields, saw 3\\n'\n",
      "b'Skipping line 442: expected 1 fields, saw 3\\n'\n",
      "b'Skipping line 604: expected 1 fields, saw 3\\n'\n",
      "b'Skipping line 480: expected 1 fields, saw 3\\n'\n",
      "b'Skipping line 442: expected 1 fields, saw 3\\n'\n"
     ]
    },
    {
     "name": "stdout",
     "output_type": "stream",
     "text": [
      "slurm_GCNGAP_ER.Status_layers_1_pooling_att_dist_40_lr_0.001_graphfeatsize_150_nhiddim1_150_dropout_0.3_weight_decay_0.001_bsize_30.out\n",
      "slurm_GCNGAP_ER.Status_layers_1_pooling_sum_dist_80_lr_0.001_graphfeatsize_150_nhiddim1_50_dropout_0.3_weight_decay_0.01_bsize_10.out\n",
      "slurm_GCNGAP_ER.Status_layers_1_pooling_sum_dist_40_lr_0.01_graphfeatsize_150_nhiddim1_100_dropout_0.5_weight_decay_0.1_bsize_20.out\n",
      "slurm_GCNGAP_ER.Status_layers_2_pooling_mean_dist_40_lr_0.01_graphfeatsize_100_nhiddim1_100_dropout_0.5_weight_decay_0.1_bsize_10.out\n",
      "slurm_GCNGAP_ER.Status_layers_2_pooling_sum_dist_40_lr_0.001_graphfeatsize_150_nhiddim1_100_dropout_0.3_weight_decay_0.01_bsize_30.out\n",
      "slurm_GCNGAP_ER.Status_layers_2_pooling_mean_dist_40_lr_0.01_graphfeatsize_150_nhiddim1_50_dropout_0.5_weight_decay_0.001_bsize_30.out\n",
      "slurm_GCNGAP_ER.Status_layers_1_pooling_sum_dist_80_lr_0.01_graphfeatsize_50_nhiddim1_50_dropout_0.5_weight_decay_0.1_bsize_20.out\n",
      "slurm_GCNGAP_ER.Status_layers_2_pooling_sum_dist_40_lr_0.01_graphfeatsize_150_nhiddim1_100_dropout_0.5_weight_decay_0.01_bsize_30.out\n",
      "slurm_GCNGAP_ER.Status_layers_2_pooling_mean_dist_40_lr_0.001_graphfeatsize_100_nhiddim1_150_dropout_0.3_weight_decay_0.1_bsize_20.out\n"
     ]
    },
    {
     "name": "stderr",
     "output_type": "stream",
     "text": [
      "b'Skipping line 530: expected 1 fields, saw 3\\n'\n",
      "b'Skipping line 534: expected 1 fields, saw 3\\n'\n",
      "b'Skipping line 481: expected 1 fields, saw 3\\n'\n",
      "b'Skipping line 458: expected 1 fields, saw 3\\n'\n",
      "b'Skipping line 520: expected 1 fields, saw 3\\n'\n",
      "b'Skipping line 442: expected 1 fields, saw 3\\n'\n",
      "b'Skipping line 450: expected 1 fields, saw 3\\n'\n",
      "b'Skipping line 492: expected 1 fields, saw 3\\n'\n",
      "b'Skipping line 445: expected 1 fields, saw 3\\n'\n"
     ]
    },
    {
     "name": "stdout",
     "output_type": "stream",
     "text": [
      "slurm_GCNGAP_ER.Status_layers_2_pooling_sum_dist_40_lr_0.001_graphfeatsize_50_nhiddim1_150_dropout_0.5_weight_decay_0.01_bsize_30.out\n",
      "slurm_GCNGAP_ER.Status_layers_1_pooling_sum_dist_40_lr_0.01_graphfeatsize_100_nhiddim1_50_dropout_0.3_weight_decay_0.1_bsize_10.out\n",
      "slurm_GCNGAP_ER.Status_layers_1_pooling_sum_dist_80_lr_0.01_graphfeatsize_150_nhiddim1_50_dropout_0.5_weight_decay_0.001_bsize_10.out\n",
      "slurm_GCNGAP_ER.Status_layers_1_pooling_mean_dist_80_lr_0.001_graphfeatsize_50_nhiddim1_100_dropout_0.5_weight_decay_0.01_bsize_20.out\n",
      "slurm_GCNGAP_ER.Status_layers_1_pooling_att_dist_40_lr_0.01_graphfeatsize_50_nhiddim1_150_dropout_0.5_weight_decay_0.001_bsize_10.out\n",
      "slurm_GCNGAP_ER.Status_layers_1_pooling_mean_dist_40_lr_0.001_graphfeatsize_50_nhiddim1_100_dropout_0.3_weight_decay_0.1_bsize_10.out\n",
      "slurm_GCNGAP_ER.Status_layers_1_pooling_att_dist_40_lr_0.001_graphfeatsize_50_nhiddim1_150_dropout_0.3_weight_decay_0.001_bsize_20.out\n",
      "slurm_GCNGAP_ER.Status_layers_1_pooling_sum_dist_40_lr_0.001_graphfeatsize_50_nhiddim1_50_dropout_0.5_weight_decay_0.001_bsize_30.out\n",
      "slurm_GCNGAP_ER.Status_layers_1_pooling_sum_dist_40_lr_0.001_graphfeatsize_100_nhiddim1_100_dropout_0.5_weight_decay_0.001_bsize_30.out\n",
      "slurm_GCNGAP_ER.Status_layers_1_pooling_mean_dist_80_lr_0.01_graphfeatsize_150_nhiddim1_150_dropout_0.5_weight_decay_0.01_bsize_20.out\n",
      "slurm_GCNGAP_ER.Status_layers_1_pooling_mean_dist_40_lr_0.001_graphfeatsize_100_nhiddim1_100_dropout_0.5_weight_decay_0.1_bsize_30.out\n",
      "slurm_GCNGAP_ER.Status_layers_1_pooling_att_dist_40_lr_0.001_graphfeatsize_100_nhiddim1_150_dropout_0.3_weight_decay_0.001_bsize_30.out\n"
     ]
    },
    {
     "name": "stderr",
     "output_type": "stream",
     "text": [
      "b'Skipping line 442: expected 1 fields, saw 3\\n'\n",
      "b'Skipping line 709: expected 1 fields, saw 3\\n'\n",
      "b'Skipping line 459: expected 1 fields, saw 3\\n'\n",
      "b'Skipping line 463: expected 1 fields, saw 3\\n'\n",
      "b'Skipping line 477: expected 1 fields, saw 3\\n'\n",
      "b'Skipping line 491: expected 1 fields, saw 3\\n'\n",
      "b'Skipping line 442: expected 1 fields, saw 3\\n'\n",
      "b'Skipping line 608: expected 1 fields, saw 3\\n'\n",
      "b'Skipping line 486: expected 1 fields, saw 3\\n'\n",
      "b'Skipping line 488: expected 1 fields, saw 3\\n'\n",
      "b'Skipping line 444: expected 1 fields, saw 3\\n'\n",
      "b'Skipping line 442: expected 1 fields, saw 3\\n'\n"
     ]
    },
    {
     "name": "stdout",
     "output_type": "stream",
     "text": [
      "slurm_GCNGAP_ER.Status_layers_1_pooling_mean_dist_40_lr_0.01_graphfeatsize_100_nhiddim1_50_dropout_0.3_weight_decay_0.1_bsize_20.out\n",
      "slurm_GCNGAP_ER.Status_layers_1_pooling_att_dist_40_lr_0.01_graphfeatsize_150_nhiddim1_150_dropout_0.5_weight_decay_0.1_bsize_10.out\n",
      "slurm_GCNGAP_ER.Status_layers_1_pooling_mean_dist_80_lr_0.01_graphfeatsize_100_nhiddim1_100_dropout_0.3_weight_decay_0.1_bsize_20.out\n",
      "slurm_GCNGAP_ER.Status_layers_2_pooling_att_dist_40_lr_0.001_graphfeatsize_50_nhiddim1_150_dropout_0.3_weight_decay_0.01_bsize_10.out\n",
      "slurm_GCNGAP_ER.Status_layers_1_pooling_mean_dist_40_lr_0.01_graphfeatsize_50_nhiddim1_50_dropout_0.5_weight_decay_0.001_bsize_20.out\n",
      "slurm_GCNGAP_ER.Status_layers_2_pooling_att_dist_40_lr_0.01_graphfeatsize_50_nhiddim1_150_dropout_0.3_weight_decay_0.01_bsize_30.out\n",
      "slurm_GCNGAP_ER.Status_layers_1_pooling_att_dist_40_lr_0.001_graphfeatsize_100_nhiddim1_50_dropout_0.5_weight_decay_0.001_bsize_30.out\n",
      "slurm_GCNGAP_ER.Status_layers_2_pooling_att_dist_40_lr_0.01_graphfeatsize_150_nhiddim1_100_dropout_0.3_weight_decay_0.01_bsize_10.out\n",
      "slurm_GCNGAP_ER.Status_layers_2_pooling_mean_dist_40_lr_0.001_graphfeatsize_150_nhiddim1_50_dropout_0.3_weight_decay_0.01_bsize_30.out\n",
      "slurm_GCNGAP_ER.Status_layers_1_pooling_mean_dist_40_lr_0.001_graphfeatsize_100_nhiddim1_100_dropout_0.3_weight_decay_0.01_bsize_30.out\n",
      "slurm_GCNGAP_ER.Status_layers_2_pooling_mean_dist_40_lr_0.001_graphfeatsize_150_nhiddim1_100_dropout_0.5_weight_decay_0.01_bsize_10.out\n"
     ]
    },
    {
     "name": "stderr",
     "output_type": "stream",
     "text": [
      "b'Skipping line 446: expected 1 fields, saw 3\\n'\n",
      "b'Skipping line 584: expected 1 fields, saw 3\\n'\n",
      "b'Skipping line 493: expected 1 fields, saw 3\\n'\n",
      "b'Skipping line 541: expected 1 fields, saw 3\\n'\n",
      "b'Skipping line 525: expected 1 fields, saw 3\\n'\n",
      "b'Skipping line 629: expected 1 fields, saw 3\\n'\n",
      "b'Skipping line 587: expected 1 fields, saw 3\\n'\n",
      "b'Skipping line 698: expected 1 fields, saw 3\\n'\n",
      "b'Skipping line 547: expected 1 fields, saw 3\\n'\n",
      "b'Skipping line 583: expected 1 fields, saw 3\\n'\n",
      "b'Skipping line 444: expected 1 fields, saw 3\\n'\n"
     ]
    },
    {
     "name": "stdout",
     "output_type": "stream",
     "text": [
      "slurm_GCNGAP_ER.Status_layers_1_pooling_mean_dist_40_lr_0.001_graphfeatsize_100_nhiddim1_50_dropout_0.3_weight_decay_0.001_bsize_30.out\n",
      "slurm_GCNGAP_ER.Status_layers_1_pooling_mean_dist_80_lr_0.01_graphfeatsize_150_nhiddim1_50_dropout_0.3_weight_decay_0.1_bsize_10.out\n",
      "slurm_GCNGAP_ER.Status_layers_2_pooling_att_dist_40_lr_0.001_graphfeatsize_50_nhiddim1_100_dropout_0.5_weight_decay_0.001_bsize_20.out\n",
      "slurm_GCNGAP_ER.Status_layers_2_pooling_att_dist_40_lr_0.01_graphfeatsize_150_nhiddim1_50_dropout_0.3_weight_decay_0.001_bsize_10.out\n",
      "slurm_GCNGAP_ER.Status_layers_1_pooling_mean_dist_80_lr_0.001_graphfeatsize_100_nhiddim1_100_dropout_0.3_weight_decay_0.1_bsize_30.out\n",
      "slurm_GCNGAP_ER.Status_layers_1_pooling_sum_dist_40_lr_0.01_graphfeatsize_150_nhiddim1_50_dropout_0.5_weight_decay_0.01_bsize_30.out\n",
      "slurm_GCNGAP_ER.Status_layers_1_pooling_mean_dist_80_lr_0.001_graphfeatsize_50_nhiddim1_150_dropout_0.5_weight_decay_0.1_bsize_20.out\n",
      "slurm_GCNGAP_ER.Status_layers_1_pooling_mean_dist_40_lr_0.001_graphfeatsize_100_nhiddim1_150_dropout_0.3_weight_decay_0.001_bsize_10.out\n",
      "slurm_GCNGAP_ER.Status_layers_1_pooling_mean_dist_80_lr_0.01_graphfeatsize_50_nhiddim1_150_dropout_0.3_weight_decay_0.1_bsize_30.out\n",
      "slurm_GCNGAP_ER.Status_layers_2_pooling_mean_dist_40_lr_0.01_graphfeatsize_100_nhiddim1_50_dropout_0.5_weight_decay_0.1_bsize_30.out\n",
      "slurm_GCNGAP_ER.Status_layers_2_pooling_att_dist_40_lr_0.001_graphfeatsize_150_nhiddim1_150_dropout_0.3_weight_decay_0.1_bsize_20.out\n",
      "slurm_GCNGAP_ER.Status_layers_2_pooling_mean_dist_40_lr_0.001_graphfeatsize_150_nhiddim1_100_dropout_0.5_weight_decay_0.001_bsize_10.out\n"
     ]
    },
    {
     "name": "stderr",
     "output_type": "stream",
     "text": [
      "b'Skipping line 479: expected 1 fields, saw 3\\n'\n",
      "b'Skipping line 452: expected 1 fields, saw 3\\n'\n",
      "b'Skipping line 499: expected 1 fields, saw 3\\n'\n",
      "b'Skipping line 444: expected 1 fields, saw 3\\n'\n",
      "b'Skipping line 466: expected 1 fields, saw 3\\n'\n",
      "b'Skipping line 491: expected 1 fields, saw 3\\n'\n",
      "b'Skipping line 444: expected 1 fields, saw 3\\n'\n",
      "b'Skipping line 443: expected 1 fields, saw 3\\n'\n",
      "b'Skipping line 448: expected 1 fields, saw 3\\n'\n",
      "b'Skipping line 471: expected 1 fields, saw 3\\n'\n",
      "b'Skipping line 442: expected 1 fields, saw 3\\n'\n",
      "b'Skipping line 688: expected 1 fields, saw 3\\n'\n"
     ]
    },
    {
     "name": "stdout",
     "output_type": "stream",
     "text": [
      "slurm_GCNGAP_ER.Status_layers_1_pooling_sum_dist_40_lr_0.001_graphfeatsize_50_nhiddim1_50_dropout_0.3_weight_decay_0.01_bsize_30.out\n",
      "slurm_GCNGAP_ER.Status_layers_1_pooling_mean_dist_80_lr_0.01_graphfeatsize_50_nhiddim1_100_dropout_0.5_weight_decay_0.01_bsize_30.out\n",
      "slurm_GCNGAP_ER.Status_layers_1_pooling_sum_dist_40_lr_0.01_graphfeatsize_50_nhiddim1_100_dropout_0.3_weight_decay_0.1_bsize_20.out\n",
      "slurm_GCNGAP_ER.Status_layers_1_pooling_mean_dist_40_lr_0.001_graphfeatsize_50_nhiddim1_150_dropout_0.5_weight_decay_0.001_bsize_20.out\n",
      "slurm_GCNGAP_ER.Status_layers_2_pooling_mean_dist_40_lr_0.01_graphfeatsize_50_nhiddim1_50_dropout_0.5_weight_decay_0.01_bsize_10.out\n",
      "slurm_GCNGAP_ER.Status_layers_2_pooling_sum_dist_40_lr_0.001_graphfeatsize_100_nhiddim1_50_dropout_0.5_weight_decay_0.01_bsize_10.out\n",
      "slurm_GCNGAP_ER.Status_layers_1_pooling_mean_dist_40_lr_0.01_graphfeatsize_100_nhiddim1_150_dropout_0.5_weight_decay_0.1_bsize_10.out\n",
      "slurm_GCNGAP_ER.Status_layers_2_pooling_mean_dist_40_lr_0.01_graphfeatsize_100_nhiddim1_150_dropout_0.5_weight_decay_0.01_bsize_20.out\n",
      "slurm_GCNGAP_ER.Status_layers_1_pooling_sum_dist_40_lr_0.001_graphfeatsize_100_nhiddim1_150_dropout_0.3_weight_decay_0.01_bsize_10.out\n",
      "slurm_GCNGAP_ER.Status_layers_1_pooling_mean_dist_40_lr_0.001_graphfeatsize_100_nhiddim1_50_dropout_0.3_weight_decay_0.1_bsize_20.out\n",
      "slurm_GCNGAP_ER.Status_layers_1_pooling_mean_dist_80_lr_0.01_graphfeatsize_100_nhiddim1_50_dropout_0.5_weight_decay_0.001_bsize_30.out\n",
      "slurm_GCNGAP_ER.Status_layers_1_pooling_mean_dist_40_lr_0.001_graphfeatsize_100_nhiddim1_50_dropout_0.5_weight_decay_0.01_bsize_20.out\n",
      "slurm_GCNGAP_ER.Status_layers_1_pooling_sum_dist_80_lr_0.01_graphfeatsize_150_nhiddim1_150_dropout_0.3_weight_decay_0.1_bsize_10.out\n"
     ]
    },
    {
     "name": "stderr",
     "output_type": "stream",
     "text": [
      "b'Skipping line 495: expected 1 fields, saw 3\\n'\n",
      "b'Skipping line 504: expected 1 fields, saw 3\\n'\n",
      "b'Skipping line 669: expected 1 fields, saw 3\\n'\n",
      "b'Skipping line 461: expected 1 fields, saw 3\\n'\n",
      "b'Skipping line 443: expected 1 fields, saw 3\\n'\n",
      "b'Skipping line 534: expected 1 fields, saw 3\\n'\n",
      "b'Skipping line 442: expected 1 fields, saw 3\\n'\n",
      "b'Skipping line 484: expected 1 fields, saw 3\\n'\n",
      "b'Skipping line 452: expected 1 fields, saw 3\\n'\n",
      "b'Skipping line 681: expected 1 fields, saw 3\\n'\n",
      "b'Skipping line 499: expected 1 fields, saw 3\\n'\n",
      "b'Skipping line 467: expected 1 fields, saw 3\\n'\n",
      "b'Skipping line 476: expected 1 fields, saw 3\\n'\n",
      "b'Skipping line 450: expected 1 fields, saw 3\\n'\n"
     ]
    },
    {
     "name": "stdout",
     "output_type": "stream",
     "text": [
      "slurm_GCNGAP_ER.Status_layers_1_pooling_mean_dist_40_lr_0.001_graphfeatsize_150_nhiddim1_150_dropout_0.3_weight_decay_0.001_bsize_10.out\n",
      "slurm_GCNGAP_ER.Status_layers_2_pooling_sum_dist_40_lr_0.001_graphfeatsize_150_nhiddim1_50_dropout_0.3_weight_decay_0.001_bsize_30.out\n",
      "slurm_GCNGAP_ER.Status_layers_1_pooling_sum_dist_40_lr_0.01_graphfeatsize_100_nhiddim1_100_dropout_0.5_weight_decay_0.01_bsize_20.out\n",
      "slurm_GCNGAP_ER.Status_layers_1_pooling_mean_dist_40_lr_0.01_graphfeatsize_50_nhiddim1_100_dropout_0.3_weight_decay_0.1_bsize_10.out\n",
      "slurm_GCNGAP_ER.Status_layers_2_pooling_att_dist_40_lr_0.001_graphfeatsize_100_nhiddim1_50_dropout_0.3_weight_decay_0.01_bsize_30.out\n",
      "slurm_GCNGAP_ER.Status_layers_1_pooling_sum_dist_80_lr_0.01_graphfeatsize_150_nhiddim1_50_dropout_0.3_weight_decay_0.1_bsize_20.out\n",
      "slurm_GCNGAP_ER.Status_layers_2_pooling_sum_dist_40_lr_0.01_graphfeatsize_150_nhiddim1_100_dropout_0.3_weight_decay_0.1_bsize_30.out\n",
      "slurm_GCNGAP_ER.Status_layers_2_pooling_att_dist_40_lr_0.01_graphfeatsize_100_nhiddim1_50_dropout_0.3_weight_decay_0.01_bsize_10.out\n",
      "slurm_GCNGAP_ER.Status_layers_1_pooling_att_dist_40_lr_0.01_graphfeatsize_50_nhiddim1_150_dropout_0.5_weight_decay_0.1_bsize_10.out\n",
      "slurm_GCNGAP_ER.Status_layers_2_pooling_mean_dist_40_lr_0.001_graphfeatsize_50_nhiddim1_150_dropout_0.3_weight_decay_0.1_bsize_10.out\n",
      "slurm_GCNGAP_ER.Status_layers_2_pooling_mean_dist_40_lr_0.001_graphfeatsize_150_nhiddim1_50_dropout_0.3_weight_decay_0.1_bsize_30.out\n",
      "slurm_GCNGAP_ER.Status_layers_1_pooling_att_dist_40_lr_0.01_graphfeatsize_150_nhiddim1_50_dropout_0.5_weight_decay_0.1_bsize_30.out\n",
      "slurm_GCNGAP_ER.Status_layers_2_pooling_mean_dist_40_lr_0.001_graphfeatsize_100_nhiddim1_100_dropout_0.5_weight_decay_0.001_bsize_10.out\n"
     ]
    },
    {
     "name": "stderr",
     "output_type": "stream",
     "text": [
      "b'Skipping line 443: expected 1 fields, saw 3\\n'\n",
      "b'Skipping line 613: expected 1 fields, saw 3\\n'\n",
      "b'Skipping line 502: expected 1 fields, saw 3\\n'\n",
      "b'Skipping line 537: expected 1 fields, saw 3\\n'\n",
      "b'Skipping line 635: expected 1 fields, saw 3\\n'\n",
      "b'Skipping line 443: expected 1 fields, saw 3\\n'\n",
      "b'Skipping line 445: expected 1 fields, saw 3\\n'\n",
      "b'Skipping line 458: expected 1 fields, saw 3\\n'\n",
      "b'Skipping line 450: expected 1 fields, saw 3\\n'\n",
      "b'Skipping line 461: expected 1 fields, saw 3\\n'\n",
      "b'Skipping line 485: expected 1 fields, saw 3\\n'\n",
      "b'Skipping line 509: expected 1 fields, saw 3\\n'\n"
     ]
    },
    {
     "name": "stdout",
     "output_type": "stream",
     "text": [
      "slurm_GCNGAP_ER.Status_layers_1_pooling_mean_dist_80_lr_0.01_graphfeatsize_50_nhiddim1_150_dropout_0.3_weight_decay_0.001_bsize_20.out\n",
      "slurm_GCNGAP_ER.Status_layers_1_pooling_att_dist_40_lr_0.001_graphfeatsize_150_nhiddim1_150_dropout_0.5_weight_decay_0.01_bsize_20.out\n",
      "slurm_GCNGAP_ER.Status_layers_2_pooling_mean_dist_40_lr_0.001_graphfeatsize_100_nhiddim1_150_dropout_0.5_weight_decay_0.1_bsize_20.out\n",
      "slurm_GCNGAP_ER.Status_layers_1_pooling_sum_dist_40_lr_0.01_graphfeatsize_100_nhiddim1_50_dropout_0.5_weight_decay_0.1_bsize_10.out\n",
      "slurm_GCNGAP_ER.Status_layers_2_pooling_mean_dist_40_lr_0.001_graphfeatsize_100_nhiddim1_50_dropout_0.5_weight_decay_0.001_bsize_20.out\n",
      "slurm_GCNGAP_ER.Status_layers_1_pooling_sum_dist_80_lr_0.01_graphfeatsize_50_nhiddim1_50_dropout_0.3_weight_decay_0.1_bsize_20.out\n",
      "slurm_GCNGAP_ER.Status_layers_1_pooling_mean_dist_40_lr_0.01_graphfeatsize_50_nhiddim1_150_dropout_0.3_weight_decay_0.001_bsize_20.out\n",
      "slurm_GCNGAP_ER.Status_layers_1_pooling_sum_dist_40_lr_0.01_graphfeatsize_50_nhiddim1_50_dropout_0.5_weight_decay_0.01_bsize_30.out\n",
      "slurm_GCNGAP_ER.Status_layers_1_pooling_sum_dist_40_lr_0.01_graphfeatsize_150_nhiddim1_100_dropout_0.3_weight_decay_0.1_bsize_20.out\n",
      "slurm_GCNGAP_ER.Status_layers_2_pooling_mean_dist_40_lr_0.01_graphfeatsize_100_nhiddim1_100_dropout_0.3_weight_decay_0.1_bsize_10.out\n",
      "slurm_GCNGAP_ER.Status_layers_1_pooling_mean_dist_80_lr_0.001_graphfeatsize_100_nhiddim1_50_dropout_0.5_weight_decay_0.01_bsize_20.out\n",
      "slurm_GCNGAP_ER.Status_layers_1_pooling_mean_dist_40_lr_0.01_graphfeatsize_100_nhiddim1_50_dropout_0.5_weight_decay_0.001_bsize_30.out\n"
     ]
    },
    {
     "name": "stderr",
     "output_type": "stream",
     "text": [
      "b'Skipping line 448: expected 1 fields, saw 3\\n'\n",
      "b'Skipping line 736: expected 1 fields, saw 3\\n'\n",
      "b'Skipping line 488: expected 1 fields, saw 3\\n'\n",
      "b'Skipping line 545: expected 1 fields, saw 3\\n'\n",
      "b'Skipping line 457: expected 1 fields, saw 3\\n'\n",
      "b'Skipping line 528: expected 1 fields, saw 3\\n'\n",
      "b'Skipping line 445: expected 1 fields, saw 3\\n'\n",
      "b'Skipping line 488: expected 1 fields, saw 3\\n'\n",
      "b'Skipping line 692: expected 1 fields, saw 3\\n'\n",
      "b'Skipping line 476: expected 1 fields, saw 3\\n'\n",
      "b'Skipping line 442: expected 1 fields, saw 3\\n'\n",
      "b'Skipping line 442: expected 1 fields, saw 3\\n'\n"
     ]
    },
    {
     "name": "stdout",
     "output_type": "stream",
     "text": [
      "slurm_GCNGAP_ER.Status_layers_1_pooling_sum_dist_40_lr_0.001_graphfeatsize_100_nhiddim1_100_dropout_0.3_weight_decay_0.01_bsize_30.out\n",
      "slurm_GCNGAP_ER.Status_layers_2_pooling_sum_dist_40_lr_0.001_graphfeatsize_50_nhiddim1_100_dropout_0.3_weight_decay_0.001_bsize_20.out\n",
      "slurm_GCNGAP_ER.Status_layers_2_pooling_mean_dist_40_lr_0.001_graphfeatsize_50_nhiddim1_150_dropout_0.3_weight_decay_0.001_bsize_30.out\n",
      "slurm_GCNGAP_ER.Status_layers_1_pooling_att_dist_40_lr_0.001_graphfeatsize_150_nhiddim1_100_dropout_0.5_weight_decay_0.1_bsize_20.out\n",
      "slurm_GCNGAP_ER.Status_layers_1_pooling_mean_dist_80_lr_0.01_graphfeatsize_50_nhiddim1_150_dropout_0.5_weight_decay_0.01_bsize_10.out\n",
      "slurm_GCNGAP_ER.Status_layers_2_pooling_sum_dist_40_lr_0.01_graphfeatsize_150_nhiddim1_50_dropout_0.5_weight_decay_0.01_bsize_20.out\n",
      "slurm_GCNGAP_ER.Status_layers_1_pooling_mean_dist_80_lr_0.01_graphfeatsize_100_nhiddim1_100_dropout_0.5_weight_decay_0.1_bsize_20.out\n",
      "slurm_GCNGAP_ER.Status_layers_1_pooling_mean_dist_80_lr_0.001_graphfeatsize_50_nhiddim1_100_dropout_0.3_weight_decay_0.001_bsize_10.out\n",
      "slurm_GCNGAP_ER.Status_layers_1_pooling_mean_dist_40_lr_0.01_graphfeatsize_100_nhiddim1_50_dropout_0.5_weight_decay_0.1_bsize_20.out\n",
      "slurm_GCNGAP_ER.Status_layers_1_pooling_att_dist_40_lr_0.01_graphfeatsize_150_nhiddim1_150_dropout_0.3_weight_decay_0.1_bsize_10.out\n",
      "slurm_GCNGAP_ER.Status_layers_2_pooling_att_dist_40_lr_0.001_graphfeatsize_150_nhiddim1_50_dropout_0.5_weight_decay_0.001_bsize_30.out\n",
      "slurm_GCNGAP_ER.Status_layers_2_pooling_sum_dist_40_lr_0.01_graphfeatsize_50_nhiddim1_150_dropout_0.3_weight_decay_0.001_bsize_10.out\n"
     ]
    },
    {
     "name": "stderr",
     "output_type": "stream",
     "text": [
      "b'Skipping line 496: expected 1 fields, saw 3\\n'\n",
      "b'Skipping line 476: expected 1 fields, saw 3\\n'\n",
      "b'Skipping line 546: expected 1 fields, saw 3\\n'\n",
      "b'Skipping line 554: expected 1 fields, saw 3\\n'\n",
      "b'Skipping line 443: expected 1 fields, saw 3\\n'\n",
      "b'Skipping line 493: expected 1 fields, saw 3\\n'\n",
      "b'Skipping line 450: expected 1 fields, saw 3\\n'\n",
      "b'Skipping line 444: expected 1 fields, saw 3\\n'\n",
      "b'Skipping line 475: expected 1 fields, saw 3\\n'\n",
      "b'Skipping line 455: expected 1 fields, saw 3\\n'\n",
      "b'Skipping line 492: expected 1 fields, saw 3\\n'\n",
      "b'Skipping line 570: expected 1 fields, saw 3\\n'\n"
     ]
    },
    {
     "name": "stdout",
     "output_type": "stream",
     "text": [
      "slurm_GCNGAP_ER.Status_layers_2_pooling_sum_dist_40_lr_0.001_graphfeatsize_50_nhiddim1_50_dropout_0.3_weight_decay_0.01_bsize_20.out\n",
      "slurm_GCNGAP_ER.Status_layers_1_pooling_att_dist_40_lr_0.01_graphfeatsize_100_nhiddim1_150_dropout_0.3_weight_decay_0.01_bsize_20.out\n",
      "slurm_GCNGAP_ER.Status_layers_1_pooling_mean_dist_40_lr_0.001_graphfeatsize_100_nhiddim1_100_dropout_0.3_weight_decay_0.1_bsize_30.out\n",
      "slurm_GCNGAP_ER.Status_layers_1_pooling_mean_dist_40_lr_0.001_graphfeatsize_50_nhiddim1_100_dropout_0.5_weight_decay_0.1_bsize_10.out\n",
      "slurm_GCNGAP_ER.Status_layers_2_pooling_att_dist_40_lr_0.01_graphfeatsize_50_nhiddim1_50_dropout_0.3_weight_decay_0.001_bsize_10.out\n",
      "slurm_GCNGAP_ER.Status_layers_2_pooling_att_dist_40_lr_0.001_graphfeatsize_50_nhiddim1_50_dropout_0.3_weight_decay_0.001_bsize_30.out\n",
      "slurm_GCNGAP_ER.Status_layers_1_pooling_mean_dist_40_lr_0.001_graphfeatsize_150_nhiddim1_150_dropout_0.5_weight_decay_0.1_bsize_10.out\n",
      "slurm_GCNGAP_ER.Status_layers_2_pooling_att_dist_40_lr_0.001_graphfeatsize_50_nhiddim1_150_dropout_0.5_weight_decay_0.1_bsize_20.out\n",
      "slurm_GCNGAP_ER.Status_layers_1_pooling_sum_dist_40_lr_0.001_graphfeatsize_50_nhiddim1_100_dropout_0.5_weight_decay_0.001_bsize_30.out\n",
      "slurm_GCNGAP_ER.Status_layers_1_pooling_mean_dist_40_lr_0.001_graphfeatsize_50_nhiddim1_50_dropout_0.5_weight_decay_0.1_bsize_10.out\n",
      "slurm_GCNGAP_ER.Status_layers_1_pooling_att_dist_40_lr_0.01_graphfeatsize_100_nhiddim1_100_dropout_0.5_weight_decay_0.1_bsize_30.out\n"
     ]
    },
    {
     "name": "stderr",
     "output_type": "stream",
     "text": [
      "b'Skipping line 489: expected 1 fields, saw 3\\n'\n",
      "b'Skipping line 461: expected 1 fields, saw 3\\n'\n",
      "b'Skipping line 498: expected 1 fields, saw 3\\n'\n",
      "b'Skipping line 486: expected 1 fields, saw 3\\n'\n",
      "b'Skipping line 457: expected 1 fields, saw 3\\n'\n",
      "b'Skipping line 451: expected 1 fields, saw 3\\n'\n",
      "b'Skipping line 496: expected 1 fields, saw 3\\n'\n",
      "b'Skipping line 468: expected 1 fields, saw 3\\n'\n",
      "b'Skipping line 444: expected 1 fields, saw 3\\n'\n",
      "b'Skipping line 644: expected 1 fields, saw 3\\n'\n",
      "b'Skipping line 362: expected 1 fields, saw 3\\n'\n"
     ]
    },
    {
     "name": "stdout",
     "output_type": "stream",
     "text": [
      "slurm_GCNGAP_ER.Status_layers_1_pooling_mean_dist_80_lr_0.01_graphfeatsize_150_nhiddim1_100_dropout_0.3_weight_decay_0.01_bsize_20.out\n",
      "slurm_GCNGAP_ER.Status_layers_2_pooling_sum_dist_40_lr_0.01_graphfeatsize_100_nhiddim1_100_dropout_0.3_weight_decay_0.001_bsize_10.out\n",
      "slurm_GCNGAP_ER.Status_layers_1_pooling_att_dist_40_lr_0.001_graphfeatsize_150_nhiddim1_50_dropout_0.3_weight_decay_0.01_bsize_10.out\n",
      "slurm_GCNGAP_ER.Status_layers_2_pooling_mean_dist_40_lr_0.01_graphfeatsize_100_nhiddim1_50_dropout_0.3_weight_decay_0.001_bsize_20.out\n",
      "slurm_GCNGAP_ER.Status_layers_1_pooling_mean_dist_80_lr_0.001_graphfeatsize_50_nhiddim1_150_dropout_0.3_weight_decay_0.01_bsize_20.out\n",
      "slurm_GCNGAP_ER.Status_layers_1_pooling_mean_dist_40_lr_0.001_graphfeatsize_100_nhiddim1_150_dropout_0.5_weight_decay_0.01_bsize_30.out\n",
      "slurm_GCNGAP_ER.Status_layers_2_pooling_mean_dist_40_lr_0.001_graphfeatsize_150_nhiddim1_150_dropout_0.3_weight_decay_0.01_bsize_10.out\n",
      "slurm_GCNGAP_ER.Status_layers_2_pooling_mean_dist_40_lr_0.01_graphfeatsize_50_nhiddim1_150_dropout_0.5_weight_decay_0.001_bsize_30.out\n",
      "slurm_GCNGAP_ER.Status_layers_2_pooling_att_dist_40_lr_0.01_graphfeatsize_150_nhiddim1_150_dropout_0.5_weight_decay_0.01_bsize_10.out\n",
      "slurm_GCNGAP_ER.Status_layers_1_pooling_mean_dist_80_lr_0.01_graphfeatsize_150_nhiddim1_100_dropout_0.3_weight_decay_0.001_bsize_20.out\n",
      "slurm_GCNGAP_ER.Status_layers_2_pooling_sum_dist_40_lr_0.001_graphfeatsize_100_nhiddim1_150_dropout_0.3_weight_decay_0.001_bsize_30.out\n"
     ]
    },
    {
     "name": "stderr",
     "output_type": "stream",
     "text": [
      "b'Skipping line 550: expected 1 fields, saw 3\\n'\n",
      "b'Skipping line 455: expected 1 fields, saw 3\\n'\n",
      "b'Skipping line 694: expected 1 fields, saw 3\\n'\n",
      "b'Skipping line 682: expected 1 fields, saw 3\\n'\n",
      "b'Skipping line 539: expected 1 fields, saw 3\\n'\n",
      "b'Skipping line 608: expected 1 fields, saw 3\\n'\n",
      "b'Skipping line 569: expected 1 fields, saw 3\\n'\n",
      "b'Skipping line 452: expected 1 fields, saw 3\\n'\n",
      "b'Skipping line 442: expected 1 fields, saw 3\\n'\n",
      "b'Skipping line 543: expected 1 fields, saw 3\\n'\n",
      "b'Skipping line 619: expected 1 fields, saw 3\\n'\n"
     ]
    },
    {
     "name": "stdout",
     "output_type": "stream",
     "text": [
      "slurm_GCNGAP_ER.Status_layers_1_pooling_sum_dist_40_lr_0.001_graphfeatsize_100_nhiddim1_50_dropout_0.3_weight_decay_0.1_bsize_30.out\n",
      "slurm_GCNGAP_ER.Status_layers_2_pooling_att_dist_40_lr_0.001_graphfeatsize_50_nhiddim1_100_dropout_0.5_weight_decay_0.01_bsize_10.out\n",
      "slurm_GCNGAP_ER.Status_layers_2_pooling_att_dist_40_lr_0.001_graphfeatsize_100_nhiddim1_100_dropout_0.5_weight_decay_0.001_bsize_30.out\n",
      "slurm_GCNGAP_ER.Status_layers_2_pooling_att_dist_40_lr_0.01_graphfeatsize_50_nhiddim1_100_dropout_0.5_weight_decay_0.01_bsize_30.out\n",
      "slurm_GCNGAP_ER.Status_layers_2_pooling_sum_dist_40_lr_0.001_graphfeatsize_50_nhiddim1_100_dropout_0.5_weight_decay_0.1_bsize_10.out\n",
      "slurm_GCNGAP_ER.Status_layers_2_pooling_sum_dist_40_lr_0.01_graphfeatsize_150_nhiddim1_100_dropout_0.3_weight_decay_0.001_bsize_10.out\n",
      "slurm_GCNGAP_ER.Status_layers_1_pooling_att_dist_40_lr_0.01_graphfeatsize_150_nhiddim1_50_dropout_0.5_weight_decay_0.001_bsize_10.out\n",
      "slurm_GCNGAP_ER.Status_layers_2_pooling_att_dist_40_lr_0.01_graphfeatsize_50_nhiddim1_50_dropout_0.5_weight_decay_0.01_bsize_10.out\n",
      "slurm_GCNGAP_ER.Status_layers_1_pooling_mean_dist_40_lr_0.01_graphfeatsize_50_nhiddim1_50_dropout_0.5_weight_decay_0.1_bsize_20.out\n",
      "slurm_GCNGAP_ER.Status_layers_1_pooling_sum_dist_40_lr_0.001_graphfeatsize_150_nhiddim1_50_dropout_0.5_weight_decay_0.01_bsize_30.out\n",
      "slurm_GCNGAP_ER.Status_layers_2_pooling_mean_dist_40_lr_0.01_graphfeatsize_150_nhiddim1_150_dropout_0.5_weight_decay_0.1_bsize_30.out\n"
     ]
    },
    {
     "name": "stderr",
     "output_type": "stream",
     "text": [
      "b'Skipping line 478: expected 1 fields, saw 3\\n'\n",
      "b'Skipping line 616: expected 1 fields, saw 3\\n'\n",
      "b'Skipping line 503: expected 1 fields, saw 3\\n'\n",
      "b'Skipping line 362: expected 1 fields, saw 3\\n'\n",
      "b'Skipping line 456: expected 1 fields, saw 3\\n'\n",
      "b'Skipping line 534: expected 1 fields, saw 3\\n'\n",
      "b'Skipping line 444: expected 1 fields, saw 3\\n'\n",
      "b'Skipping line 442: expected 1 fields, saw 3\\n'\n",
      "b'Skipping line 443: expected 1 fields, saw 3\\n'\n",
      "b'Skipping line 634: expected 1 fields, saw 3\\n'\n",
      "b'Skipping line 693: expected 1 fields, saw 3\\n'\n"
     ]
    },
    {
     "name": "stdout",
     "output_type": "stream",
     "text": [
      "slurm_GCNGAP_ER.Status_layers_1_pooling_sum_dist_80_lr_0.01_graphfeatsize_50_nhiddim1_150_dropout_0.5_weight_decay_0.001_bsize_10.out\n",
      "not in\n",
      "slurm_GCNGAP_ER.Status_layers_2_pooling_mean_dist_40_lr_0.01_graphfeatsize_50_nhiddim1_100_dropout_0.3_weight_decay_0.01_bsize_20.out\n",
      "slurm_GCNGAP_ER.Status_layers_1_pooling_sum_dist_80_lr_0.01_graphfeatsize_50_nhiddim1_100_dropout_0.5_weight_decay_0.01_bsize_20.out\n",
      "not in\n",
      "slurm_GCNGAP_ER.Status_layers_1_pooling_mean_dist_40_lr_0.001_graphfeatsize_50_nhiddim1_50_dropout_0.3_weight_decay_0.01_bsize_20.out\n",
      "slurm_GCNGAP_ER.Status_layers_2_pooling_att_dist_40_lr_0.01_graphfeatsize_100_nhiddim1_50_dropout_0.5_weight_decay_0.1_bsize_30.out\n",
      "slurm_GCNGAP_ER.Status_layers_1_pooling_att_dist_40_lr_0.001_graphfeatsize_150_nhiddim1_50_dropout_0.3_weight_decay_0.001_bsize_20.out\n",
      "slurm_GCNGAP_ER.Status_layers_2_pooling_sum_dist_40_lr_0.001_graphfeatsize_150_nhiddim1_150_dropout_0.3_weight_decay_0.001_bsize_30.out\n",
      "slurm_GCNGAP_ER.Status_layers_2_pooling_sum_dist_40_lr_0.001_graphfeatsize_50_nhiddim1_100_dropout_0.3_weight_decay_0.01_bsize_30.out\n",
      "slurm_GCNGAP_ER.Status_layers_1_pooling_sum_dist_40_lr_0.001_graphfeatsize_50_nhiddim1_50_dropout_0.5_weight_decay_0.1_bsize_20.out\n",
      "slurm_GCNGAP_ER.Status_layers_2_pooling_att_dist_40_lr_0.001_graphfeatsize_150_nhiddim1_100_dropout_0.5_weight_decay_0.001_bsize_30.out\n",
      "slurm_GCNGAP_ER.Status_layers_2_pooling_sum_dist_40_lr_0.001_graphfeatsize_150_nhiddim1_150_dropout_0.5_weight_decay_0.01_bsize_30.out\n",
      "slurm_GCNGAP_ER.Status_layers_1_pooling_mean_dist_80_lr_0.01_graphfeatsize_100_nhiddim1_50_dropout_0.3_weight_decay_0.01_bsize_10.out\n"
     ]
    },
    {
     "name": "stderr",
     "output_type": "stream",
     "text": [
      "b'Skipping line 443: expected 1 fields, saw 3\\n'\n",
      "b'Skipping line 498: expected 1 fields, saw 3\\n'\n",
      "b'Skipping line 362: expected 1 fields, saw 3\\n'\n",
      "b'Skipping line 442: expected 1 fields, saw 3\\n'\n",
      "b'Skipping line 536: expected 1 fields, saw 3\\n'\n",
      "b'Skipping line 477: expected 1 fields, saw 3\\n'\n",
      "b'Skipping line 468: expected 1 fields, saw 3\\n'\n",
      "b'Skipping line 609: expected 1 fields, saw 3\\n'\n",
      "b'Skipping line 442: expected 1 fields, saw 3\\n'\n",
      "b'Skipping line 639: expected 1 fields, saw 3\\n'\n",
      "b'Skipping line 492: expected 1 fields, saw 3\\n'\n"
     ]
    },
    {
     "name": "stdout",
     "output_type": "stream",
     "text": [
      "slurm_GCNGAP_ER.Status_layers_2_pooling_sum_dist_40_lr_0.01_graphfeatsize_150_nhiddim1_150_dropout_0.3_weight_decay_0.01_bsize_30.out\n",
      "slurm_GCNGAP_ER.Status_layers_1_pooling_mean_dist_40_lr_0.01_graphfeatsize_150_nhiddim1_50_dropout_0.5_weight_decay_0.01_bsize_20.out\n",
      "slurm_GCNGAP_ER.Status_layers_2_pooling_sum_dist_40_lr_0.001_graphfeatsize_150_nhiddim1_150_dropout_0.5_weight_decay_0.1_bsize_20.out\n",
      "slurm_GCNGAP_ER.Status_layers_1_pooling_mean_dist_80_lr_0.01_graphfeatsize_100_nhiddim1_100_dropout_0.3_weight_decay_0.001_bsize_20.out\n",
      "slurm_GCNGAP_ER.Status_layers_1_pooling_sum_dist_80_lr_0.001_graphfeatsize_150_nhiddim1_50_dropout_0.5_weight_decay_0.1_bsize_10.out\n",
      "slurm_GCNGAP_ER.Status_layers_1_pooling_att_dist_40_lr_0.01_graphfeatsize_50_nhiddim1_50_dropout_0.5_weight_decay_0.1_bsize_20.out\n",
      "slurm_GCNGAP_ER.Status_layers_2_pooling_sum_dist_40_lr_0.001_graphfeatsize_50_nhiddim1_150_dropout_0.3_weight_decay_0.01_bsize_10.out\n",
      "slurm_GCNGAP_ER.Status_layers_2_pooling_sum_dist_40_lr_0.01_graphfeatsize_100_nhiddim1_150_dropout_0.5_weight_decay_0.1_bsize_10.out\n",
      "slurm_GCNGAP_ER.Status_layers_2_pooling_sum_dist_40_lr_0.01_graphfeatsize_150_nhiddim1_100_dropout_0.3_weight_decay_0.01_bsize_10.out\n",
      "slurm_GCNGAP_ER.Status_layers_2_pooling_sum_dist_40_lr_0.001_graphfeatsize_150_nhiddim1_100_dropout_0.5_weight_decay_0.01_bsize_10.out\n",
      "slurm_GCNGAP_ER.Status_layers_1_pooling_mean_dist_40_lr_0.01_graphfeatsize_100_nhiddim1_150_dropout_0.5_weight_decay_0.001_bsize_10.out\n",
      "slurm_GCNGAP_ER.Status_layers_2_pooling_att_dist_40_lr_0.01_graphfeatsize_100_nhiddim1_100_dropout_0.5_weight_decay_0.001_bsize_10.out\n"
     ]
    },
    {
     "name": "stderr",
     "output_type": "stream",
     "text": [
      "b'Skipping line 454: expected 1 fields, saw 3\\n'\n",
      "b'Skipping line 594: expected 1 fields, saw 3\\n'\n",
      "b'Skipping line 447: expected 1 fields, saw 3\\n'\n",
      "b'Skipping line 452: expected 1 fields, saw 3\\n'\n",
      "b'Skipping line 482: expected 1 fields, saw 3\\n'\n",
      "b'Skipping line 466: expected 1 fields, saw 3\\n'\n",
      "b'Skipping line 442: expected 1 fields, saw 3\\n'\n",
      "b'Skipping line 518: expected 1 fields, saw 3\\n'\n",
      "b'Skipping line 462: expected 1 fields, saw 3\\n'\n",
      "b'Skipping line 447: expected 1 fields, saw 3\\n'\n",
      "b'Skipping line 578: expected 1 fields, saw 3\\n'\n",
      "b'Skipping line 528: expected 1 fields, saw 3\\n'\n",
      "b'Skipping line 477: expected 1 fields, saw 3\\n'\n"
     ]
    },
    {
     "name": "stdout",
     "output_type": "stream",
     "text": [
      "slurm_GCNGAP_ER.Status_layers_1_pooling_sum_dist_40_lr_0.01_graphfeatsize_50_nhiddim1_150_dropout_0.5_weight_decay_0.001_bsize_10.out\n",
      "slurm_GCNGAP_ER.Status_layers_2_pooling_att_dist_40_lr_0.001_graphfeatsize_100_nhiddim1_100_dropout_0.3_weight_decay_0.01_bsize_20.out\n",
      "slurm_GCNGAP_ER.Status_layers_2_pooling_sum_dist_40_lr_0.01_graphfeatsize_150_nhiddim1_50_dropout_0.5_weight_decay_0.1_bsize_10.out\n",
      "slurm_GCNGAP_ER.Status_layers_2_pooling_sum_dist_40_lr_0.01_graphfeatsize_50_nhiddim1_150_dropout_0.5_weight_decay_0.1_bsize_30.out\n",
      "slurm_GCNGAP_ER.Status_layers_1_pooling_att_dist_40_lr_0.001_graphfeatsize_50_nhiddim1_50_dropout_0.5_weight_decay_0.001_bsize_30.out\n",
      "slurm_GCNGAP_ER.Status_layers_1_pooling_att_dist_40_lr_0.001_graphfeatsize_100_nhiddim1_100_dropout_0.3_weight_decay_0.001_bsize_20.out\n",
      "slurm_GCNGAP_ER.Status_layers_1_pooling_att_dist_40_lr_0.001_graphfeatsize_50_nhiddim1_100_dropout_0.3_weight_decay_0.001_bsize_30.out\n",
      "slurm_GCNGAP_ER.Status_layers_1_pooling_sum_dist_40_lr_0.001_graphfeatsize_100_nhiddim1_150_dropout_0.5_weight_decay_0.001_bsize_20.out\n",
      "slurm_GCNGAP_ER.Status_layers_1_pooling_att_dist_40_lr_0.001_graphfeatsize_50_nhiddim1_150_dropout_0.5_weight_decay_0.1_bsize_30.out\n",
      "slurm_GCNGAP_ER.Status_layers_1_pooling_mean_dist_40_lr_0.001_graphfeatsize_100_nhiddim1_100_dropout_0.5_weight_decay_0.01_bsize_10.out\n",
      "slurm_GCNGAP_ER.Status_layers_2_pooling_mean_dist_40_lr_0.001_graphfeatsize_150_nhiddim1_50_dropout_0.5_weight_decay_0.01_bsize_10.out\n",
      "slurm_GCNGAP_ER.Status_layers_2_pooling_mean_dist_40_lr_0.001_graphfeatsize_150_nhiddim1_100_dropout_0.3_weight_decay_0.01_bsize_30.out\n",
      "slurm_GCNGAP_ER.Status_layers_2_pooling_att_dist_40_lr_0.01_graphfeatsize_100_nhiddim1_100_dropout_0.5_weight_decay_0.1_bsize_20.out\n"
     ]
    },
    {
     "name": "stderr",
     "output_type": "stream",
     "text": [
      "b'Skipping line 517: expected 1 fields, saw 3\\n'\n",
      "b'Skipping line 480: expected 1 fields, saw 3\\n'\n",
      "b'Skipping line 501: expected 1 fields, saw 3\\n'\n",
      "b'Skipping line 442: expected 1 fields, saw 3\\n'\n",
      "b'Skipping line 485: expected 1 fields, saw 3\\n'\n",
      "b'Skipping line 591: expected 1 fields, saw 3\\n'\n",
      "b'Skipping line 605: expected 1 fields, saw 3\\n'\n",
      "b'Skipping line 598: expected 1 fields, saw 3\\n'\n",
      "b'Skipping line 444: expected 1 fields, saw 3\\n'\n",
      "b'Skipping line 463: expected 1 fields, saw 3\\n'\n",
      "b'Skipping line 742: expected 1 fields, saw 3\\n'\n",
      "b'Skipping line 442: expected 1 fields, saw 3\\n'\n"
     ]
    },
    {
     "name": "stdout",
     "output_type": "stream",
     "text": [
      "slurm_GCNGAP_ER.Status_layers_1_pooling_mean_dist_40_lr_0.01_graphfeatsize_150_nhiddim1_150_dropout_0.5_weight_decay_0.001_bsize_10.out\n",
      "slurm_GCNGAP_ER.Status_layers_2_pooling_att_dist_40_lr_0.01_graphfeatsize_150_nhiddim1_100_dropout_0.5_weight_decay_0.01_bsize_30.out\n",
      "slurm_GCNGAP_ER.Status_layers_1_pooling_sum_dist_80_lr_0.001_graphfeatsize_100_nhiddim1_50_dropout_0.5_weight_decay_0.001_bsize_10.out\n",
      "slurm_GCNGAP_ER.Status_layers_1_pooling_mean_dist_40_lr_0.01_graphfeatsize_150_nhiddim1_100_dropout_0.3_weight_decay_0.1_bsize_30.out\n",
      "slurm_GCNGAP_ER.Status_layers_2_pooling_att_dist_40_lr_0.01_graphfeatsize_50_nhiddim1_150_dropout_0.5_weight_decay_0.01_bsize_10.out\n",
      "slurm_GCNGAP_ER.Status_layers_1_pooling_att_dist_40_lr_0.001_graphfeatsize_150_nhiddim1_50_dropout_0.5_weight_decay_0.1_bsize_10.out\n",
      "slurm_GCNGAP_ER.Status_layers_2_pooling_att_dist_40_lr_0.001_graphfeatsize_50_nhiddim1_150_dropout_0.5_weight_decay_0.01_bsize_30.out\n",
      "slurm_GCNGAP_ER.Status_layers_1_pooling_mean_dist_80_lr_0.001_graphfeatsize_150_nhiddim1_150_dropout_0.5_weight_decay_0.1_bsize_10.out\n",
      "slurm_GCNGAP_ER.Status_layers_1_pooling_sum_dist_40_lr_0.001_graphfeatsize_150_nhiddim1_100_dropout_0.3_weight_decay_0.1_bsize_20.out\n",
      "slurm_GCNGAP_ER.Status_layers_1_pooling_att_dist_40_lr_0.001_graphfeatsize_150_nhiddim1_100_dropout_0.3_weight_decay_0.001_bsize_20.out\n",
      "slurm_GCNGAP_ER.Status_layers_1_pooling_sum_dist_40_lr_0.001_graphfeatsize_150_nhiddim1_50_dropout_0.5_weight_decay_0.001_bsize_20.out\n",
      "slurm_GCNGAP_ER.Status_layers_1_pooling_mean_dist_40_lr_0.01_graphfeatsize_150_nhiddim1_100_dropout_0.3_weight_decay_0.01_bsize_20.out\n"
     ]
    },
    {
     "name": "stderr",
     "output_type": "stream",
     "text": [
      "b'Skipping line 444: expected 1 fields, saw 3\\n'\n",
      "b'Skipping line 622: expected 1 fields, saw 3\\n'\n",
      "b'Skipping line 464: expected 1 fields, saw 3\\n'\n",
      "b'Skipping line 686: expected 1 fields, saw 3\\n'\n",
      "b'Skipping line 453: expected 1 fields, saw 3\\n'\n",
      "b'Skipping line 490: expected 1 fields, saw 3\\n'\n",
      "b'Skipping line 495: expected 1 fields, saw 3\\n'\n",
      "b'Skipping line 442: expected 1 fields, saw 3\\n'\n",
      "b'Skipping line 722: expected 1 fields, saw 3\\n'\n",
      "b'Skipping line 455: expected 1 fields, saw 3\\n'\n",
      "b'Skipping line 456: expected 1 fields, saw 3\\n'\n",
      "b'Skipping line 565: expected 1 fields, saw 3\\n'\n"
     ]
    },
    {
     "name": "stdout",
     "output_type": "stream",
     "text": [
      "slurm_GCNGAP_ER.Status_layers_1_pooling_mean_dist_80_lr_0.01_graphfeatsize_50_nhiddim1_50_dropout_0.3_weight_decay_0.001_bsize_10.out\n",
      "slurm_GCNGAP_ER.Status_layers_1_pooling_sum_dist_40_lr_0.001_graphfeatsize_150_nhiddim1_150_dropout_0.5_weight_decay_0.001_bsize_20.out\n",
      "slurm_GCNGAP_ER.Status_layers_2_pooling_sum_dist_40_lr_0.001_graphfeatsize_100_nhiddim1_50_dropout_0.3_weight_decay_0.1_bsize_20.out\n",
      "slurm_GCNGAP_ER.Status_layers_2_pooling_att_dist_40_lr_0.01_graphfeatsize_150_nhiddim1_100_dropout_0.5_weight_decay_0.001_bsize_10.out\n",
      "slurm_GCNGAP_ER.Status_layers_1_pooling_mean_dist_80_lr_0.001_graphfeatsize_150_nhiddim1_100_dropout_0.5_weight_decay_0.01_bsize_20.out\n",
      "slurm_GCNGAP_ER.Status_layers_1_pooling_att_dist_40_lr_0.01_graphfeatsize_50_nhiddim1_100_dropout_0.5_weight_decay_0.01_bsize_20.out\n",
      "slurm_GCNGAP_ER.Status_layers_1_pooling_mean_dist_40_lr_0.001_graphfeatsize_50_nhiddim1_150_dropout_0.3_weight_decay_0.01_bsize_20.out\n",
      "slurm_GCNGAP_ER.Status_layers_1_pooling_att_dist_40_lr_0.01_graphfeatsize_100_nhiddim1_100_dropout_0.5_weight_decay_0.01_bsize_30.out\n",
      "slurm_GCNGAP_ER.Status_layers_2_pooling_mean_dist_40_lr_0.01_graphfeatsize_100_nhiddim1_50_dropout_0.3_weight_decay_0.01_bsize_30.out\n",
      "slurm_GCNGAP_ER.Status_layers_1_pooling_att_dist_40_lr_0.01_graphfeatsize_100_nhiddim1_100_dropout_0.3_weight_decay_0.1_bsize_20.out\n",
      "slurm_GCNGAP_ER.Status_layers_2_pooling_mean_dist_40_lr_0.001_graphfeatsize_150_nhiddim1_50_dropout_0.3_weight_decay_0.001_bsize_20.out\n",
      "slurm_GCNGAP_ER.Status_layers_2_pooling_att_dist_40_lr_0.001_graphfeatsize_50_nhiddim1_150_dropout_0.3_weight_decay_0.1_bsize_30.out"
     ]
    },
    {
     "name": "stderr",
     "output_type": "stream",
     "text": [
      "b'Skipping line 454: expected 1 fields, saw 3\\n'\n",
      "b'Skipping line 700: expected 1 fields, saw 3\\n'\n",
      "b'Skipping line 505: expected 1 fields, saw 3\\n'\n",
      "b'Skipping line 639: expected 1 fields, saw 3\\n'\n",
      "b'Skipping line 457: expected 1 fields, saw 3\\n'\n",
      "b'Skipping line 552: expected 1 fields, saw 3\\n'\n",
      "b'Skipping line 443: expected 1 fields, saw 3\\n'\n",
      "b'Skipping line 475: expected 1 fields, saw 3\\n'\n",
      "b'Skipping line 452: expected 1 fields, saw 3\\n'\n",
      "b'Skipping line 492: expected 1 fields, saw 3\\n'\n",
      "b'Skipping line 487: expected 1 fields, saw 3\\n'\n",
      "b'Skipping line 465: expected 1 fields, saw 3\\n'\n",
      "b'Skipping line 469: expected 1 fields, saw 3\\n'\n"
     ]
    },
    {
     "name": "stdout",
     "output_type": "stream",
     "text": [
      "\n",
      "slurm_GCNGAP_ER.Status_layers_2_pooling_att_dist_40_lr_0.001_graphfeatsize_150_nhiddim1_50_dropout_0.3_weight_decay_0.1_bsize_10.out\n",
      "slurm_GCNGAP_ER.Status_layers_1_pooling_mean_dist_40_lr_0.001_graphfeatsize_150_nhiddim1_100_dropout_0.3_weight_decay_0.001_bsize_10.out\n",
      "slurm_GCNGAP_ER.Status_layers_1_pooling_mean_dist_40_lr_0.01_graphfeatsize_150_nhiddim1_50_dropout_0.3_weight_decay_0.001_bsize_30.out\n",
      "slurm_GCNGAP_ER.Status_layers_2_pooling_mean_dist_40_lr_0.001_graphfeatsize_100_nhiddim1_150_dropout_0.5_weight_decay_0.001_bsize_10.out\n",
      "slurm_GCNGAP_ER.Status_layers_1_pooling_mean_dist_80_lr_0.01_graphfeatsize_50_nhiddim1_100_dropout_0.3_weight_decay_0.001_bsize_20.out\n",
      "slurm_GCNGAP_ER.Status_layers_2_pooling_sum_dist_40_lr_0.001_graphfeatsize_100_nhiddim1_50_dropout_0.3_weight_decay_0.01_bsize_20.out\n",
      "slurm_GCNGAP_ER.Status_layers_2_pooling_mean_dist_40_lr_0.01_graphfeatsize_100_nhiddim1_150_dropout_0.3_weight_decay_0.01_bsize_10.out\n",
      "slurm_GCNGAP_ER.Status_layers_1_pooling_mean_dist_80_lr_0.001_graphfeatsize_50_nhiddim1_50_dropout_0.3_weight_decay_0.001_bsize_10.out\n",
      "slurm_GCNGAP_ER.Status_layers_2_pooling_mean_dist_40_lr_0.01_graphfeatsize_50_nhiddim1_50_dropout_0.3_weight_decay_0.01_bsize_20.out\n",
      "slurm_GCNGAP_ER.Status_layers_1_pooling_mean_dist_80_lr_0.01_graphfeatsize_150_nhiddim1_150_dropout_0.5_weight_decay_0.1_bsize_10.out\n",
      "slurm_GCNGAP_ER.Status_layers_1_pooling_sum_dist_40_lr_0.001_graphfeatsize_100_nhiddim1_50_dropout_0.5_weight_decay_0.1_bsize_20.out\n"
     ]
    },
    {
     "name": "stderr",
     "output_type": "stream",
     "text": [
      "b'Skipping line 461: expected 1 fields, saw 3\\n'\n",
      "b'Skipping line 505: expected 1 fields, saw 3\\n'\n",
      "b'Skipping line 688: expected 1 fields, saw 3\\n'\n",
      "b'Skipping line 517: expected 1 fields, saw 3\\n'\n",
      "b'Skipping line 592: expected 1 fields, saw 3\\n'\n",
      "b'Skipping line 444: expected 1 fields, saw 3\\n'\n",
      "b'Skipping line 508: expected 1 fields, saw 3\\n'\n",
      "b'Skipping line 443: expected 1 fields, saw 3\\n'\n",
      "b'Skipping line 444: expected 1 fields, saw 3\\n'\n",
      "b'Skipping line 499: expected 1 fields, saw 3\\n'\n",
      "b'Skipping line 715: expected 1 fields, saw 3\\n'\n"
     ]
    },
    {
     "name": "stdout",
     "output_type": "stream",
     "text": [
      "slurm_GCNGAP_ER.Status_layers_2_pooling_mean_dist_40_lr_0.01_graphfeatsize_150_nhiddim1_150_dropout_0.3_weight_decay_0.1_bsize_20.out\n",
      "slurm_GCNGAP_ER.Status_layers_1_pooling_sum_dist_40_lr_0.01_graphfeatsize_100_nhiddim1_150_dropout_0.3_weight_decay_0.1_bsize_10.out\n",
      "slurm_GCNGAP_ER.Status_layers_1_pooling_mean_dist_40_lr_0.001_graphfeatsize_100_nhiddim1_100_dropout_0.3_weight_decay_0.001_bsize_10.out\n",
      "slurm_GCNGAP_ER.Status_layers_1_pooling_mean_dist_40_lr_0.001_graphfeatsize_100_nhiddim1_50_dropout_0.3_weight_decay_0.01_bsize_10.out\n",
      "slurm_GCNGAP_ER.Status_layers_1_pooling_sum_dist_40_lr_0.001_graphfeatsize_100_nhiddim1_150_dropout_0.5_weight_decay_0.01_bsize_20.out\n",
      "slurm_GCNGAP_ER.Status_layers_1_pooling_mean_dist_40_lr_0.01_graphfeatsize_50_nhiddim1_50_dropout_0.3_weight_decay_0.1_bsize_30.out\n",
      "slurm_GCNGAP_ER.Status_layers_2_pooling_att_dist_40_lr_0.01_graphfeatsize_100_nhiddim1_50_dropout_0.3_weight_decay_0.1_bsize_20.out\n",
      "slurm_GCNGAP_ER.Status_layers_1_pooling_sum_dist_40_lr_0.01_graphfeatsize_100_nhiddim1_100_dropout_0.3_weight_decay_0.01_bsize_10.out\n",
      "slurm_GCNGAP_ER.Status_layers_2_pooling_att_dist_40_lr_0.001_graphfeatsize_50_nhiddim1_150_dropout_0.5_weight_decay_0.001_bsize_20.out\n",
      "slurm_GCNGAP_ER.Status_layers_1_pooling_att_dist_40_lr_0.001_graphfeatsize_100_nhiddim1_150_dropout_0.5_weight_decay_0.1_bsize_10.out\n",
      "slurm_GCNGAP_ER.Status_layers_1_pooling_mean_dist_80_lr_0.01_graphfeatsize_50_nhiddim1_50_dropout_0.3_weight_decay_0.1_bsize_10.out\n"
     ]
    },
    {
     "name": "stderr",
     "output_type": "stream",
     "text": [
      "b'Skipping line 442: expected 1 fields, saw 3\\n'\n",
      "b'Skipping line 444: expected 1 fields, saw 3\\n'\n",
      "b'Skipping line 443: expected 1 fields, saw 3\\n'\n",
      "b'Skipping line 363: expected 1 fields, saw 3\\n'\n",
      "b'Skipping line 479: expected 1 fields, saw 3\\n'\n",
      "b'Skipping line 460: expected 1 fields, saw 3\\n'\n",
      "b'Skipping line 444: expected 1 fields, saw 3\\n'\n",
      "b'Skipping line 480: expected 1 fields, saw 3\\n'\n",
      "b'Skipping line 442: expected 1 fields, saw 3\\n'\n",
      "b'Skipping line 361: expected 1 fields, saw 3\\n'\n",
      "b'Skipping line 523: expected 1 fields, saw 3\\n'\n",
      "b'Skipping line 448: expected 1 fields, saw 3\\n'\n"
     ]
    },
    {
     "name": "stdout",
     "output_type": "stream",
     "text": [
      "slurm_GCNGAP_ER.Status_layers_2_pooling_att_dist_40_lr_0.001_graphfeatsize_100_nhiddim1_50_dropout_0.3_weight_decay_0.001_bsize_30.out\n",
      "slurm_GCNGAP_ER.Status_layers_1_pooling_sum_dist_40_lr_0.001_graphfeatsize_50_nhiddim1_50_dropout_0.3_weight_decay_0.1_bsize_30.out\n",
      "slurm_GCNGAP_ER.Status_layers_2_pooling_sum_dist_40_lr_0.01_graphfeatsize_50_nhiddim1_50_dropout_0.5_weight_decay_0.001_bsize_30.out\n",
      "slurm_GCNGAP_ER.Status_layers_1_pooling_mean_dist_40_lr_0.001_graphfeatsize_50_nhiddim1_100_dropout_0.5_weight_decay_0.001_bsize_20.out\n",
      "slurm_GCNGAP_ER.Status_layers_2_pooling_mean_dist_40_lr_0.001_graphfeatsize_150_nhiddim1_100_dropout_0.5_weight_decay_0.1_bsize_10.out\n",
      "slurm_GCNGAP_ER.Status_layers_2_pooling_att_dist_40_lr_0.01_graphfeatsize_100_nhiddim1_50_dropout_0.5_weight_decay_0.01_bsize_20.out\n",
      "slurm_GCNGAP_ER.Status_layers_1_pooling_sum_dist_80_lr_0.001_graphfeatsize_150_nhiddim1_150_dropout_0.5_weight_decay_0.01_bsize_10.out\n",
      "not in\n",
      "slurm_GCNGAP_ER.Status_layers_1_pooling_att_dist_40_lr_0.001_graphfeatsize_150_nhiddim1_150_dropout_0.3_weight_decay_0.01_bsize_10.out\n",
      "slurm_GCNGAP_ER.Status_layers_2_pooling_sum_dist_40_lr_0.001_graphfeatsize_150_nhiddim1_150_dropout_0.3_weight_decay_0.1_bsize_30.out\n",
      "slurm_GCNGAP_ER.Status_layers_2_pooling_mean_dist_40_lr_0.001_graphfeatsize_150_nhiddim1_150_dropout_0.5_weight_decay_0.001_bsize_10.out\n",
      "slurm_GCNGAP_ER.Status_layers_1_pooling_mean_dist_80_lr_0.001_graphfeatsize_50_nhiddim1_150_dropout_0.3_weight_decay_0.001_bsize_10.out\n",
      "slurm_GCNGAP_ER.Status_layers_1_pooling_mean_dist_40_lr_0.001_graphfeatsize_150_nhiddim1_50_dropout_0.5_weight_decay_0.001_bsize_30.out\n"
     ]
    },
    {
     "name": "stderr",
     "output_type": "stream",
     "text": [
      "b'Skipping line 720: expected 1 fields, saw 3\\n'\n",
      "b'Skipping line 534: expected 1 fields, saw 3\\n'\n",
      "b'Skipping line 458: expected 1 fields, saw 3\\n'\n",
      "b'Skipping line 461: expected 1 fields, saw 3\\n'\n",
      "b'Skipping line 483: expected 1 fields, saw 3\\n'\n",
      "b'Skipping line 613: expected 1 fields, saw 3\\n'\n",
      "b'Skipping line 447: expected 1 fields, saw 3\\n'\n",
      "b'Skipping line 499: expected 1 fields, saw 3\\n'\n",
      "b'Skipping line 468: expected 1 fields, saw 3\\n'\n",
      "b'Skipping line 507: expected 1 fields, saw 3\\n'\n",
      "b'Skipping line 466: expected 1 fields, saw 3\\n'\n"
     ]
    },
    {
     "name": "stdout",
     "output_type": "stream",
     "text": [
      "slurm_GCNGAP_ER.Status_layers_1_pooling_att_dist_40_lr_0.01_graphfeatsize_50_nhiddim1_50_dropout_0.3_weight_decay_0.1_bsize_30.out\n",
      "slurm_GCNGAP_ER.Status_layers_1_pooling_sum_dist_40_lr_0.001_graphfeatsize_50_nhiddim1_100_dropout_0.3_weight_decay_0.1_bsize_10.out\n",
      "slurm_GCNGAP_ER.Status_layers_2_pooling_att_dist_40_lr_0.01_graphfeatsize_100_nhiddim1_50_dropout_0.5_weight_decay_0.001_bsize_10.out\n",
      "slurm_GCNGAP_ER.Status_layers_1_pooling_att_dist_40_lr_0.001_graphfeatsize_150_nhiddim1_100_dropout_0.3_weight_decay_0.01_bsize_30.out\n",
      "slurm_GCNGAP_ER.Status_layers_2_pooling_mean_dist_40_lr_0.01_graphfeatsize_50_nhiddim1_50_dropout_0.3_weight_decay_0.001_bsize_30.out\n",
      "slurm_GCNGAP_ER.Status_layers_1_pooling_sum_dist_40_lr_0.01_graphfeatsize_50_nhiddim1_50_dropout_0.5_weight_decay_0.001_bsize_20.out\n",
      "slurm_GCNGAP_ER.Status_layers_1_pooling_sum_dist_80_lr_0.01_graphfeatsize_100_nhiddim1_100_dropout_0.3_weight_decay_0.1_bsize_20.out\n",
      "not in\n",
      "slurm_GCNGAP_ER.Status_layers_1_pooling_mean_dist_80_lr_0.001_graphfeatsize_100_nhiddim1_50_dropout_0.3_weight_decay_0.01_bsize_10.out\n",
      "slurm_GCNGAP_ER.Status_layers_1_pooling_att_dist_40_lr_0.01_graphfeatsize_100_nhiddim1_50_dropout_0.5_weight_decay_0.01_bsize_30.out\n",
      "slurm_GCNGAP_ER.Status_layers_2_pooling_sum_dist_40_lr_0.001_graphfeatsize_50_nhiddim1_50_dropout_0.3_weight_decay_0.001_bsize_20.out\n",
      "slurm_GCNGAP_ER.Status_layers_2_pooling_sum_dist_40_lr_0.01_graphfeatsize_50_nhiddim1_150_dropout_0.3_weight_decay_0.1_bsize_20.out\n",
      "slurm_GCNGAP_ER.Status_layers_2_pooling_sum_dist_40_lr_0.01_graphfeatsize_50_nhiddim1_100_dropout_0.3_weight_decay_0.001_bsize_10.out\n",
      "slurm_GCNGAP_ER.Status_layers_1_pooling_sum_dist_80_lr_0.01_graphfeatsize_100_nhiddim1_100_dropout_0.3_weight_decay_0.01_bsize_10.out\n"
     ]
    },
    {
     "name": "stderr",
     "output_type": "stream",
     "text": [
      "b'Skipping line 448: expected 1 fields, saw 3\\n'\n",
      "b'Skipping line 708: expected 1 fields, saw 3\\n'\n",
      "b'Skipping line 489: expected 1 fields, saw 3\\n'\n",
      "b'Skipping line 442: expected 1 fields, saw 3\\n'\n",
      "b'Skipping line 455: expected 1 fields, saw 3\\n'\n",
      "b'Skipping line 361: expected 1 fields, saw 3\\n'\n",
      "b'Skipping line 447: expected 1 fields, saw 3\\n'\n",
      "b'Skipping line 447: expected 1 fields, saw 3\\n'\n",
      "b'Skipping line 443: expected 1 fields, saw 3\\n'\n",
      "b'Skipping line 447: expected 1 fields, saw 3\\n'\n",
      "b'Skipping line 474: expected 1 fields, saw 3\\n'\n",
      "b'Skipping line 457: expected 1 fields, saw 3\\n'\n"
     ]
    },
    {
     "name": "stdout",
     "output_type": "stream",
     "text": [
      "slurm_GCNGAP_ER.Status_layers_1_pooling_sum_dist_40_lr_0.01_graphfeatsize_100_nhiddim1_150_dropout_0.3_weight_decay_0.01_bsize_30.out\n",
      "slurm_GCNGAP_ER.Status_layers_2_pooling_att_dist_40_lr_0.01_graphfeatsize_100_nhiddim1_100_dropout_0.3_weight_decay_0.1_bsize_30.out\n",
      "slurm_GCNGAP_ER.Status_layers_2_pooling_mean_dist_40_lr_0.001_graphfeatsize_50_nhiddim1_50_dropout_0.3_weight_decay_0.1_bsize_10.out\n",
      "slurm_GCNGAP_ER.Status_layers_2_pooling_sum_dist_40_lr_0.01_graphfeatsize_150_nhiddim1_50_dropout_0.3_weight_decay_0.01_bsize_10.out\n",
      "slurm_GCNGAP_ER.Status_layers_1_pooling_mean_dist_40_lr_0.01_graphfeatsize_50_nhiddim1_100_dropout_0.3_weight_decay_0.001_bsize_20.out\n",
      "slurm_GCNGAP_ER.Status_layers_1_pooling_mean_dist_80_lr_0.01_graphfeatsize_150_nhiddim1_50_dropout_0.3_weight_decay_0.001_bsize_30.out\n",
      "slurm_GCNGAP_ER.Status_layers_2_pooling_att_dist_40_lr_0.001_graphfeatsize_100_nhiddim1_100_dropout_0.3_weight_decay_0.1_bsize_10.out\n",
      "slurm_GCNGAP_ER.Status_layers_1_pooling_mean_dist_80_lr_0.01_graphfeatsize_50_nhiddim1_150_dropout_0.3_weight_decay_0.01_bsize_20.out\n",
      "slurm_GCNGAP_ER.Status_layers_1_pooling_att_dist_40_lr_0.001_graphfeatsize_50_nhiddim1_150_dropout_0.3_weight_decay_0.1_bsize_20.out\n",
      "slurm_GCNGAP_ER.Status_layers_2_pooling_sum_dist_40_lr_0.001_graphfeatsize_100_nhiddim1_50_dropout_0.5_weight_decay_0.001_bsize_30.out\n",
      "slurm_GCNGAP_ER.Status_layers_2_pooling_mean_dist_40_lr_0.01_graphfeatsize_100_nhiddim1_100_dropout_0.3_weight_decay_0.01_bsize_30.out\n",
      "slurm_GCNGAP_ER.Status_layers_1_pooling_mean_dist_40_lr_0.001_graphfeatsize_50_nhiddim1_50_dropout_0.3_weight_decay_0.001_bsize_10.out\n"
     ]
    },
    {
     "name": "stderr",
     "output_type": "stream",
     "text": [
      "b'Skipping line 466: expected 1 fields, saw 3\\n'\n",
      "b'Skipping line 447: expected 1 fields, saw 3\\n'\n",
      "b'Skipping line 501: expected 1 fields, saw 3\\n'\n",
      "b'Skipping line 468: expected 1 fields, saw 3\\n'\n",
      "b'Skipping line 462: expected 1 fields, saw 3\\n'\n",
      "b'Skipping line 513: expected 1 fields, saw 3\\n'\n",
      "b'Skipping line 509: expected 1 fields, saw 3\\n'\n",
      "b'Skipping line 443: expected 1 fields, saw 3\\n'\n",
      "b'Skipping line 512: expected 1 fields, saw 3\\n'\n",
      "b'Skipping line 490: expected 1 fields, saw 3\\n'\n",
      "b'Skipping line 447: expected 1 fields, saw 3\\n'\n",
      "b'Skipping line 506: expected 1 fields, saw 3\\n'\n"
     ]
    },
    {
     "name": "stdout",
     "output_type": "stream",
     "text": [
      "slurm_GCNGAP_ER.Status_layers_1_pooling_mean_dist_40_lr_0.01_graphfeatsize_150_nhiddim1_100_dropout_0.5_weight_decay_0.1_bsize_20.out\n",
      "slurm_GCNGAP_ER.Status_layers_2_pooling_sum_dist_40_lr_0.001_graphfeatsize_50_nhiddim1_50_dropout_0.5_weight_decay_0.01_bsize_10.out\n",
      "slurm_GCNGAP_ER.Status_layers_1_pooling_att_dist_40_lr_0.01_graphfeatsize_100_nhiddim1_150_dropout_0.5_weight_decay_0.01_bsize_10.out\n",
      "slurm_GCNGAP_ER.Status_layers_2_pooling_att_dist_40_lr_0.01_graphfeatsize_50_nhiddim1_100_dropout_0.5_weight_decay_0.1_bsize_10.out\n",
      "slurm_GCNGAP_ER.Status_layers_1_pooling_sum_dist_40_lr_0.001_graphfeatsize_150_nhiddim1_100_dropout_0.5_weight_decay_0.1_bsize_30.out\n",
      "slurm_GCNGAP_ER.Status_layers_2_pooling_sum_dist_40_lr_0.001_graphfeatsize_50_nhiddim1_150_dropout_0.3_weight_decay_0.001_bsize_20.out\n",
      "slurm_GCNGAP_ER.Status_layers_2_pooling_mean_dist_40_lr_0.001_graphfeatsize_50_nhiddim1_100_dropout_0.3_weight_decay_0.001_bsize_30.out\n",
      "slurm_GCNGAP_ER.Status_layers_1_pooling_mean_dist_40_lr_0.01_graphfeatsize_50_nhiddim1_50_dropout_0.3_weight_decay_0.01_bsize_30.out\n",
      "slurm_GCNGAP_ER.Status_layers_2_pooling_sum_dist_40_lr_0.001_graphfeatsize_100_nhiddim1_50_dropout_0.5_weight_decay_0.1_bsize_30.out\n",
      "slurm_GCNGAP_ER.Status_layers_1_pooling_mean_dist_40_lr_0.01_graphfeatsize_150_nhiddim1_150_dropout_0.5_weight_decay_0.01_bsize_30.out\n",
      "slurm_GCNGAP_ER.Status_layers_1_pooling_mean_dist_80_lr_0.001_graphfeatsize_150_nhiddim1_50_dropout_0.3_weight_decay_0.1_bsize_10.out\n",
      "slurm_GCNGAP_ER.Status_layers_1_pooling_sum_dist_40_lr_0.001_graphfeatsize_100_nhiddim1_150_dropout_0.3_weight_decay_0.1_bsize_10.out\n"
     ]
    },
    {
     "name": "stderr",
     "output_type": "stream",
     "text": [
      "b'Skipping line 442: expected 1 fields, saw 3\\n'\n",
      "b'Skipping line 521: expected 1 fields, saw 3\\n'\n",
      "b'Skipping line 736: expected 1 fields, saw 3\\n'\n",
      "b'Skipping line 723: expected 1 fields, saw 3\\n'\n",
      "b'Skipping line 670: expected 1 fields, saw 3\\n'\n",
      "b'Skipping line 459: expected 1 fields, saw 3\\n'\n",
      "b'Skipping line 540: expected 1 fields, saw 3\\n'\n",
      "b'Skipping line 469: expected 1 fields, saw 3\\n'\n",
      "b'Skipping line 502: expected 1 fields, saw 3\\n'\n",
      "b'Skipping line 507: expected 1 fields, saw 3\\n'\n",
      "b'Skipping line 695: expected 1 fields, saw 3\\n'\n",
      "b'Skipping line 442: expected 1 fields, saw 3\\n'\n"
     ]
    },
    {
     "name": "stdout",
     "output_type": "stream",
     "text": [
      "slurm_GCNGAP_ER.Status_layers_1_pooling_mean_dist_80_lr_0.001_graphfeatsize_100_nhiddim1_100_dropout_0.5_weight_decay_0.1_bsize_20.out\n",
      "slurm_GCNGAP_ER.Status_layers_1_pooling_mean_dist_80_lr_0.01_graphfeatsize_150_nhiddim1_100_dropout_0.5_weight_decay_0.01_bsize_10.out\n",
      "slurm_GCNGAP_ER.Status_layers_1_pooling_sum_dist_80_lr_0.001_graphfeatsize_50_nhiddim1_50_dropout_0.5_weight_decay_0.001_bsize_20.out\n",
      "slurm_GCNGAP_ER.Status_layers_1_pooling_mean_dist_40_lr_0.001_graphfeatsize_50_nhiddim1_100_dropout_0.5_weight_decay_0.01_bsize_30.out\n",
      "slurm_GCNGAP_ER.Status_layers_1_pooling_sum_dist_80_lr_0.01_graphfeatsize_50_nhiddim1_100_dropout_0.5_weight_decay_0.001_bsize_10.out\n",
      "slurm_GCNGAP_ER.Status_layers_1_pooling_mean_dist_80_lr_0.001_graphfeatsize_150_nhiddim1_150_dropout_0.3_weight_decay_0.01_bsize_30.out\n",
      "slurm_GCNGAP_ER.Status_layers_1_pooling_mean_dist_80_lr_0.001_graphfeatsize_50_nhiddim1_150_dropout_0.5_weight_decay_0.01_bsize_10.out\n",
      "slurm_GCNGAP_ER.Status_layers_1_pooling_att_dist_40_lr_0.01_graphfeatsize_50_nhiddim1_150_dropout_0.3_weight_decay_0.01_bsize_30.out\n",
      "slurm_GCNGAP_ER.Status_layers_1_pooling_mean_dist_80_lr_0.01_graphfeatsize_50_nhiddim1_150_dropout_0.5_weight_decay_0.1_bsize_20.out\n",
      "slurm_GCNGAP_ER.Status_layers_1_pooling_att_dist_40_lr_0.001_graphfeatsize_150_nhiddim1_50_dropout_0.5_weight_decay_0.01_bsize_20.out\n",
      "slurm_GCNGAP_ER.Status_layers_1_pooling_mean_dist_80_lr_0.001_graphfeatsize_50_nhiddim1_150_dropout_0.3_weight_decay_0.1_bsize_30.out\n",
      "slurm_GCNGAP_ER.Status_layers_2_pooling_sum_dist_40_lr_0.01_graphfeatsize_150_nhiddim1_150_dropout_0.3_weight_decay_0.001_bsize_10.out\n"
     ]
    },
    {
     "name": "stderr",
     "output_type": "stream",
     "text": [
      "b'Skipping line 677: expected 1 fields, saw 3\\n'\n",
      "b'Skipping line 511: expected 1 fields, saw 3\\n'\n",
      "b'Skipping line 484: expected 1 fields, saw 3\\n'\n",
      "b'Skipping line 443: expected 1 fields, saw 3\\n'\n",
      "b'Skipping line 602: expected 1 fields, saw 3\\n'\n",
      "b'Skipping line 488: expected 1 fields, saw 3\\n'\n",
      "b'Skipping line 455: expected 1 fields, saw 3\\n'\n",
      "b'Skipping line 546: expected 1 fields, saw 3\\n'\n",
      "b'Skipping line 443: expected 1 fields, saw 3\\n'\n",
      "b'Skipping line 444: expected 1 fields, saw 3\\n'\n",
      "b'Skipping line 574: expected 1 fields, saw 3\\n'\n",
      "b'Skipping line 451: expected 1 fields, saw 3\\n'\n"
     ]
    },
    {
     "name": "stdout",
     "output_type": "stream",
     "text": [
      "not in\n",
      "slurm_GCNGAP_ER.Status_layers_1_pooling_mean_dist_80_lr_0.01_graphfeatsize_100_nhiddim1_150_dropout_0.3_weight_decay_0.001_bsize_20.out\n",
      "slurm_GCNGAP_ER.Status_layers_2_pooling_att_dist_40_lr_0.01_graphfeatsize_150_nhiddim1_150_dropout_0.3_weight_decay_0.01_bsize_20.out\n",
      "slurm_GCNGAP_ER.Status_layers_2_pooling_mean_dist_40_lr_0.01_graphfeatsize_100_nhiddim1_50_dropout_0.3_weight_decay_0.1_bsize_20.out\n",
      "slurm_GCNGAP_ER.Status_layers_2_pooling_att_dist_40_lr_0.01_graphfeatsize_150_nhiddim1_150_dropout_0.5_weight_decay_0.1_bsize_10.out\n",
      "slurm_GCNGAP_ER.Status_layers_2_pooling_mean_dist_40_lr_0.001_graphfeatsize_150_nhiddim1_150_dropout_0.5_weight_decay_0.01_bsize_20.out\n",
      "slurm_GCNGAP_ER.Status_layers_2_pooling_att_dist_40_lr_0.001_graphfeatsize_150_nhiddim1_150_dropout_0.5_weight_decay_0.1_bsize_30.out\n",
      "slurm_GCNGAP_ER.Status_layers_2_pooling_att_dist_40_lr_0.001_graphfeatsize_150_nhiddim1_150_dropout_0.5_weight_decay_0.001_bsize_30.out\n",
      "slurm_GCNGAP_ER.Status_layers_2_pooling_att_dist_40_lr_0.001_graphfeatsize_50_nhiddim1_100_dropout_0.3_weight_decay_0.01_bsize_20.out\n",
      "slurm_GCNGAP_ER.Status_layers_2_pooling_sum_dist_40_lr_0.001_graphfeatsize_150_nhiddim1_100_dropout_0.3_weight_decay_0.001_bsize_30.out\n",
      "slurm_GCNGAP_ER.Status_layers_1_pooling_sum_dist_40_lr_0.01_graphfeatsize_50_nhiddim1_100_dropout_0.5_weight_decay_0.1_bsize_30.out\n",
      "slurm_GCNGAP_ER.Status_layers_2_pooling_att_dist_40_lr_0.001_graphfeatsize_100_nhiddim1_150_dropout_0.5_weight_decay_0.01_bsize_30.out\n",
      "slurm_GCNGAP_ER.Status_layers_1_pooling_mean_dist_40_lr_0.001_graphfeatsize_100_nhiddim1_50_dropout_0.5_weight_decay_0.1_bsize_30.out\n"
     ]
    },
    {
     "name": "stderr",
     "output_type": "stream",
     "text": [
      "b'Skipping line 482: expected 1 fields, saw 3\\n'\n",
      "b'Skipping line 621: expected 1 fields, saw 3\\n'\n",
      "b'Skipping line 478: expected 1 fields, saw 3\\n'\n",
      "b'Skipping line 659: expected 1 fields, saw 3\\n'\n",
      "b'Skipping line 606: expected 1 fields, saw 3\\n'\n",
      "b'Skipping line 479: expected 1 fields, saw 3\\n'\n",
      "b'Skipping line 590: expected 1 fields, saw 3\\n'\n",
      "b'Skipping line 362: expected 1 fields, saw 3\\n'\n",
      "b'Skipping line 703: expected 1 fields, saw 3\\n'\n",
      "b'Skipping line 362: expected 1 fields, saw 3\\n'\n",
      "b'Skipping line 442: expected 1 fields, saw 3\\n'\n",
      "b'Skipping line 444: expected 1 fields, saw 3\\n'\n",
      "b'Skipping line 628: expected 1 fields, saw 3\\n'\n"
     ]
    },
    {
     "name": "stdout",
     "output_type": "stream",
     "text": [
      "slurm_GCNGAP_ER.Status_layers_2_pooling_att_dist_40_lr_0.01_graphfeatsize_50_nhiddim1_50_dropout_0.3_weight_decay_0.01_bsize_20.out\n",
      "slurm_GCNGAP_ER.Status_layers_2_pooling_sum_dist_40_lr_0.01_graphfeatsize_100_nhiddim1_150_dropout_0.3_weight_decay_0.001_bsize_10.out\n",
      "slurm_GCNGAP_ER.Status_layers_1_pooling_mean_dist_40_lr_0.001_graphfeatsize_50_nhiddim1_50_dropout_0.5_weight_decay_0.01_bsize_10.out\n",
      "slurm_GCNGAP_ER.Status_layers_1_pooling_sum_dist_80_lr_0.001_graphfeatsize_150_nhiddim1_50_dropout_0.3_weight_decay_0.001_bsize_10.out\n",
      "slurm_GCNGAP_ER.Status_layers_1_pooling_sum_dist_40_lr_0.001_graphfeatsize_50_nhiddim1_150_dropout_0.5_weight_decay_0.001_bsize_30.out\n",
      "slurm_GCNGAP_ER.Status_layers_1_pooling_sum_dist_80_lr_0.01_graphfeatsize_50_nhiddim1_100_dropout_0.3_weight_decay_0.01_bsize_10.out\n",
      "slurm_GCNGAP_ER.Status_layers_2_pooling_mean_dist_40_lr_0.01_graphfeatsize_50_nhiddim1_100_dropout_0.5_weight_decay_0.01_bsize_10.out\n",
      "slurm_GCNGAP_ER.Status_layers_2_pooling_att_dist_40_lr_0.001_graphfeatsize_100_nhiddim1_150_dropout_0.5_weight_decay_0.001_bsize_30.out\n",
      "slurm_GCNGAP_ER.Status_layers_2_pooling_sum_dist_40_lr_0.001_graphfeatsize_100_nhiddim1_100_dropout_0.3_weight_decay_0.001_bsize_30.out\n",
      "slurm_GCNGAP_ER.Status_layers_1_pooling_sum_dist_40_lr_0.001_graphfeatsize_100_nhiddim1_50_dropout_0.3_weight_decay_0.001_bsize_20.out\n",
      "slurm_GCNGAP_ER.Status_layers_2_pooling_sum_dist_40_lr_0.01_graphfeatsize_150_nhiddim1_100_dropout_0.5_weight_decay_0.1_bsize_20.out\n",
      "slurm_GCNGAP_ER.Status_layers_1_pooling_mean_dist_40_lr_0.01_graphfeatsize_150_nhiddim1_50_dropout_0.3_weight_decay_0.01_bsize_10.out\n",
      "slurm_GCNGAP_ER.Status_layers_1_pooling_mean_dist_80_lr_0.01_graphfeatsize_150_nhiddim1_150_dropout_0.3_weight_decay_0.001_bsize_20.out\n"
     ]
    },
    {
     "name": "stderr",
     "output_type": "stream",
     "text": [
      "b'Skipping line 466: expected 1 fields, saw 3\\n'\n",
      "b'Skipping line 362: expected 1 fields, saw 3\\n'\n",
      "b'Skipping line 442: expected 1 fields, saw 3\\n'\n",
      "b'Skipping line 520: expected 1 fields, saw 3\\n'\n",
      "b'Skipping line 680: expected 1 fields, saw 3\\n'\n",
      "b'Skipping line 454: expected 1 fields, saw 3\\n'\n",
      "b'Skipping line 696: expected 1 fields, saw 3\\n'\n",
      "b'Skipping line 455: expected 1 fields, saw 3\\n'\n",
      "b'Skipping line 476: expected 1 fields, saw 3\\n'\n",
      "b'Skipping line 446: expected 1 fields, saw 3\\n'\n",
      "b'Skipping line 451: expected 1 fields, saw 3\\n'\n",
      "b'Skipping line 487: expected 1 fields, saw 3\\n'\n"
     ]
    },
    {
     "name": "stdout",
     "output_type": "stream",
     "text": [
      "slurm_GCNGAP_ER.Status_layers_1_pooling_sum_dist_80_lr_0.01_graphfeatsize_50_nhiddim1_150_dropout_0.5_weight_decay_0.1_bsize_10.out\n",
      "not in\n",
      "slurm_GCNGAP_ER.Status_layers_1_pooling_mean_dist_80_lr_0.01_graphfeatsize_100_nhiddim1_50_dropout_0.5_weight_decay_0.01_bsize_20.out\n",
      "slurm_GCNGAP_ER.Status_layers_2_pooling_mean_dist_40_lr_0.001_graphfeatsize_150_nhiddim1_50_dropout_0.5_weight_decay_0.1_bsize_20.out\n",
      "slurm_GCNGAP_ER.Status_layers_2_pooling_mean_dist_40_lr_0.01_graphfeatsize_50_nhiddim1_100_dropout_0.5_weight_decay_0.001_bsize_30.out\n",
      "slurm_GCNGAP_ER.Status_layers_1_pooling_att_dist_40_lr_0.01_graphfeatsize_150_nhiddim1_50_dropout_0.3_weight_decay_0.1_bsize_20.out\n",
      "slurm_GCNGAP_ER.Status_layers_2_pooling_mean_dist_40_lr_0.001_graphfeatsize_100_nhiddim1_150_dropout_0.3_weight_decay_0.1_bsize_30.out\n",
      "slurm_GCNGAP_ER.Status_layers_2_pooling_sum_dist_40_lr_0.001_graphfeatsize_50_nhiddim1_150_dropout_0.5_weight_decay_0.01_bsize_20.out\n",
      "slurm_GCNGAP_ER.Status_layers_1_pooling_mean_dist_40_lr_0.01_graphfeatsize_150_nhiddim1_100_dropout_0.5_weight_decay_0.001_bsize_10.out\n",
      "slurm_GCNGAP_ER.Status_layers_2_pooling_mean_dist_40_lr_0.01_graphfeatsize_150_nhiddim1_50_dropout_0.5_weight_decay_0.001_bsize_20.out\n",
      "slurm_GCNGAP_ER.Status_layers_2_pooling_sum_dist_40_lr_0.001_graphfeatsize_150_nhiddim1_100_dropout_0.3_weight_decay_0.01_bsize_20.out\n",
      "slurm_GCNGAP_ER.Status_layers_2_pooling_mean_dist_40_lr_0.01_graphfeatsize_50_nhiddim1_100_dropout_0.5_weight_decay_0.1_bsize_10.out\n",
      "slurm_GCNGAP_ER.Status_layers_2_pooling_sum_dist_40_lr_0.001_graphfeatsize_100_nhiddim1_100_dropout_0.5_weight_decay_0.1_bsize_10.out\n",
      "slurm_GCNGAP_ER.Status_layers_2_pooling_sum_dist_40_lr_0.01_graphfeatsize_150_nhiddim1_100_dropout_0.5_weight_decay_0.01_bsize_20.out\n"
     ]
    },
    {
     "name": "stderr",
     "output_type": "stream",
     "text": [
      "b'Skipping line 523: expected 1 fields, saw 3\\n'\n",
      "b'Skipping line 453: expected 1 fields, saw 3\\n'\n",
      "b'Skipping line 442: expected 1 fields, saw 3\\n'\n",
      "b'Skipping line 446: expected 1 fields, saw 3\\n'\n",
      "b'Skipping line 634: expected 1 fields, saw 3\\n'\n",
      "b'Skipping line 502: expected 1 fields, saw 3\\n'\n",
      "b'Skipping line 565: expected 1 fields, saw 3\\n'\n",
      "b'Skipping line 450: expected 1 fields, saw 3\\n'\n",
      "b'Skipping line 477: expected 1 fields, saw 3\\n'\n",
      "b'Skipping line 448: expected 1 fields, saw 3\\n'\n",
      "b'Skipping line 490: expected 1 fields, saw 3\\n'\n"
     ]
    },
    {
     "name": "stdout",
     "output_type": "stream",
     "text": [
      "slurm_GCNGAP_ER.Status_layers_2_pooling_att_dist_40_lr_0.001_graphfeatsize_100_nhiddim1_100_dropout_0.5_weight_decay_0.01_bsize_10.out\n",
      "slurm_GCNGAP_ER.Status_layers_1_pooling_sum_dist_40_lr_0.01_graphfeatsize_150_nhiddim1_100_dropout_0.5_weight_decay_0.1_bsize_30.out\n",
      "slurm_GCNGAP_ER.Status_layers_2_pooling_att_dist_40_lr_0.01_graphfeatsize_150_nhiddim1_150_dropout_0.5_weight_decay_0.001_bsize_10.out\n",
      "slurm_GCNGAP_ER.Status_layers_1_pooling_sum_dist_40_lr_0.01_graphfeatsize_50_nhiddim1_50_dropout_0.5_weight_decay_0.1_bsize_10.out\n",
      "slurm_GCNGAP_ER.Status_layers_1_pooling_att_dist_40_lr_0.001_graphfeatsize_150_nhiddim1_100_dropout_0.3_weight_decay_0.1_bsize_30.out\n",
      "slurm_GCNGAP_ER.Status_layers_1_pooling_sum_dist_40_lr_0.001_graphfeatsize_150_nhiddim1_100_dropout_0.5_weight_decay_0.001_bsize_20.out\n",
      "slurm_GCNGAP_ER.Status_layers_1_pooling_att_dist_40_lr_0.001_graphfeatsize_150_nhiddim1_150_dropout_0.3_weight_decay_0.001_bsize_20.out\n",
      "slurm_GCNGAP_ER.Status_layers_2_pooling_mean_dist_40_lr_0.01_graphfeatsize_50_nhiddim1_150_dropout_0.5_weight_decay_0.01_bsize_30.out\n",
      "slurm_GCNGAP_ER.Status_layers_2_pooling_att_dist_40_lr_0.001_graphfeatsize_50_nhiddim1_50_dropout_0.3_weight_decay_0.1_bsize_10.out\n",
      "slurm_GCNGAP_ER.Status_layers_1_pooling_att_dist_40_lr_0.01_graphfeatsize_100_nhiddim1_50_dropout_0.3_weight_decay_0.001_bsize_10.out\n",
      "slurm_GCNGAP_ER.Status_layers_1_pooling_mean_dist_40_lr_0.01_graphfeatsize_100_nhiddim1_100_dropout_0.5_weight_decay_0.001_bsize_10.out\n",
      "slurm_GCNGAP_ER.Status_layers_1_pooling_mean_dist_40_lr_0.001_graphfeatsize_100_nhiddim1_100_dropout_0.3_weight_decay_0.01_bsize_20.out\n"
     ]
    },
    {
     "name": "stderr",
     "output_type": "stream",
     "text": [
      "b'Skipping line 442: expected 1 fields, saw 3\\n'\n",
      "b'Skipping line 483: expected 1 fields, saw 3\\n'\n",
      "b'Skipping line 558: expected 1 fields, saw 3\\n'\n",
      "b'Skipping line 448: expected 1 fields, saw 3\\n'\n",
      "b'Skipping line 446: expected 1 fields, saw 3\\n'\n",
      "b'Skipping line 466: expected 1 fields, saw 3\\n'\n",
      "b'Skipping line 711: expected 1 fields, saw 3\\n'\n",
      "b'Skipping line 592: expected 1 fields, saw 3\\n'\n",
      "b'Skipping line 443: expected 1 fields, saw 3\\n'\n",
      "b'Skipping line 478: expected 1 fields, saw 3\\n'\n",
      "b'Skipping line 593: expected 1 fields, saw 3\\n'\n",
      "b'Skipping line 488: expected 1 fields, saw 3\\n'\n"
     ]
    },
    {
     "name": "stdout",
     "output_type": "stream",
     "text": [
      "slurm_GCNGAP_ER.Status_layers_2_pooling_mean_dist_40_lr_0.001_graphfeatsize_150_nhiddim1_50_dropout_0.3_weight_decay_0.01_bsize_20.out\n",
      "slurm_GCNGAP_ER.Status_layers_1_pooling_mean_dist_80_lr_0.01_graphfeatsize_100_nhiddim1_100_dropout_0.3_weight_decay_0.1_bsize_30.out\n",
      "slurm_GCNGAP_ER.Status_layers_1_pooling_mean_dist_40_lr_0.01_graphfeatsize_50_nhiddim1_50_dropout_0.5_weight_decay_0.001_bsize_30.out\n",
      "slurm_GCNGAP_ER.Status_layers_2_pooling_att_dist_40_lr_0.01_graphfeatsize_50_nhiddim1_150_dropout_0.3_weight_decay_0.01_bsize_20.out\n",
      "slurm_GCNGAP_ER.Status_layers_1_pooling_att_dist_40_lr_0.001_graphfeatsize_100_nhiddim1_50_dropout_0.5_weight_decay_0.001_bsize_20.out\n",
      "slurm_GCNGAP_ER.Status_layers_1_pooling_att_dist_40_lr_0.001_graphfeatsize_50_nhiddim1_150_dropout_0.3_weight_decay_0.001_bsize_30.out\n",
      "slurm_GCNGAP_ER.Status_layers_1_pooling_sum_dist_40_lr_0.001_graphfeatsize_100_nhiddim1_100_dropout_0.5_weight_decay_0.001_bsize_20.out\n",
      "slurm_GCNGAP_ER.Status_layers_1_pooling_sum_dist_40_lr_0.001_graphfeatsize_50_nhiddim1_50_dropout_0.5_weight_decay_0.001_bsize_20.out\n",
      "slurm_GCNGAP_ER.Status_layers_1_pooling_mean_dist_80_lr_0.01_graphfeatsize_150_nhiddim1_150_dropout_0.5_weight_decay_0.01_bsize_30.out\n",
      "slurm_GCNGAP_ER.Status_layers_1_pooling_mean_dist_40_lr_0.01_graphfeatsize_150_nhiddim1_100_dropout_0.5_weight_decay_0.01_bsize_10.out\n",
      "slurm_GCNGAP_ER.Status_layers_1_pooling_sum_dist_80_lr_0.001_graphfeatsize_100_nhiddim1_150_dropout_0.3_weight_decay_0.1_bsize_10.out\n"
     ]
    },
    {
     "name": "stderr",
     "output_type": "stream",
     "text": [
      "b'Skipping line 498: expected 1 fields, saw 3\\n'\n",
      "b'Skipping line 442: expected 1 fields, saw 3\\n'\n",
      "b'Skipping line 362: expected 1 fields, saw 3\\n'\n",
      "b'Skipping line 669: expected 1 fields, saw 3\\n'\n",
      "b'Skipping line 662: expected 1 fields, saw 3\\n'\n",
      "b'Skipping line 497: expected 1 fields, saw 3\\n'\n",
      "b'Skipping line 466: expected 1 fields, saw 3\\n'\n",
      "b'Skipping line 466: expected 1 fields, saw 3\\n'\n",
      "b'Skipping line 443: expected 1 fields, saw 3\\n'\n",
      "b'Skipping line 659: expected 1 fields, saw 3\\n'\n",
      "b'Skipping line 456: expected 1 fields, saw 3\\n'\n"
     ]
    },
    {
     "name": "stdout",
     "output_type": "stream",
     "text": [
      "slurm_GCNGAP_ER.Status_layers_1_pooling_mean_dist_40_lr_0.001_graphfeatsize_100_nhiddim1_100_dropout_0.5_weight_decay_0.1_bsize_20.out\n",
      "slurm_GCNGAP_ER.Status_layers_1_pooling_att_dist_40_lr_0.001_graphfeatsize_100_nhiddim1_150_dropout_0.3_weight_decay_0.001_bsize_20.out\n",
      "slurm_GCNGAP_ER.Status_layers_1_pooling_mean_dist_40_lr_0.01_graphfeatsize_100_nhiddim1_50_dropout_0.3_weight_decay_0.1_bsize_30.out\n",
      "slurm_GCNGAP_ER.Status_layers_1_pooling_mean_dist_80_lr_0.001_graphfeatsize_150_nhiddim1_100_dropout_0.3_weight_decay_0.01_bsize_10.out\n",
      "slurm_GCNGAP_ER.Status_layers_1_pooling_att_dist_40_lr_0.01_graphfeatsize_50_nhiddim1_100_dropout_0.3_weight_decay_0.01_bsize_10.out\n",
      "slurm_GCNGAP_ER.Status_layers_1_pooling_mean_dist_80_lr_0.001_graphfeatsize_50_nhiddim1_100_dropout_0.5_weight_decay_0.01_bsize_30.out\n",
      "slurm_GCNGAP_ER.Status_layers_1_pooling_mean_dist_40_lr_0.001_graphfeatsize_50_nhiddim1_150_dropout_0.5_weight_decay_0.01_bsize_10.out\n",
      "slurm_GCNGAP_ER.Status_layers_1_pooling_sum_dist_40_lr_0.01_graphfeatsize_50_nhiddim1_100_dropout_0.5_weight_decay_0.001_bsize_10.out\n",
      "slurm_GCNGAP_ER.Status_layers_2_pooling_att_dist_40_lr_0.01_graphfeatsize_100_nhiddim1_150_dropout_0.5_weight_decay_0.001_bsize_10.out\n",
      "slurm_GCNGAP_ER.Status_layers_1_pooling_sum_dist_40_lr_0.01_graphfeatsize_50_nhiddim1_100_dropout_0.3_weight_decay_0.1_bsize_30.out\n",
      "slurm_GCNGAP_ER.Status_layers_1_pooling_mean_dist_40_lr_0.001_graphfeatsize_50_nhiddim1_150_dropout_0.5_weight_decay_0.001_bsize_30.out\n",
      "slurm_GCNGAP_ER.Status_layers_1_pooling_mean_dist_80_lr_0.001_graphfeatsize_150_nhiddim1_50_dropout_0.3_weight_decay_0.001_bsize_10.out\n"
     ]
    },
    {
     "name": "stderr",
     "output_type": "stream",
     "text": [
      "b'Skipping line 693: expected 1 fields, saw 3\\n'\n",
      "b'Skipping line 607: expected 1 fields, saw 3\\n'\n",
      "b'Skipping line 445: expected 1 fields, saw 3\\n'\n",
      "b'Skipping line 453: expected 1 fields, saw 3\\n'\n",
      "b'Skipping line 486: expected 1 fields, saw 3\\n'\n",
      "b'Skipping line 510: expected 1 fields, saw 3\\n'\n",
      "b'Skipping line 526: expected 1 fields, saw 3\\n'\n",
      "b'Skipping line 514: expected 1 fields, saw 3\\n'\n",
      "b'Skipping line 469: expected 1 fields, saw 3\\n'\n",
      "b'Skipping line 446: expected 1 fields, saw 3\\n'\n",
      "b'Skipping line 451: expected 1 fields, saw 3\\n'\n",
      "b'Skipping line 450: expected 1 fields, saw 3\\n'\n"
     ]
    },
    {
     "name": "stdout",
     "output_type": "stream",
     "text": [
      "slurm_GCNGAP_ER.Status_layers_2_pooling_mean_dist_40_lr_0.01_graphfeatsize_100_nhiddim1_150_dropout_0.5_weight_decay_0.01_bsize_30.out\n",
      "slurm_GCNGAP_ER.Status_layers_1_pooling_att_dist_40_lr_0.01_graphfeatsize_50_nhiddim1_50_dropout_0.3_weight_decay_0.001_bsize_10.out\n",
      "slurm_GCNGAP_ER.Status_layers_2_pooling_mean_dist_40_lr_0.01_graphfeatsize_100_nhiddim1_50_dropout_0.5_weight_decay_0.1_bsize_20.out\n",
      "slurm_GCNGAP_ER.Status_layers_2_pooling_att_dist_40_lr_0.01_graphfeatsize_150_nhiddim1_150_dropout_0.3_weight_decay_0.1_bsize_10.out\n",
      "slurm_GCNGAP_ER.Status_layers_2_pooling_att_dist_40_lr_0.001_graphfeatsize_150_nhiddim1_150_dropout_0.3_weight_decay_0.1_bsize_30.out\n",
      "slurm_GCNGAP_ER.Status_layers_1_pooling_sum_dist_40_lr_0.001_graphfeatsize_50_nhiddim1_50_dropout_0.3_weight_decay_0.01_bsize_20.out\n",
      "slurm_GCNGAP_ER.Status_layers_1_pooling_mean_dist_80_lr_0.001_graphfeatsize_100_nhiddim1_150_dropout_0.5_weight_decay_0.001_bsize_10.out\n",
      "slurm_GCNGAP_ER.Status_layers_1_pooling_mean_dist_80_lr_0.01_graphfeatsize_50_nhiddim1_100_dropout_0.5_weight_decay_0.01_bsize_20.out\n",
      "slurm_GCNGAP_ER.Status_layers_1_pooling_mean_dist_80_lr_0.001_graphfeatsize_50_nhiddim1_150_dropout_0.5_weight_decay_0.1_bsize_30.out\n",
      "slurm_GCNGAP_ER.Status_layers_1_pooling_mean_dist_80_lr_0.01_graphfeatsize_50_nhiddim1_150_dropout_0.3_weight_decay_0.1_bsize_20.out\n",
      "slurm_GCNGAP_ER.Status_layers_1_pooling_att_dist_40_lr_0.01_graphfeatsize_100_nhiddim1_100_dropout_0.3_weight_decay_0.001_bsize_10.out\n",
      "slurm_GCNGAP_ER.Status_layers_1_pooling_mean_dist_40_lr_0.001_graphfeatsize_100_nhiddim1_50_dropout_0.3_weight_decay_0.001_bsize_20.out\n"
     ]
    },
    {
     "name": "stderr",
     "output_type": "stream",
     "text": [
      "b'Skipping line 362: expected 1 fields, saw 3\\n'\n",
      "b'Skipping line 482: expected 1 fields, saw 3\\n'\n",
      "b'Skipping line 604: expected 1 fields, saw 3\\n'\n",
      "b'Skipping line 492: expected 1 fields, saw 3\\n'\n",
      "b'Skipping line 443: expected 1 fields, saw 3\\n'\n",
      "b'Skipping line 447: expected 1 fields, saw 3\\n'\n",
      "b'Skipping line 573: expected 1 fields, saw 3\\n'\n",
      "b'Skipping line 443: expected 1 fields, saw 3\\n'\n",
      "b'Skipping line 491: expected 1 fields, saw 3\\n'\n",
      "b'Skipping line 506: expected 1 fields, saw 3\\n'\n",
      "b'Skipping line 464: expected 1 fields, saw 3\\n'\n",
      "b'Skipping line 486: expected 1 fields, saw 3\\n'\n"
     ]
    },
    {
     "name": "stdout",
     "output_type": "stream",
     "text": [
      "slurm_GCNGAP_ER.Status_layers_1_pooling_sum_dist_80_lr_0.01_graphfeatsize_100_nhiddim1_50_dropout_0.3_weight_decay_0.01_bsize_10.out\n",
      "slurm_GCNGAP_ER.Status_layers_2_pooling_att_dist_40_lr_0.001_graphfeatsize_50_nhiddim1_100_dropout_0.5_weight_decay_0.001_bsize_30.out\n",
      "slurm_GCNGAP_ER.Status_layers_1_pooling_att_dist_40_lr_0.01_graphfeatsize_100_nhiddim1_100_dropout_0.3_weight_decay_0.01_bsize_10.out\n",
      "slurm_GCNGAP_ER.Status_layers_1_pooling_mean_dist_80_lr_0.001_graphfeatsize_150_nhiddim1_50_dropout_0.5_weight_decay_0.1_bsize_10.out\n",
      "slurm_GCNGAP_ER.Status_layers_1_pooling_sum_dist_40_lr_0.001_graphfeatsize_100_nhiddim1_150_dropout_0.5_weight_decay_0.1_bsize_10.out\n",
      "slurm_GCNGAP_ER.Status_layers_2_pooling_mean_dist_40_lr_0.01_graphfeatsize_100_nhiddim1_50_dropout_0.5_weight_decay_0.01_bsize_10.out\n",
      "slurm_GCNGAP_ER.Status_layers_1_pooling_mean_dist_80_lr_0.001_graphfeatsize_100_nhiddim1_100_dropout_0.3_weight_decay_0.1_bsize_20.out\n",
      "slurm_GCNGAP_ER.Status_layers_1_pooling_sum_dist_40_lr_0.01_graphfeatsize_150_nhiddim1_50_dropout_0.5_weight_decay_0.01_bsize_20.out\n",
      "slurm_GCNGAP_ER.Status_layers_2_pooling_mean_dist_40_lr_0.001_graphfeatsize_150_nhiddim1_50_dropout_0.3_weight_decay_0.1_bsize_20.out\n",
      "slurm_GCNGAP_ER.Status_layers_1_pooling_att_dist_40_lr_0.01_graphfeatsize_150_nhiddim1_50_dropout_0.5_weight_decay_0.1_bsize_20.out\n",
      "slurm_GCNGAP_ER.Status_layers_1_pooling_mean_dist_80_lr_0.001_graphfeatsize_150_nhiddim1_150_dropout_0.5_weight_decay_0.001_bsize_10.out\n",
      "slurm_GCNGAP_ER.Status_layers_1_pooling_mean_dist_80_lr_0.01_graphfeatsize_50_nhiddim1_150_dropout_0.3_weight_decay_0.001_bsize_30.out\n"
     ]
    },
    {
     "name": "stderr",
     "output_type": "stream",
     "text": [
      "b'Skipping line 715: expected 1 fields, saw 3\\n'\n",
      "b'Skipping line 475: expected 1 fields, saw 3\\n'\n",
      "b'Skipping line 517: expected 1 fields, saw 3\\n'\n",
      "b'Skipping line 454: expected 1 fields, saw 3\\n'\n",
      "b'Skipping line 444: expected 1 fields, saw 3\\n'\n",
      "b'Skipping line 476: expected 1 fields, saw 3\\n'\n",
      "b'Skipping line 453: expected 1 fields, saw 3\\n'\n",
      "b'Skipping line 509: expected 1 fields, saw 3\\n'\n",
      "b'Skipping line 526: expected 1 fields, saw 3\\n'\n",
      "b'Skipping line 630: expected 1 fields, saw 3\\n'\n",
      "b'Skipping line 578: expected 1 fields, saw 3\\n'\n"
     ]
    },
    {
     "name": "stdout",
     "output_type": "stream",
     "text": [
      "slurm_GCNGAP_ER.Status_layers_1_pooling_sum_dist_80_lr_0.01_graphfeatsize_50_nhiddim1_150_dropout_0.3_weight_decay_0.1_bsize_10.out\n",
      "slurm_GCNGAP_ER.Status_layers_1_pooling_att_dist_40_lr_0.001_graphfeatsize_150_nhiddim1_150_dropout_0.5_weight_decay_0.01_bsize_30.out\n",
      "slurm_GCNGAP_ER.Status_layers_2_pooling_att_dist_40_lr_0.001_graphfeatsize_100_nhiddim1_50_dropout_0.3_weight_decay_0.01_bsize_20.out\n",
      "slurm_GCNGAP_ER.Status_layers_2_pooling_sum_dist_40_lr_0.01_graphfeatsize_150_nhiddim1_100_dropout_0.3_weight_decay_0.1_bsize_20.out\n",
      "slurm_GCNGAP_ER.Status_layers_2_pooling_sum_dist_40_lr_0.001_graphfeatsize_150_nhiddim1_50_dropout_0.3_weight_decay_0.001_bsize_20.out\n",
      "slurm_GCNGAP_ER.Status_layers_1_pooling_sum_dist_40_lr_0.01_graphfeatsize_100_nhiddim1_100_dropout_0.5_weight_decay_0.01_bsize_30.out\n",
      "slurm_GCNGAP_ER.Status_layers_1_pooling_sum_dist_80_lr_0.01_graphfeatsize_100_nhiddim1_150_dropout_0.5_weight_decay_0.01_bsize_10.out\n",
      "slurm_GCNGAP_ER.Status_layers_1_pooling_mean_dist_40_lr_0.001_graphfeatsize_100_nhiddim1_50_dropout_0.3_weight_decay_0.1_bsize_30.out\n",
      "slurm_GCNGAP_ER.Status_layers_1_pooling_mean_dist_80_lr_0.01_graphfeatsize_100_nhiddim1_50_dropout_0.5_weight_decay_0.001_bsize_20.out\n",
      "slurm_GCNGAP_ER.Status_layers_1_pooling_mean_dist_40_lr_0.001_graphfeatsize_100_nhiddim1_50_dropout_0.5_weight_decay_0.01_bsize_30.out\n",
      "slurm_GCNGAP_ER.Status_layers_1_pooling_att_dist_40_lr_0.01_graphfeatsize_150_nhiddim1_100_dropout_0.3_weight_decay_0.001_bsize_10.out\n",
      "slurm_GCNGAP_ER.Status_layers_2_pooling_sum_dist_40_lr_0.001_graphfeatsize_50_nhiddim1_100_dropout_0.3_weight_decay_0.001_bsize_30.out\n"
     ]
    },
    {
     "name": "stderr",
     "output_type": "stream",
     "text": [
      "b'Skipping line 458: expected 1 fields, saw 3\\n'\n",
      "b'Skipping line 451: expected 1 fields, saw 3\\n'\n",
      "b'Skipping line 443: expected 1 fields, saw 3\\n'\n",
      "b'Skipping line 497: expected 1 fields, saw 3\\n'\n",
      "b'Skipping line 449: expected 1 fields, saw 3\\n'\n",
      "b'Skipping line 672: expected 1 fields, saw 3\\n'\n",
      "b'Skipping line 451: expected 1 fields, saw 3\\n'\n",
      "b'Skipping line 362: expected 1 fields, saw 3\\n'\n",
      "b'Skipping line 447: expected 1 fields, saw 3\\n'\n",
      "b'Skipping line 479: expected 1 fields, saw 3\\n'\n",
      "b'Skipping line 447: expected 1 fields, saw 3\\n'\n",
      "b'Skipping line 487: expected 1 fields, saw 3\\n'\n"
     ]
    },
    {
     "name": "stdout",
     "output_type": "stream",
     "text": [
      "slurm_GCNGAP_ER.Status_layers_1_pooling_sum_dist_40_lr_0.01_graphfeatsize_100_nhiddim1_150_dropout_0.5_weight_decay_0.01_bsize_10.out\n",
      "slurm_GCNGAP_ER.Status_layers_2_pooling_mean_dist_40_lr_0.001_graphfeatsize_50_nhiddim1_150_dropout_0.3_weight_decay_0.001_bsize_20.out\n",
      "slurm_GCNGAP_ER.Status_layers_2_pooling_att_dist_40_lr_0.001_graphfeatsize_50_nhiddim1_50_dropout_0.5_weight_decay_0.1_bsize_10.out\n",
      "slurm_GCNGAP_ER.Status_layers_1_pooling_att_dist_40_lr_0.001_graphfeatsize_150_nhiddim1_100_dropout_0.5_weight_decay_0.1_bsize_30.out\n",
      "slurm_GCNGAP_ER.Status_layers_1_pooling_sum_dist_40_lr_0.01_graphfeatsize_50_nhiddim1_50_dropout_0.3_weight_decay_0.1_bsize_10.out\n",
      "slurm_GCNGAP_ER.Status_layers_1_pooling_sum_dist_40_lr_0.01_graphfeatsize_150_nhiddim1_100_dropout_0.3_weight_decay_0.1_bsize_30.out\n",
      "slurm_GCNGAP_ER.Status_layers_1_pooling_att_dist_40_lr_0.01_graphfeatsize_100_nhiddim1_50_dropout_0.3_weight_decay_0.01_bsize_10.out\n",
      "slurm_GCNGAP_ER.Status_layers_1_pooling_mean_dist_80_lr_0.001_graphfeatsize_100_nhiddim1_50_dropout_0.5_weight_decay_0.01_bsize_30.out\n",
      "slurm_GCNGAP_ER.Status_layers_1_pooling_sum_dist_40_lr_0.001_graphfeatsize_100_nhiddim1_100_dropout_0.3_weight_decay_0.01_bsize_20.out\n",
      "slurm_GCNGAP_ER.Status_layers_1_pooling_mean_dist_40_lr_0.01_graphfeatsize_100_nhiddim1_50_dropout_0.5_weight_decay_0.001_bsize_20.out\n",
      "slurm_GCNGAP_ER.Status_layers_1_pooling_sum_dist_40_lr_0.01_graphfeatsize_100_nhiddim1_100_dropout_0.5_weight_decay_0.001_bsize_10.out\n",
      "slurm_GCNGAP_ER.Status_layers_2_pooling_mean_dist_40_lr_0.01_graphfeatsize_50_nhiddim1_100_dropout_0.3_weight_decay_0.1_bsize_10.out\n"
     ]
    },
    {
     "name": "stderr",
     "output_type": "stream",
     "text": [
      "b'Skipping line 550: expected 1 fields, saw 3\\n'\n",
      "b'Skipping line 484: expected 1 fields, saw 3\\n'\n",
      "b'Skipping line 484: expected 1 fields, saw 3\\n'\n",
      "b'Skipping line 688: expected 1 fields, saw 3\\n'\n",
      "b'Skipping line 443: expected 1 fields, saw 3\\n'\n",
      "b'Skipping line 472: expected 1 fields, saw 3\\n'\n",
      "b'Skipping line 459: expected 1 fields, saw 3\\n'\n",
      "b'Skipping line 450: expected 1 fields, saw 3\\n'\n",
      "b'Skipping line 458: expected 1 fields, saw 3\\n'\n",
      "b'Skipping line 442: expected 1 fields, saw 3\\n'\n",
      "b'Skipping line 517: expected 1 fields, saw 3\\n'\n",
      "b'Skipping line 363: expected 1 fields, saw 3\\n'\n",
      "b'Skipping line 477: expected 1 fields, saw 3\\n'\n"
     ]
    },
    {
     "name": "stdout",
     "output_type": "stream",
     "text": [
      "slurm_GCNGAP_ER.Status_layers_2_pooling_sum_dist_40_lr_0.001_graphfeatsize_100_nhiddim1_100_dropout_0.3_weight_decay_0.1_bsize_10.out\n",
      "slurm_GCNGAP_ER.Status_layers_1_pooling_sum_dist_80_lr_0.001_graphfeatsize_150_nhiddim1_100_dropout_0.3_weight_decay_0.01_bsize_10.out\n",
      "slurm_GCNGAP_ER.Status_layers_1_pooling_att_dist_40_lr_0.001_graphfeatsize_150_nhiddim1_100_dropout_0.5_weight_decay_0.01_bsize_10.out\n",
      "slurm_GCNGAP_ER.Status_layers_1_pooling_sum_dist_80_lr_0.01_graphfeatsize_50_nhiddim1_50_dropout_0.3_weight_decay_0.001_bsize_10.out\n",
      "slurm_GCNGAP_ER.Status_layers_1_pooling_sum_dist_40_lr_0.01_graphfeatsize_50_nhiddim1_50_dropout_0.5_weight_decay_0.01_bsize_20.out\n",
      "slurm_GCNGAP_ER.Status_layers_1_pooling_mean_dist_40_lr_0.01_graphfeatsize_50_nhiddim1_150_dropout_0.3_weight_decay_0.001_bsize_30.out\n",
      "slurm_GCNGAP_ER.Status_layers_2_pooling_mean_dist_40_lr_0.001_graphfeatsize_100_nhiddim1_150_dropout_0.5_weight_decay_0.1_bsize_30.out\n",
      "slurm_GCNGAP_ER.Status_layers_2_pooling_mean_dist_40_lr_0.001_graphfeatsize_100_nhiddim1_50_dropout_0.5_weight_decay_0.001_bsize_30.out\n",
      "slurm_GCNGAP_ER.Status_layers_1_pooling_sum_dist_40_lr_0.01_graphfeatsize_150_nhiddim1_100_dropout_0.5_weight_decay_0.001_bsize_10.out\n",
      "slurm_GCNGAP_ER.Status_layers_1_pooling_mean_dist_40_lr_0.01_graphfeatsize_50_nhiddim1_50_dropout_0.5_weight_decay_0.01_bsize_10.out\n",
      "slurm_GCNGAP_ER.Status_layers_2_pooling_att_dist_40_lr_0.001_graphfeatsize_50_nhiddim1_50_dropout_0.3_weight_decay_0.001_bsize_20.out\n",
      "slurm_GCNGAP_ER.Status_layers_1_pooling_mean_dist_40_lr_0.01_graphfeatsize_100_nhiddim1_50_dropout_0.5_weight_decay_0.1_bsize_30.out\n",
      "slurm_GCNGAP_ER.Status_layers_2_pooling_att_dist_40_lr_0.001_graphfeatsize_150_nhiddim1_50_dropout_0.5_weight_decay_0.001_bsize_20.out\n"
     ]
    },
    {
     "name": "stderr",
     "output_type": "stream",
     "text": [
      "b'Skipping line 451: expected 1 fields, saw 3\\n'\n",
      "b'Skipping line 451: expected 1 fields, saw 3\\n'\n",
      "b'Skipping line 489: expected 1 fields, saw 3\\n'\n",
      "b'Skipping line 448: expected 1 fields, saw 3\\n'\n",
      "b'Skipping line 606: expected 1 fields, saw 3\\n'\n",
      "b'Skipping line 492: expected 1 fields, saw 3\\n'\n",
      "b'Skipping line 446: expected 1 fields, saw 3\\n'\n",
      "b'Skipping line 464: expected 1 fields, saw 3\\n'\n",
      "b'Skipping line 475: expected 1 fields, saw 3\\n'\n",
      "b'Skipping line 464: expected 1 fields, saw 3\\n'\n",
      "b'Skipping line 541: expected 1 fields, saw 3\\n'\n",
      "b'Skipping line 471: expected 1 fields, saw 3\\n'\n"
     ]
    },
    {
     "name": "stdout",
     "output_type": "stream",
     "text": [
      "slurm_GCNGAP_ER.Status_layers_2_pooling_att_dist_40_lr_0.01_graphfeatsize_50_nhiddim1_100_dropout_0.3_weight_decay_0.001_bsize_10.out\n",
      "slurm_GCNGAP_ER.Status_layers_2_pooling_sum_dist_40_lr_0.001_graphfeatsize_50_nhiddim1_50_dropout_0.3_weight_decay_0.01_bsize_30.out\n",
      "slurm_GCNGAP_ER.Status_layers_1_pooling_att_dist_40_lr_0.01_graphfeatsize_100_nhiddim1_150_dropout_0.3_weight_decay_0.01_bsize_30.out\n",
      "slurm_GCNGAP_ER.Status_layers_1_pooling_sum_dist_80_lr_0.001_graphfeatsize_100_nhiddim1_150_dropout_0.5_weight_decay_0.1_bsize_10.out\n",
      "slurm_GCNGAP_ER.Status_layers_1_pooling_mean_dist_40_lr_0.001_graphfeatsize_100_nhiddim1_100_dropout_0.3_weight_decay_0.1_bsize_20.out\n",
      "slurm_GCNGAP_ER.Status_layers_2_pooling_mean_dist_40_lr_0.01_graphfeatsize_100_nhiddim1_100_dropout_0.5_weight_decay_0.01_bsize_10.out\n",
      "slurm_GCNGAP_ER.Status_layers_1_pooling_mean_dist_80_lr_0.01_graphfeatsize_100_nhiddim1_100_dropout_0.5_weight_decay_0.1_bsize_30.out\n",
      "slurm_GCNGAP_ER.Status_layers_2_pooling_sum_dist_40_lr_0.01_graphfeatsize_100_nhiddim1_50_dropout_0.5_weight_decay_0.001_bsize_10.out\n",
      "slurm_GCNGAP_ER.Status_layers_2_pooling_sum_dist_40_lr_0.01_graphfeatsize_150_nhiddim1_50_dropout_0.5_weight_decay_0.01_bsize_30.out\n",
      "slurm_GCNGAP_ER.Status_layers_1_pooling_mean_dist_80_lr_0.01_graphfeatsize_150_nhiddim1_150_dropout_0.3_weight_decay_0.1_bsize_10.out\n",
      "slurm_GCNGAP_ER.Status_layers_2_pooling_sum_dist_40_lr_0.001_graphfeatsize_100_nhiddim1_150_dropout_0.3_weight_decay_0.001_bsize_20.out\n",
      "slurm_GCNGAP_ER.Status_layers_1_pooling_sum_dist_40_lr_0.001_graphfeatsize_100_nhiddim1_50_dropout_0.3_weight_decay_0.1_bsize_20.out\n"
     ]
    },
    {
     "name": "stderr",
     "output_type": "stream",
     "text": [
      "b'Skipping line 467: expected 1 fields, saw 3\\n'\n",
      "b'Skipping line 619: expected 1 fields, saw 3\\n'\n",
      "b'Skipping line 444: expected 1 fields, saw 3\\n'\n",
      "b'Skipping line 443: expected 1 fields, saw 3\\n'\n",
      "b'Skipping line 492: expected 1 fields, saw 3\\n'\n",
      "b'Skipping line 443: expected 1 fields, saw 3\\n'\n",
      "b'Skipping line 361: expected 1 fields, saw 3\\n'\n",
      "b'Skipping line 468: expected 1 fields, saw 3\\n'\n",
      "b'Skipping line 474: expected 1 fields, saw 3\\n'\n",
      "b'Skipping line 586: expected 1 fields, saw 3\\n'\n",
      "b'Skipping line 688: expected 1 fields, saw 3\\n'\n",
      "b'Skipping line 463: expected 1 fields, saw 3\\n'\n",
      "b'Skipping line 451: expected 1 fields, saw 3\\n'\n"
     ]
    },
    {
     "name": "stdout",
     "output_type": "stream",
     "text": [
      "slurm_GCNGAP_ER.Status_layers_2_pooling_att_dist_40_lr_0.001_graphfeatsize_100_nhiddim1_100_dropout_0.5_weight_decay_0.001_bsize_20.out\n",
      "slurm_GCNGAP_ER.Status_layers_2_pooling_att_dist_40_lr_0.01_graphfeatsize_50_nhiddim1_100_dropout_0.5_weight_decay_0.01_bsize_20.out\n",
      "slurm_GCNGAP_ER.Status_layers_1_pooling_mean_dist_40_lr_0.001_graphfeatsize_100_nhiddim1_150_dropout_0.5_weight_decay_0.01_bsize_20.out\n",
      "slurm_GCNGAP_ER.Status_layers_2_pooling_mean_dist_40_lr_0.01_graphfeatsize_50_nhiddim1_150_dropout_0.5_weight_decay_0.001_bsize_20.out\n",
      "slurm_GCNGAP_ER.Status_layers_1_pooling_mean_dist_80_lr_0.01_graphfeatsize_150_nhiddim1_100_dropout_0.3_weight_decay_0.001_bsize_30.out\n",
      "slurm_GCNGAP_ER.Status_layers_2_pooling_mean_dist_40_lr_0.01_graphfeatsize_100_nhiddim1_150_dropout_0.3_weight_decay_0.001_bsize_10.out\n",
      "slurm_GCNGAP_ER.Status_layers_2_pooling_att_dist_40_lr_0.001_graphfeatsize_150_nhiddim1_50_dropout_0.5_weight_decay_0.1_bsize_10.out\n",
      "slurm_GCNGAP_ER.Status_layers_1_pooling_mean_dist_40_lr_0.001_graphfeatsize_50_nhiddim1_100_dropout_0.3_weight_decay_0.01_bsize_10.out\n",
      "slurm_GCNGAP_ER.Status_layers_1_pooling_mean_dist_80_lr_0.001_graphfeatsize_150_nhiddim1_150_dropout_0.5_weight_decay_0.01_bsize_10.out\n",
      "slurm_GCNGAP_ER.Status_layers_2_pooling_mean_dist_40_lr_0.01_graphfeatsize_100_nhiddim1_50_dropout_0.3_weight_decay_0.001_bsize_30.out\n",
      "slurm_GCNGAP_ER.Status_layers_1_pooling_att_dist_40_lr_0.01_graphfeatsize_50_nhiddim1_150_dropout_0.5_weight_decay_0.01_bsize_10.out\n",
      "slurm_GCNGAP_ER.Status_layers_1_pooling_mean_dist_80_lr_0.001_graphfeatsize_50_nhiddim1_150_dropout_0.3_weight_decay_0.01_bsize_30.out\n"
     ]
    },
    {
     "name": "stderr",
     "output_type": "stream",
     "text": [
      "b'Skipping line 457: expected 1 fields, saw 3\\n'\n",
      "b'Skipping line 463: expected 1 fields, saw 3\\n'\n",
      "b'Skipping line 721: expected 1 fields, saw 3\\n'\n",
      "b'Skipping line 704: expected 1 fields, saw 3\\n'\n",
      "b'Skipping line 456: expected 1 fields, saw 3\\n'\n",
      "b'Skipping line 556: expected 1 fields, saw 3\\n'\n",
      "b'Skipping line 707: expected 1 fields, saw 3\\n'\n",
      "b'Skipping line 453: expected 1 fields, saw 3\\n'\n",
      "b'Skipping line 442: expected 1 fields, saw 3\\n'\n",
      "b'Skipping line 677: expected 1 fields, saw 3\\n'\n",
      "b'Skipping line 443: expected 1 fields, saw 3\\n'\n"
     ]
    },
    {
     "name": "stdout",
     "output_type": "stream",
     "text": [
      "slurm_GCNGAP_ER.Status_layers_2_pooling_att_dist_40_lr_0.001_graphfeatsize_50_nhiddim1_150_dropout_0.5_weight_decay_0.1_bsize_30.out\n",
      "slurm_GCNGAP_ER.Status_layers_1_pooling_sum_dist_40_lr_0.001_graphfeatsize_50_nhiddim1_100_dropout_0.5_weight_decay_0.001_bsize_20.out\n",
      "slurm_GCNGAP_ER.Status_layers_1_pooling_mean_dist_40_lr_0.01_graphfeatsize_150_nhiddim1_150_dropout_0.3_weight_decay_0.01_bsize_10.out\n",
      "slurm_GCNGAP_ER.Status_layers_1_pooling_att_dist_40_lr_0.01_graphfeatsize_100_nhiddim1_100_dropout_0.5_weight_decay_0.1_bsize_20.out\n",
      "slurm_GCNGAP_ER.Status_layers_1_pooling_mean_dist_80_lr_0.01_graphfeatsize_150_nhiddim1_100_dropout_0.3_weight_decay_0.01_bsize_30.out\n",
      "slurm_GCNGAP_ER.Status_layers_2_pooling_sum_dist_40_lr_0.001_graphfeatsize_150_nhiddim1_150_dropout_0.5_weight_decay_0.01_bsize_20.out\n",
      "slurm_GCNGAP_ER.Status_layers_2_pooling_sum_dist_40_lr_0.01_graphfeatsize_150_nhiddim1_150_dropout_0.3_weight_decay_0.01_bsize_20.out\n",
      "slurm_GCNGAP_ER.Status_layers_1_pooling_sum_dist_80_lr_0.01_graphfeatsize_100_nhiddim1_50_dropout_0.3_weight_decay_0.001_bsize_10.out\n",
      "slurm_GCNGAP_ER.Status_layers_2_pooling_sum_dist_40_lr_0.001_graphfeatsize_150_nhiddim1_150_dropout_0.5_weight_decay_0.1_bsize_30.out\n",
      "slurm_GCNGAP_ER.Status_layers_1_pooling_mean_dist_40_lr_0.01_graphfeatsize_150_nhiddim1_50_dropout_0.5_weight_decay_0.01_bsize_30.out\n",
      "slurm_GCNGAP_ER.Status_layers_1_pooling_mean_dist_80_lr_0.01_graphfeatsize_100_nhiddim1_100_dropout_0.3_weight_decay_0.001_bsize_30.out\n",
      "slurm_GCNGAP_ER.Status_layers_2_pooling_sum_dist_40_lr_0.001_graphfeatsize_150_nhiddim1_150_dropout_0.3_weight_decay_0.001_bsize_20.out"
     ]
    },
    {
     "name": "stderr",
     "output_type": "stream",
     "text": [
      "b'Skipping line 742: expected 1 fields, saw 3\\n'\n",
      "b'Skipping line 528: expected 1 fields, saw 3\\n'\n",
      "b'Skipping line 443: expected 1 fields, saw 3\\n'\n",
      "b'Skipping line 512: expected 1 fields, saw 3\\n'\n",
      "b'Skipping line 554: expected 1 fields, saw 3\\n'\n",
      "b'Skipping line 632: expected 1 fields, saw 3\\n'\n",
      "b'Skipping line 458: expected 1 fields, saw 3\\n'\n",
      "b'Skipping line 362: expected 1 fields, saw 3\\n'\n",
      "b'Skipping line 442: expected 1 fields, saw 3\\n'\n",
      "b'Skipping line 444: expected 1 fields, saw 3\\n'\n",
      "b'Skipping line 594: expected 1 fields, saw 3\\n'\n",
      "b'Skipping line 446: expected 1 fields, saw 3\\n'\n"
     ]
    },
    {
     "name": "stdout",
     "output_type": "stream",
     "text": [
      "\n",
      "slurm_GCNGAP_ER.Status_layers_2_pooling_sum_dist_40_lr_0.001_graphfeatsize_50_nhiddim1_100_dropout_0.3_weight_decay_0.01_bsize_20.out\n",
      "slurm_GCNGAP_ER.Status_layers_1_pooling_mean_dist_80_lr_0.01_graphfeatsize_50_nhiddim1_50_dropout_0.5_weight_decay_0.1_bsize_10.out\n",
      "slurm_GCNGAP_ER.Status_layers_1_pooling_sum_dist_40_lr_0.001_graphfeatsize_50_nhiddim1_50_dropout_0.5_weight_decay_0.1_bsize_30.out\n",
      "slurm_GCNGAP_ER.Status_layers_2_pooling_mean_dist_40_lr_0.001_graphfeatsize_150_nhiddim1_100_dropout_0.3_weight_decay_0.1_bsize_10.out\n",
      "slurm_GCNGAP_ER.Status_layers_2_pooling_att_dist_40_lr_0.001_graphfeatsize_150_nhiddim1_100_dropout_0.5_weight_decay_0.001_bsize_20.out\n",
      "slurm_GCNGAP_ER.Status_layers_2_pooling_mean_dist_40_lr_0.01_graphfeatsize_50_nhiddim1_100_dropout_0.3_weight_decay_0.01_bsize_30.out\n",
      "slurm_GCNGAP_ER.Status_layers_1_pooling_att_dist_40_lr_0.001_graphfeatsize_100_nhiddim1_150_dropout_0.3_weight_decay_0.1_bsize_10.out\n",
      "slurm_GCNGAP_ER.Status_layers_1_pooling_mean_dist_40_lr_0.001_graphfeatsize_50_nhiddim1_50_dropout_0.3_weight_decay_0.01_bsize_30.out\n",
      "slurm_GCNGAP_ER.Status_layers_1_pooling_att_dist_40_lr_0.001_graphfeatsize_150_nhiddim1_50_dropout_0.3_weight_decay_0.001_bsize_30.out\n",
      "slurm_GCNGAP_ER.Status_layers_2_pooling_att_dist_40_lr_0.01_graphfeatsize_100_nhiddim1_50_dropout_0.5_weight_decay_0.1_bsize_20.out\n",
      "slurm_GCNGAP_ER.Status_layers_2_pooling_mean_dist_40_lr_0.01_graphfeatsize_150_nhiddim1_150_dropout_0.3_weight_decay_0.001_bsize_10.out\n"
     ]
    },
    {
     "name": "stderr",
     "output_type": "stream",
     "text": [
      "b'Skipping line 462: expected 1 fields, saw 3\\n'\n",
      "b'Skipping line 592: expected 1 fields, saw 3\\n'\n",
      "b'Skipping line 452: expected 1 fields, saw 3\\n'\n",
      "b'Skipping line 685: expected 1 fields, saw 3\\n'\n",
      "b'Skipping line 527: expected 1 fields, saw 3\\n'\n",
      "b'Skipping line 443: expected 1 fields, saw 3\\n'\n",
      "b'Skipping line 453: expected 1 fields, saw 3\\n'\n",
      "b'Skipping line 448: expected 1 fields, saw 3\\n'\n",
      "b'Skipping line 451: expected 1 fields, saw 3\\n'\n",
      "b'Skipping line 492: expected 1 fields, saw 3\\n'\n",
      "b'Skipping line 443: expected 1 fields, saw 3\\n'\n",
      "b'Skipping line 555: expected 1 fields, saw 3\\n'\n"
     ]
    },
    {
     "name": "stdout",
     "output_type": "stream",
     "text": [
      "slurm_GCNGAP_ER.Status_layers_1_pooling_mean_dist_40_lr_0.01_graphfeatsize_50_nhiddim1_50_dropout_0.5_weight_decay_0.1_bsize_30.out\n",
      "slurm_GCNGAP_ER.Status_layers_2_pooling_mean_dist_40_lr_0.01_graphfeatsize_150_nhiddim1_150_dropout_0.5_weight_decay_0.1_bsize_20.out\n",
      "slurm_GCNGAP_ER.Status_layers_1_pooling_sum_dist_40_lr_0.001_graphfeatsize_150_nhiddim1_50_dropout_0.5_weight_decay_0.01_bsize_20.out\n",
      "slurm_GCNGAP_ER.Status_layers_1_pooling_sum_dist_40_lr_0.01_graphfeatsize_100_nhiddim1_150_dropout_0.5_weight_decay_0.1_bsize_10.out\n",
      "slurm_GCNGAP_ER.Status_layers_2_pooling_att_dist_40_lr_0.001_graphfeatsize_100_nhiddim1_150_dropout_0.3_weight_decay_0.01_bsize_10.out\n",
      "slurm_GCNGAP_ER.Status_layers_2_pooling_sum_dist_40_lr_0.01_graphfeatsize_50_nhiddim1_150_dropout_0.5_weight_decay_0.1_bsize_20.out\n",
      "slurm_GCNGAP_ER.Status_layers_1_pooling_att_dist_40_lr_0.001_graphfeatsize_50_nhiddim1_50_dropout_0.5_weight_decay_0.001_bsize_20.out\n",
      "slurm_GCNGAP_ER.Status_layers_2_pooling_mean_dist_40_lr_0.01_graphfeatsize_50_nhiddim1_150_dropout_0.3_weight_decay_0.01_bsize_10.out\n",
      "slurm_GCNGAP_ER.Status_layers_1_pooling_att_dist_40_lr_0.001_graphfeatsize_100_nhiddim1_100_dropout_0.3_weight_decay_0.001_bsize_30.out\n",
      "slurm_GCNGAP_ER.Status_layers_1_pooling_att_dist_40_lr_0.001_graphfeatsize_50_nhiddim1_100_dropout_0.3_weight_decay_0.001_bsize_20.out\n",
      "slurm_GCNGAP_ER.Status_layers_1_pooling_sum_dist_80_lr_0.01_graphfeatsize_50_nhiddim1_150_dropout_0.5_weight_decay_0.01_bsize_10.out\n",
      "slurm_GCNGAP_ER.Status_layers_1_pooling_sum_dist_40_lr_0.001_graphfeatsize_100_nhiddim1_150_dropout_0.5_weight_decay_0.001_bsize_30.out\n"
     ]
    },
    {
     "name": "stderr",
     "output_type": "stream",
     "text": [
      "b'Skipping line 607: expected 1 fields, saw 3\\n'\n",
      "b'Skipping line 496: expected 1 fields, saw 3\\n'\n",
      "b'Skipping line 585: expected 1 fields, saw 3\\n'\n",
      "b'Skipping line 502: expected 1 fields, saw 3\\n'\n",
      "b'Skipping line 504: expected 1 fields, saw 3\\n'\n",
      "b'Skipping line 444: expected 1 fields, saw 3\\n'\n",
      "b'Skipping line 479: expected 1 fields, saw 3\\n'\n",
      "b'Skipping line 452: expected 1 fields, saw 3\\n'\n",
      "b'Skipping line 632: expected 1 fields, saw 3\\n'\n",
      "b'Skipping line 443: expected 1 fields, saw 3\\n'\n",
      "b'Skipping line 444: expected 1 fields, saw 3\\n'\n",
      "b'Skipping line 505: expected 1 fields, saw 3\\n'\n"
     ]
    },
    {
     "name": "stdout",
     "output_type": "stream",
     "text": [
      "slurm_GCNGAP_ER.Status_layers_1_pooling_att_dist_40_lr_0.01_graphfeatsize_50_nhiddim1_100_dropout_0.5_weight_decay_0.001_bsize_10.out\n",
      "slurm_GCNGAP_ER.Status_layers_2_pooling_att_dist_40_lr_0.001_graphfeatsize_100_nhiddim1_100_dropout_0.3_weight_decay_0.01_bsize_30.out\n",
      "slurm_GCNGAP_ER.Status_layers_1_pooling_sum_dist_80_lr_0.001_graphfeatsize_150_nhiddim1_50_dropout_0.5_weight_decay_0.01_bsize_20.out\n",
      "not in\n",
      "slurm_GCNGAP_ER.Status_layers_1_pooling_sum_dist_40_lr_0.01_graphfeatsize_100_nhiddim1_50_dropout_0.3_weight_decay_0.001_bsize_10.out\n",
      "slurm_GCNGAP_ER.Status_layers_1_pooling_att_dist_40_lr_0.01_graphfeatsize_50_nhiddim1_50_dropout_0.5_weight_decay_0.1_bsize_30.out\n",
      "slurm_GCNGAP_ER.Status_layers_1_pooling_sum_dist_40_lr_0.001_graphfeatsize_50_nhiddim1_100_dropout_0.5_weight_decay_0.1_bsize_10.out\n",
      "slurm_GCNGAP_ER.Status_layers_2_pooling_sum_dist_40_lr_0.001_graphfeatsize_100_nhiddim1_50_dropout_0.3_weight_decay_0.1_bsize_30.out\n",
      "slurm_GCNGAP_ER.Status_layers_1_pooling_mean_dist_80_lr_0.001_graphfeatsize_150_nhiddim1_100_dropout_0.5_weight_decay_0.01_bsize_30.out\n",
      "slurm_GCNGAP_ER.Status_layers_1_pooling_mean_dist_80_lr_0.001_graphfeatsize_50_nhiddim1_100_dropout_0.3_weight_decay_0.01_bsize_10.out\n",
      "slurm_GCNGAP_ER.Status_layers_1_pooling_att_dist_40_lr_0.01_graphfeatsize_50_nhiddim1_100_dropout_0.5_weight_decay_0.01_bsize_30.out\n",
      "slurm_GCNGAP_ER.Status_layers_1_pooling_mean_dist_40_lr_0.001_graphfeatsize_50_nhiddim1_150_dropout_0.3_weight_decay_0.01_bsize_30.out\n",
      "slurm_GCNGAP_ER.Status_layers_1_pooling_sum_dist_40_lr_0.001_graphfeatsize_150_nhiddim1_100_dropout_0.3_weight_decay_0.1_bsize_30.out\n"
     ]
    },
    {
     "name": "stderr",
     "output_type": "stream",
     "text": [
      "b'Skipping line 442: expected 1 fields, saw 3\\n'\n",
      "b'Skipping line 705: expected 1 fields, saw 3\\n'\n",
      "b'Skipping line 656: expected 1 fields, saw 3\\n'\n",
      "b'Skipping line 546: expected 1 fields, saw 3\\n'\n",
      "b'Skipping line 706: expected 1 fields, saw 3\\n'\n",
      "b'Skipping line 548: expected 1 fields, saw 3\\n'\n",
      "b'Skipping line 495: expected 1 fields, saw 3\\n'\n",
      "b'Skipping line 611: expected 1 fields, saw 3\\n'\n",
      "b'Skipping line 735: expected 1 fields, saw 3\\n'\n",
      "b'Skipping line 443: expected 1 fields, saw 3\\n'\n",
      "b'Skipping line 442: expected 1 fields, saw 3\\n'\n"
     ]
    },
    {
     "name": "stdout",
     "output_type": "stream",
     "text": [
      "slurm_GCNGAP_ER.Status_layers_1_pooling_att_dist_40_lr_0.001_graphfeatsize_150_nhiddim1_100_dropout_0.3_weight_decay_0.001_bsize_30.out\n",
      "slurm_GCNGAP_ER.Status_layers_1_pooling_mean_dist_80_lr_0.01_graphfeatsize_150_nhiddim1_150_dropout_0.3_weight_decay_0.01_bsize_10.out\n",
      "slurm_GCNGAP_ER.Status_layers_1_pooling_mean_dist_40_lr_0.01_graphfeatsize_150_nhiddim1_100_dropout_0.3_weight_decay_0.01_bsize_30.out\n",
      "slurm_GCNGAP_ER.Status_layers_1_pooling_sum_dist_40_lr_0.001_graphfeatsize_150_nhiddim1_50_dropout_0.5_weight_decay_0.001_bsize_30.out\n",
      "slurm_GCNGAP_ER.Status_layers_1_pooling_sum_dist_80_lr_0.001_graphfeatsize_50_nhiddim1_150_dropout_0.3_weight_decay_0.001_bsize_10.out\n",
      "slurm_GCNGAP_ER.Status_layers_2_pooling_att_dist_40_lr_0.01_graphfeatsize_50_nhiddim1_100_dropout_0.3_weight_decay_0.1_bsize_10.out\n",
      "slurm_GCNGAP_ER.Status_layers_1_pooling_sum_dist_40_lr_0.001_graphfeatsize_150_nhiddim1_150_dropout_0.5_weight_decay_0.001_bsize_30.out\n",
      "slurm_GCNGAP_ER.Status_layers_1_pooling_mean_dist_40_lr_0.01_graphfeatsize_150_nhiddim1_100_dropout_0.3_weight_decay_0.1_bsize_20.out\n",
      "slurm_GCNGAP_ER.Status_layers_2_pooling_att_dist_40_lr_0.001_graphfeatsize_50_nhiddim1_150_dropout_0.5_weight_decay_0.01_bsize_20.out\n",
      "slurm_GCNGAP_ER.Status_layers_1_pooling_att_dist_40_lr_0.001_graphfeatsize_50_nhiddim1_150_dropout_0.5_weight_decay_0.1_bsize_20.out\n",
      "slurm_GCNGAP_ER.Status_layers_2_pooling_mean_dist_40_lr_0.001_graphfeatsize_150_nhiddim1_100_dropout_0.3_weight_decay_0.01_bsize_20.out\n"
     ]
    },
    {
     "name": "stderr",
     "output_type": "stream",
     "text": [
      "b'Skipping line 447: expected 1 fields, saw 3\\n'\n",
      "b'Skipping line 442: expected 1 fields, saw 3\\n'\n",
      "b'Skipping line 443: expected 1 fields, saw 3\\n'\n",
      "b'Skipping line 602: expected 1 fields, saw 3\\n'\n",
      "b'Skipping line 467: expected 1 fields, saw 3\\n'\n",
      "b'Skipping line 553: expected 1 fields, saw 3\\n'\n",
      "b'Skipping line 444: expected 1 fields, saw 3\\n'\n",
      "b'Skipping line 448: expected 1 fields, saw 3\\n'\n",
      "b'Skipping line 447: expected 1 fields, saw 3\\n'\n",
      "b'Skipping line 654: expected 1 fields, saw 3\\n'\n",
      "b'Skipping line 687: expected 1 fields, saw 3\\n'\n"
     ]
    },
    {
     "name": "stdout",
     "output_type": "stream",
     "text": [
      "slurm_GCNGAP_ER.Status_layers_2_pooling_att_dist_40_lr_0.01_graphfeatsize_100_nhiddim1_100_dropout_0.5_weight_decay_0.1_bsize_30.out\n",
      "slurm_GCNGAP_ER.Status_layers_2_pooling_mean_dist_40_lr_0.001_graphfeatsize_50_nhiddim1_50_dropout_0.5_weight_decay_0.1_bsize_10.out\n",
      "slurm_GCNGAP_ER.Status_layers_2_pooling_att_dist_40_lr_0.001_graphfeatsize_100_nhiddim1_100_dropout_0.5_weight_decay_0.1_bsize_10.out\n",
      "slurm_GCNGAP_ER.Status_layers_2_pooling_att_dist_40_lr_0.01_graphfeatsize_150_nhiddim1_100_dropout_0.5_weight_decay_0.01_bsize_20.out\n",
      "slurm_GCNGAP_ER.Status_layers_1_pooling_mean_dist_40_lr_0.001_graphfeatsize_150_nhiddim1_50_dropout_0.3_weight_decay_0.01_bsize_20.out\n",
      "slurm_GCNGAP_ER.Status_layers_2_pooling_att_dist_40_lr_0.001_graphfeatsize_50_nhiddim1_50_dropout_0.3_weight_decay_0.01_bsize_10.out\n",
      "slurm_GCNGAP_ER.Status_layers_1_pooling_mean_dist_80_lr_0.001_graphfeatsize_100_nhiddim1_100_dropout_0.3_weight_decay_0.001_bsize_10.out\n",
      "slurm_GCNGAP_ER.Status_layers_2_pooling_mean_dist_40_lr_0.01_graphfeatsize_100_nhiddim1_150_dropout_0.3_weight_decay_0.1_bsize_10.out\n",
      "slurm_GCNGAP_ER.Status_layers_1_pooling_att_dist_40_lr_0.001_graphfeatsize_50_nhiddim1_100_dropout_0.3_weight_decay_0.01_bsize_30.out\n",
      "slurm_GCNGAP_ER.Status_layers_1_pooling_sum_dist_40_lr_0.01_graphfeatsize_150_nhiddim1_150_dropout_0.3_weight_decay_0.1_bsize_20.out\n",
      "slurm_GCNGAP_ER.Status_layers_1_pooling_mean_dist_80_lr_0.001_graphfeatsize_100_nhiddim1_50_dropout_0.3_weight_decay_0.1_bsize_10.out\n",
      "slurm_GCNGAP_ER.Status_layers_1_pooling_att_dist_40_lr_0.001_graphfeatsize_150_nhiddim1_150_dropout_0.5_weight_decay_0.1_bsize_20.out\n"
     ]
    },
    {
     "name": "stderr",
     "output_type": "stream",
     "text": [
      "b'Skipping line 619: expected 1 fields, saw 3\\n'\n",
      "b'Skipping line 487: expected 1 fields, saw 3\\n'\n",
      "b'Skipping line 482: expected 1 fields, saw 3\\n'\n",
      "b'Skipping line 539: expected 1 fields, saw 3\\n'\n",
      "b'Skipping line 506: expected 1 fields, saw 3\\n'\n",
      "b'Skipping line 474: expected 1 fields, saw 3\\n'\n",
      "b'Skipping line 467: expected 1 fields, saw 3\\n'\n",
      "b'Skipping line 469: expected 1 fields, saw 3\\n'\n",
      "b'Skipping line 361: expected 1 fields, saw 3\\n'\n",
      "b'Skipping line 532: expected 1 fields, saw 3\\n'\n",
      "b'Skipping line 517: expected 1 fields, saw 3\\n'\n"
     ]
    },
    {
     "name": "stdout",
     "output_type": "stream",
     "text": [
      "slurm_GCNGAP_ER.Status_layers_2_pooling_att_dist_40_lr_0.001_graphfeatsize_100_nhiddim1_50_dropout_0.5_weight_decay_0.001_bsize_20.out\n",
      "slurm_GCNGAP_ER.Status_layers_2_pooling_sum_dist_40_lr_0.01_graphfeatsize_50_nhiddim1_50_dropout_0.3_weight_decay_0.001_bsize_20.out\n",
      "slurm_GCNGAP_ER.Status_layers_1_pooling_mean_dist_40_lr_0.001_graphfeatsize_50_nhiddim1_100_dropout_0.3_weight_decay_0.001_bsize_30.out\n",
      "slurm_GCNGAP_ER.Status_layers_1_pooling_att_dist_40_lr_0.01_graphfeatsize_150_nhiddim1_150_dropout_0.3_weight_decay_0.01_bsize_30.out\n",
      "slurm_GCNGAP_ER.Status_layers_1_pooling_mean_dist_80_lr_0.01_graphfeatsize_50_nhiddim1_50_dropout_0.5_weight_decay_0.01_bsize_20.out\n",
      "slurm_GCNGAP_ER.Status_layers_2_pooling_att_dist_40_lr_0.01_graphfeatsize_150_nhiddim1_50_dropout_0.5_weight_decay_0.01_bsize_10.out\n",
      "slurm_GCNGAP_ER.Status_layers_2_pooling_att_dist_40_lr_0.001_graphfeatsize_150_nhiddim1_50_dropout_0.5_weight_decay_0.01_bsize_30.out\n",
      "slurm_GCNGAP_ER.Status_layers_2_pooling_mean_dist_40_lr_0.01_graphfeatsize_150_nhiddim1_50_dropout_0.3_weight_decay_0.1_bsize_20.out\n",
      "slurm_GCNGAP_ER.Status_layers_2_pooling_att_dist_40_lr_0.001_graphfeatsize_50_nhiddim1_150_dropout_0.3_weight_decay_0.001_bsize_30.out\n",
      "slurm_GCNGAP_ER.Status_layers_2_pooling_sum_dist_40_lr_0.01_graphfeatsize_150_nhiddim1_50_dropout_0.5_weight_decay_0.001_bsize_10.out\n"
     ]
    },
    {
     "name": "stderr",
     "output_type": "stream",
     "text": [
      "b'Skipping line 741: expected 1 fields, saw 3\\n'\n",
      "b'Skipping line 740: expected 1 fields, saw 3\\n'\n",
      "b'Skipping line 663: expected 1 fields, saw 3\\n'\n",
      "b'Skipping line 443: expected 1 fields, saw 3\\n'\n",
      "b'Skipping line 484: expected 1 fields, saw 3\\n'\n",
      "b'Skipping line 362: expected 1 fields, saw 3\\n'\n",
      "b'Skipping line 604: expected 1 fields, saw 3\\n'\n",
      "b'Skipping line 448: expected 1 fields, saw 3\\n'\n",
      "b'Skipping line 463: expected 1 fields, saw 3\\n'\n",
      "b'Skipping line 541: expected 1 fields, saw 3\\n'\n",
      "b'Skipping line 559: expected 1 fields, saw 3\\n'\n",
      "b'Skipping line 499: expected 1 fields, saw 3\\n'\n"
     ]
    },
    {
     "name": "stdout",
     "output_type": "stream",
     "text": [
      "slurm_GCNGAP_ER.Status_layers_2_pooling_mean_dist_40_lr_0.01_graphfeatsize_150_nhiddim1_100_dropout_0.5_weight_decay_0.01_bsize_10.out\n",
      "slurm_GCNGAP_ER.Status_layers_2_pooling_mean_dist_40_lr_0.001_graphfeatsize_100_nhiddim1_100_dropout_0.5_weight_decay_0.1_bsize_20.out\n",
      "slurm_GCNGAP_ER.Status_layers_1_pooling_att_dist_40_lr_0.01_graphfeatsize_100_nhiddim1_150_dropout_0.5_weight_decay_0.001_bsize_10.out\n",
      "slurm_GCNGAP_ER.Status_layers_2_pooling_mean_dist_40_lr_0.001_graphfeatsize_50_nhiddim1_150_dropout_0.5_weight_decay_0.01_bsize_10.out\n",
      "slurm_GCNGAP_ER.Status_layers_2_pooling_sum_dist_40_lr_0.01_graphfeatsize_50_nhiddim1_50_dropout_0.5_weight_decay_0.1_bsize_20.out\n",
      "slurm_GCNGAP_ER.Status_layers_2_pooling_sum_dist_40_lr_0.001_graphfeatsize_50_nhiddim1_50_dropout_0.3_weight_decay_0.1_bsize_30.out\n",
      "slurm_GCNGAP_ER.Status_layers_1_pooling_mean_dist_40_lr_0.001_graphfeatsize_100_nhiddim1_150_dropout_0.3_weight_decay_0.1_bsize_30.out\n",
      "slurm_GCNGAP_ER.Status_layers_1_pooling_mean_dist_40_lr_0.001_graphfeatsize_150_nhiddim1_50_dropout_0.5_weight_decay_0.1_bsize_30.out\n",
      "slurm_GCNGAP_ER.Status_layers_1_pooling_sum_dist_40_lr_0.01_graphfeatsize_150_nhiddim1_150_dropout_0.5_weight_decay_0.01_bsize_10.out\n",
      "slurm_GCNGAP_ER.Status_layers_1_pooling_att_dist_40_lr_0.01_graphfeatsize_150_nhiddim1_100_dropout_0.3_weight_decay_0.1_bsize_10.out\n",
      "slurm_GCNGAP_ER.Status_layers_1_pooling_sum_dist_40_lr_0.01_graphfeatsize_100_nhiddim1_50_dropout_0.3_weight_decay_0.01_bsize_30.out\n",
      "slurm_GCNGAP_ER.Status_layers_1_pooling_mean_dist_40_lr_0.01_graphfeatsize_150_nhiddim1_50_dropout_0.5_weight_decay_0.001_bsize_20.out\n",
      "slurm_GCNGAP_ER.Status_layers_1_pooling_sum_dist_40_lr_0.001_graphfeatsize_150_nhiddim1_100_dropout_0.3_weight_decay_0.01_bsize_20.out\n"
     ]
    },
    {
     "name": "stderr",
     "output_type": "stream",
     "text": [
      "b'Skipping line 471: expected 1 fields, saw 3\\n'\n",
      "b'Skipping line 495: expected 1 fields, saw 3\\n'\n",
      "b'Skipping line 443: expected 1 fields, saw 3\\n'\n",
      "b'Skipping line 444: expected 1 fields, saw 3\\n'\n",
      "b'Skipping line 447: expected 1 fields, saw 3\\n'\n",
      "b'Skipping line 456: expected 1 fields, saw 3\\n'\n",
      "b'Skipping line 442: expected 1 fields, saw 3\\n'\n",
      "b'Skipping line 475: expected 1 fields, saw 3\\n'\n",
      "b'Skipping line 454: expected 1 fields, saw 3\\n'\n",
      "b'Skipping line 442: expected 1 fields, saw 3\\n'\n",
      "b'Skipping line 452: expected 1 fields, saw 3\\n'\n",
      "b'Skipping line 451: expected 1 fields, saw 3\\n'\n"
     ]
    },
    {
     "name": "stdout",
     "output_type": "stream",
     "text": [
      "slurm_GCNGAP_ER.Status_layers_1_pooling_mean_dist_80_lr_0.001_graphfeatsize_150_nhiddim1_100_dropout_0.3_weight_decay_0.001_bsize_10.out\n",
      "slurm_GCNGAP_ER.Status_layers_1_pooling_mean_dist_80_lr_0.01_graphfeatsize_50_nhiddim1_100_dropout_0.5_weight_decay_0.001_bsize_30.out\n",
      "slurm_GCNGAP_ER.Status_layers_1_pooling_sum_dist_40_lr_0.001_graphfeatsize_50_nhiddim1_100_dropout_0.5_weight_decay_0.01_bsize_10.out\n",
      "slurm_GCNGAP_ER.Status_layers_1_pooling_mean_dist_40_lr_0.001_graphfeatsize_50_nhiddim1_150_dropout_0.5_weight_decay_0.1_bsize_10.out\n",
      "slurm_GCNGAP_ER.Status_layers_1_pooling_att_dist_40_lr_0.01_graphfeatsize_150_nhiddim1_150_dropout_0.5_weight_decay_0.001_bsize_10.out\n",
      "slurm_GCNGAP_ER.Status_layers_2_pooling_mean_dist_40_lr_0.01_graphfeatsize_50_nhiddim1_50_dropout_0.3_weight_decay_0.1_bsize_30.out\n",
      "slurm_GCNGAP_ER.Status_layers_1_pooling_sum_dist_80_lr_0.001_graphfeatsize_100_nhiddim1_100_dropout_0.3_weight_decay_0.01_bsize_10.out\n",
      "slurm_GCNGAP_ER.Status_layers_1_pooling_att_dist_40_lr_0.001_graphfeatsize_100_nhiddim1_100_dropout_0.5_weight_decay_0.01_bsize_10.out\n",
      "slurm_GCNGAP_ER.Status_layers_1_pooling_mean_dist_80_lr_0.01_graphfeatsize_100_nhiddim1_150_dropout_0.5_weight_decay_0.1_bsize_20.out\n",
      "slurm_GCNGAP_ER.Status_layers_1_pooling_att_dist_40_lr_0.01_graphfeatsize_100_nhiddim1_50_dropout_0.3_weight_decay_0.1_bsize_20.out\n",
      "slurm_GCNGAP_ER.Status_layers_2_pooling_mean_dist_40_lr_0.001_graphfeatsize_100_nhiddim1_50_dropout_0.5_weight_decay_0.1_bsize_20.out\n",
      "slurm_GCNGAP_ER.Status_layers_2_pooling_sum_dist_40_lr_0.001_graphfeatsize_150_nhiddim1_50_dropout_0.3_weight_decay_0.01_bsize_10.out\n"
     ]
    },
    {
     "name": "stderr",
     "output_type": "stream",
     "text": [
      "b'Skipping line 443: expected 1 fields, saw 3\\n'\n",
      "b'Skipping line 466: expected 1 fields, saw 3\\n'\n",
      "b'Skipping line 510: expected 1 fields, saw 3\\n'\n",
      "b'Skipping line 445: expected 1 fields, saw 3\\n'\n",
      "b'Skipping line 444: expected 1 fields, saw 3\\n'\n",
      "b'Skipping line 452: expected 1 fields, saw 3\\n'\n",
      "b'Skipping line 459: expected 1 fields, saw 3\\n'\n",
      "b'Skipping line 442: expected 1 fields, saw 3\\n'\n",
      "b'Skipping line 488: expected 1 fields, saw 3\\n'\n",
      "b'Skipping line 367: expected 1 fields, saw 3\\n'\n",
      "b'Skipping line 599: expected 1 fields, saw 3\\n'\n",
      "b'Skipping line 443: expected 1 fields, saw 3\\n'\n"
     ]
    },
    {
     "name": "stdout",
     "output_type": "stream",
     "text": [
      "slurm_GCNGAP_ER.Status_layers_1_pooling_sum_dist_80_lr_0.01_graphfeatsize_50_nhiddim1_50_dropout_0.5_weight_decay_0.01_bsize_10.out\n",
      "slurm_GCNGAP_ER.Status_layers_2_pooling_mean_dist_40_lr_0.001_graphfeatsize_150_nhiddim1_50_dropout_0.5_weight_decay_0.001_bsize_30.out\n",
      "slurm_GCNGAP_ER.Status_layers_1_pooling_sum_dist_40_lr_0.01_graphfeatsize_100_nhiddim1_150_dropout_0.3_weight_decay_0.001_bsize_10.out\n",
      "slurm_GCNGAP_ER.Status_layers_1_pooling_mean_dist_40_lr_0.01_graphfeatsize_50_nhiddim1_150_dropout_0.5_weight_decay_0.01_bsize_20.out\n",
      "slurm_GCNGAP_ER.Status_layers_2_pooling_sum_dist_40_lr_0.01_graphfeatsize_100_nhiddim1_50_dropout_0.3_weight_decay_0.01_bsize_20.out\n",
      "slurm_GCNGAP_ER.Status_layers_1_pooling_att_dist_40_lr_0.001_graphfeatsize_100_nhiddim1_150_dropout_0.5_weight_decay_0.01_bsize_30.out\n",
      "slurm_GCNGAP_ER.Status_layers_2_pooling_att_dist_40_lr_0.001_graphfeatsize_150_nhiddim1_100_dropout_0.3_weight_decay_0.1_bsize_20.out\n",
      "slurm_GCNGAP_ER.Status_layers_1_pooling_mean_dist_40_lr_0.01_graphfeatsize_100_nhiddim1_100_dropout_0.5_weight_decay_0.1_bsize_10.out\n",
      "slurm_GCNGAP_ER.Status_layers_2_pooling_mean_dist_40_lr_0.001_graphfeatsize_50_nhiddim1_100_dropout_0.5_weight_decay_0.001_bsize_20.out\n",
      "slurm_GCNGAP_ER.Status_layers_2_pooling_sum_dist_40_lr_0.001_graphfeatsize_50_nhiddim1_150_dropout_0.5_weight_decay_0.001_bsize_30.out\n",
      "slurm_GCNGAP_ER.Status_layers_1_pooling_sum_dist_40_lr_0.01_graphfeatsize_50_nhiddim1_150_dropout_0.3_weight_decay_0.1_bsize_20.out\n",
      "slurm_GCNGAP_ER.Status_layers_1_pooling_sum_dist_40_lr_0.01_graphfeatsize_150_nhiddim1_100_dropout_0.5_weight_decay_0.01_bsize_30.out\n"
     ]
    },
    {
     "name": "stderr",
     "output_type": "stream",
     "text": [
      "b'Skipping line 499: expected 1 fields, saw 3\\n'\n",
      "b'Skipping line 450: expected 1 fields, saw 3\\n'\n",
      "b'Skipping line 444: expected 1 fields, saw 3\\n'\n",
      "b'Skipping line 483: expected 1 fields, saw 3\\n'\n",
      "b'Skipping line 361: expected 1 fields, saw 3\\n'\n",
      "b'Skipping line 588: expected 1 fields, saw 3\\n'\n",
      "b'Skipping line 443: expected 1 fields, saw 3\\n'\n",
      "b'Skipping line 484: expected 1 fields, saw 3\\n'\n",
      "b'Skipping line 442: expected 1 fields, saw 3\\n'\n",
      "b'Skipping line 442: expected 1 fields, saw 3\\n'\n",
      "b'Skipping line 456: expected 1 fields, saw 3\\n'\n"
     ]
    },
    {
     "name": "stdout",
     "output_type": "stream",
     "text": [
      "slurm_GCNGAP_ER.Status_layers_1_pooling_mean_dist_80_lr_0.001_graphfeatsize_100_nhiddim1_150_dropout_0.3_weight_decay_0.1_bsize_30.out\n",
      "slurm_GCNGAP_ER.Status_layers_1_pooling_sum_dist_80_lr_0.01_graphfeatsize_150_nhiddim1_150_dropout_0.5_weight_decay_0.01_bsize_10.out\n",
      "not in\n",
      "slurm_GCNGAP_ER.Status_layers_2_pooling_sum_dist_40_lr_0.001_graphfeatsize_100_nhiddim1_50_dropout_0.3_weight_decay_0.001_bsize_20.out\n",
      "slurm_GCNGAP_ER.Status_layers_1_pooling_sum_dist_40_lr_0.001_graphfeatsize_50_nhiddim1_150_dropout_0.5_weight_decay_0.01_bsize_30.out\n",
      "slurm_GCNGAP_ER.Status_layers_1_pooling_mean_dist_40_lr_0.01_graphfeatsize_50_nhiddim1_100_dropout_0.5_weight_decay_0.001_bsize_30.out\n",
      "slurm_GCNGAP_ER.Status_layers_1_pooling_sum_dist_80_lr_0.001_graphfeatsize_50_nhiddim1_100_dropout_0.5_weight_decay_0.01_bsize_10.out\n",
      "slurm_GCNGAP_ER.Status_layers_1_pooling_mean_dist_80_lr_0.01_graphfeatsize_50_nhiddim1_100_dropout_0.3_weight_decay_0.1_bsize_30.out\n",
      "slurm_GCNGAP_ER.Status_layers_1_pooling_mean_dist_80_lr_0.01_graphfeatsize_150_nhiddim1_50_dropout_0.5_weight_decay_0.001_bsize_20.out\n",
      "slurm_GCNGAP_ER.Status_layers_1_pooling_mean_dist_80_lr_0.001_graphfeatsize_50_nhiddim1_100_dropout_0.5_weight_decay_0.1_bsize_20.out\n",
      "slurm_GCNGAP_ER.Status_layers_1_pooling_att_dist_40_lr_0.01_graphfeatsize_50_nhiddim1_100_dropout_0.5_weight_decay_0.1_bsize_10.out\n",
      "slurm_GCNGAP_ER.Status_layers_2_pooling_mean_dist_40_lr_0.001_graphfeatsize_50_nhiddim1_100_dropout_0.3_weight_decay_0.1_bsize_10.out\n",
      "slurm_GCNGAP_ER.Status_layers_2_pooling_att_dist_40_lr_0.01_graphfeatsize_50_nhiddim1_150_dropout_0.5_weight_decay_0.001_bsize_10.out\n"
     ]
    },
    {
     "name": "stderr",
     "output_type": "stream",
     "text": [
      "b'Skipping line 442: expected 1 fields, saw 3\\n'\n",
      "b'Skipping line 451: expected 1 fields, saw 3\\n'\n",
      "b'Skipping line 459: expected 1 fields, saw 3\\n'\n",
      "b'Skipping line 472: expected 1 fields, saw 3\\n'\n",
      "b'Skipping line 443: expected 1 fields, saw 3\\n'\n",
      "b'Skipping line 448: expected 1 fields, saw 3\\n'\n",
      "b'Skipping line 454: expected 1 fields, saw 3\\n'\n",
      "b'Skipping line 507: expected 1 fields, saw 3\\n'\n",
      "b'Skipping line 520: expected 1 fields, saw 3\\n'\n",
      "b'Skipping line 488: expected 1 fields, saw 3\\n'\n",
      "b'Skipping line 361: expected 1 fields, saw 3\\n'\n",
      "b'Skipping line 369: expected 1 fields, saw 3\\n'\n",
      "b'Skipping line 572: expected 1 fields, saw 3\\n'\n"
     ]
    },
    {
     "name": "stdout",
     "output_type": "stream",
     "text": [
      "slurm_GCNGAP_ER.Status_layers_2_pooling_mean_dist_40_lr_0.01_graphfeatsize_150_nhiddim1_150_dropout_0.5_weight_decay_0.01_bsize_30.out\n",
      "slurm_GCNGAP_ER.Status_layers_1_pooling_mean_dist_80_lr_0.001_graphfeatsize_100_nhiddim1_50_dropout_0.3_weight_decay_0.001_bsize_10.out\n",
      "slurm_GCNGAP_ER.Status_layers_2_pooling_sum_dist_40_lr_0.01_graphfeatsize_150_nhiddim1_150_dropout_0.3_weight_decay_0.1_bsize_30.out\n",
      "slurm_GCNGAP_ER.Status_layers_1_pooling_sum_dist_40_lr_0.01_graphfeatsize_50_nhiddim1_50_dropout_0.3_weight_decay_0.001_bsize_30.out\n",
      "slurm_GCNGAP_ER.Status_layers_1_pooling_sum_dist_40_lr_0.01_graphfeatsize_150_nhiddim1_150_dropout_0.3_weight_decay_0.001_bsize_10.out\n",
      "slurm_GCNGAP_ER.Status_layers_2_pooling_mean_dist_40_lr_0.001_graphfeatsize_50_nhiddim1_100_dropout_0.5_weight_decay_0.01_bsize_30.out\n",
      "slurm_GCNGAP_ER.Status_layers_2_pooling_sum_dist_40_lr_0.001_graphfeatsize_50_nhiddim1_50_dropout_0.5_weight_decay_0.001_bsize_30.out\n",
      "slurm_GCNGAP_ER.Status_layers_1_pooling_mean_dist_40_lr_0.01_graphfeatsize_150_nhiddim1_50_dropout_0.3_weight_decay_0.1_bsize_30.out\n",
      "slurm_GCNGAP_ER.Status_layers_1_pooling_mean_dist_80_lr_0.001_graphfeatsize_150_nhiddim1_50_dropout_0.3_weight_decay_0.01_bsize_20.out\n",
      "slurm_GCNGAP_ER.Status_layers_2_pooling_mean_dist_40_lr_0.01_graphfeatsize_50_nhiddim1_50_dropout_0.5_weight_decay_0.001_bsize_20.out\n",
      "slurm_GCNGAP_ER.Status_layers_1_pooling_att_dist_40_lr_0.001_graphfeatsize_50_nhiddim1_150_dropout_0.3_weight_decay_0.01_bsize_10.out\n",
      "slurm_GCNGAP_ER.Status_layers_1_pooling_sum_dist_80_lr_0.01_graphfeatsize_150_nhiddim1_100_dropout_0.3_weight_decay_0.1_bsize_10.out\n"
     ]
    },
    {
     "name": "stderr",
     "output_type": "stream",
     "text": [
      "b'Skipping line 474: expected 1 fields, saw 3\\n'\n",
      "b'Skipping line 447: expected 1 fields, saw 3\\n'\n",
      "b'Skipping line 686: expected 1 fields, saw 3\\n'\n",
      "b'Skipping line 498: expected 1 fields, saw 3\\n'\n",
      "b'Skipping line 488: expected 1 fields, saw 3\\n'\n",
      "b'Skipping line 465: expected 1 fields, saw 3\\n'\n",
      "b'Skipping line 561: expected 1 fields, saw 3\\n'\n",
      "b'Skipping line 442: expected 1 fields, saw 3\\n'\n",
      "b'Skipping line 487: expected 1 fields, saw 3\\n'\n",
      "b'Skipping line 466: expected 1 fields, saw 3\\n'\n",
      "b'Skipping line 454: expected 1 fields, saw 3\\n'\n",
      "b'Skipping line 697: expected 1 fields, saw 3\\n'\n"
     ]
    },
    {
     "name": "stdout",
     "output_type": "stream",
     "text": [
      "slurm_GCNGAP_ER.Status_layers_1_pooling_mean_dist_40_lr_0.001_graphfeatsize_150_nhiddim1_50_dropout_0.3_weight_decay_0.001_bsize_20.out\n",
      "slurm_GCNGAP_ER.Status_layers_1_pooling_mean_dist_40_lr_0.01_graphfeatsize_50_nhiddim1_150_dropout_0.3_weight_decay_0.1_bsize_10.out\n",
      "slurm_GCNGAP_ER.Status_layers_1_pooling_att_dist_40_lr_0.01_graphfeatsize_150_nhiddim1_100_dropout_0.3_weight_decay_0.01_bsize_10.out\n",
      "slurm_GCNGAP_ER.Status_layers_1_pooling_mean_dist_80_lr_0.01_graphfeatsize_150_nhiddim1_150_dropout_0.5_weight_decay_0.001_bsize_30.out\n",
      "slurm_GCNGAP_ER.Status_layers_2_pooling_mean_dist_40_lr_0.01_graphfeatsize_50_nhiddim1_100_dropout_0.3_weight_decay_0.001_bsize_20.out\n",
      "slurm_GCNGAP_ER.Status_layers_1_pooling_mean_dist_80_lr_0.001_graphfeatsize_100_nhiddim1_100_dropout_0.5_weight_decay_0.01_bsize_30.out\n",
      "slurm_GCNGAP_ER.Status_layers_1_pooling_sum_dist_40_lr_0.001_graphfeatsize_100_nhiddim1_50_dropout_0.3_weight_decay_0.01_bsize_30.out\n",
      "slurm_GCNGAP_ER.Status_layers_1_pooling_mean_dist_80_lr_0.001_graphfeatsize_50_nhiddim1_50_dropout_0.3_weight_decay_0.01_bsize_10.out\n",
      "slurm_GCNGAP_ER.Status_layers_2_pooling_att_dist_40_lr_0.001_graphfeatsize_100_nhiddim1_150_dropout_0.3_weight_decay_0.001_bsize_20.out\n",
      "slurm_GCNGAP_ER.Status_layers_1_pooling_sum_dist_40_lr_0.01_graphfeatsize_50_nhiddim1_100_dropout_0.5_weight_decay_0.01_bsize_10.out\n",
      "slurm_GCNGAP_ER.Status_layers_2_pooling_sum_dist_40_lr_0.01_graphfeatsize_50_nhiddim1_100_dropout_0.5_weight_decay_0.1_bsize_30.out\n",
      "slurm_GCNGAP_ER.Status_layers_2_pooling_sum_dist_40_lr_0.001_graphfeatsize_100_nhiddim1_100_dropout_0.5_weight_decay_0.001_bsize_20.out\n"
     ]
    },
    {
     "name": "stderr",
     "output_type": "stream",
     "text": [
      "b'Skipping line 442: expected 1 fields, saw 3\\n'\n",
      "b'Skipping line 710: expected 1 fields, saw 3\\n'\n",
      "b'Skipping line 460: expected 1 fields, saw 3\\n'\n",
      "b'Skipping line 442: expected 1 fields, saw 3\\n'\n",
      "b'Skipping line 458: expected 1 fields, saw 3\\n'\n",
      "b'Skipping line 442: expected 1 fields, saw 3\\n'\n",
      "b'Skipping line 484: expected 1 fields, saw 3\\n'\n",
      "b'Skipping line 741: expected 1 fields, saw 3\\n'\n",
      "b'Skipping line 442: expected 1 fields, saw 3\\n'\n",
      "b'Skipping line 646: expected 1 fields, saw 3\\n'\n",
      "b'Skipping line 449: expected 1 fields, saw 3\\n'\n",
      "b'Skipping line 455: expected 1 fields, saw 3\\n'\n"
     ]
    },
    {
     "name": "stdout",
     "output_type": "stream",
     "text": [
      "slurm_GCNGAP_ER.Status_layers_2_pooling_mean_dist_40_lr_0.001_graphfeatsize_50_nhiddim1_50_dropout_0.3_weight_decay_0.001_bsize_10.out\n",
      "slurm_GCNGAP_ER.Status_layers_1_pooling_mean_dist_80_lr_0.01_graphfeatsize_100_nhiddim1_150_dropout_0.3_weight_decay_0.01_bsize_10.out\n",
      "slurm_GCNGAP_ER.Status_layers_1_pooling_sum_dist_40_lr_0.001_graphfeatsize_100_nhiddim1_50_dropout_0.5_weight_decay_0.001_bsize_30.out\n",
      "slurm_GCNGAP_ER.Status_layers_1_pooling_mean_dist_40_lr_0.01_graphfeatsize_100_nhiddim1_100_dropout_0.3_weight_decay_0.01_bsize_30.out\n",
      "slurm_GCNGAP_ER.Status_layers_2_pooling_att_dist_40_lr_0.001_graphfeatsize_100_nhiddim1_50_dropout_0.3_weight_decay_0.1_bsize_10.out\n",
      "slurm_GCNGAP_ER.Status_layers_1_pooling_sum_dist_40_lr_0.001_graphfeatsize_50_nhiddim1_150_dropout_0.3_weight_decay_0.001_bsize_20.out\n",
      "slurm_GCNGAP_ER.Status_layers_2_pooling_sum_dist_40_lr_0.01_graphfeatsize_100_nhiddim1_100_dropout_0.5_weight_decay_0.1_bsize_10.out\n",
      "slurm_GCNGAP_ER.Status_layers_1_pooling_mean_dist_80_lr_0.01_graphfeatsize_150_nhiddim1_50_dropout_0.5_weight_decay_0.01_bsize_10.out\n",
      "slurm_GCNGAP_ER.Status_layers_1_pooling_sum_dist_40_lr_0.001_graphfeatsize_150_nhiddim1_50_dropout_0.5_weight_decay_0.1_bsize_20.out\n",
      "slurm_GCNGAP_ER.Status_layers_2_pooling_mean_dist_40_lr_0.001_graphfeatsize_100_nhiddim1_100_dropout_0.3_weight_decay_0.01_bsize_20.out\n",
      "slurm_GCNGAP_ER.Status_layers_2_pooling_sum_dist_40_lr_0.01_graphfeatsize_50_nhiddim1_150_dropout_0.5_weight_decay_0.01_bsize_20.out\n"
     ]
    },
    {
     "name": "stderr",
     "output_type": "stream",
     "text": [
      "b'Skipping line 546: expected 1 fields, saw 3\\n'\n",
      "b'Skipping line 654: expected 1 fields, saw 3\\n'\n",
      "b'Skipping line 601: expected 1 fields, saw 3\\n'\n",
      "b'Skipping line 619: expected 1 fields, saw 3\\n'\n",
      "b'Skipping line 442: expected 1 fields, saw 3\\n'\n",
      "b'Skipping line 743: expected 1 fields, saw 3\\n'\n",
      "b'Skipping line 600: expected 1 fields, saw 3\\n'\n",
      "b'Skipping line 467: expected 1 fields, saw 3\\n'\n",
      "b'Skipping line 474: expected 1 fields, saw 3\\n'\n",
      "b'Skipping line 470: expected 1 fields, saw 3\\n'\n",
      "b'Skipping line 463: expected 1 fields, saw 3\\n'\n"
     ]
    },
    {
     "name": "stdout",
     "output_type": "stream",
     "text": [
      "slurm_GCNGAP_ER.Status_layers_1_pooling_mean_dist_40_lr_0.01_graphfeatsize_100_nhiddim1_50_dropout_0.3_weight_decay_0.01_bsize_20.out\n",
      "slurm_GCNGAP_ER.Status_layers_2_pooling_att_dist_40_lr_0.01_graphfeatsize_100_nhiddim1_100_dropout_0.5_weight_decay_0.01_bsize_20.out\n",
      "slurm_GCNGAP_ER.Status_layers_2_pooling_mean_dist_40_lr_0.01_graphfeatsize_100_nhiddim1_100_dropout_0.5_weight_decay_0.001_bsize_10.out\n",
      "slurm_GCNGAP_ER.Status_layers_2_pooling_att_dist_40_lr_0.001_graphfeatsize_150_nhiddim1_150_dropout_0.3_weight_decay_0.001_bsize_20.out\n",
      "slurm_GCNGAP_ER.Status_layers_1_pooling_sum_dist_40_lr_0.001_graphfeatsize_150_nhiddim1_150_dropout_0.3_weight_decay_0.1_bsize_20.out\n",
      "slurm_GCNGAP_ER.Status_layers_1_pooling_mean_dist_80_lr_0.001_graphfeatsize_150_nhiddim1_100_dropout_0.5_weight_decay_0.1_bsize_10.out\n",
      "slurm_GCNGAP_ER.Status_layers_2_pooling_sum_dist_40_lr_0.001_graphfeatsize_150_nhiddim1_100_dropout_0.5_weight_decay_0.001_bsize_20.out\n",
      "slurm_GCNGAP_ER.Status_layers_1_pooling_mean_dist_80_lr_0.01_graphfeatsize_100_nhiddim1_150_dropout_0.5_weight_decay_0.001_bsize_30.out\n",
      "slurm_GCNGAP_ER.Status_layers_1_pooling_att_dist_40_lr_0.001_graphfeatsize_100_nhiddim1_50_dropout_0.5_weight_decay_0.01_bsize_10.out\n",
      "slurm_GCNGAP_ER.Status_layers_2_pooling_att_dist_40_lr_0.01_graphfeatsize_150_nhiddim1_50_dropout_0.3_weight_decay_0.1_bsize_20.out\n",
      "slurm_GCNGAP_ER.Status_layers_2_pooling_att_dist_40_lr_0.001_graphfeatsize_150_nhiddim1_100_dropout_0.3_weight_decay_0.01_bsize_30.out\n",
      "slurm_GCNGAP_ER.Status_layers_2_pooling_att_dist_40_lr_0.01_graphfeatsize_100_nhiddim1_150_dropout_0.5_weight_decay_0.1_bsize_20.out\n"
     ]
    },
    {
     "name": "stderr",
     "output_type": "stream",
     "text": [
      "b'Skipping line 442: expected 1 fields, saw 3\\n'\n",
      "b'Skipping line 454: expected 1 fields, saw 3\\n'\n",
      "b'Skipping line 591: expected 1 fields, saw 3\\n'\n",
      "b'Skipping line 444: expected 1 fields, saw 3\\n'\n",
      "b'Skipping line 602: expected 1 fields, saw 3\\n'\n",
      "b'Skipping line 450: expected 1 fields, saw 3\\n'\n",
      "b'Skipping line 443: expected 1 fields, saw 3\\n'\n",
      "b'Skipping line 496: expected 1 fields, saw 3\\n'\n",
      "b'Skipping line 495: expected 1 fields, saw 3\\n'\n",
      "b'Skipping line 481: expected 1 fields, saw 3\\n'\n",
      "b'Skipping line 444: expected 1 fields, saw 3\\n'\n",
      "b'Skipping line 498: expected 1 fields, saw 3\\n'\n"
     ]
    },
    {
     "name": "stdout",
     "output_type": "stream",
     "text": [
      "slurm_GCNGAP_ER.Status_layers_1_pooling_sum_dist_40_lr_0.01_graphfeatsize_150_nhiddim1_50_dropout_0.3_weight_decay_0.001_bsize_10.out\n",
      "slurm_GCNGAP_ER.Status_layers_1_pooling_att_dist_40_lr_0.001_graphfeatsize_50_nhiddim1_100_dropout_0.5_weight_decay_0.1_bsize_30.out\n",
      "slurm_GCNGAP_ER.Status_layers_1_pooling_att_dist_40_lr_0.01_graphfeatsize_50_nhiddim1_50_dropout_0.3_weight_decay_0.01_bsize_20.out\n",
      "slurm_GCNGAP_ER.Status_layers_2_pooling_mean_dist_40_lr_0.01_graphfeatsize_150_nhiddim1_100_dropout_0.5_weight_decay_0.001_bsize_10.out\n",
      "slurm_GCNGAP_ER.Status_layers_1_pooling_mean_dist_40_lr_0.01_graphfeatsize_150_nhiddim1_150_dropout_0.3_weight_decay_0.1_bsize_30.out\n",
      "slurm_GCNGAP_ER.Status_layers_2_pooling_sum_dist_40_lr_0.01_graphfeatsize_100_nhiddim1_150_dropout_0.3_weight_decay_0.01_bsize_20.out\n",
      "slurm_GCNGAP_ER.Status_layers_2_pooling_mean_dist_40_lr_0.001_graphfeatsize_100_nhiddim1_50_dropout_0.3_weight_decay_0.01_bsize_10.out\n",
      "slurm_GCNGAP_ER.Status_layers_1_pooling_sum_dist_80_lr_0.01_graphfeatsize_150_nhiddim1_50_dropout_0.3_weight_decay_0.001_bsize_10.out\n",
      "slurm_GCNGAP_ER.Status_layers_2_pooling_sum_dist_40_lr_0.001_graphfeatsize_100_nhiddim1_150_dropout_0.5_weight_decay_0.01_bsize_20.out\n",
      "slurm_GCNGAP_ER.Status_layers_1_pooling_att_dist_40_lr_0.01_graphfeatsize_50_nhiddim1_150_dropout_0.3_weight_decay_0.001_bsize_10.out\n",
      "slurm_GCNGAP_ER.Status_layers_1_pooling_sum_dist_40_lr_0.001_graphfeatsize_100_nhiddim1_100_dropout_0.3_weight_decay_0.001_bsize_30.out\n",
      "slurm_GCNGAP_ER.Status_layers_1_pooling_sum_dist_40_lr_0.001_graphfeatsize_50_nhiddim1_50_dropout_0.3_weight_decay_0.001_bsize_30.out\n"
     ]
    },
    {
     "name": "stderr",
     "output_type": "stream",
     "text": [
      "b'Skipping line 578: expected 1 fields, saw 3\\n'\n",
      "b'Skipping line 446: expected 1 fields, saw 3\\n'\n",
      "b'Skipping line 479: expected 1 fields, saw 3\\n'\n",
      "b'Skipping line 445: expected 1 fields, saw 3\\n'\n",
      "b'Skipping line 362: expected 1 fields, saw 3\\n'\n",
      "b'Skipping line 480: expected 1 fields, saw 3\\n'\n",
      "b'Skipping line 473: expected 1 fields, saw 3\\n'\n",
      "b'Skipping line 468: expected 1 fields, saw 3\\n'\n",
      "b'Skipping line 492: expected 1 fields, saw 3\\n'\n",
      "b'Skipping line 444: expected 1 fields, saw 3\\n'\n",
      "b'Skipping line 496: expected 1 fields, saw 3\\n'\n",
      "b'Skipping line 494: expected 1 fields, saw 3\\n'\n"
     ]
    },
    {
     "name": "stdout",
     "output_type": "stream",
     "text": [
      "slurm_GCNGAP_ER.Status_layers_1_pooling_att_dist_40_lr_0.001_graphfeatsize_50_nhiddim1_150_dropout_0.5_weight_decay_0.001_bsize_20.out\n",
      "slurm_GCNGAP_ER.Status_layers_1_pooling_att_dist_40_lr_0.001_graphfeatsize_50_nhiddim1_50_dropout_0.3_weight_decay_0.1_bsize_10.out\n",
      "slurm_GCNGAP_ER.Status_layers_1_pooling_att_dist_40_lr_0.001_graphfeatsize_100_nhiddim1_150_dropout_0.5_weight_decay_0.001_bsize_30.out\n",
      "slurm_GCNGAP_ER.Status_layers_1_pooling_att_dist_40_lr_0.01_graphfeatsize_100_nhiddim1_150_dropout_0.5_weight_decay_0.1_bsize_30.out\n",
      "slurm_GCNGAP_ER.Status_layers_1_pooling_mean_dist_40_lr_0.01_graphfeatsize_50_nhiddim1_50_dropout_0.3_weight_decay_0.001_bsize_20.out\n",
      "slurm_GCNGAP_ER.Status_layers_1_pooling_att_dist_40_lr_0.001_graphfeatsize_100_nhiddim1_50_dropout_0.3_weight_decay_0.001_bsize_30.out\n",
      "slurm_GCNGAP_ER.Status_layers_2_pooling_att_dist_40_lr_0.001_graphfeatsize_50_nhiddim1_100_dropout_0.5_weight_decay_0.1_bsize_20.out\n",
      "slurm_GCNGAP_ER.Status_layers_1_pooling_mean_dist_40_lr_0.001_graphfeatsize_150_nhiddim1_100_dropout_0.5_weight_decay_0.1_bsize_10.out\n",
      "slurm_GCNGAP_ER.Status_layers_2_pooling_att_dist_40_lr_0.001_graphfeatsize_150_nhiddim1_150_dropout_0.3_weight_decay_0.01_bsize_10.out\n",
      "slurm_GCNGAP_ER.Status_layers_1_pooling_sum_dist_40_lr_0.001_graphfeatsize_150_nhiddim1_100_dropout_0.3_weight_decay_0.001_bsize_30.out\n",
      "slurm_GCNGAP_ER.Status_layers_1_pooling_sum_dist_80_lr_0.001_graphfeatsize_50_nhiddim1_100_dropout_0.5_weight_decay_0.001_bsize_10.out\n"
     ]
    },
    {
     "name": "stderr",
     "output_type": "stream",
     "text": [
      "b'Skipping line 451: expected 1 fields, saw 3\\n'\n",
      "b'Skipping line 460: expected 1 fields, saw 3\\n'\n",
      "b'Skipping line 563: expected 1 fields, saw 3\\n'\n",
      "b'Skipping line 362: expected 1 fields, saw 3\\n'\n",
      "b'Skipping line 442: expected 1 fields, saw 3\\n'\n",
      "b'Skipping line 488: expected 1 fields, saw 3\\n'\n",
      "b'Skipping line 676: expected 1 fields, saw 3\\n'\n",
      "b'Skipping line 469: expected 1 fields, saw 3\\n'\n",
      "b'Skipping line 443: expected 1 fields, saw 3\\n'\n",
      "b'Skipping line 529: expected 1 fields, saw 3\\n'\n",
      "b'Skipping line 451: expected 1 fields, saw 3\\n'\n",
      "b'Skipping line 679: expected 1 fields, saw 3\\n'\n"
     ]
    },
    {
     "name": "stdout",
     "output_type": "stream",
     "text": [
      "slurm_GCNGAP_ER.Status_layers_1_pooling_att_dist_40_lr_0.001_graphfeatsize_150_nhiddim1_150_dropout_0.5_weight_decay_0.001_bsize_30.out\n",
      "slurm_GCNGAP_ER.Status_layers_1_pooling_mean_dist_40_lr_0.001_graphfeatsize_150_nhiddim1_150_dropout_0.5_weight_decay_0.01_bsize_20.out\n",
      "slurm_GCNGAP_ER.Status_layers_2_pooling_sum_dist_40_lr_0.001_graphfeatsize_150_nhiddim1_100_dropout_0.5_weight_decay_0.1_bsize_20.out\n",
      "slurm_GCNGAP_ER.Status_layers_2_pooling_mean_dist_40_lr_0.01_graphfeatsize_150_nhiddim1_100_dropout_0.5_weight_decay_0.1_bsize_30.out\n",
      "slurm_GCNGAP_ER.Status_layers_2_pooling_sum_dist_40_lr_0.001_graphfeatsize_50_nhiddim1_150_dropout_0.5_weight_decay_0.1_bsize_10.out\n",
      "slurm_GCNGAP_ER.Status_layers_2_pooling_mean_dist_40_lr_0.01_graphfeatsize_150_nhiddim1_50_dropout_0.3_weight_decay_0.001_bsize_30.out\n",
      "slurm_GCNGAP_ER.Status_layers_1_pooling_mean_dist_80_lr_0.001_graphfeatsize_100_nhiddim1_150_dropout_0.5_weight_decay_0.01_bsize_10.out\n",
      "slurm_GCNGAP_ER.Status_layers_1_pooling_mean_dist_80_lr_0.001_graphfeatsize_50_nhiddim1_50_dropout_0.5_weight_decay_0.1_bsize_30.out\n",
      "slurm_GCNGAP_ER.Status_layers_1_pooling_sum_dist_40_lr_0.01_graphfeatsize_50_nhiddim1_150_dropout_0.5_weight_decay_0.01_bsize_30.out\n",
      "slurm_GCNGAP_ER.Status_layers_2_pooling_sum_dist_40_lr_0.001_graphfeatsize_150_nhiddim1_50_dropout_0.5_weight_decay_0.1_bsize_30.out\n",
      "slurm_GCNGAP_ER.Status_layers_1_pooling_mean_dist_40_lr_0.01_graphfeatsize_100_nhiddim1_150_dropout_0.3_weight_decay_0.01_bsize_10.out\n",
      "slurm_GCNGAP_ER.Status_layers_1_pooling_mean_dist_80_lr_0.01_graphfeatsize_100_nhiddim1_100_dropout_0.3_weight_decay_0.01_bsize_30.out\n"
     ]
    },
    {
     "name": "stderr",
     "output_type": "stream",
     "text": [
      "b'Skipping line 507: expected 1 fields, saw 3\\n'\n",
      "b'Skipping line 443: expected 1 fields, saw 3\\n'\n",
      "b'Skipping line 551: expected 1 fields, saw 3\\n'\n",
      "b'Skipping line 609: expected 1 fields, saw 3\\n'\n",
      "b'Skipping line 604: expected 1 fields, saw 3\\n'\n",
      "b'Skipping line 678: expected 1 fields, saw 3\\n'\n",
      "b'Skipping line 462: expected 1 fields, saw 3\\n'\n",
      "b'Skipping line 496: expected 1 fields, saw 3\\n'\n",
      "b'Skipping line 549: expected 1 fields, saw 3\\n'\n",
      "b'Skipping line 544: expected 1 fields, saw 3\\n'\n",
      "b'Skipping line 442: expected 1 fields, saw 3\\n'\n"
     ]
    },
    {
     "name": "stdout",
     "output_type": "stream",
     "text": [
      "slurm_GCNGAP_ER.Status_layers_2_pooling_mean_dist_40_lr_0.001_graphfeatsize_50_nhiddim1_150_dropout_0.3_weight_decay_0.01_bsize_30.out\n",
      "slurm_GCNGAP_ER.Status_layers_1_pooling_mean_dist_80_lr_0.01_graphfeatsize_100_nhiddim1_50_dropout_0.3_weight_decay_0.001_bsize_30.out\n",
      "slurm_GCNGAP_ER.Status_layers_1_pooling_mean_dist_40_lr_0.001_graphfeatsize_150_nhiddim1_150_dropout_0.5_weight_decay_0.001_bsize_10.out\n",
      "slurm_GCNGAP_ER.Status_layers_1_pooling_sum_dist_40_lr_0.001_graphfeatsize_150_nhiddim1_50_dropout_0.3_weight_decay_0.1_bsize_20.out\n",
      "slurm_GCNGAP_ER.Status_layers_2_pooling_mean_dist_40_lr_0.01_graphfeatsize_150_nhiddim1_100_dropout_0.3_weight_decay_0.01_bsize_30.out\n",
      "slurm_GCNGAP_ER.Status_layers_2_pooling_sum_dist_40_lr_0.001_graphfeatsize_150_nhiddim1_50_dropout_0.5_weight_decay_0.001_bsize_30.out\n",
      "slurm_GCNGAP_ER.Status_layers_2_pooling_att_dist_40_lr_0.001_graphfeatsize_150_nhiddim1_50_dropout_0.3_weight_decay_0.01_bsize_10.out\n",
      "slurm_GCNGAP_ER.Status_layers_2_pooling_sum_dist_40_lr_0.01_graphfeatsize_100_nhiddim1_100_dropout_0.3_weight_decay_0.1_bsize_10.out\n",
      "slurm_GCNGAP_ER.Status_layers_2_pooling_att_dist_40_lr_0.01_graphfeatsize_150_nhiddim1_50_dropout_0.3_weight_decay_0.01_bsize_30.out\n",
      "slurm_GCNGAP_ER.Status_layers_2_pooling_sum_dist_40_lr_0.01_graphfeatsize_50_nhiddim1_100_dropout_0.3_weight_decay_0.1_bsize_30.out\n",
      "slurm_GCNGAP_ER.Status_layers_1_pooling_att_dist_40_lr_0.01_graphfeatsize_150_nhiddim1_150_dropout_0.5_weight_decay_0.01_bsize_10.out\n"
     ]
    },
    {
     "name": "stderr",
     "output_type": "stream",
     "text": [
      "b'Skipping line 583: expected 1 fields, saw 3\\n'\n",
      "b'Skipping line 502: expected 1 fields, saw 3\\n'\n",
      "b'Skipping line 594: expected 1 fields, saw 3\\n'\n",
      "b'Skipping line 511: expected 1 fields, saw 3\\n'\n",
      "b'Skipping line 485: expected 1 fields, saw 3\\n'\n",
      "b'Skipping line 478: expected 1 fields, saw 3\\n'\n",
      "b'Skipping line 516: expected 1 fields, saw 3\\n'\n",
      "b'Skipping line 456: expected 1 fields, saw 3\\n'\n",
      "b'Skipping line 463: expected 1 fields, saw 3\\n'\n",
      "b'Skipping line 693: expected 1 fields, saw 3\\n'\n"
     ]
    },
    {
     "name": "stdout",
     "output_type": "stream",
     "text": [
      "slurm_GCNGAP_ER.Status_layers_2_pooling_att_dist_40_lr_0.001_graphfeatsize_100_nhiddim1_50_dropout_0.5_weight_decay_0.1_bsize_10.out\n",
      "slurm_GCNGAP_ER.Status_layers_1_pooling_att_dist_40_lr_0.001_graphfeatsize_50_nhiddim1_100_dropout_0.5_weight_decay_0.01_bsize_10.out\n",
      "slurm_GCNGAP_ER.Status_layers_1_pooling_mean_dist_80_lr_0.01_graphfeatsize_50_nhiddim1_150_dropout_0.5_weight_decay_0.001_bsize_20.out\n",
      "slurm_GCNGAP_ER.Status_layers_2_pooling_mean_dist_40_lr_0.001_graphfeatsize_100_nhiddim1_100_dropout_0.3_weight_decay_0.001_bsize_10.out\n",
      "slurm_GCNGAP_ER.Status_layers_2_pooling_att_dist_40_lr_0.001_graphfeatsize_50_nhiddim1_50_dropout_0.5_weight_decay_0.01_bsize_30.out\n",
      "slurm_GCNGAP_ER.Status_layers_1_pooling_mean_dist_40_lr_0.001_graphfeatsize_100_nhiddim1_50_dropout_0.5_weight_decay_0.001_bsize_30.out\n",
      "slurm_GCNGAP_ER.Status_layers_1_pooling_mean_dist_40_lr_0.01_graphfeatsize_150_nhiddim1_150_dropout_0.5_weight_decay_0.1_bsize_30.out\n",
      "slurm_GCNGAP_ER.Status_layers_2_pooling_sum_dist_40_lr_0.001_graphfeatsize_150_nhiddim1_50_dropout_0.5_weight_decay_0.01_bsize_30.out\n",
      "slurm_GCNGAP_ER.Status_layers_2_pooling_att_dist_40_lr_0.001_graphfeatsize_50_nhiddim1_100_dropout_0.3_weight_decay_0.001_bsize_20.out\n",
      "slurm_GCNGAP_ER.Status_layers_2_pooling_att_dist_40_lr_0.01_graphfeatsize_150_nhiddim1_50_dropout_0.5_weight_decay_0.001_bsize_10.out\n",
      "slurm_GCNGAP_ER.Status_layers_1_pooling_att_dist_40_lr_0.001_graphfeatsize_100_nhiddim1_100_dropout_0.3_weight_decay_0.01_bsize_30.out\n"
     ]
    },
    {
     "name": "stderr",
     "output_type": "stream",
     "text": [
      "b'Skipping line 609: expected 1 fields, saw 3\\n'\n",
      "b'Skipping line 449: expected 1 fields, saw 3\\n'\n",
      "b'Skipping line 464: expected 1 fields, saw 3\\n'\n",
      "b'Skipping line 477: expected 1 fields, saw 3\\n'\n",
      "b'Skipping line 449: expected 1 fields, saw 3\\n'\n",
      "b'Skipping line 530: expected 1 fields, saw 3\\n'\n",
      "b'Skipping line 686: expected 1 fields, saw 3\\n'\n",
      "b'Skipping line 482: expected 1 fields, saw 3\\n'\n",
      "b'Skipping line 487: expected 1 fields, saw 3\\n'\n",
      "b'Skipping line 479: expected 1 fields, saw 3\\n'\n",
      "b'Skipping line 446: expected 1 fields, saw 3\\n'\n",
      "b'Skipping line 619: expected 1 fields, saw 3\\n'\n"
     ]
    },
    {
     "name": "stdout",
     "output_type": "stream",
     "text": [
      "slurm_GCNGAP_ER.Status_layers_2_pooling_mean_dist_40_lr_0.001_graphfeatsize_50_nhiddim1_50_dropout_0.3_weight_decay_0.01_bsize_20.out\n",
      "slurm_GCNGAP_ER.Status_layers_1_pooling_att_dist_40_lr_0.001_graphfeatsize_50_nhiddim1_100_dropout_0.3_weight_decay_0.1_bsize_30.out\n",
      "slurm_GCNGAP_ER.Status_layers_1_pooling_mean_dist_40_lr_0.001_graphfeatsize_100_nhiddim1_150_dropout_0.5_weight_decay_0.001_bsize_10.out\n",
      "slurm_GCNGAP_ER.Status_layers_1_pooling_sum_dist_80_lr_0.001_graphfeatsize_50_nhiddim1_50_dropout_0.5_weight_decay_0.01_bsize_20.out\n",
      "slurm_GCNGAP_ER.Status_layers_2_pooling_att_dist_40_lr_0.01_graphfeatsize_100_nhiddim1_150_dropout_0.3_weight_decay_0.1_bsize_20.out\n",
      "slurm_GCNGAP_ER.Status_layers_1_pooling_mean_dist_40_lr_0.01_graphfeatsize_50_nhiddim1_100_dropout_0.3_weight_decay_0.01_bsize_20.out\n",
      "slurm_GCNGAP_ER.Status_layers_2_pooling_att_dist_40_lr_0.01_graphfeatsize_150_nhiddim1_50_dropout_0.5_weight_decay_0.1_bsize_20.out\n",
      "slurm_GCNGAP_ER.Status_layers_1_pooling_sum_dist_80_lr_0.001_graphfeatsize_50_nhiddim1_150_dropout_0.3_weight_decay_0.01_bsize_10.out\n",
      "slurm_GCNGAP_ER.Status_layers_1_pooling_sum_dist_40_lr_0.001_graphfeatsize_50_nhiddim1_100_dropout_0.3_weight_decay_0.01_bsize_30.out\n",
      "slurm_GCNGAP_ER.Status_layers_2_pooling_mean_dist_40_lr_0.001_graphfeatsize_150_nhiddim1_100_dropout_0.3_weight_decay_0.001_bsize_10.out\n",
      "slurm_GCNGAP_ER.Status_layers_1_pooling_sum_dist_40_lr_0.001_graphfeatsize_150_nhiddim1_150_dropout_0.5_weight_decay_0.1_bsize_20.out\n"
     ]
    },
    {
     "name": "stderr",
     "output_type": "stream",
     "text": [
      "b'Skipping line 443: expected 1 fields, saw 3\\n'\n",
      "b'Skipping line 442: expected 1 fields, saw 3\\n'\n",
      "b'Skipping line 442: expected 1 fields, saw 3\\n'\n",
      "b'Skipping line 463: expected 1 fields, saw 3\\n'\n",
      "b'Skipping line 498: expected 1 fields, saw 3\\n'\n",
      "b'Skipping line 628: expected 1 fields, saw 3\\n'\n",
      "b'Skipping line 454: expected 1 fields, saw 3\\n'\n",
      "b'Skipping line 443: expected 1 fields, saw 3\\n'\n",
      "b'Skipping line 444: expected 1 fields, saw 3\\n'\n",
      "b'Skipping line 488: expected 1 fields, saw 3\\n'\n"
     ]
    },
    {
     "name": "stdout",
     "output_type": "stream",
     "text": [
      "slurm_GCNGAP_ER.Status_layers_2_pooling_mean_dist_40_lr_0.01_graphfeatsize_150_nhiddim1_50_dropout_0.5_weight_decay_0.01_bsize_20.out\n",
      "slurm_GCNGAP_ER.Status_layers_1_pooling_mean_dist_80_lr_0.001_graphfeatsize_150_nhiddim1_100_dropout_0.3_weight_decay_0.1_bsize_10.out\n",
      "slurm_GCNGAP_ER.Status_layers_1_pooling_sum_dist_40_lr_0.01_graphfeatsize_100_nhiddim1_50_dropout_0.5_weight_decay_0.01_bsize_10.out\n",
      "slurm_GCNGAP_ER.Status_layers_1_pooling_sum_dist_80_lr_0.01_graphfeatsize_150_nhiddim1_100_dropout_0.3_weight_decay_0.01_bsize_10.out\n",
      "slurm_GCNGAP_ER.Status_layers_1_pooling_mean_dist_40_lr_0.001_graphfeatsize_50_nhiddim1_150_dropout_0.3_weight_decay_0.001_bsize_20.out\n",
      "slurm_GCNGAP_ER.Status_layers_1_pooling_sum_dist_40_lr_0.01_graphfeatsize_150_nhiddim1_150_dropout_0.3_weight_decay_0.01_bsize_30.out\n",
      "slurm_GCNGAP_ER.Status_layers_1_pooling_sum_dist_80_lr_0.01_graphfeatsize_150_nhiddim1_50_dropout_0.3_weight_decay_0.01_bsize_20.out\n",
      "not in\n",
      "slurm_GCNGAP_ER.Status_layers_1_pooling_sum_dist_40_lr_0.001_graphfeatsize_150_nhiddim1_150_dropout_0.5_weight_decay_0.01_bsize_20.out\n",
      "slurm_GCNGAP_ER.Status_layers_2_pooling_sum_dist_40_lr_0.01_graphfeatsize_50_nhiddim1_50_dropout_0.5_weight_decay_0.01_bsize_20.out\n",
      "slurm_GCNGAP_ER.Status_layers_1_pooling_sum_dist_40_lr_0.001_graphfeatsize_50_nhiddim1_150_dropout_0.3_weight_decay_0.01_bsize_10.out\n",
      "slurm_GCNGAP_ER.Status_layers_2_pooling_att_dist_40_lr_0.001_graphfeatsize_50_nhiddim1_100_dropout_0.3_weight_decay_0.1_bsize_20.out\n",
      "slurm_GCNGAP_ER.Status_layers_1_pooling_mean_dist_40_lr_0.001_graphfeatsize_150_nhiddim1_100_dropout_0.3_weight_decay_0.1_bsize_10.out\n"
     ]
    },
    {
     "name": "stderr",
     "output_type": "stream",
     "text": [
      "b'Skipping line 443: expected 1 fields, saw 3\\n'\n",
      "b'Skipping line 442: expected 1 fields, saw 3\\n'\n",
      "b'Skipping line 442: expected 1 fields, saw 3\\n'\n",
      "b'Skipping line 442: expected 1 fields, saw 3\\n'\n",
      "b'Skipping line 453: expected 1 fields, saw 3\\n'\n",
      "b'Skipping line 453: expected 1 fields, saw 3\\n'\n",
      "b'Skipping line 366: expected 1 fields, saw 3\\n'\n",
      "b'Skipping line 443: expected 1 fields, saw 3\\n'\n",
      "b'Skipping line 487: expected 1 fields, saw 3\\n'\n",
      "b'Skipping line 462: expected 1 fields, saw 3\\n'\n",
      "b'Skipping line 363: expected 1 fields, saw 3\\n'\n"
     ]
    },
    {
     "name": "stdout",
     "output_type": "stream",
     "text": [
      "slurm_GCNGAP_ER.Status_layers_1_pooling_sum_dist_40_lr_0.01_graphfeatsize_150_nhiddim1_100_dropout_0.3_weight_decay_0.01_bsize_10.out\n",
      "slurm_GCNGAP_ER.Status_layers_1_pooling_att_dist_40_lr_0.01_graphfeatsize_100_nhiddim1_150_dropout_0.3_weight_decay_0.1_bsize_30.out\n",
      "slurm_GCNGAP_ER.Status_layers_1_pooling_mean_dist_80_lr_0.001_graphfeatsize_50_nhiddim1_100_dropout_0.5_weight_decay_0.001_bsize_10.out\n",
      "slurm_GCNGAP_ER.Status_layers_1_pooling_att_dist_40_lr_0.001_graphfeatsize_50_nhiddim1_50_dropout_0.5_weight_decay_0.1_bsize_10.out\n",
      "slurm_GCNGAP_ER.Status_layers_2_pooling_sum_dist_40_lr_0.01_graphfeatsize_50_nhiddim1_150_dropout_0.5_weight_decay_0.001_bsize_10.out\n",
      "slurm_GCNGAP_ER.Status_layers_2_pooling_att_dist_40_lr_0.001_graphfeatsize_150_nhiddim1_50_dropout_0.3_weight_decay_0.001_bsize_30.out\n",
      "slurm_GCNGAP_ER.Status_layers_1_pooling_sum_dist_80_lr_0.001_graphfeatsize_100_nhiddim1_150_dropout_0.5_weight_decay_0.01_bsize_10.out\n",
      "slurm_GCNGAP_ER.Status_layers_1_pooling_att_dist_40_lr_0.001_graphfeatsize_100_nhiddim1_150_dropout_0.3_weight_decay_0.01_bsize_10.out\n",
      "slurm_GCNGAP_ER.Status_layers_2_pooling_att_dist_40_lr_0.01_graphfeatsize_50_nhiddim1_50_dropout_0.5_weight_decay_0.001_bsize_10.out\n",
      "slurm_GCNGAP_ER.Status_layers_2_pooling_att_dist_40_lr_0.001_graphfeatsize_50_nhiddim1_50_dropout_0.5_weight_decay_0.001_bsize_30.out\n",
      "slurm_GCNGAP_ER.Status_layers_1_pooling_att_dist_40_lr_0.01_graphfeatsize_150_nhiddim1_100_dropout_0.5_weight_decay_0.01_bsize_30.out\n",
      "slurm_GCNGAP_ER.Status_layers_2_pooling_mean_dist_40_lr_0.001_graphfeatsize_100_nhiddim1_50_dropout_0.3_weight_decay_0.001_bsize_20.out\n"
     ]
    },
    {
     "name": "stderr",
     "output_type": "stream",
     "text": [
      "b'Skipping line 476: expected 1 fields, saw 3\\n'\n",
      "b'Skipping line 442: expected 1 fields, saw 3\\n'\n",
      "b'Skipping line 501: expected 1 fields, saw 3\\n'\n",
      "b'Skipping line 476: expected 1 fields, saw 3\\n'\n",
      "b'Skipping line 479: expected 1 fields, saw 3\\n'\n",
      "b'Skipping line 475: expected 1 fields, saw 3\\n'\n",
      "b'Skipping line 489: expected 1 fields, saw 3\\n'\n",
      "b'Skipping line 491: expected 1 fields, saw 3\\n'\n",
      "b'Skipping line 526: expected 1 fields, saw 3\\n'\n",
      "b'Skipping line 495: expected 1 fields, saw 3\\n'\n",
      "b'Skipping line 522: expected 1 fields, saw 3\\n'\n",
      "b'Skipping line 443: expected 1 fields, saw 3\\n'\n"
     ]
    },
    {
     "name": "stdout",
     "output_type": "stream",
     "text": [
      "slurm_GCNGAP_ER.Status_layers_2_pooling_sum_dist_40_lr_0.001_graphfeatsize_150_nhiddim1_50_dropout_0.3_weight_decay_0.1_bsize_30.out\n",
      "slurm_GCNGAP_ER.Status_layers_1_pooling_att_dist_40_lr_0.001_graphfeatsize_50_nhiddim1_150_dropout_0.5_weight_decay_0.01_bsize_30.out\n",
      "slurm_GCNGAP_ER.Status_layers_2_pooling_sum_dist_40_lr_0.001_graphfeatsize_50_nhiddim1_150_dropout_0.3_weight_decay_0.1_bsize_10.out\n",
      "slurm_GCNGAP_ER.Status_layers_1_pooling_mean_dist_80_lr_0.001_graphfeatsize_50_nhiddim1_50_dropout_0.3_weight_decay_0.1_bsize_30.out\n",
      "slurm_GCNGAP_ER.Status_layers_2_pooling_mean_dist_40_lr_0.01_graphfeatsize_150_nhiddim1_100_dropout_0.3_weight_decay_0.1_bsize_30.out\n",
      "slurm_GCNGAP_ER.Status_layers_1_pooling_att_dist_40_lr_0.01_graphfeatsize_150_nhiddim1_50_dropout_0.3_weight_decay_0.01_bsize_20.out\n",
      "slurm_GCNGAP_ER.Status_layers_1_pooling_mean_dist_40_lr_0.01_graphfeatsize_50_nhiddim1_150_dropout_0.5_weight_decay_0.001_bsize_20.out\n",
      "slurm_GCNGAP_ER.Status_layers_1_pooling_mean_dist_40_lr_0.01_graphfeatsize_100_nhiddim1_50_dropout_0.3_weight_decay_0.001_bsize_30.out\n",
      "slurm_GCNGAP_ER.Status_layers_2_pooling_mean_dist_40_lr_0.001_graphfeatsize_50_nhiddim1_100_dropout_0.3_weight_decay_0.01_bsize_10.out\n",
      "slurm_GCNGAP_ER.Status_layers_2_pooling_sum_dist_40_lr_0.001_graphfeatsize_150_nhiddim1_100_dropout_0.3_weight_decay_0.1_bsize_20.out\n",
      "slurm_GCNGAP_ER.Status_layers_2_pooling_mean_dist_40_lr_0.001_graphfeatsize_50_nhiddim1_150_dropout_0.5_weight_decay_0.001_bsize_30.out\n"
     ]
    },
    {
     "name": "stderr",
     "output_type": "stream",
     "text": [
      "b'Skipping line 468: expected 1 fields, saw 3\\n'\n",
      "b'Skipping line 466: expected 1 fields, saw 3\\n'\n",
      "b'Skipping line 456: expected 1 fields, saw 3\\n'\n",
      "b'Skipping line 540: expected 1 fields, saw 3\\n'\n",
      "b'Skipping line 488: expected 1 fields, saw 3\\n'\n",
      "b'Skipping line 482: expected 1 fields, saw 3\\n'\n",
      "b'Skipping line 471: expected 1 fields, saw 3\\n'\n",
      "b'Skipping line 572: expected 1 fields, saw 3\\n'\n",
      "b'Skipping line 553: expected 1 fields, saw 3\\n'\n",
      "b'Skipping line 362: expected 1 fields, saw 3\\n'\n",
      "b'Skipping line 466: expected 1 fields, saw 3\\n'\n"
     ]
    },
    {
     "name": "stdout",
     "output_type": "stream",
     "text": [
      "slurm_GCNGAP_ER.Status_layers_2_pooling_sum_dist_40_lr_0.001_graphfeatsize_50_nhiddim1_100_dropout_0.5_weight_decay_0.001_bsize_20.out\n",
      "slurm_GCNGAP_ER.Status_layers_2_pooling_mean_dist_40_lr_0.01_graphfeatsize_150_nhiddim1_150_dropout_0.3_weight_decay_0.01_bsize_10.out\n",
      "slurm_GCNGAP_ER.Status_layers_1_pooling_att_dist_40_lr_0.001_graphfeatsize_50_nhiddim1_50_dropout_0.5_weight_decay_0.01_bsize_20.out\n",
      "slurm_GCNGAP_ER.Status_layers_2_pooling_sum_dist_40_lr_0.01_graphfeatsize_150_nhiddim1_100_dropout_0.5_weight_decay_0.001_bsize_10.out\n",
      "slurm_GCNGAP_ER.Status_layers_1_pooling_att_dist_40_lr_0.01_graphfeatsize_150_nhiddim1_50_dropout_0.3_weight_decay_0.001_bsize_10.out\n",
      "slurm_GCNGAP_ER.Status_layers_1_pooling_sum_dist_80_lr_0.01_graphfeatsize_50_nhiddim1_150_dropout_0.3_weight_decay_0.001_bsize_10.out\n",
      "not in\n",
      "slurm_GCNGAP_ER.Status_layers_1_pooling_mean_dist_80_lr_0.01_graphfeatsize_150_nhiddim1_50_dropout_0.3_weight_decay_0.01_bsize_30.out\n",
      "slurm_GCNGAP_ER.Status_layers_1_pooling_mean_dist_40_lr_0.001_graphfeatsize_150_nhiddim1_100_dropout_0.3_weight_decay_0.01_bsize_20.out\n",
      "slurm_GCNGAP_ER.Status_layers_2_pooling_mean_dist_40_lr_0.001_graphfeatsize_100_nhiddim1_100_dropout_0.3_weight_decay_0.1_bsize_20.out\n",
      "slurm_GCNGAP_ER.Status_layers_1_pooling_att_dist_40_lr_0.001_graphfeatsize_150_nhiddim1_50_dropout_0.5_weight_decay_0.001_bsize_20.out\n",
      "slurm_GCNGAP_ER.Status_layers_2_pooling_mean_dist_40_lr_0.01_graphfeatsize_150_nhiddim1_50_dropout_0.5_weight_decay_0.1_bsize_20.out\n",
      "slurm_GCNGAP_ER.Status_layers_1_pooling_mean_dist_80_lr_0.01_graphfeatsize_100_nhiddim1_150_dropout_0.5_weight_decay_0.01_bsize_30.out\n"
     ]
    },
    {
     "name": "stderr",
     "output_type": "stream",
     "text": [
      "b'Skipping line 535: expected 1 fields, saw 3\\n'\n",
      "b'Skipping line 711: expected 1 fields, saw 3\\n'\n",
      "b'Skipping line 451: expected 1 fields, saw 3\\n'\n",
      "b'Skipping line 502: expected 1 fields, saw 3\\n'\n",
      "b'Skipping line 443: expected 1 fields, saw 3\\n'\n",
      "b'Skipping line 596: expected 1 fields, saw 3\\n'\n",
      "b'Skipping line 721: expected 1 fields, saw 3\\n'\n",
      "b'Skipping line 362: expected 1 fields, saw 3\\n'\n",
      "b'Skipping line 470: expected 1 fields, saw 3\\n'\n",
      "b'Skipping line 388: expected 1 fields, saw 3\\n'\n",
      "b'Skipping line 691: expected 1 fields, saw 3\\n'\n"
     ]
    },
    {
     "name": "stdout",
     "output_type": "stream",
     "text": [
      "slurm_GCNGAP_ER.Status_layers_1_pooling_mean_dist_40_lr_0.01_graphfeatsize_100_nhiddim1_100_dropout_0.5_weight_decay_0.01_bsize_10.out\n",
      "slurm_GCNGAP_ER.Status_layers_2_pooling_sum_dist_40_lr_0.001_graphfeatsize_150_nhiddim1_150_dropout_0.5_weight_decay_0.001_bsize_30.out\n",
      "slurm_GCNGAP_ER.Status_layers_1_pooling_att_dist_40_lr_0.001_graphfeatsize_150_nhiddim1_150_dropout_0.3_weight_decay_0.1_bsize_20.out\n",
      "slurm_GCNGAP_ER.Status_layers_1_pooling_sum_dist_40_lr_0.01_graphfeatsize_50_nhiddim1_100_dropout_0.3_weight_decay_0.01_bsize_30.out\n",
      "slurm_GCNGAP_ER.Status_layers_1_pooling_mean_dist_80_lr_0.001_graphfeatsize_50_nhiddim1_50_dropout_0.5_weight_decay_0.01_bsize_30.out\n",
      "slurm_GCNGAP_ER.Status_layers_2_pooling_att_dist_40_lr_0.001_graphfeatsize_150_nhiddim1_100_dropout_0.3_weight_decay_0.001_bsize_30.out\n",
      "slurm_GCNGAP_ER.Status_layers_1_pooling_mean_dist_80_lr_0.001_graphfeatsize_100_nhiddim1_100_dropout_0.3_weight_decay_0.01_bsize_10.out\n",
      "slurm_GCNGAP_ER.Status_layers_2_pooling_mean_dist_40_lr_0.01_graphfeatsize_100_nhiddim1_150_dropout_0.5_weight_decay_0.1_bsize_10.out\n",
      "slurm_GCNGAP_ER.Status_layers_1_pooling_sum_dist_40_lr_0.001_graphfeatsize_100_nhiddim1_50_dropout_0.5_weight_decay_0.01_bsize_10.out\n",
      "slurm_GCNGAP_ER.Status_layers_1_pooling_sum_dist_40_lr_0.01_graphfeatsize_150_nhiddim1_150_dropout_0.5_weight_decay_0.1_bsize_20.out\n",
      "slurm_GCNGAP_ER.Status_layers_1_pooling_mean_dist_80_lr_0.001_graphfeatsize_100_nhiddim1_50_dropout_0.5_weight_decay_0.1_bsize_10.out\n"
     ]
    },
    {
     "name": "stderr",
     "output_type": "stream",
     "text": [
      "b'Skipping line 472: expected 1 fields, saw 3\\n'\n",
      "b'Skipping line 601: expected 1 fields, saw 3\\n'\n",
      "b'Skipping line 446: expected 1 fields, saw 3\\n'\n",
      "b'Skipping line 373: expected 1 fields, saw 3\\n'\n",
      "b'Skipping line 464: expected 1 fields, saw 3\\n'\n",
      "b'Skipping line 453: expected 1 fields, saw 3\\n'\n",
      "b'Skipping line 458: expected 1 fields, saw 3\\n'\n",
      "b'Skipping line 444: expected 1 fields, saw 3\\n'\n",
      "b'Skipping line 362: expected 1 fields, saw 3\\n'\n",
      "b'Skipping line 443: expected 1 fields, saw 3\\n'\n",
      "b'Skipping line 454: expected 1 fields, saw 3\\n'\n",
      "b'Skipping line 462: expected 1 fields, saw 3\\n'\n"
     ]
    },
    {
     "name": "stdout",
     "output_type": "stream",
     "text": [
      "slurm_GCNGAP_ER.Status_layers_1_pooling_mean_dist_80_lr_0.01_graphfeatsize_100_nhiddim1_100_dropout_0.5_weight_decay_0.001_bsize_20.out\n",
      "slurm_GCNGAP_ER.Status_layers_1_pooling_mean_dist_80_lr_0.01_graphfeatsize_100_nhiddim1_150_dropout_0.3_weight_decay_0.1_bsize_20.out\n",
      "slurm_GCNGAP_ER.Status_layers_1_pooling_sum_dist_40_lr_0.001_graphfeatsize_50_nhiddim1_100_dropout_0.3_weight_decay_0.001_bsize_30.out\n",
      "slurm_GCNGAP_ER.Status_layers_1_pooling_att_dist_40_lr_0.01_graphfeatsize_100_nhiddim1_50_dropout_0.5_weight_decay_0.1_bsize_20.out\n",
      "slurm_GCNGAP_ER.Status_layers_2_pooling_mean_dist_40_lr_0.001_graphfeatsize_100_nhiddim1_50_dropout_0.3_weight_decay_0.1_bsize_20.out\n",
      "slurm_GCNGAP_ER.Status_layers_2_pooling_sum_dist_40_lr_0.01_graphfeatsize_100_nhiddim1_100_dropout_0.5_weight_decay_0.001_bsize_10.out\n",
      "slurm_GCNGAP_ER.Status_layers_2_pooling_mean_dist_40_lr_0.01_graphfeatsize_50_nhiddim1_50_dropout_0.5_weight_decay_0.1_bsize_30.out\n",
      "slurm_GCNGAP_ER.Status_layers_2_pooling_sum_dist_40_lr_0.01_graphfeatsize_100_nhiddim1_100_dropout_0.5_weight_decay_0.01_bsize_20.out\n",
      "slurm_GCNGAP_ER.Status_layers_2_pooling_sum_dist_40_lr_0.001_graphfeatsize_100_nhiddim1_100_dropout_0.3_weight_decay_0.01_bsize_20.out\n",
      "slurm_GCNGAP_ER.Status_layers_2_pooling_mean_dist_40_lr_0.01_graphfeatsize_100_nhiddim1_50_dropout_0.5_weight_decay_0.001_bsize_20.out\n",
      "slurm_GCNGAP_ER.Status_layers_1_pooling_mean_dist_40_lr_0.001_graphfeatsize_50_nhiddim1_150_dropout_0.3_weight_decay_0.1_bsize_10.out\n",
      "slurm_GCNGAP_ER.Status_layers_2_pooling_att_dist_40_lr_0.001_graphfeatsize_150_nhiddim1_100_dropout_0.5_weight_decay_0.01_bsize_10.out\n"
     ]
    },
    {
     "name": "stderr",
     "output_type": "stream",
     "text": [
      "b'Skipping line 443: expected 1 fields, saw 3\\n'\n",
      "b'Skipping line 442: expected 1 fields, saw 3\\n'\n",
      "b'Skipping line 442: expected 1 fields, saw 3\\n'\n",
      "b'Skipping line 482: expected 1 fields, saw 3\\n'\n",
      "b'Skipping line 457: expected 1 fields, saw 3\\n'\n",
      "b'Skipping line 536: expected 1 fields, saw 3\\n'\n",
      "b'Skipping line 487: expected 1 fields, saw 3\\n'\n",
      "b'Skipping line 500: expected 1 fields, saw 3\\n'\n",
      "b'Skipping line 560: expected 1 fields, saw 3\\n'\n",
      "b'Skipping line 443: expected 1 fields, saw 3\\n'\n",
      "b'Skipping line 442: expected 1 fields, saw 3\\n'\n",
      "b'Skipping line 516: expected 1 fields, saw 3\\n'\n"
     ]
    },
    {
     "name": "stdout",
     "output_type": "stream",
     "text": [
      "slurm_GCNGAP_ER.Status_layers_2_pooling_mean_dist_40_lr_0.01_graphfeatsize_50_nhiddim1_150_dropout_0.3_weight_decay_0.001_bsize_30.out\n",
      "slurm_GCNGAP_ER.Status_layers_1_pooling_mean_dist_80_lr_0.01_graphfeatsize_150_nhiddim1_100_dropout_0.5_weight_decay_0.001_bsize_20.out\n",
      "slurm_GCNGAP_ER.Status_layers_1_pooling_att_dist_40_lr_0.001_graphfeatsize_100_nhiddim1_50_dropout_0.3_weight_decay_0.01_bsize_30.out\n",
      "slurm_GCNGAP_ER.Status_layers_1_pooling_att_dist_40_lr_0.01_graphfeatsize_150_nhiddim1_100_dropout_0.5_weight_decay_0.1_bsize_10.out\n",
      "slurm_GCNGAP_ER.Status_layers_2_pooling_sum_dist_40_lr_0.001_graphfeatsize_100_nhiddim1_150_dropout_0.5_weight_decay_0.001_bsize_30.out\n",
      "slurm_GCNGAP_ER.Status_layers_2_pooling_sum_dist_40_lr_0.01_graphfeatsize_50_nhiddim1_50_dropout_0.3_weight_decay_0.1_bsize_20.out\n",
      "slurm_GCNGAP_ER.Status_layers_2_pooling_sum_dist_40_lr_0.001_graphfeatsize_50_nhiddim1_50_dropout_0.5_weight_decay_0.1_bsize_30.out\n",
      "slurm_GCNGAP_ER.Status_layers_1_pooling_mean_dist_40_lr_0.001_graphfeatsize_100_nhiddim1_150_dropout_0.5_weight_decay_0.1_bsize_30.out\n",
      "slurm_GCNGAP_ER.Status_layers_2_pooling_att_dist_40_lr_0.001_graphfeatsize_100_nhiddim1_100_dropout_0.3_weight_decay_0.001_bsize_30.out\n",
      "slurm_GCNGAP_ER.Status_layers_1_pooling_mean_dist_40_lr_0.001_graphfeatsize_150_nhiddim1_50_dropout_0.3_weight_decay_0.1_bsize_30.out\n",
      "slurm_GCNGAP_ER.Status_layers_2_pooling_att_dist_40_lr_0.001_graphfeatsize_150_nhiddim1_150_dropout_0.5_weight_decay_0.01_bsize_30.out\n",
      "slurm_GCNGAP_ER.Status_layers_1_pooling_mean_dist_80_lr_0.001_graphfeatsize_50_nhiddim1_100_dropout_0.3_weight_decay_0.1_bsize_20.out\n"
     ]
    },
    {
     "name": "stderr",
     "output_type": "stream",
     "text": [
      "b'Skipping line 442: expected 1 fields, saw 3\\n'\n",
      "b'Skipping line 484: expected 1 fields, saw 3\\n'\n",
      "b'Skipping line 474: expected 1 fields, saw 3\\n'\n",
      "b'Skipping line 501: expected 1 fields, saw 3\\n'\n",
      "b'Skipping line 559: expected 1 fields, saw 3\\n'\n",
      "b'Skipping line 482: expected 1 fields, saw 3\\n'\n",
      "b'Skipping line 467: expected 1 fields, saw 3\\n'\n",
      "b'Skipping line 443: expected 1 fields, saw 3\\n'\n",
      "b'Skipping line 478: expected 1 fields, saw 3\\n'\n",
      "b'Skipping line 472: expected 1 fields, saw 3\\n'\n",
      "b'Skipping line 483: expected 1 fields, saw 3\\n'\n",
      "b'Skipping line 483: expected 1 fields, saw 3\\n'\n"
     ]
    },
    {
     "name": "stdout",
     "output_type": "stream",
     "text": [
      "slurm_GCNGAP_ER.Status_layers_1_pooling_mean_dist_40_lr_0.01_graphfeatsize_150_nhiddim1_150_dropout_0.3_weight_decay_0.001_bsize_10.out\n",
      "slurm_GCNGAP_ER.Status_layers_1_pooling_mean_dist_80_lr_0.01_graphfeatsize_50_nhiddim1_100_dropout_0.5_weight_decay_0.1_bsize_30.out\n",
      "slurm_GCNGAP_ER.Status_layers_1_pooling_sum_dist_80_lr_0.001_graphfeatsize_100_nhiddim1_50_dropout_0.3_weight_decay_0.001_bsize_10.out\n",
      "slurm_GCNGAP_ER.Status_layers_1_pooling_mean_dist_80_lr_0.001_graphfeatsize_100_nhiddim1_150_dropout_0.5_weight_decay_0.1_bsize_30.out\n",
      "slurm_GCNGAP_ER.Status_layers_1_pooling_sum_dist_40_lr_0.01_graphfeatsize_50_nhiddim1_150_dropout_0.5_weight_decay_0.1_bsize_20.out\n",
      "slurm_GCNGAP_ER.Status_layers_1_pooling_att_dist_40_lr_0.001_graphfeatsize_150_nhiddim1_100_dropout_0.5_weight_decay_0.001_bsize_20.out\n",
      "slurm_GCNGAP_ER.Status_layers_1_pooling_sum_dist_40_lr_0.001_graphfeatsize_150_nhiddim1_50_dropout_0.3_weight_decay_0.001_bsize_20.out\n",
      "slurm_GCNGAP_ER.Status_layers_1_pooling_mean_dist_80_lr_0.01_graphfeatsize_50_nhiddim1_50_dropout_0.5_weight_decay_0.001_bsize_10.out\n",
      "slurm_GCNGAP_ER.Status_layers_1_pooling_sum_dist_40_lr_0.001_graphfeatsize_150_nhiddim1_150_dropout_0.3_weight_decay_0.001_bsize_20.out\n",
      "slurm_GCNGAP_ER.Status_layers_1_pooling_mean_dist_40_lr_0.01_graphfeatsize_100_nhiddim1_100_dropout_0.3_weight_decay_0.1_bsize_10.out\n",
      "slurm_GCNGAP_ER.Status_layers_2_pooling_att_dist_40_lr_0.01_graphfeatsize_150_nhiddim1_100_dropout_0.3_weight_decay_0.001_bsize_10.out\n",
      "slurm_GCNGAP_ER.Status_layers_2_pooling_att_dist_40_lr_0.001_graphfeatsize_150_nhiddim1_100_dropout_0.5_weight_decay_0.1_bsize_20.out\n"
     ]
    },
    {
     "name": "stderr",
     "output_type": "stream",
     "text": [
      "b'Skipping line 442: expected 1 fields, saw 3\\n'\n",
      "b'Skipping line 468: expected 1 fields, saw 3\\n'\n",
      "b'Skipping line 442: expected 1 fields, saw 3\\n'\n",
      "b'Skipping line 446: expected 1 fields, saw 3\\n'\n",
      "b'Skipping line 452: expected 1 fields, saw 3\\n'\n",
      "b'Skipping line 448: expected 1 fields, saw 3\\n'\n",
      "b'Skipping line 685: expected 1 fields, saw 3\\n'\n",
      "b'Skipping line 443: expected 1 fields, saw 3\\n'\n",
      "b'Skipping line 740: expected 1 fields, saw 3\\n'\n",
      "b'Skipping line 616: expected 1 fields, saw 3\\n'\n",
      "b'Skipping line 395: expected 1 fields, saw 3\\n'\n",
      "b'Skipping line 474: expected 1 fields, saw 3\\n'\n"
     ]
    },
    {
     "name": "stdout",
     "output_type": "stream",
     "text": [
      "slurm_GCNGAP_ER.Status_layers_2_pooling_mean_dist_40_lr_0.001_graphfeatsize_100_nhiddim1_50_dropout_0.5_weight_decay_0.01_bsize_30.out\n",
      "slurm_GCNGAP_ER.Status_layers_1_pooling_mean_dist_40_lr_0.01_graphfeatsize_50_nhiddim1_150_dropout_0.5_weight_decay_0.1_bsize_10.out\n",
      "slurm_GCNGAP_ER.Status_layers_1_pooling_mean_dist_40_lr_0.01_graphfeatsize_100_nhiddim1_150_dropout_0.5_weight_decay_0.01_bsize_30.out\n",
      "slurm_GCNGAP_ER.Status_layers_1_pooling_mean_dist_80_lr_0.01_graphfeatsize_100_nhiddim1_100_dropout_0.5_weight_decay_0.01_bsize_10.out\n",
      "slurm_GCNGAP_ER.Status_layers_1_pooling_sum_dist_40_lr_0.01_graphfeatsize_50_nhiddim1_150_dropout_0.3_weight_decay_0.01_bsize_10.out\n",
      "slurm_GCNGAP_ER.Status_layers_1_pooling_sum_dist_80_lr_0.01_graphfeatsize_150_nhiddim1_100_dropout_0.5_weight_decay_0.1_bsize_10.out\n",
      "slurm_GCNGAP_ER.Status_layers_1_pooling_mean_dist_80_lr_0.001_graphfeatsize_100_nhiddim1_150_dropout_0.3_weight_decay_0.01_bsize_30.out\n",
      "slurm_GCNGAP_ER.Status_layers_1_pooling_sum_dist_80_lr_0.001_graphfeatsize_100_nhiddim1_50_dropout_0.5_weight_decay_0.01_bsize_10.out\n",
      "slurm_GCNGAP_ER.Status_layers_1_pooling_mean_dist_40_lr_0.01_graphfeatsize_100_nhiddim1_150_dropout_0.3_weight_decay_0.001_bsize_10.out\n",
      "slurm_GCNGAP_ER.Status_layers_1_pooling_mean_dist_40_lr_0.01_graphfeatsize_150_nhiddim1_50_dropout_0.5_weight_decay_0.1_bsize_30.out\n",
      "slurm_GCNGAP_ER.Status_layers_2_pooling_att_dist_40_lr_0.01_graphfeatsize_100_nhiddim1_150_dropout_0.3_weight_decay_0.01_bsize_20.out\n"
     ]
    },
    {
     "name": "stderr",
     "output_type": "stream",
     "text": [
      "b'Skipping line 708: expected 1 fields, saw 3\\n'\n",
      "b'Skipping line 442: expected 1 fields, saw 3\\n'\n",
      "b'Skipping line 470: expected 1 fields, saw 3\\n'\n",
      "b'Skipping line 444: expected 1 fields, saw 3\\n'\n",
      "b'Skipping line 594: expected 1 fields, saw 3\\n'\n",
      "b'Skipping line 463: expected 1 fields, saw 3\\n'\n",
      "b'Skipping line 443: expected 1 fields, saw 3\\n'\n",
      "b'Skipping line 594: expected 1 fields, saw 3\\n'\n",
      "b'Skipping line 436: expected 1 fields, saw 3\\n'\n",
      "b'Skipping line 513: expected 1 fields, saw 3\\n'\n",
      "b'Skipping line 477: expected 1 fields, saw 3\\n'\n"
     ]
    },
    {
     "name": "stdout",
     "output_type": "stream",
     "text": [
      "slurm_GCNGAP_ER.Status_layers_2_pooling_att_dist_40_lr_0.01_graphfeatsize_100_nhiddim1_100_dropout_0.3_weight_decay_0.001_bsize_10.out\n",
      "slurm_GCNGAP_ER.Status_layers_1_pooling_sum_dist_40_lr_0.01_graphfeatsize_50_nhiddim1_150_dropout_0.3_weight_decay_0.001_bsize_10.out\n",
      "slurm_GCNGAP_ER.Status_layers_2_pooling_mean_dist_40_lr_0.001_graphfeatsize_100_nhiddim1_150_dropout_0.5_weight_decay_0.01_bsize_20.out\n",
      "slurm_GCNGAP_ER.Status_layers_2_pooling_sum_dist_40_lr_0.01_graphfeatsize_50_nhiddim1_100_dropout_0.3_weight_decay_0.01_bsize_20.out\n",
      "slurm_GCNGAP_ER.Status_layers_1_pooling_att_dist_40_lr_0.001_graphfeatsize_50_nhiddim1_50_dropout_0.3_weight_decay_0.001_bsize_30.out\n",
      "slurm_GCNGAP_ER.Status_layers_2_pooling_sum_dist_40_lr_0.01_graphfeatsize_150_nhiddim1_150_dropout_0.5_weight_decay_0.1_bsize_30.out\n",
      "slurm_GCNGAP_ER.Status_layers_1_pooling_att_dist_40_lr_0.001_graphfeatsize_100_nhiddim1_100_dropout_0.5_weight_decay_0.001_bsize_20.out\n",
      "slurm_GCNGAP_ER.Status_layers_1_pooling_att_dist_40_lr_0.01_graphfeatsize_50_nhiddim1_100_dropout_0.3_weight_decay_0.1_bsize_10.out\n",
      "slurm_GCNGAP_ER.Status_layers_2_pooling_mean_dist_40_lr_0.001_graphfeatsize_50_nhiddim1_100_dropout_0.5_weight_decay_0.1_bsize_10.out\n",
      "slurm_GCNGAP_ER.Status_layers_1_pooling_sum_dist_40_lr_0.001_graphfeatsize_100_nhiddim1_150_dropout_0.3_weight_decay_0.001_bsize_20.out\n",
      "slurm_GCNGAP_ER.Status_layers_1_pooling_att_dist_40_lr_0.001_graphfeatsize_50_nhiddim1_100_dropout_0.5_weight_decay_0.001_bsize_30.out\n",
      "slurm_GCNGAP_ER.Status_layers_2_pooling_att_dist_40_lr_0.001_graphfeatsize_100_nhiddim1_50_dropout_0.3_weight_decay_0.001_bsize_10.out\n"
     ]
    },
    {
     "name": "stderr",
     "output_type": "stream",
     "text": [
      "b'Skipping line 482: expected 1 fields, saw 3\\n'\n",
      "b'Skipping line 442: expected 1 fields, saw 3\\n'\n",
      "b'Skipping line 448: expected 1 fields, saw 3\\n'\n",
      "b'Skipping line 442: expected 1 fields, saw 3\\n'\n",
      "b'Skipping line 499: expected 1 fields, saw 3\\n'\n",
      "b'Skipping line 462: expected 1 fields, saw 3\\n'\n",
      "b'Skipping line 444: expected 1 fields, saw 3\\n'\n",
      "b'Skipping line 361: expected 1 fields, saw 3\\n'\n",
      "b'Skipping line 453: expected 1 fields, saw 3\\n'\n",
      "b'Skipping line 507: expected 1 fields, saw 3\\n'\n",
      "b'Skipping line 616: expected 1 fields, saw 3\\n'\n",
      "b'Skipping line 515: expected 1 fields, saw 3\\n'\n"
     ]
    },
    {
     "name": "stdout",
     "output_type": "stream",
     "text": [
      "slurm_GCNGAP_ER.Status_layers_1_pooling_mean_dist_80_lr_0.01_graphfeatsize_50_nhiddim1_50_dropout_0.3_weight_decay_0.1_bsize_30.out\n",
      "slurm_GCNGAP_ER.Status_layers_2_pooling_sum_dist_40_lr_0.01_graphfeatsize_50_nhiddim1_50_dropout_0.5_weight_decay_0.001_bsize_10.out\n",
      "slurm_GCNGAP_ER.Status_layers_2_pooling_mean_dist_40_lr_0.001_graphfeatsize_150_nhiddim1_100_dropout_0.5_weight_decay_0.1_bsize_30.out\n",
      "slurm_GCNGAP_ER.Status_layers_1_pooling_sum_dist_40_lr_0.001_graphfeatsize_50_nhiddim1_50_dropout_0.3_weight_decay_0.1_bsize_10.out\n",
      "slurm_GCNGAP_ER.Status_layers_2_pooling_att_dist_40_lr_0.001_graphfeatsize_100_nhiddim1_50_dropout_0.5_weight_decay_0.01_bsize_20.out\n",
      "slurm_GCNGAP_ER.Status_layers_1_pooling_att_dist_40_lr_0.001_graphfeatsize_150_nhiddim1_150_dropout_0.3_weight_decay_0.01_bsize_30.out\n",
      "slurm_GCNGAP_ER.Status_layers_2_pooling_sum_dist_40_lr_0.001_graphfeatsize_150_nhiddim1_150_dropout_0.3_weight_decay_0.1_bsize_10.out\n",
      "slurm_GCNGAP_ER.Status_layers_2_pooling_mean_dist_40_lr_0.001_graphfeatsize_150_nhiddim1_150_dropout_0.5_weight_decay_0.001_bsize_30.out\n",
      "slurm_GCNGAP_ER.Status_layers_1_pooling_sum_dist_80_lr_0.001_graphfeatsize_150_nhiddim1_50_dropout_0.3_weight_decay_0.1_bsize_20.out\n",
      "not in\n",
      "slurm_GCNGAP_ER.Status_layers_1_pooling_mean_dist_80_lr_0.001_graphfeatsize_100_nhiddim1_100_dropout_0.5_weight_decay_0.001_bsize_20.out\n",
      "slurm_GCNGAP_ER.Status_layers_1_pooling_sum_dist_40_lr_0.01_graphfeatsize_100_nhiddim1_150_dropout_0.3_weight_decay_0.1_bsize_30.out\n",
      "slurm_GCNGAP_ER.Status_layers_1_pooling_sum_dist_80_lr_0.01_graphfeatsize_150_nhiddim1_100_dropout_0.3_weight_decay_0.001_bsize_10.out\n",
      "not in\n",
      "slurm_GCNGAP_ER.Status_layers_1_pooling_att_dist_40_lr_0.01_graphfeatsize_100_nhiddim1_150_dropout_0.3_weight_decay_0.001_bsize_20.out\n"
     ]
    },
    {
     "name": "stderr",
     "output_type": "stream",
     "text": [
      "b'Skipping line 474: expected 1 fields, saw 3\\n'\n",
      "b'Skipping line 477: expected 1 fields, saw 3\\n'\n",
      "b'Skipping line 492: expected 1 fields, saw 3\\n'\n",
      "b'Skipping line 479: expected 1 fields, saw 3\\n'\n",
      "b'Skipping line 446: expected 1 fields, saw 3\\n'\n",
      "b'Skipping line 540: expected 1 fields, saw 3\\n'\n",
      "b'Skipping line 674: expected 1 fields, saw 3\\n'\n",
      "b'Skipping line 520: expected 1 fields, saw 3\\n'\n",
      "b'Skipping line 444: expected 1 fields, saw 3\\n'\n",
      "b'Skipping line 361: expected 1 fields, saw 3\\n'\n",
      "b'Skipping line 444: expected 1 fields, saw 3\\n'\n",
      "b'Skipping line 445: expected 1 fields, saw 3\\n'\n"
     ]
    },
    {
     "name": "stdout",
     "output_type": "stream",
     "text": [
      "slurm_GCNGAP_ER.Status_layers_1_pooling_mean_dist_40_lr_0.001_graphfeatsize_100_nhiddim1_100_dropout_0.3_weight_decay_0.001_bsize_30.out\n",
      "slurm_GCNGAP_ER.Status_layers_1_pooling_mean_dist_40_lr_0.001_graphfeatsize_100_nhiddim1_50_dropout_0.3_weight_decay_0.01_bsize_30.out\n",
      "slurm_GCNGAP_ER.Status_layers_2_pooling_sum_dist_40_lr_0.001_graphfeatsize_50_nhiddim1_100_dropout_0.3_weight_decay_0.1_bsize_20.out\n",
      "slurm_GCNGAP_ER.Status_layers_1_pooling_mean_dist_40_lr_0.01_graphfeatsize_50_nhiddim1_50_dropout_0.3_weight_decay_0.1_bsize_10.out\n",
      "slurm_GCNGAP_ER.Status_layers_2_pooling_sum_dist_40_lr_0.01_graphfeatsize_150_nhiddim1_50_dropout_0.3_weight_decay_0.001_bsize_20.out\n",
      "slurm_GCNGAP_ER.Status_layers_1_pooling_sum_dist_40_lr_0.01_graphfeatsize_100_nhiddim1_100_dropout_0.3_weight_decay_0.01_bsize_30.out\n",
      "slurm_GCNGAP_ER.Status_layers_1_pooling_sum_dist_80_lr_0.01_graphfeatsize_100_nhiddim1_150_dropout_0.3_weight_decay_0.01_bsize_10.out\n",
      "slurm_GCNGAP_ER.Status_layers_1_pooling_att_dist_40_lr_0.001_graphfeatsize_100_nhiddim1_150_dropout_0.5_weight_decay_0.1_bsize_30.out\n",
      "slurm_GCNGAP_ER.Status_layers_1_pooling_mean_dist_80_lr_0.01_graphfeatsize_50_nhiddim1_100_dropout_0.3_weight_decay_0.01_bsize_20.out\n",
      "slurm_GCNGAP_ER.Status_layers_1_pooling_mean_dist_40_lr_0.01_graphfeatsize_150_nhiddim1_50_dropout_0.3_weight_decay_0.001_bsize_10.out\n",
      "slurm_GCNGAP_ER.Status_layers_2_pooling_mean_dist_40_lr_0.001_graphfeatsize_100_nhiddim1_150_dropout_0.5_weight_decay_0.001_bsize_30.out\n",
      "slurm_GCNGAP_ER.Status_layers_1_pooling_mean_dist_80_lr_0.001_graphfeatsize_150_nhiddim1_100_dropout_0.5_weight_decay_0.001_bsize_20.out\n"
     ]
    },
    {
     "name": "stderr",
     "output_type": "stream",
     "text": [
      "b'Skipping line 482: expected 1 fields, saw 3\\n'\n",
      "b'Skipping line 482: expected 1 fields, saw 3\\n'\n",
      "b'Skipping line 460: expected 1 fields, saw 3\\n'\n",
      "b'Skipping line 493: expected 1 fields, saw 3\\n'\n",
      "b'Skipping line 510: expected 1 fields, saw 3\\n'\n",
      "b'Skipping line 544: expected 1 fields, saw 3\\n'\n",
      "b'Skipping line 555: expected 1 fields, saw 3\\n'\n",
      "b'Skipping line 606: expected 1 fields, saw 3\\n'\n",
      "b'Skipping line 449: expected 1 fields, saw 3\\n'\n",
      "b'Skipping line 511: expected 1 fields, saw 3\\n'\n",
      "b'Skipping line 444: expected 1 fields, saw 3\\n'\n",
      "b'Skipping line 483: expected 1 fields, saw 3\\n'\n"
     ]
    },
    {
     "name": "stdout",
     "output_type": "stream",
     "text": [
      "slurm_GCNGAP_ER.Status_layers_1_pooling_sum_dist_40_lr_0.001_graphfeatsize_50_nhiddim1_50_dropout_0.5_weight_decay_0.01_bsize_20.out\n",
      "slurm_GCNGAP_ER.Status_layers_1_pooling_mean_dist_80_lr_0.001_graphfeatsize_50_nhiddim1_50_dropout_0.3_weight_decay_0.001_bsize_30.out\n",
      "slurm_GCNGAP_ER.Status_layers_2_pooling_mean_dist_40_lr_0.01_graphfeatsize_100_nhiddim1_150_dropout_0.3_weight_decay_0.01_bsize_30.out\n",
      "slurm_GCNGAP_ER.Status_layers_1_pooling_mean_dist_80_lr_0.01_graphfeatsize_150_nhiddim1_150_dropout_0.5_weight_decay_0.1_bsize_30.out\n",
      "slurm_GCNGAP_ER.Status_layers_1_pooling_att_dist_40_lr_0.01_graphfeatsize_100_nhiddim1_100_dropout_0.5_weight_decay_0.01_bsize_10.out\n",
      "slurm_GCNGAP_ER.Status_layers_1_pooling_sum_dist_40_lr_0.01_graphfeatsize_150_nhiddim1_50_dropout_0.3_weight_decay_0.01_bsize_20.out\n",
      "slurm_GCNGAP_ER.Status_layers_1_pooling_mean_dist_40_lr_0.001_graphfeatsize_50_nhiddim1_50_dropout_0.3_weight_decay_0.1_bsize_20.out\n",
      "slurm_GCNGAP_ER.Status_layers_2_pooling_mean_dist_40_lr_0.01_graphfeatsize_100_nhiddim1_50_dropout_0.3_weight_decay_0.01_bsize_10.out\n",
      "slurm_GCNGAP_ER.Status_layers_1_pooling_sum_dist_80_lr_0.001_graphfeatsize_150_nhiddim1_100_dropout_0.5_weight_decay_0.1_bsize_10.out\n",
      "not in\n",
      "slurm_GCNGAP_ER.Status_layers_1_pooling_mean_dist_40_lr_0.001_graphfeatsize_150_nhiddim1_150_dropout_0.3_weight_decay_0.1_bsize_20.out\n",
      "slurm_GCNGAP_ER.Status_layers_1_pooling_sum_dist_80_lr_0.01_graphfeatsize_100_nhiddim1_50_dropout_0.5_weight_decay_0.01_bsize_10.out\n",
      "slurm_GCNGAP_ER.Status_layers_2_pooling_att_dist_40_lr_0.001_graphfeatsize_50_nhiddim1_150_dropout_0.3_weight_decay_0.1_bsize_10.out\n",
      "slurm_GCNGAP_ER.Status_layers_2_pooling_att_dist_40_lr_0.001_graphfeatsize_150_nhiddim1_50_dropout_0.3_weight_decay_0.1_bsize_30.out\n"
     ]
    },
    {
     "name": "stderr",
     "output_type": "stream",
     "text": [
      "b'Skipping line 652: expected 1 fields, saw 3\\n'\n",
      "b'Skipping line 474: expected 1 fields, saw 3\\n'\n",
      "b'Skipping line 469: expected 1 fields, saw 3\\n'\n",
      "b'Skipping line 446: expected 1 fields, saw 3\\n'\n",
      "b'Skipping line 598: expected 1 fields, saw 3\\n'\n",
      "b'Skipping line 445: expected 1 fields, saw 3\\n'\n",
      "b'Skipping line 462: expected 1 fields, saw 3\\n'\n",
      "b'Skipping line 543: expected 1 fields, saw 3\\n'\n",
      "b'Skipping line 442: expected 1 fields, saw 3\\n'\n",
      "b'Skipping line 477: expected 1 fields, saw 3\\n'\n",
      "b'Skipping line 443: expected 1 fields, saw 3\\n'\n"
     ]
    },
    {
     "name": "stdout",
     "output_type": "stream",
     "text": [
      "slurm_GCNGAP_ER.Status_layers_1_pooling_sum_dist_80_lr_0.01_graphfeatsize_100_nhiddim1_100_dropout_0.3_weight_decay_0.001_bsize_10.out\n",
      "slurm_GCNGAP_ER.Status_layers_1_pooling_att_dist_40_lr_0.01_graphfeatsize_150_nhiddim1_150_dropout_0.3_weight_decay_0.001_bsize_20.out\n",
      "slurm_GCNGAP_ER.Status_layers_1_pooling_mean_dist_40_lr_0.001_graphfeatsize_150_nhiddim1_100_dropout_0.3_weight_decay_0.001_bsize_30.out\n",
      "slurm_GCNGAP_ER.Status_layers_2_pooling_sum_dist_40_lr_0.001_graphfeatsize_50_nhiddim1_50_dropout_0.5_weight_decay_0.01_bsize_30.out\n",
      "slurm_GCNGAP_ER.Status_layers_1_pooling_att_dist_40_lr_0.01_graphfeatsize_100_nhiddim1_150_dropout_0.5_weight_decay_0.01_bsize_30.out\n",
      "slurm_GCNGAP_ER.Status_layers_2_pooling_att_dist_40_lr_0.01_graphfeatsize_50_nhiddim1_100_dropout_0.5_weight_decay_0.1_bsize_30.out\n",
      "slurm_GCNGAP_ER.Status_layers_1_pooling_sum_dist_40_lr_0.001_graphfeatsize_150_nhiddim1_100_dropout_0.5_weight_decay_0.1_bsize_10.out\n",
      "slurm_GCNGAP_ER.Status_layers_1_pooling_mean_dist_80_lr_0.001_graphfeatsize_150_nhiddim1_150_dropout_0.3_weight_decay_0.1_bsize_20.out\n",
      "slurm_GCNGAP_ER.Status_layers_2_pooling_mean_dist_40_lr_0.001_graphfeatsize_50_nhiddim1_100_dropout_0.3_weight_decay_0.001_bsize_10.out\n",
      "slurm_GCNGAP_ER.Status_layers_1_pooling_mean_dist_40_lr_0.01_graphfeatsize_50_nhiddim1_50_dropout_0.3_weight_decay_0.01_bsize_10.out\n",
      "slurm_GCNGAP_ER.Status_layers_1_pooling_sum_dist_40_lr_0.01_graphfeatsize_100_nhiddim1_150_dropout_0.5_weight_decay_0.001_bsize_20.out\n"
     ]
    },
    {
     "name": "stderr",
     "output_type": "stream",
     "text": [
      "b'Skipping line 465: expected 1 fields, saw 3\\n'\n",
      "b'Skipping line 477: expected 1 fields, saw 3\\n'\n",
      "b'Skipping line 479: expected 1 fields, saw 3\\n'\n",
      "b'Skipping line 641: expected 1 fields, saw 3\\n'\n",
      "b'Skipping line 361: expected 1 fields, saw 3\\n'\n",
      "b'Skipping line 611: expected 1 fields, saw 3\\n'\n",
      "b'Skipping line 495: expected 1 fields, saw 3\\n'\n",
      "b'Skipping line 444: expected 1 fields, saw 3\\n'\n",
      "b'Skipping line 455: expected 1 fields, saw 3\\n'\n",
      "b'Skipping line 464: expected 1 fields, saw 3\\n'\n",
      "b'Skipping line 454: expected 1 fields, saw 3\\n'\n",
      "b'Skipping line 471: expected 1 fields, saw 3\\n'\n"
     ]
    },
    {
     "name": "stdout",
     "output_type": "stream",
     "text": [
      "slurm_GCNGAP_ER.Status_layers_2_pooling_sum_dist_40_lr_0.001_graphfeatsize_100_nhiddim1_50_dropout_0.5_weight_decay_0.1_bsize_10.out\n",
      "slurm_GCNGAP_ER.Status_layers_2_pooling_sum_dist_40_lr_0.01_graphfeatsize_150_nhiddim1_50_dropout_0.3_weight_decay_0.01_bsize_30.out\n",
      "slurm_GCNGAP_ER.Status_layers_2_pooling_att_dist_40_lr_0.01_graphfeatsize_100_nhiddim1_100_dropout_0.3_weight_decay_0.1_bsize_10.out\n",
      "slurm_GCNGAP_ER.Status_layers_2_pooling_mean_dist_40_lr_0.001_graphfeatsize_50_nhiddim1_50_dropout_0.3_weight_decay_0.1_bsize_30.out\n",
      "slurm_GCNGAP_ER.Status_layers_1_pooling_mean_dist_80_lr_0.01_graphfeatsize_150_nhiddim1_50_dropout_0.3_weight_decay_0.001_bsize_10.out\n",
      "slurm_GCNGAP_ER.Status_layers_2_pooling_att_dist_40_lr_0.001_graphfeatsize_100_nhiddim1_100_dropout_0.3_weight_decay_0.1_bsize_30.out\n",
      "slurm_GCNGAP_ER.Status_layers_1_pooling_att_dist_40_lr_0.001_graphfeatsize_150_nhiddim1_50_dropout_0.3_weight_decay_0.1_bsize_20.out\n",
      "slurm_GCNGAP_ER.Status_layers_2_pooling_sum_dist_40_lr_0.001_graphfeatsize_100_nhiddim1_50_dropout_0.5_weight_decay_0.001_bsize_10.out\n",
      "slurm_GCNGAP_ER.Status_layers_2_pooling_mean_dist_40_lr_0.01_graphfeatsize_100_nhiddim1_100_dropout_0.3_weight_decay_0.01_bsize_10.out\n",
      "slurm_GCNGAP_ER.Status_layers_1_pooling_mean_dist_40_lr_0.001_graphfeatsize_50_nhiddim1_50_dropout_0.3_weight_decay_0.001_bsize_30.out\n",
      "slurm_GCNGAP_ER.Status_layers_2_pooling_sum_dist_40_lr_0.01_graphfeatsize_150_nhiddim1_50_dropout_0.3_weight_decay_0.1_bsize_20.out\n",
      "slurm_GCNGAP_ER.Status_layers_1_pooling_sum_dist_40_lr_0.01_graphfeatsize_150_nhiddim1_150_dropout_0.5_weight_decay_0.001_bsize_20.out\n"
     ]
    },
    {
     "name": "stderr",
     "output_type": "stream",
     "text": [
      "b'Skipping line 464: expected 1 fields, saw 3\\n'\n",
      "b'Skipping line 570: expected 1 fields, saw 3\\n'\n",
      "b'Skipping line 605: expected 1 fields, saw 3\\n'\n",
      "b'Skipping line 688: expected 1 fields, saw 3\\n'\n",
      "b'Skipping line 363: expected 1 fields, saw 3\\n'\n",
      "b'Skipping line 574: expected 1 fields, saw 3\\n'\n",
      "b'Skipping line 460: expected 1 fields, saw 3\\n'\n",
      "b'Skipping line 670: expected 1 fields, saw 3\\n'\n",
      "b'Skipping line 462: expected 1 fields, saw 3\\n'\n",
      "b'Skipping line 547: expected 1 fields, saw 3\\n'\n",
      "b'Skipping line 361: expected 1 fields, saw 3\\n'\n"
     ]
    },
    {
     "name": "stdout",
     "output_type": "stream",
     "text": [
      "slurm_GCNGAP_ER.Status_layers_1_pooling_sum_dist_40_lr_0.001_graphfeatsize_100_nhiddim1_100_dropout_0.5_weight_decay_0.01_bsize_20.out\n",
      "slurm_GCNGAP_ER.Status_layers_1_pooling_att_dist_40_lr_0.01_graphfeatsize_100_nhiddim1_50_dropout_0.5_weight_decay_0.01_bsize_10.out\n",
      "slurm_GCNGAP_ER.Status_layers_1_pooling_mean_dist_80_lr_0.001_graphfeatsize_100_nhiddim1_50_dropout_0.3_weight_decay_0.01_bsize_30.out\n",
      "slurm_GCNGAP_ER.Status_layers_2_pooling_att_dist_40_lr_0.01_graphfeatsize_50_nhiddim1_150_dropout_0.3_weight_decay_0.001_bsize_20.out\n",
      "slurm_GCNGAP_ER.Status_layers_1_pooling_mean_dist_80_lr_0.001_graphfeatsize_100_nhiddim1_50_dropout_0.5_weight_decay_0.001_bsize_20.out\n",
      "slurm_GCNGAP_ER.Status_layers_2_pooling_sum_dist_40_lr_0.01_graphfeatsize_50_nhiddim1_100_dropout_0.3_weight_decay_0.001_bsize_30.out\n",
      "slurm_GCNGAP_ER.Status_layers_1_pooling_sum_dist_40_lr_0.01_graphfeatsize_100_nhiddim1_150_dropout_0.3_weight_decay_0.01_bsize_10.out\n",
      "slurm_GCNGAP_ER.Status_layers_1_pooling_mean_dist_80_lr_0.001_graphfeatsize_50_nhiddim1_150_dropout_0.3_weight_decay_0.001_bsize_30.out\n",
      "slurm_GCNGAP_ER.Status_layers_2_pooling_sum_dist_40_lr_0.01_graphfeatsize_100_nhiddim1_150_dropout_0.3_weight_decay_0.1_bsize_20.out\n",
      "slurm_GCNGAP_ER.Status_layers_1_pooling_mean_dist_40_lr_0.001_graphfeatsize_150_nhiddim1_50_dropout_0.5_weight_decay_0.001_bsize_10.out\n",
      "slurm_GCNGAP_ER.Status_layers_1_pooling_att_dist_40_lr_0.01_graphfeatsize_50_nhiddim1_50_dropout_0.3_weight_decay_0.1_bsize_10.out\n",
      "slurm_GCNGAP_ER.Status_layers_1_pooling_sum_dist_40_lr_0.001_graphfeatsize_50_nhiddim1_100_dropout_0.3_weight_decay_0.1_bsize_30.out\n"
     ]
    },
    {
     "name": "stderr",
     "output_type": "stream",
     "text": [
      "b'Skipping line 443: expected 1 fields, saw 3\\n'\n",
      "b'Skipping line 503: expected 1 fields, saw 3\\n'\n",
      "b'Skipping line 520: expected 1 fields, saw 3\\n'\n",
      "b'Skipping line 530: expected 1 fields, saw 3\\n'\n",
      "b'Skipping line 444: expected 1 fields, saw 3\\n'\n",
      "b'Skipping line 442: expected 1 fields, saw 3\\n'\n",
      "b'Skipping line 461: expected 1 fields, saw 3\\n'\n",
      "b'Skipping line 445: expected 1 fields, saw 3\\n'\n",
      "b'Skipping line 495: expected 1 fields, saw 3\\n'\n",
      "b'Skipping line 442: expected 1 fields, saw 3\\n'\n",
      "b'Skipping line 449: expected 1 fields, saw 3\\n'\n",
      "b'Skipping line 460: expected 1 fields, saw 3\\n'\n"
     ]
    },
    {
     "name": "stdout",
     "output_type": "stream",
     "text": [
      "slurm_GCNGAP_ER.Status_layers_2_pooling_att_dist_40_lr_0.01_graphfeatsize_100_nhiddim1_50_dropout_0.5_weight_decay_0.001_bsize_30.out\n",
      "slurm_GCNGAP_ER.Status_layers_1_pooling_sum_dist_40_lr_0.01_graphfeatsize_50_nhiddim1_50_dropout_0.3_weight_decay_0.01_bsize_20.out\n",
      "slurm_GCNGAP_ER.Status_layers_1_pooling_att_dist_40_lr_0.001_graphfeatsize_150_nhiddim1_100_dropout_0.3_weight_decay_0.01_bsize_10.out\n",
      "slurm_GCNGAP_ER.Status_layers_1_pooling_sum_dist_80_lr_0.001_graphfeatsize_150_nhiddim1_100_dropout_0.5_weight_decay_0.01_bsize_10.out\n",
      "slurm_GCNGAP_ER.Status_layers_2_pooling_mean_dist_40_lr_0.01_graphfeatsize_50_nhiddim1_50_dropout_0.3_weight_decay_0.001_bsize_10.out\n",
      "slurm_GCNGAP_ER.Status_layers_2_pooling_att_dist_40_lr_0.001_graphfeatsize_100_nhiddim1_150_dropout_0.5_weight_decay_0.001_bsize_10.out\n",
      "slurm_GCNGAP_ER.Status_layers_1_pooling_att_dist_40_lr_0.01_graphfeatsize_50_nhiddim1_150_dropout_0.3_weight_decay_0.1_bsize_20.out\n",
      "slurm_GCNGAP_ER.Status_layers_2_pooling_mean_dist_40_lr_0.001_graphfeatsize_50_nhiddim1_150_dropout_0.5_weight_decay_0.1_bsize_20.out\n",
      "slurm_GCNGAP_ER.Status_layers_2_pooling_sum_dist_40_lr_0.001_graphfeatsize_50_nhiddim1_100_dropout_0.5_weight_decay_0.01_bsize_20.out\n",
      "slurm_GCNGAP_ER.Status_layers_2_pooling_sum_dist_40_lr_0.001_graphfeatsize_100_nhiddim1_100_dropout_0.3_weight_decay_0.001_bsize_10.out\n",
      "slurm_GCNGAP_ER.Status_layers_1_pooling_sum_dist_80_lr_0.01_graphfeatsize_150_nhiddim1_50_dropout_0.5_weight_decay_0.1_bsize_10.out\n",
      "slurm_GCNGAP_ER.Status_layers_2_pooling_mean_dist_40_lr_0.001_graphfeatsize_50_nhiddim1_50_dropout_0.5_weight_decay_0.001_bsize_20.out"
     ]
    },
    {
     "name": "stderr",
     "output_type": "stream",
     "text": [
      "b'Skipping line 443: expected 1 fields, saw 3\\n'\n",
      "b'Skipping line 449: expected 1 fields, saw 3\\n'\n",
      "b'Skipping line 538: expected 1 fields, saw 3\\n'\n",
      "b'Skipping line 442: expected 1 fields, saw 3\\n'\n",
      "b'Skipping line 468: expected 1 fields, saw 3\\n'\n",
      "b'Skipping line 495: expected 1 fields, saw 3\\n'\n",
      "b'Skipping line 548: expected 1 fields, saw 3\\n'\n",
      "b'Skipping line 494: expected 1 fields, saw 3\\n'\n",
      "b'Skipping line 452: expected 1 fields, saw 3\\n'\n",
      "b'Skipping line 458: expected 1 fields, saw 3\\n'\n",
      "b'Skipping line 579: expected 1 fields, saw 3\\n'\n",
      "b'Skipping line 490: expected 1 fields, saw 3\\n'\n"
     ]
    },
    {
     "name": "stdout",
     "output_type": "stream",
     "text": [
      "\n",
      "slurm_GCNGAP_ER.Status_layers_1_pooling_mean_dist_40_lr_0.01_graphfeatsize_150_nhiddim1_50_dropout_0.3_weight_decay_0.01_bsize_30.out\n",
      "slurm_GCNGAP_ER.Status_layers_2_pooling_sum_dist_40_lr_0.01_graphfeatsize_150_nhiddim1_150_dropout_0.5_weight_decay_0.01_bsize_20.out\n",
      "slurm_GCNGAP_ER.Status_layers_2_pooling_mean_dist_40_lr_0.01_graphfeatsize_50_nhiddim1_100_dropout_0.5_weight_decay_0.001_bsize_10.out\n",
      "slurm_GCNGAP_ER.Status_layers_2_pooling_sum_dist_40_lr_0.001_graphfeatsize_150_nhiddim1_150_dropout_0.3_weight_decay_0.01_bsize_20.out\n",
      "slurm_GCNGAP_ER.Status_layers_2_pooling_att_dist_40_lr_0.001_graphfeatsize_100_nhiddim1_150_dropout_0.5_weight_decay_0.01_bsize_10.out\n",
      "slurm_GCNGAP_ER.Status_layers_1_pooling_sum_dist_40_lr_0.001_graphfeatsize_150_nhiddim1_50_dropout_0.3_weight_decay_0.01_bsize_20.out\n",
      "slurm_GCNGAP_ER.Status_layers_1_pooling_mean_dist_40_lr_0.001_graphfeatsize_100_nhiddim1_50_dropout_0.5_weight_decay_0.1_bsize_10.out\n",
      "slurm_GCNGAP_ER.Status_layers_2_pooling_mean_dist_40_lr_0.01_graphfeatsize_100_nhiddim1_100_dropout_0.3_weight_decay_0.001_bsize_20.out\n",
      "slurm_GCNGAP_ER.Status_layers_2_pooling_sum_dist_40_lr_0.01_graphfeatsize_100_nhiddim1_150_dropout_0.3_weight_decay_0.001_bsize_30.out\n",
      "slurm_GCNGAP_ER.Status_layers_1_pooling_mean_dist_40_lr_0.001_graphfeatsize_50_nhiddim1_50_dropout_0.5_weight_decay_0.01_bsize_30.out\n",
      "slurm_GCNGAP_ER.Status_layers_1_pooling_sum_dist_40_lr_0.001_graphfeatsize_50_nhiddim1_150_dropout_0.5_weight_decay_0.001_bsize_10.out\n"
     ]
    },
    {
     "name": "stderr",
     "output_type": "stream",
     "text": [
      "b'Skipping line 462: expected 1 fields, saw 3\\n'\n",
      "b'Skipping line 463: expected 1 fields, saw 3\\n'\n",
      "b'Skipping line 361: expected 1 fields, saw 3\\n'\n",
      "b'Skipping line 679: expected 1 fields, saw 3\\n'\n",
      "b'Skipping line 442: expected 1 fields, saw 3\\n'\n",
      "b'Skipping line 443: expected 1 fields, saw 3\\n'\n",
      "b'Skipping line 562: expected 1 fields, saw 3\\n'\n",
      "b'Skipping line 444: expected 1 fields, saw 3\\n'\n",
      "b'Skipping line 446: expected 1 fields, saw 3\\n'\n",
      "b'Skipping line 717: expected 1 fields, saw 3\\n'\n",
      "b'Skipping line 585: expected 1 fields, saw 3\\n'\n",
      "b'Skipping line 470: expected 1 fields, saw 3\\n'\n"
     ]
    },
    {
     "name": "stdout",
     "output_type": "stream",
     "text": [
      "slurm_GCNGAP_ER.Status_layers_1_pooling_mean_dist_40_lr_0.01_graphfeatsize_50_nhiddim1_100_dropout_0.5_weight_decay_0.1_bsize_20.out\n",
      "slurm_GCNGAP_ER.Status_layers_2_pooling_mean_dist_40_lr_0.01_graphfeatsize_50_nhiddim1_100_dropout_0.5_weight_decay_0.01_bsize_30.out\n",
      "slurm_GCNGAP_ER.Status_layers_2_pooling_att_dist_40_lr_0.01_graphfeatsize_150_nhiddim1_150_dropout_0.5_weight_decay_0.1_bsize_30.out\n",
      "slurm_GCNGAP_ER.Status_layers_2_pooling_att_dist_40_lr_0.001_graphfeatsize_150_nhiddim1_150_dropout_0.5_weight_decay_0.1_bsize_10.out\n",
      "slurm_GCNGAP_ER.Status_layers_1_pooling_mean_dist_40_lr_0.001_graphfeatsize_100_nhiddim1_150_dropout_0.3_weight_decay_0.01_bsize_20.out\n",
      "slurm_GCNGAP_ER.Status_layers_2_pooling_att_dist_40_lr_0.01_graphfeatsize_50_nhiddim1_100_dropout_0.3_weight_decay_0.01_bsize_20.out\n",
      "slurm_GCNGAP_ER.Status_layers_2_pooling_att_dist_40_lr_0.001_graphfeatsize_150_nhiddim1_150_dropout_0.5_weight_decay_0.001_bsize_10.out\n",
      "slurm_GCNGAP_ER.Status_layers_1_pooling_mean_dist_40_lr_0.01_graphfeatsize_100_nhiddim1_150_dropout_0.3_weight_decay_0.1_bsize_20.out\n",
      "slurm_GCNGAP_ER.Status_layers_2_pooling_sum_dist_40_lr_0.001_graphfeatsize_150_nhiddim1_100_dropout_0.3_weight_decay_0.001_bsize_10.out\n",
      "slurm_GCNGAP_ER.Status_layers_1_pooling_sum_dist_40_lr_0.01_graphfeatsize_50_nhiddim1_100_dropout_0.5_weight_decay_0.1_bsize_10.out\n",
      "slurm_GCNGAP_ER.Status_layers_1_pooling_mean_dist_80_lr_0.001_graphfeatsize_150_nhiddim1_50_dropout_0.3_weight_decay_0.1_bsize_30.out\n",
      "slurm_GCNGAP_ER.Status_layers_1_pooling_mean_dist_40_lr_0.01_graphfeatsize_150_nhiddim1_150_dropout_0.5_weight_decay_0.01_bsize_10.out\n"
     ]
    },
    {
     "name": "stderr",
     "output_type": "stream",
     "text": [
      "b'Skipping line 443: expected 1 fields, saw 3\\n'\n",
      "b'Skipping line 442: expected 1 fields, saw 3\\n'\n",
      "b'Skipping line 582: expected 1 fields, saw 3\\n'\n",
      "b'Skipping line 508: expected 1 fields, saw 3\\n'\n",
      "b'Skipping line 748: expected 1 fields, saw 3\\n'\n",
      "b'Skipping line 599: expected 1 fields, saw 3\\n'\n",
      "b'Skipping line 544: expected 1 fields, saw 3\\n'\n",
      "b'Skipping line 443: expected 1 fields, saw 3\\n'\n",
      "b'Skipping line 667: expected 1 fields, saw 3\\n'\n",
      "b'Skipping line 501: expected 1 fields, saw 3\\n'\n",
      "b'Skipping line 714: expected 1 fields, saw 3\\n'\n",
      "b'Skipping line 660: expected 1 fields, saw 3\\n'\n"
     ]
    },
    {
     "name": "stdout",
     "output_type": "stream",
     "text": [
      "slurm_GCNGAP_ER.Status_layers_1_pooling_mean_dist_80_lr_0.01_graphfeatsize_150_nhiddim1_100_dropout_0.5_weight_decay_0.01_bsize_30.out\n",
      "slurm_GCNGAP_ER.Status_layers_1_pooling_sum_dist_40_lr_0.001_graphfeatsize_100_nhiddim1_150_dropout_0.3_weight_decay_0.1_bsize_30.out\n",
      "slurm_GCNGAP_ER.Status_layers_1_pooling_mean_dist_80_lr_0.01_graphfeatsize_150_nhiddim1_50_dropout_0.5_weight_decay_0.1_bsize_20.out\n",
      "slurm_GCNGAP_ER.Status_layers_1_pooling_mean_dist_40_lr_0.001_graphfeatsize_50_nhiddim1_100_dropout_0.5_weight_decay_0.01_bsize_10.out\n",
      "slurm_GCNGAP_ER.Status_layers_1_pooling_att_dist_40_lr_0.01_graphfeatsize_50_nhiddim1_150_dropout_0.3_weight_decay_0.01_bsize_10.out\n",
      "slurm_GCNGAP_ER.Status_layers_1_pooling_mean_dist_80_lr_0.001_graphfeatsize_50_nhiddim1_150_dropout_0.5_weight_decay_0.01_bsize_30.out\n",
      "slurm_GCNGAP_ER.Status_layers_1_pooling_mean_dist_80_lr_0.001_graphfeatsize_150_nhiddim1_150_dropout_0.3_weight_decay_0.01_bsize_10.out\n",
      "slurm_GCNGAP_ER.Status_layers_1_pooling_sum_dist_40_lr_0.01_graphfeatsize_150_nhiddim1_50_dropout_0.5_weight_decay_0.001_bsize_20.out\n",
      "slurm_GCNGAP_ER.Status_layers_2_pooling_mean_dist_40_lr_0.01_graphfeatsize_150_nhiddim1_100_dropout_0.3_weight_decay_0.001_bsize_20.out\n",
      "slurm_GCNGAP_ER.Status_layers_1_pooling_mean_dist_80_lr_0.001_graphfeatsize_50_nhiddim1_150_dropout_0.3_weight_decay_0.1_bsize_10.out\n",
      "slurm_GCNGAP_ER.Status_layers_2_pooling_sum_dist_40_lr_0.01_graphfeatsize_150_nhiddim1_150_dropout_0.3_weight_decay_0.001_bsize_30.out\n"
     ]
    },
    {
     "name": "stderr",
     "output_type": "stream",
     "text": [
      "b'Skipping line 442: expected 1 fields, saw 3\\n'\n",
      "b'Skipping line 497: expected 1 fields, saw 3\\n'\n",
      "b'Skipping line 452: expected 1 fields, saw 3\\n'\n",
      "b'Skipping line 361: expected 1 fields, saw 3\\n'\n",
      "b'Skipping line 474: expected 1 fields, saw 3\\n'\n",
      "b'Skipping line 597: expected 1 fields, saw 3\\n'\n",
      "b'Skipping line 667: expected 1 fields, saw 3\\n'\n",
      "b'Skipping line 448: expected 1 fields, saw 3\\n'\n",
      "b'Skipping line 443: expected 1 fields, saw 3\\n'\n",
      "b'Skipping line 442: expected 1 fields, saw 3\\n'\n"
     ]
    },
    {
     "name": "stdout",
     "output_type": "stream",
     "text": [
      "slurm_GCNGAP_ER.Status_layers_1_pooling_att_dist_40_lr_0.001_graphfeatsize_50_nhiddim1_150_dropout_0.3_weight_decay_0.001_bsize_10.out\n",
      "slurm_GCNGAP_ER.Status_layers_1_pooling_mean_dist_80_lr_0.01_graphfeatsize_150_nhiddim1_150_dropout_0.5_weight_decay_0.01_bsize_10.out\n",
      "slurm_GCNGAP_ER.Status_layers_1_pooling_mean_dist_40_lr_0.01_graphfeatsize_150_nhiddim1_100_dropout_0.5_weight_decay_0.01_bsize_30.out\n",
      "slurm_GCNGAP_ER.Status_layers_1_pooling_att_dist_40_lr_0.01_graphfeatsize_150_nhiddim1_150_dropout_0.5_weight_decay_0.1_bsize_20.out\n",
      "slurm_GCNGAP_ER.Status_layers_1_pooling_mean_dist_40_lr_0.01_graphfeatsize_100_nhiddim1_50_dropout_0.3_weight_decay_0.1_bsize_10.out\n",
      "slurm_GCNGAP_ER.Status_layers_1_pooling_sum_dist_80_lr_0.01_graphfeatsize_150_nhiddim1_50_dropout_0.5_weight_decay_0.001_bsize_20.out\n",
      "slurm_GCNGAP_ER.Status_layers_1_pooling_mean_dist_80_lr_0.001_graphfeatsize_50_nhiddim1_100_dropout_0.5_weight_decay_0.01_bsize_10.out\n",
      "slurm_GCNGAP_ER.Status_layers_1_pooling_att_dist_40_lr_0.01_graphfeatsize_50_nhiddim1_100_dropout_0.3_weight_decay_0.01_bsize_30.out\n",
      "slurm_GCNGAP_ER.Status_layers_1_pooling_mean_dist_80_lr_0.001_graphfeatsize_150_nhiddim1_100_dropout_0.3_weight_decay_0.01_bsize_30.out\n",
      "slurm_GCNGAP_ER.Status_layers_1_pooling_sum_dist_40_lr_0.01_graphfeatsize_50_nhiddim1_100_dropout_0.5_weight_decay_0.001_bsize_30.out\n",
      "slurm_GCNGAP_ER.Status_layers_1_pooling_mean_dist_40_lr_0.001_graphfeatsize_50_nhiddim1_150_dropout_0.5_weight_decay_0.01_bsize_30.out\n",
      "slurm_GCNGAP_ER.Status_layers_1_pooling_mean_dist_40_lr_0.001_graphfeatsize_50_nhiddim1_100_dropout_0.3_weight_decay_0.1_bsize_20.out\n"
     ]
    },
    {
     "name": "stderr",
     "output_type": "stream",
     "text": [
      "b'Skipping line 549: expected 1 fields, saw 3\\n'\n",
      "b'Skipping line 489: expected 1 fields, saw 3\\n'\n",
      "b'Skipping line 706: expected 1 fields, saw 3\\n'\n",
      "b'Skipping line 444: expected 1 fields, saw 3\\n'\n",
      "b'Skipping line 684: expected 1 fields, saw 3\\n'\n",
      "b'Skipping line 475: expected 1 fields, saw 3\\n'\n",
      "b'Skipping line 459: expected 1 fields, saw 3\\n'\n",
      "b'Skipping line 461: expected 1 fields, saw 3\\n'\n",
      "b'Skipping line 599: expected 1 fields, saw 3\\n'\n",
      "b'Skipping line 455: expected 1 fields, saw 3\\n'\n",
      "b'Skipping line 461: expected 1 fields, saw 3\\n'\n"
     ]
    },
    {
     "name": "stdout",
     "output_type": "stream",
     "text": [
      "slurm_GCNGAP_ER.Status_layers_2_pooling_att_dist_40_lr_0.01_graphfeatsize_100_nhiddim1_150_dropout_0.5_weight_decay_0.001_bsize_30.out\n",
      "slurm_GCNGAP_ER.Status_layers_1_pooling_att_dist_40_lr_0.01_graphfeatsize_50_nhiddim1_150_dropout_0.5_weight_decay_0.001_bsize_20.out\n",
      "slurm_GCNGAP_ER.Status_layers_2_pooling_att_dist_40_lr_0.01_graphfeatsize_150_nhiddim1_100_dropout_0.3_weight_decay_0.01_bsize_20.out\n",
      "slurm_GCNGAP_ER.Status_layers_1_pooling_att_dist_40_lr_0.01_graphfeatsize_100_nhiddim1_50_dropout_0.3_weight_decay_0.001_bsize_30.out\n",
      "slurm_GCNGAP_ER.Status_layers_1_pooling_mean_dist_40_lr_0.01_graphfeatsize_100_nhiddim1_100_dropout_0.5_weight_decay_0.001_bsize_30.out\n",
      "slurm_GCNGAP_ER.Status_layers_2_pooling_mean_dist_40_lr_0.001_graphfeatsize_150_nhiddim1_100_dropout_0.5_weight_decay_0.01_bsize_20.out\n",
      "slurm_GCNGAP_ER.Status_layers_1_pooling_sum_dist_80_lr_0.001_graphfeatsize_100_nhiddim1_100_dropout_0.3_weight_decay_0.001_bsize_10.out\n",
      "slurm_GCNGAP_ER.Status_layers_2_pooling_att_dist_40_lr_0.001_graphfeatsize_50_nhiddim1_150_dropout_0.3_weight_decay_0.01_bsize_20.out\n",
      "slurm_GCNGAP_ER.Status_layers_1_pooling_mean_dist_80_lr_0.01_graphfeatsize_100_nhiddim1_100_dropout_0.3_weight_decay_0.1_bsize_10.out\n",
      "slurm_GCNGAP_ER.Status_layers_1_pooling_mean_dist_40_lr_0.01_graphfeatsize_50_nhiddim1_50_dropout_0.5_weight_decay_0.001_bsize_10.out\n",
      "slurm_GCNGAP_ER.Status_layers_1_pooling_sum_dist_80_lr_0.001_graphfeatsize_150_nhiddim1_50_dropout_0.3_weight_decay_0.01_bsize_20.out\n",
      "not in\n",
      "slurm_GCNGAP_ER.Status_layers_2_pooling_att_dist_40_lr_0.001_graphfeatsize_100_nhiddim1_100_dropout_0.5_weight_decay_0.01_bsize_30.out\n"
     ]
    },
    {
     "name": "stderr",
     "output_type": "stream",
     "text": [
      "b'Skipping line 583: expected 1 fields, saw 3\\n'\n",
      "b'Skipping line 442: expected 1 fields, saw 3\\n'\n",
      "b'Skipping line 625: expected 1 fields, saw 3\\n'\n",
      "b'Skipping line 443: expected 1 fields, saw 3\\n'\n",
      "b'Skipping line 456: expected 1 fields, saw 3\\n'\n",
      "b'Skipping line 582: expected 1 fields, saw 3\\n'\n",
      "b'Skipping line 444: expected 1 fields, saw 3\\n'\n",
      "b'Skipping line 457: expected 1 fields, saw 3\\n'\n",
      "b'Skipping line 467: expected 1 fields, saw 3\\n'\n",
      "b'Skipping line 458: expected 1 fields, saw 3\\n'\n",
      "b'Skipping line 655: expected 1 fields, saw 3\\n'\n",
      "b'Skipping line 443: expected 1 fields, saw 3\\n'\n"
     ]
    },
    {
     "name": "stdout",
     "output_type": "stream",
     "text": [
      "slurm_GCNGAP_ER.Status_layers_2_pooling_mean_dist_40_lr_0.01_graphfeatsize_100_nhiddim1_100_dropout_0.5_weight_decay_0.1_bsize_20.out\n",
      "slurm_GCNGAP_ER.Status_layers_1_pooling_sum_dist_40_lr_0.01_graphfeatsize_150_nhiddim1_100_dropout_0.5_weight_decay_0.1_bsize_10.out\n",
      "slurm_GCNGAP_ER.Status_layers_2_pooling_att_dist_40_lr_0.01_graphfeatsize_150_nhiddim1_150_dropout_0.5_weight_decay_0.001_bsize_30.out\n",
      "slurm_GCNGAP_ER.Status_layers_1_pooling_att_dist_40_lr_0.001_graphfeatsize_150_nhiddim1_100_dropout_0.3_weight_decay_0.1_bsize_10.out\n",
      "slurm_GCNGAP_ER.Status_layers_1_pooling_sum_dist_40_lr_0.01_graphfeatsize_50_nhiddim1_50_dropout_0.5_weight_decay_0.1_bsize_30.out\n",
      "slurm_GCNGAP_ER.Status_layers_1_pooling_sum_dist_80_lr_0.01_graphfeatsize_50_nhiddim1_150_dropout_0.3_weight_decay_0.01_bsize_10.out\n",
      "slurm_GCNGAP_ER.Status_layers_1_pooling_sum_dist_80_lr_0.001_graphfeatsize_50_nhiddim1_100_dropout_0.3_weight_decay_0.001_bsize_20.out\n",
      "not in\n",
      "slurm_GCNGAP_ER.Status_layers_2_pooling_mean_dist_40_lr_0.01_graphfeatsize_50_nhiddim1_150_dropout_0.5_weight_decay_0.01_bsize_10.out\n",
      "slurm_GCNGAP_ER.Status_layers_2_pooling_att_dist_40_lr_0.001_graphfeatsize_50_nhiddim1_50_dropout_0.3_weight_decay_0.1_bsize_30.out\n",
      "slurm_GCNGAP_ER.Status_layers_1_pooling_sum_dist_80_lr_0.001_graphfeatsize_150_nhiddim1_100_dropout_0.3_weight_decay_0.001_bsize_10.out\n",
      "slurm_GCNGAP_ER.Status_layers_1_pooling_sum_dist_40_lr_0.01_graphfeatsize_100_nhiddim1_50_dropout_0.3_weight_decay_0.1_bsize_20.out\n",
      "slurm_GCNGAP_ER.Status_layers_2_pooling_mean_dist_40_lr_0.001_graphfeatsize_100_nhiddim1_150_dropout_0.3_weight_decay_0.1_bsize_10.out\n",
      "slurm_GCNGAP_ER.Status_layers_1_pooling_mean_dist_40_lr_0.01_graphfeatsize_150_nhiddim1_100_dropout_0.5_weight_decay_0.001_bsize_30.out\n"
     ]
    },
    {
     "name": "stderr",
     "output_type": "stream",
     "text": [
      "b'Skipping line 598: expected 1 fields, saw 3\\n'\n",
      "b'Skipping line 456: expected 1 fields, saw 3\\n'\n",
      "b'Skipping line 444: expected 1 fields, saw 3\\n'\n",
      "b'Skipping line 644: expected 1 fields, saw 3\\n'\n",
      "b'Skipping line 448: expected 1 fields, saw 3\\n'\n",
      "b'Skipping line 458: expected 1 fields, saw 3\\n'\n",
      "b'Skipping line 443: expected 1 fields, saw 3\\n'\n",
      "b'Skipping line 733: expected 1 fields, saw 3\\n'\n",
      "b'Skipping line 524: expected 1 fields, saw 3\\n'\n",
      "b'Skipping line 491: expected 1 fields, saw 3\\n'\n",
      "b'Skipping line 443: expected 1 fields, saw 3\\n'\n",
      "b'Skipping line 456: expected 1 fields, saw 3\\n'\n"
     ]
    },
    {
     "name": "stdout",
     "output_type": "stream",
     "text": [
      "slurm_GCNGAP_ER.Status_layers_2_pooling_mean_dist_40_lr_0.01_graphfeatsize_50_nhiddim1_100_dropout_0.5_weight_decay_0.1_bsize_30.out\n",
      "slurm_GCNGAP_ER.Status_layers_1_pooling_sum_dist_80_lr_0.01_graphfeatsize_50_nhiddim1_50_dropout_0.5_weight_decay_0.1_bsize_10.out\n",
      "slurm_GCNGAP_ER.Status_layers_2_pooling_sum_dist_40_lr_0.001_graphfeatsize_100_nhiddim1_100_dropout_0.5_weight_decay_0.1_bsize_30.out\n",
      "slurm_GCNGAP_ER.Status_layers_1_pooling_sum_dist_40_lr_0.01_graphfeatsize_100_nhiddim1_100_dropout_0.5_weight_decay_0.01_bsize_10.out\n",
      "slurm_GCNGAP_ER.Status_layers_1_pooling_mean_dist_40_lr_0.01_graphfeatsize_50_nhiddim1_100_dropout_0.3_weight_decay_0.1_bsize_20.out\n",
      "slurm_GCNGAP_ER.Status_layers_1_pooling_mean_dist_40_lr_0.001_graphfeatsize_100_nhiddim1_50_dropout_0.3_weight_decay_0.1_bsize_10.out\n",
      "slurm_GCNGAP_ER.Status_layers_1_pooling_sum_dist_40_lr_0.001_graphfeatsize_100_nhiddim1_150_dropout_0.3_weight_decay_0.01_bsize_20.out\n",
      "slurm_GCNGAP_ER.Status_layers_1_pooling_mean_dist_40_lr_0.001_graphfeatsize_100_nhiddim1_50_dropout_0.5_weight_decay_0.01_bsize_10.out\n",
      "slurm_GCNGAP_ER.Status_layers_1_pooling_mean_dist_40_lr_0.001_graphfeatsize_150_nhiddim1_150_dropout_0.3_weight_decay_0.001_bsize_20.out\n",
      "slurm_GCNGAP_ER.Status_layers_1_pooling_att_dist_40_lr_0.01_graphfeatsize_150_nhiddim1_100_dropout_0.3_weight_decay_0.001_bsize_30.out\n",
      "slurm_GCNGAP_ER.Status_layers_2_pooling_mean_dist_40_lr_0.001_graphfeatsize_100_nhiddim1_100_dropout_0.5_weight_decay_0.001_bsize_20.out\n",
      "slurm_GCNGAP_ER.Status_layers_1_pooling_mean_dist_80_lr_0.001_graphfeatsize_150_nhiddim1_150_dropout_0.5_weight_decay_0.001_bsize_30.out\n"
     ]
    },
    {
     "name": "stderr",
     "output_type": "stream",
     "text": [
      "b'Skipping line 361: expected 1 fields, saw 3\\n'\n",
      "b'Skipping line 710: expected 1 fields, saw 3\\n'\n",
      "b'Skipping line 503: expected 1 fields, saw 3\\n'\n",
      "b'Skipping line 450: expected 1 fields, saw 3\\n'\n",
      "b'Skipping line 468: expected 1 fields, saw 3\\n'\n",
      "b'Skipping line 491: expected 1 fields, saw 3\\n'\n",
      "b'Skipping line 475: expected 1 fields, saw 3\\n'\n",
      "b'Skipping line 510: expected 1 fields, saw 3\\n'\n",
      "b'Skipping line 483: expected 1 fields, saw 3\\n'\n",
      "b'Skipping line 543: expected 1 fields, saw 3\\n'\n",
      "b'Skipping line 595: expected 1 fields, saw 3\\n'\n",
      "b'Skipping line 443: expected 1 fields, saw 3\\n'\n",
      "b'Skipping line 452: expected 1 fields, saw 3\\n'\n"
     ]
    },
    {
     "name": "stdout",
     "output_type": "stream",
     "text": [
      "slurm_GCNGAP_ER.Status_layers_1_pooling_mean_dist_80_lr_0.01_graphfeatsize_50_nhiddim1_150_dropout_0.3_weight_decay_0.001_bsize_10.out\n",
      "slurm_GCNGAP_ER.Status_layers_1_pooling_att_dist_40_lr_0.001_graphfeatsize_150_nhiddim1_150_dropout_0.5_weight_decay_0.01_bsize_10.out\n",
      "slurm_GCNGAP_ER.Status_layers_1_pooling_sum_dist_80_lr_0.001_graphfeatsize_150_nhiddim1_150_dropout_0.3_weight_decay_0.01_bsize_10.out\n",
      "slurm_GCNGAP_ER.Status_layers_1_pooling_sum_dist_80_lr_0.01_graphfeatsize_150_nhiddim1_50_dropout_0.3_weight_decay_0.1_bsize_10.out\n",
      "slurm_GCNGAP_ER.Status_layers_2_pooling_att_dist_40_lr_0.01_graphfeatsize_100_nhiddim1_50_dropout_0.3_weight_decay_0.01_bsize_20.out\n",
      "slurm_GCNGAP_ER.Status_layers_1_pooling_att_dist_40_lr_0.01_graphfeatsize_50_nhiddim1_150_dropout_0.5_weight_decay_0.1_bsize_20.out\n",
      "slurm_GCNGAP_ER.Status_layers_2_pooling_mean_dist_40_lr_0.001_graphfeatsize_50_nhiddim1_150_dropout_0.3_weight_decay_0.1_bsize_20.out\n",
      "slurm_GCNGAP_ER.Status_layers_1_pooling_mean_dist_80_lr_0.001_graphfeatsize_50_nhiddim1_150_dropout_0.5_weight_decay_0.1_bsize_10.out\n",
      "slurm_GCNGAP_ER.Status_layers_1_pooling_mean_dist_40_lr_0.001_graphfeatsize_100_nhiddim1_150_dropout_0.3_weight_decay_0.001_bsize_20.out\n",
      "slurm_GCNGAP_ER.Status_layers_1_pooling_att_dist_40_lr_0.01_graphfeatsize_100_nhiddim1_100_dropout_0.3_weight_decay_0.001_bsize_30.out\n",
      "slurm_GCNGAP_ER.Status_layers_1_pooling_mean_dist_80_lr_0.01_graphfeatsize_150_nhiddim1_50_dropout_0.3_weight_decay_0.1_bsize_20.out\n",
      "slurm_GCNGAP_ER.Status_layers_2_pooling_att_dist_40_lr_0.001_graphfeatsize_50_nhiddim1_100_dropout_0.5_weight_decay_0.001_bsize_10.out\n"
     ]
    },
    {
     "name": "stderr",
     "output_type": "stream",
     "text": [
      "b'Skipping line 448: expected 1 fields, saw 3\\n'\n",
      "b'Skipping line 503: expected 1 fields, saw 3\\n'\n",
      "b'Skipping line 461: expected 1 fields, saw 3\\n'\n",
      "b'Skipping line 443: expected 1 fields, saw 3\\n'\n",
      "b'Skipping line 474: expected 1 fields, saw 3\\n'\n",
      "b'Skipping line 454: expected 1 fields, saw 3\\n'\n",
      "b'Skipping line 498: expected 1 fields, saw 3\\n'\n",
      "b'Skipping line 500: expected 1 fields, saw 3\\n'\n",
      "b'Skipping line 549: expected 1 fields, saw 3\\n'\n",
      "b'Skipping line 618: expected 1 fields, saw 3\\n'\n",
      "b'Skipping line 531: expected 1 fields, saw 3\\n'\n"
     ]
    },
    {
     "name": "stdout",
     "output_type": "stream",
     "text": [
      "slurm_GCNGAP_ER.Status_layers_2_pooling_att_dist_40_lr_0.01_graphfeatsize_150_nhiddim1_50_dropout_0.3_weight_decay_0.001_bsize_20.out\n",
      "slurm_GCNGAP_ER.Status_layers_1_pooling_mean_dist_80_lr_0.001_graphfeatsize_150_nhiddim1_50_dropout_0.5_weight_decay_0.1_bsize_30.out\n",
      "slurm_GCNGAP_ER.Status_layers_1_pooling_att_dist_40_lr_0.01_graphfeatsize_100_nhiddim1_100_dropout_0.3_weight_decay_0.01_bsize_30.out\n",
      "slurm_GCNGAP_ER.Status_layers_1_pooling_sum_dist_40_lr_0.001_graphfeatsize_100_nhiddim1_150_dropout_0.5_weight_decay_0.1_bsize_30.out\n",
      "slurm_GCNGAP_ER.Status_layers_2_pooling_mean_dist_40_lr_0.01_graphfeatsize_100_nhiddim1_50_dropout_0.5_weight_decay_0.01_bsize_30.out\n",
      "slurm_GCNGAP_ER.Status_layers_1_pooling_sum_dist_40_lr_0.01_graphfeatsize_50_nhiddim1_100_dropout_0.3_weight_decay_0.1_bsize_10.out\n",
      "slurm_GCNGAP_ER.Status_layers_1_pooling_mean_dist_40_lr_0.001_graphfeatsize_50_nhiddim1_150_dropout_0.5_weight_decay_0.001_bsize_10.out\n",
      "slurm_GCNGAP_ER.Status_layers_2_pooling_mean_dist_40_lr_0.01_graphfeatsize_50_nhiddim1_50_dropout_0.5_weight_decay_0.01_bsize_20.out\n",
      "slurm_GCNGAP_ER.Status_layers_1_pooling_mean_dist_40_lr_0.01_graphfeatsize_100_nhiddim1_150_dropout_0.5_weight_decay_0.1_bsize_20.out\n",
      "slurm_GCNGAP_ER.Status_layers_2_pooling_sum_dist_40_lr_0.001_graphfeatsize_100_nhiddim1_50_dropout_0.5_weight_decay_0.01_bsize_20.out\n",
      "slurm_GCNGAP_ER.Status_layers_1_pooling_att_dist_40_lr_0.01_graphfeatsize_50_nhiddim1_50_dropout_0.3_weight_decay_0.001_bsize_30.out\n"
     ]
    },
    {
     "name": "stderr",
     "output_type": "stream",
     "text": [
      "b'Skipping line 483: expected 1 fields, saw 3\\n'\n",
      "b'Skipping line 602: expected 1 fields, saw 3\\n'\n",
      "b'Skipping line 443: expected 1 fields, saw 3\\n'\n",
      "b'Skipping line 442: expected 1 fields, saw 3\\n'\n",
      "b'Skipping line 453: expected 1 fields, saw 3\\n'\n",
      "b'Skipping line 576: expected 1 fields, saw 3\\n'\n",
      "b'Skipping line 623: expected 1 fields, saw 3\\n'\n",
      "b'Skipping line 443: expected 1 fields, saw 3\\n'\n",
      "b'Skipping line 445: expected 1 fields, saw 3\\n'\n",
      "b'Skipping line 471: expected 1 fields, saw 3\\n'\n",
      "b'Skipping line 511: expected 1 fields, saw 3\\n'\n"
     ]
    },
    {
     "name": "stdout",
     "output_type": "stream",
     "text": [
      "slurm_GCNGAP_ER.Status_layers_1_pooling_mean_dist_80_lr_0.001_graphfeatsize_150_nhiddim1_50_dropout_0.3_weight_decay_0.001_bsize_30.out\n",
      "slurm_GCNGAP_ER.Status_layers_2_pooling_mean_dist_40_lr_0.01_graphfeatsize_100_nhiddim1_150_dropout_0.5_weight_decay_0.01_bsize_10.out\n",
      "slurm_GCNGAP_ER.Status_layers_2_pooling_att_dist_40_lr_0.01_graphfeatsize_150_nhiddim1_150_dropout_0.3_weight_decay_0.1_bsize_30.out\n",
      "slurm_GCNGAP_ER.Status_layers_2_pooling_att_dist_40_lr_0.001_graphfeatsize_150_nhiddim1_150_dropout_0.3_weight_decay_0.1_bsize_10.out\n",
      "slurm_GCNGAP_ER.Status_layers_2_pooling_mean_dist_40_lr_0.001_graphfeatsize_150_nhiddim1_100_dropout_0.5_weight_decay_0.001_bsize_20.out\n",
      "slurm_GCNGAP_ER.Status_layers_1_pooling_mean_dist_80_lr_0.001_graphfeatsize_100_nhiddim1_150_dropout_0.5_weight_decay_0.001_bsize_30.out\n",
      "slurm_GCNGAP_ER.Status_layers_2_pooling_mean_dist_40_lr_0.01_graphfeatsize_100_nhiddim1_100_dropout_0.5_weight_decay_0.01_bsize_30.out\n",
      "slurm_GCNGAP_ER.Status_layers_1_pooling_mean_dist_80_lr_0.01_graphfeatsize_100_nhiddim1_100_dropout_0.5_weight_decay_0.1_bsize_10.out\n",
      "slurm_GCNGAP_ER.Status_layers_1_pooling_mean_dist_80_lr_0.001_graphfeatsize_50_nhiddim1_100_dropout_0.3_weight_decay_0.001_bsize_20.out\n",
      "slurm_GCNGAP_ER.Status_layers_2_pooling_sum_dist_40_lr_0.01_graphfeatsize_100_nhiddim1_50_dropout_0.5_weight_decay_0.001_bsize_30.out\n",
      "slurm_GCNGAP_ER.Status_layers_1_pooling_mean_dist_80_lr_0.01_graphfeatsize_50_nhiddim1_150_dropout_0.5_weight_decay_0.01_bsize_20.out\n"
     ]
    },
    {
     "name": "stderr",
     "output_type": "stream",
     "text": [
      "b'Skipping line 597: expected 1 fields, saw 3\\n'\n",
      "b'Skipping line 443: expected 1 fields, saw 3\\n'\n",
      "b'Skipping line 504: expected 1 fields, saw 3\\n'\n",
      "b'Skipping line 361: expected 1 fields, saw 3\\n'\n",
      "b'Skipping line 606: expected 1 fields, saw 3\\n'\n",
      "b'Skipping line 461: expected 1 fields, saw 3\\n'\n",
      "b'Skipping line 471: expected 1 fields, saw 3\\n'\n",
      "b'Skipping line 463: expected 1 fields, saw 3\\n'\n",
      "b'Skipping line 361: expected 1 fields, saw 3\\n'\n",
      "b'Skipping line 679: expected 1 fields, saw 3\\n'\n",
      "b'Skipping line 444: expected 1 fields, saw 3\\n'\n",
      "b'Skipping line 443: expected 1 fields, saw 3\\n'\n"
     ]
    },
    {
     "name": "stdout",
     "output_type": "stream",
     "text": [
      "slurm_GCNGAP_ER.Status_layers_2_pooling_sum_dist_40_lr_0.01_graphfeatsize_150_nhiddim1_50_dropout_0.5_weight_decay_0.01_bsize_10.out\n",
      "slurm_GCNGAP_ER.Status_layers_1_pooling_mean_dist_40_lr_0.001_graphfeatsize_50_nhiddim1_100_dropout_0.5_weight_decay_0.1_bsize_20.out\n",
      "slurm_GCNGAP_ER.Status_layers_2_pooling_att_dist_40_lr_0.01_graphfeatsize_50_nhiddim1_50_dropout_0.3_weight_decay_0.001_bsize_20.out\n",
      "slurm_GCNGAP_ER.Status_layers_1_pooling_sum_dist_40_lr_0.01_graphfeatsize_150_nhiddim1_100_dropout_0.5_weight_decay_0.001_bsize_30.out\n",
      "slurm_GCNGAP_ER.Status_layers_1_pooling_mean_dist_40_lr_0.01_graphfeatsize_50_nhiddim1_50_dropout_0.5_weight_decay_0.01_bsize_30.out\n",
      "slurm_GCNGAP_ER.Status_layers_1_pooling_att_dist_40_lr_0.01_graphfeatsize_150_nhiddim1_150_dropout_0.3_weight_decay_0.1_bsize_20.out\n",
      "slurm_GCNGAP_ER.Status_layers_1_pooling_mean_dist_40_lr_0.01_graphfeatsize_100_nhiddim1_50_dropout_0.5_weight_decay_0.1_bsize_10.out\n",
      "slurm_GCNGAP_ER.Status_layers_2_pooling_sum_dist_40_lr_0.01_graphfeatsize_50_nhiddim1_150_dropout_0.3_weight_decay_0.001_bsize_20.out\n",
      "slurm_GCNGAP_ER.Status_layers_2_pooling_att_dist_40_lr_0.01_graphfeatsize_50_nhiddim1_100_dropout_0.3_weight_decay_0.001_bsize_30.out\n",
      "slurm_GCNGAP_ER.Status_layers_2_pooling_sum_dist_40_lr_0.001_graphfeatsize_50_nhiddim1_50_dropout_0.3_weight_decay_0.01_bsize_10.out\n",
      "slurm_GCNGAP_ER.Status_layers_1_pooling_att_dist_40_lr_0.01_graphfeatsize_100_nhiddim1_150_dropout_0.3_weight_decay_0.01_bsize_10.out\n",
      "slurm_GCNGAP_ER.Status_layers_2_pooling_mean_dist_40_lr_0.01_graphfeatsize_50_nhiddim1_100_dropout_0.3_weight_decay_0.1_bsize_30.out\n"
     ]
    },
    {
     "name": "stderr",
     "output_type": "stream",
     "text": [
      "b'Skipping line 361: expected 1 fields, saw 3\\n'\n",
      "b'Skipping line 494: expected 1 fields, saw 3\\n'\n",
      "b'Skipping line 575: expected 1 fields, saw 3\\n'\n",
      "b'Skipping line 551: expected 1 fields, saw 3\\n'\n",
      "b'Skipping line 444: expected 1 fields, saw 3\\n'\n",
      "b'Skipping line 586: expected 1 fields, saw 3\\n'\n",
      "b'Skipping line 479: expected 1 fields, saw 3\\n'\n",
      "b'Skipping line 565: expected 1 fields, saw 3\\n'\n",
      "b'Skipping line 510: expected 1 fields, saw 3\\n'\n",
      "b'Skipping line 527: expected 1 fields, saw 3\\n'\n",
      "b'Skipping line 446: expected 1 fields, saw 3\\n'\n",
      "b'Skipping line 477: expected 1 fields, saw 3\\n'\n"
     ]
    },
    {
     "name": "stdout",
     "output_type": "stream",
     "text": [
      "slurm_GCNGAP_ER.Status_layers_1_pooling_sum_dist_80_lr_0.01_graphfeatsize_50_nhiddim1_50_dropout_0.3_weight_decay_0.1_bsize_10.out\n",
      "slurm_GCNGAP_ER.Status_layers_2_pooling_sum_dist_40_lr_0.001_graphfeatsize_100_nhiddim1_100_dropout_0.3_weight_decay_0.1_bsize_30.out\n",
      "slurm_GCNGAP_ER.Status_layers_1_pooling_att_dist_40_lr_0.001_graphfeatsize_150_nhiddim1_100_dropout_0.5_weight_decay_0.01_bsize_30.out\n",
      "slurm_GCNGAP_ER.Status_layers_1_pooling_mean_dist_40_lr_0.01_graphfeatsize_50_nhiddim1_150_dropout_0.3_weight_decay_0.001_bsize_10.out\n",
      "slurm_GCNGAP_ER.Status_layers_1_pooling_sum_dist_40_lr_0.01_graphfeatsize_100_nhiddim1_50_dropout_0.5_weight_decay_0.1_bsize_20.out\n",
      "slurm_GCNGAP_ER.Status_layers_2_pooling_mean_dist_40_lr_0.001_graphfeatsize_100_nhiddim1_150_dropout_0.5_weight_decay_0.1_bsize_10.out\n",
      "slurm_GCNGAP_ER.Status_layers_2_pooling_mean_dist_40_lr_0.001_graphfeatsize_100_nhiddim1_50_dropout_0.5_weight_decay_0.001_bsize_10.out\n",
      "slurm_GCNGAP_ER.Status_layers_2_pooling_sum_dist_40_lr_0.001_graphfeatsize_50_nhiddim1_100_dropout_0.3_weight_decay_0.001_bsize_10.out\n",
      "slurm_GCNGAP_ER.Status_layers_1_pooling_sum_dist_80_lr_0.01_graphfeatsize_100_nhiddim1_100_dropout_0.5_weight_decay_0.01_bsize_10.out\n",
      "slurm_GCNGAP_ER.Status_layers_1_pooling_sum_dist_40_lr_0.01_graphfeatsize_100_nhiddim1_150_dropout_0.5_weight_decay_0.01_bsize_30.out\n",
      "slurm_GCNGAP_ER.Status_layers_2_pooling_att_dist_40_lr_0.001_graphfeatsize_50_nhiddim1_50_dropout_0.5_weight_decay_0.1_bsize_30.out\n"
     ]
    },
    {
     "name": "stderr",
     "output_type": "stream",
     "text": [
      "b'Skipping line 442: expected 1 fields, saw 3\\n'\n",
      "b'Skipping line 445: expected 1 fields, saw 3\\n'\n",
      "b'Skipping line 443: expected 1 fields, saw 3\\n'\n",
      "b'Skipping line 467: expected 1 fields, saw 3\\n'\n",
      "b'Skipping line 494: expected 1 fields, saw 3\\n'\n",
      "b'Skipping line 469: expected 1 fields, saw 3\\n'\n",
      "b'Skipping line 664: expected 1 fields, saw 3\\n'\n",
      "b'Skipping line 485: expected 1 fields, saw 3\\n'\n",
      "b'Skipping line 446: expected 1 fields, saw 3\\n'\n",
      "b'Skipping line 443: expected 1 fields, saw 3\\n'\n",
      "b'Skipping line 443: expected 1 fields, saw 3\\n'\n",
      "b'Skipping line 485: expected 1 fields, saw 3\\n'\n"
     ]
    },
    {
     "name": "stdout",
     "output_type": "stream",
     "text": [
      "slurm_GCNGAP_ER.Status_layers_1_pooling_sum_dist_40_lr_0.01_graphfeatsize_50_nhiddim1_50_dropout_0.3_weight_decay_0.1_bsize_30.out\n",
      "slurm_GCNGAP_ER.Status_layers_1_pooling_att_dist_40_lr_0.001_graphfeatsize_150_nhiddim1_100_dropout_0.5_weight_decay_0.1_bsize_10.out\n",
      "slurm_GCNGAP_ER.Status_layers_1_pooling_mean_dist_80_lr_0.001_graphfeatsize_100_nhiddim1_50_dropout_0.5_weight_decay_0.01_bsize_10.out\n",
      "slurm_GCNGAP_ER.Status_layers_1_pooling_att_dist_40_lr_0.01_graphfeatsize_100_nhiddim1_50_dropout_0.3_weight_decay_0.01_bsize_30.out\n",
      "slurm_GCNGAP_ER.Status_layers_2_pooling_mean_dist_40_lr_0.01_graphfeatsize_100_nhiddim1_100_dropout_0.3_weight_decay_0.1_bsize_20.out\n",
      "slurm_GCNGAP_ER.Status_layers_1_pooling_sum_dist_40_lr_0.01_graphfeatsize_150_nhiddim1_100_dropout_0.3_weight_decay_0.1_bsize_10.out\n",
      "slurm_GCNGAP_ER.Status_layers_1_pooling_sum_dist_40_lr_0.01_graphfeatsize_100_nhiddim1_100_dropout_0.5_weight_decay_0.001_bsize_30.out\n",
      "slurm_GCNGAP_ER.Status_layers_1_pooling_att_dist_40_lr_0.001_graphfeatsize_100_nhiddim1_150_dropout_0.3_weight_decay_0.1_bsize_30.out\n",
      "slurm_GCNGAP_ER.Status_layers_2_pooling_mean_dist_40_lr_0.01_graphfeatsize_50_nhiddim1_100_dropout_0.3_weight_decay_0.01_bsize_10.out\n",
      "slurm_GCNGAP_ER.Status_layers_1_pooling_sum_dist_80_lr_0.01_graphfeatsize_50_nhiddim1_100_dropout_0.5_weight_decay_0.01_bsize_10.out\n",
      "slurm_GCNGAP_ER.Status_layers_1_pooling_mean_dist_40_lr_0.001_graphfeatsize_50_nhiddim1_50_dropout_0.3_weight_decay_0.01_bsize_10.out\n"
     ]
    },
    {
     "name": "stderr",
     "output_type": "stream",
     "text": [
      "b'Skipping line 594: expected 1 fields, saw 3\\n'\n",
      "b'Skipping line 444: expected 1 fields, saw 3\\n'\n",
      "b'Skipping line 707: expected 1 fields, saw 3\\n'\n",
      "b'Skipping line 479: expected 1 fields, saw 3\\n'\n",
      "b'Skipping line 470: expected 1 fields, saw 3\\n'\n",
      "b'Skipping line 361: expected 1 fields, saw 3\\n'\n",
      "b'Skipping line 477: expected 1 fields, saw 3\\n'\n",
      "b'Skipping line 455: expected 1 fields, saw 3\\n'\n",
      "b'Skipping line 444: expected 1 fields, saw 3\\n'\n",
      "b'Skipping line 618: expected 1 fields, saw 3\\n'\n",
      "b'Skipping line 511: expected 1 fields, saw 3\\n'\n",
      "b'Skipping line 622: expected 1 fields, saw 3\\n'\n"
     ]
    },
    {
     "name": "stdout",
     "output_type": "stream",
     "text": [
      "slurm_GCNGAP_ER.Status_layers_1_pooling_att_dist_40_lr_0.001_graphfeatsize_150_nhiddim1_50_dropout_0.3_weight_decay_0.001_bsize_10.out\n",
      "slurm_GCNGAP_ER.Status_layers_2_pooling_mean_dist_40_lr_0.01_graphfeatsize_150_nhiddim1_150_dropout_0.3_weight_decay_0.001_bsize_30.out\n",
      "slurm_GCNGAP_ER.Status_layers_2_pooling_sum_dist_40_lr_0.01_graphfeatsize_150_nhiddim1_100_dropout_0.3_weight_decay_0.001_bsize_20.out\n",
      "slurm_GCNGAP_ER.Status_layers_2_pooling_sum_dist_40_lr_0.001_graphfeatsize_50_nhiddim1_100_dropout_0.5_weight_decay_0.1_bsize_20.out\n",
      "slurm_GCNGAP_ER.Status_layers_1_pooling_att_dist_40_lr_0.01_graphfeatsize_150_nhiddim1_50_dropout_0.5_weight_decay_0.001_bsize_20.out\n",
      "slurm_GCNGAP_ER.Status_layers_1_pooling_mean_dist_40_lr_0.01_graphfeatsize_50_nhiddim1_50_dropout_0.5_weight_decay_0.1_bsize_10.out\n",
      "slurm_GCNGAP_ER.Status_layers_2_pooling_att_dist_40_lr_0.01_graphfeatsize_50_nhiddim1_50_dropout_0.5_weight_decay_0.01_bsize_20.out\n",
      "slurm_GCNGAP_ER.Status_layers_1_pooling_sum_dist_40_lr_0.01_graphfeatsize_100_nhiddim1_150_dropout_0.5_weight_decay_0.1_bsize_30.out\n",
      "slurm_GCNGAP_ER.Status_layers_2_pooling_att_dist_40_lr_0.001_graphfeatsize_100_nhiddim1_150_dropout_0.3_weight_decay_0.01_bsize_30.out\n",
      "slurm_GCNGAP_ER.Status_layers_1_pooling_mean_dist_80_lr_0.01_graphfeatsize_100_nhiddim1_50_dropout_0.3_weight_decay_0.01_bsize_20.out\n",
      "slurm_GCNGAP_ER.Status_layers_2_pooling_sum_dist_40_lr_0.001_graphfeatsize_150_nhiddim1_150_dropout_0.5_weight_decay_0.1_bsize_10.out\n"
     ]
    },
    {
     "name": "stderr",
     "output_type": "stream",
     "text": [
      "b'Skipping line 747: expected 1 fields, saw 3\\n'\n",
      "b'Skipping line 527: expected 1 fields, saw 3\\n'\n",
      "b'Skipping line 653: expected 1 fields, saw 3\\n'\n",
      "b'Skipping line 475: expected 1 fields, saw 3\\n'\n",
      "b'Skipping line 459: expected 1 fields, saw 3\\n'\n",
      "b'Skipping line 446: expected 1 fields, saw 3\\n'\n",
      "b'Skipping line 456: expected 1 fields, saw 3\\n'\n",
      "b'Skipping line 506: expected 1 fields, saw 3\\n'\n",
      "b'Skipping line 514: expected 1 fields, saw 3\\n'\n",
      "b'Skipping line 361: expected 1 fields, saw 3\\n'\n",
      "b'Skipping line 560: expected 1 fields, saw 3\\n'\n",
      "b'Skipping line 457: expected 1 fields, saw 3\\n'\n"
     ]
    },
    {
     "name": "stdout",
     "output_type": "stream",
     "text": [
      "slurm_GCNGAP_ER.Status_layers_1_pooling_mean_dist_40_lr_0.01_graphfeatsize_150_nhiddim1_50_dropout_0.5_weight_decay_0.01_bsize_10.out\n",
      "slurm_GCNGAP_ER.Status_layers_1_pooling_sum_dist_80_lr_0.001_graphfeatsize_150_nhiddim1_50_dropout_0.5_weight_decay_0.1_bsize_20.out\n",
      "slurm_GCNGAP_ER.Status_layers_1_pooling_mean_dist_80_lr_0.01_graphfeatsize_100_nhiddim1_100_dropout_0.3_weight_decay_0.001_bsize_10.out\n",
      "slurm_GCNGAP_ER.Status_layers_1_pooling_mean_dist_80_lr_0.01_graphfeatsize_50_nhiddim1_50_dropout_0.5_weight_decay_0.1_bsize_30.out\n",
      "slurm_GCNGAP_ER.Status_layers_2_pooling_mean_dist_40_lr_0.001_graphfeatsize_150_nhiddim1_100_dropout_0.3_weight_decay_0.1_bsize_30.out\n",
      "slurm_GCNGAP_ER.Status_layers_1_pooling_sum_dist_40_lr_0.001_graphfeatsize_50_nhiddim1_50_dropout_0.5_weight_decay_0.1_bsize_10.out\n",
      "slurm_GCNGAP_ER.Status_layers_2_pooling_mean_dist_40_lr_0.01_graphfeatsize_100_nhiddim1_150_dropout_0.3_weight_decay_0.001_bsize_30.out\n",
      "slurm_GCNGAP_ER.Status_layers_2_pooling_sum_dist_40_lr_0.01_graphfeatsize_100_nhiddim1_100_dropout_0.3_weight_decay_0.001_bsize_20.out\n",
      "slurm_GCNGAP_ER.Status_layers_1_pooling_att_dist_40_lr_0.001_graphfeatsize_150_nhiddim1_50_dropout_0.3_weight_decay_0.01_bsize_20.out\n",
      "slurm_GCNGAP_ER.Status_layers_2_pooling_att_dist_40_lr_0.001_graphfeatsize_150_nhiddim1_50_dropout_0.5_weight_decay_0.1_bsize_30.out\n",
      "slurm_GCNGAP_ER.Status_layers_1_pooling_mean_dist_40_lr_0.001_graphfeatsize_50_nhiddim1_100_dropout_0.3_weight_decay_0.01_bsize_30.out\n",
      "slurm_GCNGAP_ER.Status_layers_1_pooling_mean_dist_80_lr_0.001_graphfeatsize_50_nhiddim1_150_dropout_0.3_weight_decay_0.01_bsize_10.out\n"
     ]
    },
    {
     "name": "stderr",
     "output_type": "stream",
     "text": [
      "b'Skipping line 697: expected 1 fields, saw 3\\n'\n",
      "b'Skipping line 617: expected 1 fields, saw 3\\n'\n",
      "b'Skipping line 457: expected 1 fields, saw 3\\n'\n",
      "b'Skipping line 709: expected 1 fields, saw 3\\n'\n",
      "b'Skipping line 483: expected 1 fields, saw 3\\n'\n",
      "b'Skipping line 499: expected 1 fields, saw 3\\n'\n",
      "b'Skipping line 462: expected 1 fields, saw 3\\n'\n",
      "b'Skipping line 447: expected 1 fields, saw 3\\n'\n",
      "b'Skipping line 689: expected 1 fields, saw 3\\n'\n",
      "b'Skipping line 590: expected 1 fields, saw 3\\n'\n",
      "b'Skipping line 468: expected 1 fields, saw 3\\n'\n"
     ]
    },
    {
     "name": "stdout",
     "output_type": "stream",
     "text": [
      "slurm_GCNGAP_ER.Status_layers_1_pooling_att_dist_40_lr_0.01_graphfeatsize_50_nhiddim1_150_dropout_0.5_weight_decay_0.01_bsize_30.out\n",
      "slurm_GCNGAP_ER.Status_layers_1_pooling_mean_dist_80_lr_0.001_graphfeatsize_150_nhiddim1_150_dropout_0.5_weight_decay_0.01_bsize_30.out\n",
      "slurm_GCNGAP_ER.Status_layers_2_pooling_mean_dist_40_lr_0.01_graphfeatsize_100_nhiddim1_50_dropout_0.3_weight_decay_0.001_bsize_10.out\n",
      "slurm_GCNGAP_ER.Status_layers_1_pooling_sum_dist_80_lr_0.001_graphfeatsize_150_nhiddim1_100_dropout_0.3_weight_decay_0.1_bsize_10.out\n",
      "slurm_GCNGAP_ER.Status_layers_1_pooling_mean_dist_40_lr_0.001_graphfeatsize_150_nhiddim1_150_dropout_0.5_weight_decay_0.1_bsize_20.out\n",
      "slurm_GCNGAP_ER.Status_layers_2_pooling_att_dist_40_lr_0.001_graphfeatsize_50_nhiddim1_150_dropout_0.5_weight_decay_0.1_bsize_10.out\n",
      "slurm_GCNGAP_ER.Status_layers_1_pooling_mean_dist_40_lr_0.01_graphfeatsize_150_nhiddim1_150_dropout_0.3_weight_decay_0.01_bsize_30.out\n",
      "slurm_GCNGAP_ER.Status_layers_1_pooling_mean_dist_80_lr_0.01_graphfeatsize_150_nhiddim1_100_dropout_0.3_weight_decay_0.01_bsize_10.out\n",
      "slurm_GCNGAP_ER.Status_layers_1_pooling_mean_dist_40_lr_0.001_graphfeatsize_50_nhiddim1_50_dropout_0.5_weight_decay_0.1_bsize_20.out\n",
      "slurm_GCNGAP_ER.Status_layers_1_pooling_mean_dist_80_lr_0.01_graphfeatsize_150_nhiddim1_150_dropout_0.3_weight_decay_0.1_bsize_30.out\n",
      "slurm_GCNGAP_ER.Status_layers_2_pooling_att_dist_40_lr_0.001_graphfeatsize_50_nhiddim1_100_dropout_0.5_weight_decay_0.01_bsize_20.out\n",
      "slurm_GCNGAP_ER.Status_layers_2_pooling_mean_dist_40_lr_0.001_graphfeatsize_150_nhiddim1_150_dropout_0.3_weight_decay_0.01_bsize_20.out\n"
     ]
    },
    {
     "name": "stderr",
     "output_type": "stream",
     "text": [
      "b'Skipping line 449: expected 1 fields, saw 3\\n'\n",
      "b'Skipping line 706: expected 1 fields, saw 3\\n'\n",
      "b'Skipping line 558: expected 1 fields, saw 3\\n'\n",
      "b'Skipping line 497: expected 1 fields, saw 3\\n'\n",
      "b'Skipping line 536: expected 1 fields, saw 3\\n'\n",
      "b'Skipping line 571: expected 1 fields, saw 3\\n'\n",
      "b'Skipping line 472: expected 1 fields, saw 3\\n'\n",
      "b'Skipping line 622: expected 1 fields, saw 3\\n'\n",
      "b'Skipping line 710: expected 1 fields, saw 3\\n'\n",
      "b'Skipping line 448: expected 1 fields, saw 3\\n'\n",
      "b'Skipping line 460: expected 1 fields, saw 3\\n'\n",
      "b'Skipping line 448: expected 1 fields, saw 3\\n'\n"
     ]
    },
    {
     "name": "stdout",
     "output_type": "stream",
     "text": [
      "slurm_GCNGAP_ER.Status_layers_2_pooling_att_dist_40_lr_0.01_graphfeatsize_150_nhiddim1_150_dropout_0.5_weight_decay_0.01_bsize_20.out\n",
      "slurm_GCNGAP_ER.Status_layers_1_pooling_mean_dist_80_lr_0.01_graphfeatsize_150_nhiddim1_100_dropout_0.3_weight_decay_0.001_bsize_10.out\n",
      "slurm_GCNGAP_ER.Status_layers_1_pooling_sum_dist_80_lr_0.001_graphfeatsize_100_nhiddim1_50_dropout_0.5_weight_decay_0.001_bsize_20.out\n",
      "not in\n",
      "slurm_GCNGAP_ER.Status_layers_2_pooling_att_dist_40_lr_0.01_graphfeatsize_50_nhiddim1_150_dropout_0.5_weight_decay_0.01_bsize_20.out\n",
      "slurm_GCNGAP_ER.Status_layers_1_pooling_att_dist_40_lr_0.001_graphfeatsize_150_nhiddim1_50_dropout_0.5_weight_decay_0.1_bsize_20.out\n",
      "slurm_GCNGAP_ER.Status_layers_2_pooling_mean_dist_40_lr_0.001_graphfeatsize_150_nhiddim1_50_dropout_0.5_weight_decay_0.01_bsize_20.out\n",
      "slurm_GCNGAP_ER.Status_layers_1_pooling_mean_dist_40_lr_0.001_graphfeatsize_100_nhiddim1_100_dropout_0.5_weight_decay_0.01_bsize_20.out\n",
      "slurm_GCNGAP_ER.Status_layers_2_pooling_att_dist_40_lr_0.01_graphfeatsize_100_nhiddim1_100_dropout_0.5_weight_decay_0.1_bsize_10.out\n",
      "slurm_GCNGAP_ER.Status_layers_2_pooling_mean_dist_40_lr_0.001_graphfeatsize_50_nhiddim1_50_dropout_0.5_weight_decay_0.1_bsize_30.out\n",
      "slurm_GCNGAP_ER.Status_layers_1_pooling_mean_dist_40_lr_0.01_graphfeatsize_150_nhiddim1_150_dropout_0.5_weight_decay_0.001_bsize_20.out\n",
      "slurm_GCNGAP_ER.Status_layers_2_pooling_att_dist_40_lr_0.001_graphfeatsize_100_nhiddim1_100_dropout_0.5_weight_decay_0.1_bsize_30.out\n",
      "slurm_GCNGAP_ER.Status_layers_2_pooling_sum_dist_40_lr_0.001_graphfeatsize_100_nhiddim1_50_dropout_0.3_weight_decay_0.1_bsize_10.out\n",
      "slurm_GCNGAP_ER.Status_layers_2_pooling_att_dist_40_lr_0.01_graphfeatsize_150_nhiddim1_100_dropout_0.5_weight_decay_0.001_bsize_20.out\n"
     ]
    },
    {
     "name": "stderr",
     "output_type": "stream",
     "text": [
      "b'Skipping line 456: expected 1 fields, saw 3\\n'\n",
      "b'Skipping line 463: expected 1 fields, saw 3\\n'\n",
      "b'Skipping line 525: expected 1 fields, saw 3\\n'\n",
      "b'Skipping line 532: expected 1 fields, saw 3\\n'\n",
      "b'Skipping line 695: expected 1 fields, saw 3\\n'\n",
      "b'Skipping line 571: expected 1 fields, saw 3\\n'\n",
      "b'Skipping line 732: expected 1 fields, saw 3\\n'\n",
      "b'Skipping line 521: expected 1 fields, saw 3\\n'\n",
      "b'Skipping line 462: expected 1 fields, saw 3\\n'\n",
      "b'Skipping line 479: expected 1 fields, saw 3\\n'\n",
      "b'Skipping line 545: expected 1 fields, saw 3\\n'\n",
      "b'Skipping line 454: expected 1 fields, saw 3\\n'\n"
     ]
    },
    {
     "name": "stdout",
     "output_type": "stream",
     "text": [
      "slurm_GCNGAP_ER.Status_layers_1_pooling_att_dist_40_lr_0.01_graphfeatsize_50_nhiddim1_100_dropout_0.5_weight_decay_0.01_bsize_10.out\n",
      "slurm_GCNGAP_ER.Status_layers_1_pooling_mean_dist_80_lr_0.001_graphfeatsize_50_nhiddim1_100_dropout_0.3_weight_decay_0.01_bsize_30.out\n",
      "slurm_GCNGAP_ER.Status_layers_1_pooling_mean_dist_80_lr_0.001_graphfeatsize_150_nhiddim1_100_dropout_0.5_weight_decay_0.01_bsize_10.out\n",
      "slurm_GCNGAP_ER.Status_layers_1_pooling_mean_dist_40_lr_0.001_graphfeatsize_50_nhiddim1_150_dropout_0.3_weight_decay_0.01_bsize_10.out\n",
      "slurm_GCNGAP_ER.Status_layers_1_pooling_sum_dist_40_lr_0.001_graphfeatsize_150_nhiddim1_100_dropout_0.3_weight_decay_0.1_bsize_10.out\n",
      "slurm_GCNGAP_ER.Status_layers_1_pooling_mean_dist_80_lr_0.001_graphfeatsize_150_nhiddim1_150_dropout_0.5_weight_decay_0.1_bsize_20.out\n",
      "slurm_GCNGAP_ER.Status_layers_1_pooling_att_dist_40_lr_0.001_graphfeatsize_150_nhiddim1_100_dropout_0.3_weight_decay_0.001_bsize_10.out\n",
      "slurm_GCNGAP_ER.Status_layers_1_pooling_mean_dist_80_lr_0.01_graphfeatsize_150_nhiddim1_150_dropout_0.3_weight_decay_0.01_bsize_30.out\n",
      "slurm_GCNGAP_ER.Status_layers_1_pooling_mean_dist_80_lr_0.01_graphfeatsize_50_nhiddim1_50_dropout_0.3_weight_decay_0.001_bsize_20.out\n",
      "slurm_GCNGAP_ER.Status_layers_1_pooling_mean_dist_40_lr_0.01_graphfeatsize_150_nhiddim1_100_dropout_0.3_weight_decay_0.01_bsize_10.out\n",
      "slurm_GCNGAP_ER.Status_layers_1_pooling_sum_dist_40_lr_0.001_graphfeatsize_150_nhiddim1_50_dropout_0.5_weight_decay_0.001_bsize_10.out\n",
      "slurm_GCNGAP_ER.Status_layers_2_pooling_att_dist_40_lr_0.01_graphfeatsize_50_nhiddim1_100_dropout_0.3_weight_decay_0.1_bsize_30.out\n"
     ]
    },
    {
     "name": "stderr",
     "output_type": "stream",
     "text": [
      "b'Skipping line 580: expected 1 fields, saw 3\\n'\n",
      "b'Skipping line 540: expected 1 fields, saw 3\\n'\n",
      "b'Skipping line 444: expected 1 fields, saw 3\\n'\n",
      "b'Skipping line 481: expected 1 fields, saw 3\\n'\n",
      "b'Skipping line 504: expected 1 fields, saw 3\\n'\n",
      "b'Skipping line 361: expected 1 fields, saw 3\\n'\n",
      "b'Skipping line 485: expected 1 fields, saw 3\\n'\n",
      "b'Skipping line 471: expected 1 fields, saw 3\\n'\n",
      "b'Skipping line 442: expected 1 fields, saw 3\\n'\n",
      "b'Skipping line 443: expected 1 fields, saw 3\\n'\n"
     ]
    },
    {
     "name": "stdout",
     "output_type": "stream",
     "text": [
      "slurm_GCNGAP_ER.Status_layers_1_pooling_sum_dist_40_lr_0.001_graphfeatsize_150_nhiddim1_150_dropout_0.5_weight_decay_0.001_bsize_10.out\n",
      "slurm_GCNGAP_ER.Status_layers_2_pooling_sum_dist_40_lr_0.01_graphfeatsize_150_nhiddim1_100_dropout_0.3_weight_decay_0.01_bsize_20.out\n",
      "slurm_GCNGAP_ER.Status_layers_1_pooling_sum_dist_40_lr_0.01_graphfeatsize_100_nhiddim1_50_dropout_0.3_weight_decay_0.001_bsize_30.out\n",
      "slurm_GCNGAP_ER.Status_layers_2_pooling_sum_dist_40_lr_0.001_graphfeatsize_150_nhiddim1_100_dropout_0.5_weight_decay_0.01_bsize_20.out\n",
      "slurm_GCNGAP_ER.Status_layers_1_pooling_mean_dist_40_lr_0.01_graphfeatsize_100_nhiddim1_150_dropout_0.5_weight_decay_0.001_bsize_20.out\n",
      "slurm_GCNGAP_ER.Status_layers_2_pooling_sum_dist_40_lr_0.001_graphfeatsize_50_nhiddim1_150_dropout_0.3_weight_decay_0.01_bsize_20.out\n",
      "slurm_GCNGAP_ER.Status_layers_1_pooling_att_dist_40_lr_0.01_graphfeatsize_50_nhiddim1_50_dropout_0.5_weight_decay_0.1_bsize_10.out\n",
      "slurm_GCNGAP_ER.Status_layers_1_pooling_sum_dist_40_lr_0.001_graphfeatsize_50_nhiddim1_100_dropout_0.5_weight_decay_0.1_bsize_30.out\n",
      "slurm_GCNGAP_ER.Status_layers_2_pooling_sum_dist_40_lr_0.01_graphfeatsize_100_nhiddim1_150_dropout_0.5_weight_decay_0.1_bsize_20.out\n",
      "slurm_GCNGAP_ER.Status_layers_1_pooling_att_dist_40_lr_0.001_graphfeatsize_100_nhiddim1_100_dropout_0.3_weight_decay_0.001_bsize_10.out\n",
      "slurm_GCNGAP_ER.Status_layers_2_pooling_mean_dist_40_lr_0.01_graphfeatsize_50_nhiddim1_150_dropout_0.3_weight_decay_0.01_bsize_30.out\n"
     ]
    },
    {
     "name": "stderr",
     "output_type": "stream",
     "text": [
      "b'Skipping line 467: expected 1 fields, saw 3\\n'\n",
      "b'Skipping line 444: expected 1 fields, saw 3\\n'\n",
      "b'Skipping line 461: expected 1 fields, saw 3\\n'\n",
      "b'Skipping line 600: expected 1 fields, saw 3\\n'\n",
      "b'Skipping line 361: expected 1 fields, saw 3\\n'\n",
      "b'Skipping line 448: expected 1 fields, saw 3\\n'\n",
      "b'Skipping line 461: expected 1 fields, saw 3\\n'\n",
      "b'Skipping line 585: expected 1 fields, saw 3\\n'\n",
      "b'Skipping line 361: expected 1 fields, saw 3\\n'\n",
      "b'Skipping line 467: expected 1 fields, saw 3\\n'\n",
      "b'Skipping line 743: expected 1 fields, saw 3\\n'\n",
      "b'Skipping line 458: expected 1 fields, saw 3\\n'\n"
     ]
    },
    {
     "name": "stdout",
     "output_type": "stream",
     "text": [
      "slurm_GCNGAP_ER.Status_layers_1_pooling_sum_dist_40_lr_0.001_graphfeatsize_100_nhiddim1_150_dropout_0.5_weight_decay_0.001_bsize_10.out\n",
      "slurm_GCNGAP_ER.Status_layers_1_pooling_att_dist_40_lr_0.01_graphfeatsize_50_nhiddim1_100_dropout_0.5_weight_decay_0.001_bsize_30.out\n",
      "slurm_GCNGAP_ER.Status_layers_2_pooling_att_dist_40_lr_0.01_graphfeatsize_100_nhiddim1_100_dropout_0.5_weight_decay_0.001_bsize_20.out\n",
      "slurm_GCNGAP_ER.Status_layers_2_pooling_att_dist_40_lr_0.001_graphfeatsize_100_nhiddim1_100_dropout_0.3_weight_decay_0.01_bsize_10.out\n",
      "slurm_GCNGAP_ER.Status_layers_1_pooling_sum_dist_40_lr_0.01_graphfeatsize_50_nhiddim1_150_dropout_0.5_weight_decay_0.001_bsize_20.out\n",
      "slurm_GCNGAP_ER.Status_layers_2_pooling_sum_dist_40_lr_0.01_graphfeatsize_150_nhiddim1_50_dropout_0.5_weight_decay_0.1_bsize_20.out\n",
      "slurm_GCNGAP_ER.Status_layers_1_pooling_mean_dist_40_lr_0.01_graphfeatsize_50_nhiddim1_100_dropout_0.5_weight_decay_0.01_bsize_20.out\n",
      "slurm_GCNGAP_ER.Status_layers_1_pooling_att_dist_40_lr_0.01_graphfeatsize_150_nhiddim1_150_dropout_0.5_weight_decay_0.001_bsize_30.out\n",
      "slurm_GCNGAP_ER.Status_layers_1_pooling_mean_dist_40_lr_0.001_graphfeatsize_150_nhiddim1_100_dropout_0.5_weight_decay_0.001_bsize_20.out\n",
      "slurm_GCNGAP_ER.Status_layers_1_pooling_sum_dist_80_lr_0.01_graphfeatsize_100_nhiddim1_50_dropout_0.5_weight_decay_0.1_bsize_10.out\n",
      "slurm_GCNGAP_ER.Status_layers_1_pooling_sum_dist_80_lr_0.001_graphfeatsize_50_nhiddim1_50_dropout_0.3_weight_decay_0.01_bsize_20.out\n",
      "slurm_GCNGAP_ER.Status_layers_2_pooling_mean_dist_40_lr_0.01_graphfeatsize_50_nhiddim1_50_dropout_0.3_weight_decay_0.1_bsize_10.out\n"
     ]
    },
    {
     "name": "stderr",
     "output_type": "stream",
     "text": [
      "b'Skipping line 513: expected 1 fields, saw 3\\n'\n",
      "b'Skipping line 556: expected 1 fields, saw 3\\n'\n",
      "b'Skipping line 442: expected 1 fields, saw 3\\n'\n",
      "b'Skipping line 444: expected 1 fields, saw 3\\n'\n",
      "b'Skipping line 527: expected 1 fields, saw 3\\n'\n",
      "b'Skipping line 674: expected 1 fields, saw 3\\n'\n",
      "b'Skipping line 397: expected 1 fields, saw 3\\n'\n",
      "b'Skipping line 464: expected 1 fields, saw 3\\n'\n",
      "b'Skipping line 576: expected 1 fields, saw 3\\n'\n",
      "b'Skipping line 467: expected 1 fields, saw 3\\n'\n",
      "b'Skipping line 453: expected 1 fields, saw 3\\n'\n",
      "b'Skipping line 458: expected 1 fields, saw 3\\n'\n"
     ]
    },
    {
     "name": "stdout",
     "output_type": "stream",
     "text": [
      "slurm_GCNGAP_ER.Status_layers_1_pooling_att_dist_40_lr_0.001_graphfeatsize_100_nhiddim1_100_dropout_0.5_weight_decay_0.01_bsize_30.out\n",
      "slurm_GCNGAP_ER.Status_layers_2_pooling_mean_dist_40_lr_0.001_graphfeatsize_50_nhiddim1_50_dropout_0.5_weight_decay_0.01_bsize_20.out\n",
      "slurm_GCNGAP_ER.Status_layers_2_pooling_sum_dist_40_lr_0.001_graphfeatsize_150_nhiddim1_50_dropout_0.3_weight_decay_0.01_bsize_30.out\n",
      "slurm_GCNGAP_ER.Status_layers_2_pooling_mean_dist_40_lr_0.001_graphfeatsize_150_nhiddim1_50_dropout_0.5_weight_decay_0.001_bsize_10.out\n",
      "slurm_GCNGAP_ER.Status_layers_1_pooling_mean_dist_80_lr_0.001_graphfeatsize_50_nhiddim1_50_dropout_0.5_weight_decay_0.001_bsize_20.out\n",
      "slurm_GCNGAP_ER.Status_layers_2_pooling_sum_dist_40_lr_0.001_graphfeatsize_50_nhiddim1_50_dropout_0.3_weight_decay_0.1_bsize_10.out\n",
      "slurm_GCNGAP_ER.Status_layers_1_pooling_sum_dist_80_lr_0.01_graphfeatsize_150_nhiddim1_100_dropout_0.5_weight_decay_0.01_bsize_10.out\n",
      "slurm_GCNGAP_ER.Status_layers_1_pooling_mean_dist_40_lr_0.001_graphfeatsize_150_nhiddim1_50_dropout_0.5_weight_decay_0.1_bsize_10.out\n",
      "slurm_GCNGAP_ER.Status_layers_1_pooling_mean_dist_40_lr_0.001_graphfeatsize_100_nhiddim1_150_dropout_0.3_weight_decay_0.1_bsize_10.out\n",
      "slurm_GCNGAP_ER.Status_layers_1_pooling_sum_dist_80_lr_0.01_graphfeatsize_150_nhiddim1_50_dropout_0.5_weight_decay_0.01_bsize_20.out\n",
      "not in\n",
      "slurm_GCNGAP_ER.Status_layers_1_pooling_sum_dist_40_lr_0.01_graphfeatsize_150_nhiddim1_150_dropout_0.5_weight_decay_0.01_bsize_30.out\n",
      "slurm_GCNGAP_ER.Status_layers_1_pooling_sum_dist_40_lr_0.01_graphfeatsize_100_nhiddim1_50_dropout_0.3_weight_decay_0.01_bsize_10.out\n"
     ]
    },
    {
     "name": "stderr",
     "output_type": "stream",
     "text": [
      "b'Skipping line 453: expected 1 fields, saw 3\\n'\n",
      "b'Skipping line 443: expected 1 fields, saw 3\\n'\n",
      "b'Skipping line 544: expected 1 fields, saw 3\\n'\n",
      "b'Skipping line 444: expected 1 fields, saw 3\\n'\n",
      "b'Skipping line 739: expected 1 fields, saw 3\\n'\n",
      "b'Skipping line 442: expected 1 fields, saw 3\\n'\n",
      "b'Skipping line 509: expected 1 fields, saw 3\\n'\n",
      "b'Skipping line 461: expected 1 fields, saw 3\\n'\n",
      "b'Skipping line 476: expected 1 fields, saw 3\\n'\n",
      "b'Skipping line 568: expected 1 fields, saw 3\\n'\n",
      "b'Skipping line 479: expected 1 fields, saw 3\\n'\n"
     ]
    },
    {
     "name": "stdout",
     "output_type": "stream",
     "text": [
      "slurm_GCNGAP_ER.Status_layers_1_pooling_att_dist_40_lr_0.01_graphfeatsize_150_nhiddim1_100_dropout_0.3_weight_decay_0.1_bsize_30.out\n",
      "slurm_GCNGAP_ER.Status_layers_2_pooling_mean_dist_40_lr_0.01_graphfeatsize_150_nhiddim1_50_dropout_0.3_weight_decay_0.01_bsize_20.out\n",
      "slurm_GCNGAP_ER.Status_layers_1_pooling_sum_dist_80_lr_0.001_graphfeatsize_50_nhiddim1_150_dropout_0.5_weight_decay_0.01_bsize_10.out\n",
      "slurm_GCNGAP_ER.Status_layers_1_pooling_mean_dist_80_lr_0.001_graphfeatsize_150_nhiddim1_100_dropout_0.3_weight_decay_0.001_bsize_30.out\n",
      "slurm_GCNGAP_ER.Status_layers_1_pooling_mean_dist_80_lr_0.01_graphfeatsize_50_nhiddim1_100_dropout_0.5_weight_decay_0.001_bsize_10.out\n",
      "slurm_GCNGAP_ER.Status_layers_2_pooling_mean_dist_40_lr_0.001_graphfeatsize_100_nhiddim1_150_dropout_0.3_weight_decay_0.001_bsize_20.out\n",
      "slurm_GCNGAP_ER.Status_layers_1_pooling_sum_dist_40_lr_0.001_graphfeatsize_50_nhiddim1_100_dropout_0.5_weight_decay_0.01_bsize_30.out\n",
      "slurm_GCNGAP_ER.Status_layers_1_pooling_mean_dist_40_lr_0.001_graphfeatsize_50_nhiddim1_150_dropout_0.5_weight_decay_0.1_bsize_30.out\n",
      "slurm_GCNGAP_ER.Status_layers_2_pooling_att_dist_40_lr_0.01_graphfeatsize_150_nhiddim1_50_dropout_0.5_weight_decay_0.01_bsize_30.out\n",
      "slurm_GCNGAP_ER.Status_layers_2_pooling_att_dist_40_lr_0.001_graphfeatsize_150_nhiddim1_50_dropout_0.5_weight_decay_0.01_bsize_10.out\n",
      "slurm_GCNGAP_ER.Status_layers_2_pooling_att_dist_40_lr_0.001_graphfeatsize_50_nhiddim1_150_dropout_0.3_weight_decay_0.001_bsize_10.out\n",
      "slurm_GCNGAP_ER.Status_layers_2_pooling_sum_dist_40_lr_0.01_graphfeatsize_150_nhiddim1_50_dropout_0.5_weight_decay_0.001_bsize_30.out\n"
     ]
    },
    {
     "name": "stderr",
     "output_type": "stream",
     "text": [
      "b'Skipping line 621: expected 1 fields, saw 3\\n'\n",
      "b'Skipping line 544: expected 1 fields, saw 3\\n'\n",
      "b'Skipping line 490: expected 1 fields, saw 3\\n'\n",
      "b'Skipping line 361: expected 1 fields, saw 3\\n'\n",
      "b'Skipping line 499: expected 1 fields, saw 3\\n'\n",
      "b'Skipping line 452: expected 1 fields, saw 3\\n'\n",
      "b'Skipping line 512: expected 1 fields, saw 3\\n'\n",
      "b'Skipping line 450: expected 1 fields, saw 3\\n'\n",
      "b'Skipping line 489: expected 1 fields, saw 3\\n'\n",
      "b'Skipping line 688: expected 1 fields, saw 3\\n'\n",
      "b'Skipping line 567: expected 1 fields, saw 3\\n'\n"
     ]
    },
    {
     "name": "stdout",
     "output_type": "stream",
     "text": [
      "slurm_GCNGAP_ER.Status_layers_2_pooling_mean_dist_40_lr_0.01_graphfeatsize_150_nhiddim1_100_dropout_0.5_weight_decay_0.01_bsize_30.out\n",
      "slurm_GCNGAP_ER.Status_layers_1_pooling_att_dist_40_lr_0.01_graphfeatsize_100_nhiddim1_150_dropout_0.5_weight_decay_0.001_bsize_30.out\n",
      "slurm_GCNGAP_ER.Status_layers_1_pooling_mean_dist_40_lr_0.001_graphfeatsize_100_nhiddim1_100_dropout_0.5_weight_decay_0.001_bsize_20.out\n",
      "slurm_GCNGAP_ER.Status_layers_2_pooling_mean_dist_40_lr_0.01_graphfeatsize_50_nhiddim1_150_dropout_0.3_weight_decay_0.1_bsize_20.out\n",
      "slurm_GCNGAP_ER.Status_layers_2_pooling_sum_dist_40_lr_0.001_graphfeatsize_100_nhiddim1_150_dropout_0.3_weight_decay_0.1_bsize_20.out\n",
      "slurm_GCNGAP_ER.Status_layers_2_pooling_mean_dist_40_lr_0.001_graphfeatsize_50_nhiddim1_150_dropout_0.5_weight_decay_0.01_bsize_30.out\n",
      "slurm_GCNGAP_ER.Status_layers_2_pooling_att_dist_40_lr_0.001_graphfeatsize_50_nhiddim1_50_dropout_0.3_weight_decay_0.01_bsize_30.out\n",
      "slurm_GCNGAP_ER.Status_layers_1_pooling_mean_dist_80_lr_0.01_graphfeatsize_100_nhiddim1_50_dropout_0.5_weight_decay_0.1_bsize_20.out\n",
      "slurm_GCNGAP_ER.Status_layers_1_pooling_mean_dist_80_lr_0.001_graphfeatsize_100_nhiddim1_100_dropout_0.3_weight_decay_0.001_bsize_30.out\n",
      "slurm_GCNGAP_ER.Status_layers_2_pooling_mean_dist_40_lr_0.001_graphfeatsize_150_nhiddim1_150_dropout_0.3_weight_decay_0.001_bsize_20.out\n",
      "slurm_GCNGAP_ER.Status_layers_1_pooling_att_dist_40_lr_0.001_graphfeatsize_50_nhiddim1_100_dropout_0.3_weight_decay_0.01_bsize_10.out\n"
     ]
    },
    {
     "name": "stderr",
     "output_type": "stream",
     "text": [
      "b'Skipping line 444: expected 1 fields, saw 3\\n'\n",
      "b'Skipping line 515: expected 1 fields, saw 3\\n'\n",
      "b'Skipping line 470: expected 1 fields, saw 3\\n'\n",
      "b'Skipping line 524: expected 1 fields, saw 3\\n'\n",
      "b'Skipping line 443: expected 1 fields, saw 3\\n'\n",
      "b'Skipping line 505: expected 1 fields, saw 3\\n'\n",
      "b'Skipping line 480: expected 1 fields, saw 3\\n'\n",
      "b'Skipping line 539: expected 1 fields, saw 3\\n'\n",
      "b'Skipping line 444: expected 1 fields, saw 3\\n'\n",
      "b'Skipping line 529: expected 1 fields, saw 3\\n'\n"
     ]
    },
    {
     "name": "stdout",
     "output_type": "stream",
     "text": [
      "slurm_GCNGAP_ER.Status_layers_2_pooling_mean_dist_40_lr_0.01_graphfeatsize_100_nhiddim1_150_dropout_0.3_weight_decay_0.1_bsize_30.out\n",
      "slurm_GCNGAP_ER.Status_layers_1_pooling_mean_dist_80_lr_0.001_graphfeatsize_100_nhiddim1_50_dropout_0.3_weight_decay_0.1_bsize_30.out\n",
      "slurm_GCNGAP_ER.Status_layers_1_pooling_mean_dist_40_lr_0.001_graphfeatsize_50_nhiddim1_100_dropout_0.3_weight_decay_0.001_bsize_10.out\n",
      "slurm_GCNGAP_ER.Status_layers_1_pooling_att_dist_40_lr_0.01_graphfeatsize_150_nhiddim1_150_dropout_0.3_weight_decay_0.01_bsize_10.out\n",
      "slurm_GCNGAP_ER.Status_layers_1_pooling_mean_dist_40_lr_0.01_graphfeatsize_150_nhiddim1_50_dropout_0.3_weight_decay_0.1_bsize_10.out\n",
      "slurm_GCNGAP_ER.Status_layers_1_pooling_att_dist_40_lr_0.01_graphfeatsize_150_nhiddim1_50_dropout_0.5_weight_decay_0.01_bsize_20.out\n",
      "slurm_GCNGAP_ER.Status_layers_1_pooling_att_dist_40_lr_0.001_graphfeatsize_50_nhiddim1_150_dropout_0.3_weight_decay_0.01_bsize_30.out\n",
      "slurm_GCNGAP_ER.Status_layers_1_pooling_mean_dist_80_lr_0.001_graphfeatsize_50_nhiddim1_150_dropout_0.5_weight_decay_0.001_bsize_20.out\n",
      "slurm_GCNGAP_ER.Status_layers_2_pooling_att_dist_40_lr_0.01_graphfeatsize_100_nhiddim1_50_dropout_0.3_weight_decay_0.001_bsize_20.out\n",
      "slurm_GCNGAP_ER.Status_layers_1_pooling_att_dist_40_lr_0.01_graphfeatsize_150_nhiddim1_100_dropout_0.3_weight_decay_0.01_bsize_30.out\n",
      "slurm_GCNGAP_ER.Status_layers_1_pooling_mean_dist_40_lr_0.01_graphfeatsize_50_nhiddim1_150_dropout_0.3_weight_decay_0.1_bsize_30.out\n",
      "slurm_GCNGAP_ER.Status_layers_1_pooling_att_dist_40_lr_0.01_graphfeatsize_50_nhiddim1_100_dropout_0.5_weight_decay_0.1_bsize_30.out"
     ]
    },
    {
     "name": "stderr",
     "output_type": "stream",
     "text": [
      "b'Skipping line 517: expected 1 fields, saw 3\\n'\n",
      "b'Skipping line 484: expected 1 fields, saw 3\\n'\n",
      "b'Skipping line 455: expected 1 fields, saw 3\\n'\n",
      "b'Skipping line 553: expected 1 fields, saw 3\\n'\n",
      "b'Skipping line 447: expected 1 fields, saw 3\\n'\n",
      "b'Skipping line 447: expected 1 fields, saw 3\\n'\n",
      "b'Skipping line 511: expected 1 fields, saw 3\\n'\n",
      "b'Skipping line 539: expected 1 fields, saw 3\\n'\n",
      "b'Skipping line 455: expected 1 fields, saw 3\\n'\n",
      "b'Skipping line 361: expected 1 fields, saw 3\\n'\n",
      "b'Skipping line 510: expected 1 fields, saw 3\\n'\n",
      "b'Skipping line 609: expected 1 fields, saw 3\\n'\n",
      "b'Skipping line 557: expected 1 fields, saw 3\\n'\n"
     ]
    },
    {
     "name": "stdout",
     "output_type": "stream",
     "text": [
      "\n",
      "slurm_GCNGAP_ER.Status_layers_2_pooling_att_dist_40_lr_0.01_graphfeatsize_50_nhiddim1_150_dropout_0.5_weight_decay_0.001_bsize_30.out\n",
      "slurm_GCNGAP_ER.Status_layers_1_pooling_att_dist_40_lr_0.001_graphfeatsize_50_nhiddim1_50_dropout_0.3_weight_decay_0.01_bsize_20.out\n",
      "slurm_GCNGAP_ER.Status_layers_2_pooling_mean_dist_40_lr_0.001_graphfeatsize_50_nhiddim1_100_dropout_0.3_weight_decay_0.1_bsize_30.out\n",
      "slurm_GCNGAP_ER.Status_layers_2_pooling_sum_dist_40_lr_0.01_graphfeatsize_50_nhiddim1_100_dropout_0.5_weight_decay_0.001_bsize_20.out\n",
      "slurm_GCNGAP_ER.Status_layers_2_pooling_mean_dist_40_lr_0.01_graphfeatsize_150_nhiddim1_150_dropout_0.5_weight_decay_0.01_bsize_10.out\n",
      "slurm_GCNGAP_ER.Status_layers_1_pooling_mean_dist_80_lr_0.001_graphfeatsize_100_nhiddim1_50_dropout_0.3_weight_decay_0.001_bsize_30.out\n",
      "slurm_GCNGAP_ER.Status_layers_2_pooling_sum_dist_40_lr_0.01_graphfeatsize_150_nhiddim1_150_dropout_0.3_weight_decay_0.1_bsize_10.out\n",
      "slurm_GCNGAP_ER.Status_layers_1_pooling_sum_dist_40_lr_0.01_graphfeatsize_50_nhiddim1_50_dropout_0.3_weight_decay_0.001_bsize_10.out\n",
      "slurm_GCNGAP_ER.Status_layers_1_pooling_sum_dist_80_lr_0.01_graphfeatsize_50_nhiddim1_100_dropout_0.3_weight_decay_0.1_bsize_20.out\n",
      "not in\n",
      "slurm_GCNGAP_ER.Status_layers_1_pooling_sum_dist_40_lr_0.01_graphfeatsize_150_nhiddim1_150_dropout_0.3_weight_decay_0.001_bsize_30.out\n",
      "slurm_GCNGAP_ER.Status_layers_2_pooling_mean_dist_40_lr_0.001_graphfeatsize_50_nhiddim1_100_dropout_0.5_weight_decay_0.01_bsize_10.out\n",
      "slurm_GCNGAP_ER.Status_layers_2_pooling_sum_dist_40_lr_0.001_graphfeatsize_50_nhiddim1_50_dropout_0.5_weight_decay_0.001_bsize_10.out\n"
     ]
    },
    {
     "name": "stderr",
     "output_type": "stream",
     "text": [
      "b'Skipping line 446: expected 1 fields, saw 3\\n'\n",
      "b'Skipping line 362: expected 1 fields, saw 3\\n'\n",
      "b'Skipping line 571: expected 1 fields, saw 3\\n'\n",
      "b'Skipping line 442: expected 1 fields, saw 3\\n'\n",
      "b'Skipping line 537: expected 1 fields, saw 3\\n'\n",
      "b'Skipping line 448: expected 1 fields, saw 3\\n'\n",
      "b'Skipping line 443: expected 1 fields, saw 3\\n'\n",
      "b'Skipping line 593: expected 1 fields, saw 3\\n'\n",
      "b'Skipping line 469: expected 1 fields, saw 3\\n'\n",
      "b'Skipping line 497: expected 1 fields, saw 3\\n'\n",
      "b'Skipping line 485: expected 1 fields, saw 3\\n'\n",
      "b'Skipping line 444: expected 1 fields, saw 3\\n'\n"
     ]
    },
    {
     "name": "stdout",
     "output_type": "stream",
     "text": [
      "slurm_GCNGAP_ER.Status_layers_1_pooling_sum_dist_40_lr_0.001_graphfeatsize_100_nhiddim1_100_dropout_0.5_weight_decay_0.1_bsize_20.out\n",
      "slurm_GCNGAP_ER.Status_layers_1_pooling_mean_dist_80_lr_0.001_graphfeatsize_100_nhiddim1_150_dropout_0.3_weight_decay_0.1_bsize_10.out\n",
      "slurm_GCNGAP_ER.Status_layers_1_pooling_sum_dist_40_lr_0.01_graphfeatsize_150_nhiddim1_100_dropout_0.5_weight_decay_0.01_bsize_10.out\n",
      "slurm_GCNGAP_ER.Status_layers_1_pooling_mean_dist_40_lr_0.001_graphfeatsize_50_nhiddim1_50_dropout_0.5_weight_decay_0.001_bsize_20.out\n",
      "slurm_GCNGAP_ER.Status_layers_1_pooling_mean_dist_40_lr_0.01_graphfeatsize_50_nhiddim1_100_dropout_0.5_weight_decay_0.001_bsize_10.out\n",
      "slurm_GCNGAP_ER.Status_layers_1_pooling_sum_dist_40_lr_0.001_graphfeatsize_50_nhiddim1_150_dropout_0.5_weight_decay_0.01_bsize_10.out\n",
      "slurm_GCNGAP_ER.Status_layers_1_pooling_sum_dist_40_lr_0.001_graphfeatsize_150_nhiddim1_150_dropout_0.3_weight_decay_0.01_bsize_20.out\n",
      "slurm_GCNGAP_ER.Status_layers_1_pooling_mean_dist_80_lr_0.01_graphfeatsize_50_nhiddim1_100_dropout_0.3_weight_decay_0.1_bsize_10.out\n",
      "slurm_GCNGAP_ER.Status_layers_2_pooling_sum_dist_40_lr_0.01_graphfeatsize_50_nhiddim1_50_dropout_0.3_weight_decay_0.01_bsize_20.out\n",
      "slurm_GCNGAP_ER.Status_layers_1_pooling_sum_dist_40_lr_0.01_graphfeatsize_150_nhiddim1_50_dropout_0.3_weight_decay_0.1_bsize_20.out\n",
      "slurm_GCNGAP_ER.Status_layers_1_pooling_sum_dist_40_lr_0.01_graphfeatsize_100_nhiddim1_150_dropout_0.3_weight_decay_0.001_bsize_30.out\n",
      "slurm_GCNGAP_ER.Status_layers_2_pooling_att_dist_40_lr_0.01_graphfeatsize_150_nhiddim1_100_dropout_0.3_weight_decay_0.1_bsize_20.out\n"
     ]
    },
    {
     "name": "stderr",
     "output_type": "stream",
     "text": [
      "b'Skipping line 480: expected 1 fields, saw 3\\n'\n",
      "b'Skipping line 521: expected 1 fields, saw 3\\n'\n",
      "b'Skipping line 361: expected 1 fields, saw 3\\n'\n",
      "b'Skipping line 443: expected 1 fields, saw 3\\n'\n",
      "b'Skipping line 505: expected 1 fields, saw 3\\n'\n",
      "b'Skipping line 442: expected 1 fields, saw 3\\n'\n",
      "b'Skipping line 444: expected 1 fields, saw 3\\n'\n",
      "b'Skipping line 442: expected 1 fields, saw 3\\n'\n",
      "b'Skipping line 442: expected 1 fields, saw 3\\n'\n",
      "b'Skipping line 447: expected 1 fields, saw 3\\n'\n",
      "b'Skipping line 520: expected 1 fields, saw 3\\n'\n",
      "b'Skipping line 443: expected 1 fields, saw 3\\n'\n"
     ]
    },
    {
     "name": "stdout",
     "output_type": "stream",
     "text": [
      "slurm_GCNGAP_ER.Status_layers_1_pooling_att_dist_40_lr_0.001_graphfeatsize_100_nhiddim1_150_dropout_0.5_weight_decay_0.01_bsize_10.out\n",
      "slurm_GCNGAP_ER.Status_layers_1_pooling_sum_dist_80_lr_0.001_graphfeatsize_100_nhiddim1_150_dropout_0.3_weight_decay_0.01_bsize_10.out\n",
      "slurm_GCNGAP_ER.Status_layers_1_pooling_mean_dist_40_lr_0.01_graphfeatsize_100_nhiddim1_100_dropout_0.5_weight_decay_0.1_bsize_30.out\n",
      "slurm_GCNGAP_ER.Status_layers_2_pooling_sum_dist_40_lr_0.001_graphfeatsize_50_nhiddim1_150_dropout_0.5_weight_decay_0.001_bsize_10.out\n",
      "slurm_GCNGAP_ER.Status_layers_1_pooling_sum_dist_80_lr_0.01_graphfeatsize_50_nhiddim1_100_dropout_0.3_weight_decay_0.001_bsize_20.out\n",
      "not in\n",
      "slurm_GCNGAP_ER.Status_layers_2_pooling_sum_dist_40_lr_0.001_graphfeatsize_100_nhiddim1_100_dropout_0.5_weight_decay_0.01_bsize_20.out\n",
      "slurm_GCNGAP_ER.Status_layers_2_pooling_att_dist_40_lr_0.001_graphfeatsize_100_nhiddim1_150_dropout_0.5_weight_decay_0.1_bsize_20.out\n",
      "slurm_GCNGAP_ER.Status_layers_2_pooling_sum_dist_40_lr_0.01_graphfeatsize_100_nhiddim1_100_dropout_0.3_weight_decay_0.01_bsize_20.out\n",
      "slurm_GCNGAP_ER.Status_layers_1_pooling_sum_dist_40_lr_0.01_graphfeatsize_150_nhiddim1_50_dropout_0.3_weight_decay_0.001_bsize_30.out\n",
      "slurm_GCNGAP_ER.Status_layers_1_pooling_att_dist_40_lr_0.001_graphfeatsize_50_nhiddim1_100_dropout_0.5_weight_decay_0.1_bsize_10.out\n",
      "slurm_GCNGAP_ER.Status_layers_2_pooling_sum_dist_40_lr_0.01_graphfeatsize_150_nhiddim1_150_dropout_0.5_weight_decay_0.001_bsize_20.out\n",
      "slurm_GCNGAP_ER.Status_layers_2_pooling_mean_dist_40_lr_0.01_graphfeatsize_150_nhiddim1_100_dropout_0.5_weight_decay_0.001_bsize_30.out\n"
     ]
    },
    {
     "name": "stderr",
     "output_type": "stream",
     "text": [
      "b'Skipping line 456: expected 1 fields, saw 3\\n'\n",
      "b'Skipping line 362: expected 1 fields, saw 3\\n'\n",
      "b'Skipping line 462: expected 1 fields, saw 3\\n'\n",
      "b'Skipping line 478: expected 1 fields, saw 3\\n'\n",
      "b'Skipping line 442: expected 1 fields, saw 3\\n'\n",
      "b'Skipping line 443: expected 1 fields, saw 3\\n'\n",
      "b'Skipping line 443: expected 1 fields, saw 3\\n'\n",
      "b'Skipping line 443: expected 1 fields, saw 3\\n'\n",
      "b'Skipping line 490: expected 1 fields, saw 3\\n'\n",
      "b'Skipping line 524: expected 1 fields, saw 3\\n'\n",
      "b'Skipping line 582: expected 1 fields, saw 3\\n'\n"
     ]
    },
    {
     "name": "stdout",
     "output_type": "stream",
     "text": [
      "slurm_GCNGAP_ER.Status_layers_1_pooling_sum_dist_80_lr_0.001_graphfeatsize_50_nhiddim1_50_dropout_0.3_weight_decay_0.001_bsize_10.out\n",
      "slurm_GCNGAP_ER.Status_layers_1_pooling_sum_dist_80_lr_0.001_graphfeatsize_100_nhiddim1_50_dropout_0.3_weight_decay_0.1_bsize_20.out\n",
      "slurm_GCNGAP_ER.Status_layers_2_pooling_att_dist_40_lr_0.01_graphfeatsize_50_nhiddim1_50_dropout_0.3_weight_decay_0.1_bsize_20.out\n",
      "slurm_GCNGAP_ER.Status_layers_1_pooling_mean_dist_40_lr_0.01_graphfeatsize_150_nhiddim1_150_dropout_0.3_weight_decay_0.1_bsize_10.out\n",
      "slurm_GCNGAP_ER.Status_layers_2_pooling_att_dist_40_lr_0.01_graphfeatsize_50_nhiddim1_150_dropout_0.3_weight_decay_0.1_bsize_20.out\n",
      "slurm_GCNGAP_ER.Status_layers_1_pooling_mean_dist_80_lr_0.001_graphfeatsize_150_nhiddim1_100_dropout_0.5_weight_decay_0.1_bsize_30.out\n",
      "slurm_GCNGAP_ER.Status_layers_1_pooling_mean_dist_80_lr_0.01_graphfeatsize_100_nhiddim1_150_dropout_0.5_weight_decay_0.001_bsize_10.out\n",
      "slurm_GCNGAP_ER.Status_layers_1_pooling_att_dist_40_lr_0.001_graphfeatsize_100_nhiddim1_50_dropout_0.5_weight_decay_0.01_bsize_30.out\n",
      "slurm_GCNGAP_ER.Status_layers_2_pooling_att_dist_40_lr_0.001_graphfeatsize_150_nhiddim1_100_dropout_0.3_weight_decay_0.01_bsize_10.out\n",
      "slurm_GCNGAP_ER.Status_layers_1_pooling_sum_dist_80_lr_0.001_graphfeatsize_150_nhiddim1_50_dropout_0.5_weight_decay_0.001_bsize_20.out\n",
      "not in\n",
      "slurm_GCNGAP_ER.Status_layers_2_pooling_sum_dist_40_lr_0.01_graphfeatsize_100_nhiddim1_100_dropout_0.5_weight_decay_0.1_bsize_30.out\n",
      "slurm_GCNGAP_ER.Status_layers_1_pooling_sum_dist_40_lr_0.001_graphfeatsize_50_nhiddim1_150_dropout_0.5_weight_decay_0.1_bsize_20.out\n"
     ]
    },
    {
     "name": "stderr",
     "output_type": "stream",
     "text": [
      "b'Skipping line 572: expected 1 fields, saw 3\\n'\n",
      "b'Skipping line 622: expected 1 fields, saw 3\\n'\n",
      "b'Skipping line 549: expected 1 fields, saw 3\\n'\n",
      "b'Skipping line 559: expected 1 fields, saw 3\\n'\n",
      "b'Skipping line 707: expected 1 fields, saw 3\\n'\n",
      "b'Skipping line 442: expected 1 fields, saw 3\\n'\n",
      "b'Skipping line 470: expected 1 fields, saw 3\\n'\n",
      "b'Skipping line 477: expected 1 fields, saw 3\\n'\n",
      "b'Skipping line 444: expected 1 fields, saw 3\\n'\n",
      "b'Skipping line 605: expected 1 fields, saw 3\\n'\n",
      "b'Skipping line 442: expected 1 fields, saw 3\\n'\n"
     ]
    },
    {
     "name": "stdout",
     "output_type": "stream",
     "text": [
      "slurm_GCNGAP_ER.Status_layers_1_pooling_mean_dist_80_lr_0.01_graphfeatsize_150_nhiddim1_50_dropout_0.5_weight_decay_0.01_bsize_30.out\n",
      "slurm_GCNGAP_ER.Status_layers_1_pooling_mean_dist_40_lr_0.001_graphfeatsize_150_nhiddim1_100_dropout_0.5_weight_decay_0.01_bsize_20.out\n",
      "slurm_GCNGAP_ER.Status_layers_2_pooling_sum_dist_40_lr_0.01_graphfeatsize_100_nhiddim1_150_dropout_0.5_weight_decay_0.001_bsize_20.out\n",
      "slurm_GCNGAP_ER.Status_layers_2_pooling_mean_dist_40_lr_0.01_graphfeatsize_100_nhiddim1_100_dropout_0.5_weight_decay_0.001_bsize_30.out\n",
      "slurm_GCNGAP_ER.Status_layers_1_pooling_mean_dist_80_lr_0.01_graphfeatsize_150_nhiddim1_150_dropout_0.5_weight_decay_0.001_bsize_10.out\n",
      "slurm_GCNGAP_ER.Status_layers_1_pooling_sum_dist_80_lr_0.01_graphfeatsize_100_nhiddim1_150_dropout_0.5_weight_decay_0.1_bsize_10.out\n",
      "slurm_GCNGAP_ER.Status_layers_1_pooling_mean_dist_80_lr_0.001_graphfeatsize_100_nhiddim1_100_dropout_0.5_weight_decay_0.01_bsize_10.out\n",
      "slurm_GCNGAP_ER.Status_layers_1_pooling_sum_dist_40_lr_0.001_graphfeatsize_100_nhiddim1_50_dropout_0.3_weight_decay_0.01_bsize_10.out\n",
      "slurm_GCNGAP_ER.Status_layers_1_pooling_mean_dist_80_lr_0.001_graphfeatsize_50_nhiddim1_50_dropout_0.3_weight_decay_0.01_bsize_30.out\n",
      "slurm_GCNGAP_ER.Status_layers_1_pooling_sum_dist_40_lr_0.01_graphfeatsize_50_nhiddim1_100_dropout_0.5_weight_decay_0.01_bsize_30.out\n",
      "slurm_GCNGAP_ER.Status_layers_2_pooling_sum_dist_40_lr_0.01_graphfeatsize_50_nhiddim1_100_dropout_0.5_weight_decay_0.1_bsize_10.out\n"
     ]
    },
    {
     "name": "stderr",
     "output_type": "stream",
     "text": [
      "b'Skipping line 684: expected 1 fields, saw 3\\n'\n",
      "b'Skipping line 473: expected 1 fields, saw 3\\n'\n",
      "b'Skipping line 603: expected 1 fields, saw 3\\n'\n",
      "b'Skipping line 579: expected 1 fields, saw 3\\n'\n",
      "b'Skipping line 514: expected 1 fields, saw 3\\n'\n",
      "b'Skipping line 465: expected 1 fields, saw 3\\n'\n",
      "b'Skipping line 442: expected 1 fields, saw 3\\n'\n",
      "b'Skipping line 648: expected 1 fields, saw 3\\n'\n",
      "b'Skipping line 466: expected 1 fields, saw 3\\n'\n",
      "b'Skipping line 495: expected 1 fields, saw 3\\n'\n",
      "b'Skipping line 485: expected 1 fields, saw 3\\n'\n",
      "b'Skipping line 617: expected 1 fields, saw 3\\n'\n"
     ]
    },
    {
     "name": "stdout",
     "output_type": "stream",
     "text": [
      "slurm_GCNGAP_ER.Status_layers_1_pooling_mean_dist_80_lr_0.01_graphfeatsize_100_nhiddim1_150_dropout_0.3_weight_decay_0.01_bsize_30.out\n",
      "slurm_GCNGAP_ER.Status_layers_2_pooling_mean_dist_40_lr_0.001_graphfeatsize_50_nhiddim1_50_dropout_0.3_weight_decay_0.001_bsize_30.out\n",
      "slurm_GCNGAP_ER.Status_layers_2_pooling_att_dist_40_lr_0.001_graphfeatsize_100_nhiddim1_50_dropout_0.3_weight_decay_0.1_bsize_30.out\n",
      "slurm_GCNGAP_ER.Status_layers_1_pooling_sum_dist_40_lr_0.001_graphfeatsize_100_nhiddim1_50_dropout_0.5_weight_decay_0.001_bsize_10.out\n",
      "slurm_GCNGAP_ER.Status_layers_1_pooling_mean_dist_40_lr_0.01_graphfeatsize_100_nhiddim1_100_dropout_0.3_weight_decay_0.01_bsize_10.out\n",
      "slurm_GCNGAP_ER.Status_layers_2_pooling_mean_dist_40_lr_0.01_graphfeatsize_150_nhiddim1_100_dropout_0.5_weight_decay_0.1_bsize_10.out\n",
      "slurm_GCNGAP_ER.Status_layers_1_pooling_sum_dist_40_lr_0.01_graphfeatsize_100_nhiddim1_100_dropout_0.5_weight_decay_0.1_bsize_20.out\n",
      "slurm_GCNGAP_ER.Status_layers_1_pooling_mean_dist_40_lr_0.01_graphfeatsize_150_nhiddim1_100_dropout_0.3_weight_decay_0.001_bsize_20.out\n",
      "slurm_GCNGAP_ER.Status_layers_2_pooling_sum_dist_40_lr_0.001_graphfeatsize_50_nhiddim1_150_dropout_0.5_weight_decay_0.1_bsize_30.out\n",
      "slurm_GCNGAP_ER.Status_layers_1_pooling_sum_dist_80_lr_0.001_graphfeatsize_100_nhiddim1_50_dropout_0.3_weight_decay_0.01_bsize_10.out\n",
      "slurm_GCNGAP_ER.Status_layers_2_pooling_mean_dist_40_lr_0.01_graphfeatsize_150_nhiddim1_50_dropout_0.3_weight_decay_0.001_bsize_10.out\n",
      "slurm_GCNGAP_ER.Status_layers_1_pooling_mean_dist_80_lr_0.001_graphfeatsize_100_nhiddim1_150_dropout_0.5_weight_decay_0.01_bsize_30.out\n"
     ]
    },
    {
     "name": "stderr",
     "output_type": "stream",
     "text": [
      "b'Skipping line 442: expected 1 fields, saw 3\\n'\n",
      "b'Skipping line 469: expected 1 fields, saw 3\\n'\n",
      "b'Skipping line 711: expected 1 fields, saw 3\\n'\n",
      "b'Skipping line 456: expected 1 fields, saw 3\\n'\n",
      "b'Skipping line 442: expected 1 fields, saw 3\\n'\n",
      "b'Skipping line 459: expected 1 fields, saw 3\\n'\n",
      "b'Skipping line 481: expected 1 fields, saw 3\\n'\n",
      "b'Skipping line 740: expected 1 fields, saw 3\\n'\n",
      "b'Skipping line 499: expected 1 fields, saw 3\\n'\n",
      "b'Skipping line 442: expected 1 fields, saw 3\\n'\n",
      "b'Skipping line 448: expected 1 fields, saw 3\\n'\n",
      "b'Skipping line 550: expected 1 fields, saw 3\\n'\n",
      "b'Skipping line 472: expected 1 fields, saw 3\\n'\n"
     ]
    },
    {
     "name": "stdout",
     "output_type": "stream",
     "text": [
      "slurm_GCNGAP_ER.Status_layers_1_pooling_mean_dist_80_lr_0.001_graphfeatsize_50_nhiddim1_50_dropout_0.5_weight_decay_0.1_bsize_10.out\n",
      "slurm_GCNGAP_ER.Status_layers_1_pooling_sum_dist_40_lr_0.01_graphfeatsize_50_nhiddim1_150_dropout_0.5_weight_decay_0.01_bsize_10.out\n",
      "slurm_GCNGAP_ER.Status_layers_2_pooling_sum_dist_40_lr_0.001_graphfeatsize_150_nhiddim1_50_dropout_0.5_weight_decay_0.1_bsize_10.out\n",
      "slurm_GCNGAP_ER.Status_layers_1_pooling_att_dist_40_lr_0.001_graphfeatsize_100_nhiddim1_100_dropout_0.3_weight_decay_0.1_bsize_20.out\n",
      "slurm_GCNGAP_ER.Status_layers_1_pooling_mean_dist_40_lr_0.01_graphfeatsize_100_nhiddim1_150_dropout_0.3_weight_decay_0.01_bsize_30.out\n",
      "slurm_GCNGAP_ER.Status_layers_1_pooling_mean_dist_80_lr_0.01_graphfeatsize_100_nhiddim1_100_dropout_0.3_weight_decay_0.01_bsize_10.out\n",
      "slurm_GCNGAP_ER.Status_layers_1_pooling_sum_dist_40_lr_0.001_graphfeatsize_150_nhiddim1_100_dropout_0.3_weight_decay_0.001_bsize_10.out\n",
      "slurm_GCNGAP_ER.Status_layers_2_pooling_mean_dist_40_lr_0.001_graphfeatsize_150_nhiddim1_150_dropout_0.3_weight_decay_0.1_bsize_20.out\n",
      "slurm_GCNGAP_ER.Status_layers_1_pooling_sum_dist_80_lr_0.001_graphfeatsize_50_nhiddim1_100_dropout_0.5_weight_decay_0.1_bsize_10.out\n",
      "slurm_GCNGAP_ER.Status_layers_1_pooling_att_dist_40_lr_0.001_graphfeatsize_150_nhiddim1_150_dropout_0.5_weight_decay_0.001_bsize_10.out\n",
      "slurm_GCNGAP_ER.Status_layers_2_pooling_sum_dist_40_lr_0.01_graphfeatsize_50_nhiddim1_100_dropout_0.5_weight_decay_0.01_bsize_20.out\n",
      "slurm_GCNGAP_ER.Status_layers_2_pooling_mean_dist_40_lr_0.001_graphfeatsize_100_nhiddim1_150_dropout_0.3_weight_decay_0.01_bsize_20.out\n",
      "slurm_GCNGAP_ER.Status_layers_1_pooling_att_dist_40_lr_0.001_graphfeatsize_100_nhiddim1_50_dropout_0.3_weight_decay_0.1_bsize_20.out\n"
     ]
    },
    {
     "name": "stderr",
     "output_type": "stream",
     "text": [
      "b'Skipping line 442: expected 1 fields, saw 3\\n'\n",
      "b'Skipping line 544: expected 1 fields, saw 3\\n'\n",
      "b'Skipping line 477: expected 1 fields, saw 3\\n'\n",
      "b'Skipping line 500: expected 1 fields, saw 3\\n'\n",
      "b'Skipping line 672: expected 1 fields, saw 3\\n'\n",
      "b'Skipping line 443: expected 1 fields, saw 3\\n'\n",
      "b'Skipping line 455: expected 1 fields, saw 3\\n'\n",
      "b'Skipping line 513: expected 1 fields, saw 3\\n'\n",
      "b'Skipping line 495: expected 1 fields, saw 3\\n'\n",
      "b'Skipping line 456: expected 1 fields, saw 3\\n'\n",
      "b'Skipping line 466: expected 1 fields, saw 3\\n'\n"
     ]
    },
    {
     "name": "stdout",
     "output_type": "stream",
     "text": [
      "slurm_GCNGAP_ER.Status_layers_2_pooling_att_dist_40_lr_0.01_graphfeatsize_150_nhiddim1_150_dropout_0.3_weight_decay_0.001_bsize_20.out\n",
      "slurm_GCNGAP_ER.Status_layers_2_pooling_att_dist_40_lr_0.01_graphfeatsize_100_nhiddim1_150_dropout_0.5_weight_decay_0.01_bsize_20.out\n",
      "slurm_GCNGAP_ER.Status_layers_1_pooling_att_dist_40_lr_0.01_graphfeatsize_100_nhiddim1_150_dropout_0.5_weight_decay_0.1_bsize_10.out\n",
      "slurm_GCNGAP_ER.Status_layers_2_pooling_sum_dist_40_lr_0.01_graphfeatsize_100_nhiddim1_50_dropout_0.3_weight_decay_0.1_bsize_20.out\n",
      "slurm_GCNGAP_ER.Status_layers_1_pooling_att_dist_40_lr_0.001_graphfeatsize_100_nhiddim1_50_dropout_0.3_weight_decay_0.001_bsize_10.out\n",
      "slurm_GCNGAP_ER.Status_layers_1_pooling_mean_dist_40_lr_0.001_graphfeatsize_150_nhiddim1_100_dropout_0.5_weight_decay_0.1_bsize_30.out\n",
      "slurm_GCNGAP_ER.Status_layers_1_pooling_att_dist_40_lr_0.01_graphfeatsize_100_nhiddim1_50_dropout_0.5_weight_decay_0.001_bsize_20.out\n",
      "slurm_GCNGAP_ER.Status_layers_1_pooling_mean_dist_40_lr_0.01_graphfeatsize_100_nhiddim1_100_dropout_0.3_weight_decay_0.001_bsize_20.out\n",
      "slurm_GCNGAP_ER.Status_layers_2_pooling_att_dist_40_lr_0.001_graphfeatsize_150_nhiddim1_150_dropout_0.3_weight_decay_0.01_bsize_30.out\n",
      "slurm_GCNGAP_ER.Status_layers_2_pooling_mean_dist_40_lr_0.001_graphfeatsize_100_nhiddim1_50_dropout_0.3_weight_decay_0.01_bsize_30.out\n",
      "slurm_GCNGAP_ER.Status_layers_1_pooling_sum_dist_40_lr_0.01_graphfeatsize_50_nhiddim1_100_dropout_0.3_weight_decay_0.001_bsize_20.out\n"
     ]
    },
    {
     "name": "stderr",
     "output_type": "stream",
     "text": [
      "b'Skipping line 542: expected 1 fields, saw 3\\n'\n",
      "b'Skipping line 708: expected 1 fields, saw 3\\n'\n",
      "b'Skipping line 362: expected 1 fields, saw 3\\n'\n",
      "b'Skipping line 475: expected 1 fields, saw 3\\n'\n",
      "b'Skipping line 452: expected 1 fields, saw 3\\n'\n",
      "b'Skipping line 442: expected 1 fields, saw 3\\n'\n",
      "b'Skipping line 442: expected 1 fields, saw 3\\n'\n",
      "b'Skipping line 516: expected 1 fields, saw 3\\n'\n",
      "b'Skipping line 494: expected 1 fields, saw 3\\n'\n",
      "b'Skipping line 467: expected 1 fields, saw 3\\n'\n",
      "b'Skipping line 443: expected 1 fields, saw 3\\n'\n",
      "b'Skipping line 503: expected 1 fields, saw 3\\n'\n"
     ]
    },
    {
     "name": "stdout",
     "output_type": "stream",
     "text": [
      "slurm_GCNGAP_ER.Status_layers_2_pooling_att_dist_40_lr_0.01_graphfeatsize_100_nhiddim1_150_dropout_0.3_weight_decay_0.001_bsize_20.out\n",
      "slurm_GCNGAP_ER.Status_layers_1_pooling_att_dist_40_lr_0.01_graphfeatsize_50_nhiddim1_150_dropout_0.3_weight_decay_0.001_bsize_30.out\n",
      "slurm_GCNGAP_ER.Status_layers_1_pooling_sum_dist_80_lr_0.001_graphfeatsize_50_nhiddim1_50_dropout_0.5_weight_decay_0.1_bsize_20.out\n",
      "slurm_GCNGAP_ER.Status_layers_1_pooling_sum_dist_40_lr_0.001_graphfeatsize_100_nhiddim1_100_dropout_0.3_weight_decay_0.001_bsize_10.out\n",
      "slurm_GCNGAP_ER.Status_layers_1_pooling_sum_dist_40_lr_0.001_graphfeatsize_50_nhiddim1_50_dropout_0.3_weight_decay_0.001_bsize_10.out\n",
      "slurm_GCNGAP_ER.Status_layers_1_pooling_att_dist_40_lr_0.001_graphfeatsize_50_nhiddim1_50_dropout_0.3_weight_decay_0.1_bsize_30.out\n",
      "slurm_GCNGAP_ER.Status_layers_1_pooling_att_dist_40_lr_0.001_graphfeatsize_100_nhiddim1_150_dropout_0.5_weight_decay_0.001_bsize_10.out\n",
      "slurm_GCNGAP_ER.Status_layers_1_pooling_mean_dist_80_lr_0.01_graphfeatsize_150_nhiddim1_100_dropout_0.3_weight_decay_0.1_bsize_20.out\n",
      "slurm_GCNGAP_ER.Status_layers_1_pooling_mean_dist_80_lr_0.001_graphfeatsize_100_nhiddim1_150_dropout_0.3_weight_decay_0.001_bsize_20.out\n",
      "slurm_GCNGAP_ER.Status_layers_2_pooling_mean_dist_40_lr_0.001_graphfeatsize_150_nhiddim1_100_dropout_0.3_weight_decay_0.001_bsize_30.out\n",
      "slurm_GCNGAP_ER.Status_layers_1_pooling_sum_dist_40_lr_0.001_graphfeatsize_50_nhiddim1_100_dropout_0.3_weight_decay_0.01_bsize_10.out\n"
     ]
    },
    {
     "name": "stderr",
     "output_type": "stream",
     "text": [
      "b'Skipping line 481: expected 1 fields, saw 3\\n'\n",
      "b'Skipping line 445: expected 1 fields, saw 3\\n'\n",
      "b'Skipping line 442: expected 1 fields, saw 3\\n'\n",
      "b'Skipping line 501: expected 1 fields, saw 3\\n'\n",
      "b'Skipping line 491: expected 1 fields, saw 3\\n'\n",
      "b'Skipping line 408: expected 1 fields, saw 3\\n'\n",
      "b'Skipping line 458: expected 1 fields, saw 3\\n'\n",
      "b'Skipping line 552: expected 1 fields, saw 3\\n'\n",
      "b'Skipping line 444: expected 1 fields, saw 3\\n'\n",
      "b'Skipping line 488: expected 1 fields, saw 3\\n'\n",
      "b'Skipping line 443: expected 1 fields, saw 3\\n'\n"
     ]
    },
    {
     "name": "stdout",
     "output_type": "stream",
     "text": [
      "slurm_GCNGAP_ER.Status_layers_1_pooling_sum_dist_40_lr_0.001_graphfeatsize_150_nhiddim1_100_dropout_0.5_weight_decay_0.01_bsize_20.out\n",
      "slurm_GCNGAP_ER.Status_layers_1_pooling_sum_dist_40_lr_0.01_graphfeatsize_100_nhiddim1_50_dropout_0.5_weight_decay_0.01_bsize_30.out\n",
      "slurm_GCNGAP_ER.Status_layers_1_pooling_mean_dist_80_lr_0.001_graphfeatsize_150_nhiddim1_100_dropout_0.3_weight_decay_0.1_bsize_30.out\n",
      "slurm_GCNGAP_ER.Status_layers_1_pooling_sum_dist_40_lr_0.01_graphfeatsize_150_nhiddim1_150_dropout_0.3_weight_decay_0.01_bsize_10.out\n",
      "slurm_GCNGAP_ER.Status_layers_1_pooling_att_dist_40_lr_0.01_graphfeatsize_50_nhiddim1_50_dropout_0.5_weight_decay_0.001_bsize_20.out\n",
      "slurm_GCNGAP_ER.Status_layers_1_pooling_mean_dist_80_lr_0.001_graphfeatsize_150_nhiddim1_50_dropout_0.5_weight_decay_0.001_bsize_20.out\n",
      "slurm_GCNGAP_ER.Status_layers_2_pooling_att_dist_40_lr_0.01_graphfeatsize_50_nhiddim1_150_dropout_0.5_weight_decay_0.1_bsize_20.out\n",
      "slurm_GCNGAP_ER.Status_layers_1_pooling_sum_dist_80_lr_0.001_graphfeatsize_100_nhiddim1_50_dropout_0.5_weight_decay_0.1_bsize_20.out\n",
      "slurm_GCNGAP_ER.Status_layers_2_pooling_att_dist_40_lr_0.01_graphfeatsize_50_nhiddim1_50_dropout_0.5_weight_decay_0.1_bsize_20.out\n",
      "slurm_GCNGAP_ER.Status_layers_1_pooling_mean_dist_40_lr_0.001_graphfeatsize_100_nhiddim1_50_dropout_0.5_weight_decay_0.001_bsize_10.out\n",
      "slurm_GCNGAP_ER.Status_layers_1_pooling_sum_dist_80_lr_0.01_graphfeatsize_50_nhiddim1_50_dropout_0.3_weight_decay_0.01_bsize_10.out\n"
     ]
    },
    {
     "name": "stderr",
     "output_type": "stream",
     "text": [
      "b'Skipping line 518: expected 1 fields, saw 3\\n'\n",
      "b'Skipping line 449: expected 1 fields, saw 3\\n'\n",
      "b'Skipping line 442: expected 1 fields, saw 3\\n'\n",
      "b'Skipping line 465: expected 1 fields, saw 3\\n'\n",
      "b'Skipping line 459: expected 1 fields, saw 3\\n'\n",
      "b'Skipping line 519: expected 1 fields, saw 3\\n'\n",
      "b'Skipping line 466: expected 1 fields, saw 3\\n'\n",
      "b'Skipping line 518: expected 1 fields, saw 3\\n'\n",
      "b'Skipping line 447: expected 1 fields, saw 3\\n'\n",
      "b'Skipping line 452: expected 1 fields, saw 3\\n'\n",
      "b'Skipping line 494: expected 1 fields, saw 3\\n'\n",
      "b'Skipping line 721: expected 1 fields, saw 3\\n'\n",
      "b'Skipping line 456: expected 1 fields, saw 3\\n'\n"
     ]
    },
    {
     "name": "stdout",
     "output_type": "stream",
     "text": [
      "slurm_GCNGAP_ER.Status_layers_1_pooling_mean_dist_40_lr_0.01_graphfeatsize_150_nhiddim1_150_dropout_0.5_weight_decay_0.1_bsize_10.out\n",
      "slurm_GCNGAP_ER.Status_layers_2_pooling_sum_dist_40_lr_0.001_graphfeatsize_150_nhiddim1_50_dropout_0.5_weight_decay_0.01_bsize_10.out\n",
      "slurm_GCNGAP_ER.Status_layers_2_pooling_att_dist_40_lr_0.01_graphfeatsize_150_nhiddim1_50_dropout_0.5_weight_decay_0.001_bsize_30.out\n",
      "slurm_GCNGAP_ER.Status_layers_1_pooling_att_dist_40_lr_0.001_graphfeatsize_100_nhiddim1_100_dropout_0.3_weight_decay_0.01_bsize_10.out\n",
      "slurm_GCNGAP_ER.Status_layers_1_pooling_sum_dist_80_lr_0.001_graphfeatsize_100_nhiddim1_100_dropout_0.5_weight_decay_0.01_bsize_10.out\n",
      "not in\n",
      "slurm_GCNGAP_ER.Status_layers_1_pooling_att_dist_40_lr_0.001_graphfeatsize_50_nhiddim1_100_dropout_0.3_weight_decay_0.1_bsize_10.out\n",
      "slurm_GCNGAP_ER.Status_layers_1_pooling_mean_dist_40_lr_0.001_graphfeatsize_100_nhiddim1_150_dropout_0.5_weight_decay_0.001_bsize_30.out\n",
      "slurm_GCNGAP_ER.Status_layers_2_pooling_att_dist_40_lr_0.001_graphfeatsize_100_nhiddim1_150_dropout_0.3_weight_decay_0.1_bsize_20.out\n",
      "slurm_GCNGAP_ER.Status_layers_1_pooling_att_dist_40_lr_0.01_graphfeatsize_100_nhiddim1_100_dropout_0.5_weight_decay_0.001_bsize_20.out\n",
      "slurm_GCNGAP_ER.Status_layers_1_pooling_sum_dist_80_lr_0.01_graphfeatsize_150_nhiddim1_150_dropout_0.5_weight_decay_0.001_bsize_10.out\n",
      "not in\n",
      "slurm_GCNGAP_ER.Status_layers_2_pooling_sum_dist_40_lr_0.01_graphfeatsize_50_nhiddim1_100_dropout_0.3_weight_decay_0.1_bsize_10.out\n",
      "slurm_GCNGAP_ER.Status_layers_1_pooling_mean_dist_80_lr_0.01_graphfeatsize_50_nhiddim1_50_dropout_0.3_weight_decay_0.01_bsize_20.out\n",
      "slurm_GCNGAP_ER.Status_layers_2_pooling_att_dist_40_lr_0.001_graphfeatsize_100_nhiddim1_50_dropout_0.5_weight_decay_0.1_bsize_30.out\n",
      "slurm_GCNGAP_ER.Status_layers_1_pooling_att_dist_40_lr_0.01_graphfeatsize_150_nhiddim1_150_dropout_0.5_weight_decay_0.01_bsize_30.out\n"
     ]
    },
    {
     "name": "stderr",
     "output_type": "stream",
     "text": [
      "b'Skipping line 469: expected 1 fields, saw 3\\n'\n",
      "b'Skipping line 571: expected 1 fields, saw 3\\n'\n",
      "b'Skipping line 488: expected 1 fields, saw 3\\n'\n",
      "b'Skipping line 481: expected 1 fields, saw 3\\n'\n",
      "b'Skipping line 700: expected 1 fields, saw 3\\n'\n",
      "b'Skipping line 655: expected 1 fields, saw 3\\n'\n",
      "b'Skipping line 472: expected 1 fields, saw 3\\n'\n",
      "b'Skipping line 518: expected 1 fields, saw 3\\n'\n",
      "b'Skipping line 532: expected 1 fields, saw 3\\n'\n",
      "b'Skipping line 451: expected 1 fields, saw 3\\n'\n",
      "b'Skipping line 707: expected 1 fields, saw 3\\n'\n",
      "b'Skipping line 459: expected 1 fields, saw 3\\n'\n"
     ]
    },
    {
     "name": "stdout",
     "output_type": "stream",
     "text": [
      "slurm_GCNGAP_ER.Status_layers_1_pooling_att_dist_40_lr_0.001_graphfeatsize_50_nhiddim1_100_dropout_0.5_weight_decay_0.01_bsize_30.out\n",
      "slurm_GCNGAP_ER.Status_layers_1_pooling_mean_dist_80_lr_0.001_graphfeatsize_150_nhiddim1_150_dropout_0.3_weight_decay_0.001_bsize_20.out\n",
      "slurm_GCNGAP_ER.Status_layers_2_pooling_mean_dist_40_lr_0.001_graphfeatsize_100_nhiddim1_100_dropout_0.3_weight_decay_0.001_bsize_30.out\n",
      "slurm_GCNGAP_ER.Status_layers_1_pooling_mean_dist_40_lr_0.001_graphfeatsize_150_nhiddim1_50_dropout_0.5_weight_decay_0.01_bsize_20.out\n",
      "slurm_GCNGAP_ER.Status_layers_1_pooling_sum_dist_80_lr_0.01_graphfeatsize_100_nhiddim1_150_dropout_0.3_weight_decay_0.1_bsize_10.out\n",
      "not in\n",
      "slurm_GCNGAP_ER.Status_layers_2_pooling_att_dist_40_lr_0.001_graphfeatsize_50_nhiddim1_50_dropout_0.5_weight_decay_0.01_bsize_10.out\n",
      "slurm_GCNGAP_ER.Status_layers_1_pooling_mean_dist_80_lr_0.01_graphfeatsize_100_nhiddim1_50_dropout_0.3_weight_decay_0.001_bsize_10.out\n",
      "slurm_GCNGAP_ER.Status_layers_2_pooling_mean_dist_40_lr_0.001_graphfeatsize_50_nhiddim1_150_dropout_0.3_weight_decay_0.01_bsize_10.out\n",
      "slurm_GCNGAP_ER.Status_layers_1_pooling_mean_dist_40_lr_0.001_graphfeatsize_150_nhiddim1_150_dropout_0.5_weight_decay_0.001_bsize_30.out\n",
      "slurm_GCNGAP_ER.Status_layers_1_pooling_att_dist_40_lr_0.01_graphfeatsize_150_nhiddim1_100_dropout_0.5_weight_decay_0.001_bsize_20.out\n",
      "slurm_GCNGAP_ER.Status_layers_1_pooling_sum_dist_80_lr_0.01_graphfeatsize_100_nhiddim1_150_dropout_0.5_weight_decay_0.001_bsize_10.out\n",
      "not in\n",
      "slurm_GCNGAP_ER.Status_layers_2_pooling_mean_dist_40_lr_0.01_graphfeatsize_150_nhiddim1_100_dropout_0.3_weight_decay_0.01_bsize_10.out\n",
      "slurm_GCNGAP_ER.Status_layers_2_pooling_sum_dist_40_lr_0.001_graphfeatsize_150_nhiddim1_50_dropout_0.5_weight_decay_0.001_bsize_10.out\n",
      "slurm_GCNGAP_ER.Status_layers_1_pooling_sum_dist_40_lr_0.001_graphfeatsize_50_nhiddim1_150_dropout_0.3_weight_decay_0.1_bsize_20.out\n"
     ]
    },
    {
     "name": "stderr",
     "output_type": "stream",
     "text": [
      "b'Skipping line 479: expected 1 fields, saw 3\\n'\n",
      "b'Skipping line 624: expected 1 fields, saw 3\\n'\n",
      "b'Skipping line 524: expected 1 fields, saw 3\\n'\n",
      "b'Skipping line 532: expected 1 fields, saw 3\\n'\n",
      "b'Skipping line 480: expected 1 fields, saw 3\\n'\n",
      "b'Skipping line 486: expected 1 fields, saw 3\\n'\n",
      "b'Skipping line 668: expected 1 fields, saw 3\\n'\n",
      "b'Skipping line 450: expected 1 fields, saw 3\\n'\n",
      "b'Skipping line 463: expected 1 fields, saw 3\\n'\n",
      "b'Skipping line 611: expected 1 fields, saw 3\\n'\n",
      "b'Skipping line 590: expected 1 fields, saw 3\\n'\n"
     ]
    },
    {
     "name": "stdout",
     "output_type": "stream",
     "text": [
      "slurm_GCNGAP_ER.Status_layers_2_pooling_att_dist_40_lr_0.001_graphfeatsize_150_nhiddim1_50_dropout_0.3_weight_decay_0.01_bsize_30.out\n",
      "slurm_GCNGAP_ER.Status_layers_2_pooling_att_dist_40_lr_0.01_graphfeatsize_150_nhiddim1_50_dropout_0.3_weight_decay_0.01_bsize_10.out\n",
      "slurm_GCNGAP_ER.Status_layers_2_pooling_sum_dist_40_lr_0.01_graphfeatsize_100_nhiddim1_100_dropout_0.3_weight_decay_0.1_bsize_30.out\n",
      "slurm_GCNGAP_ER.Status_layers_1_pooling_att_dist_40_lr_0.001_graphfeatsize_100_nhiddim1_50_dropout_0.5_weight_decay_0.1_bsize_20.out\n",
      "slurm_GCNGAP_ER.Status_layers_1_pooling_mean_dist_40_lr_0.01_graphfeatsize_100_nhiddim1_50_dropout_0.3_weight_decay_0.001_bsize_10.out\n",
      "slurm_GCNGAP_ER.Status_layers_2_pooling_mean_dist_40_lr_0.001_graphfeatsize_50_nhiddim1_100_dropout_0.3_weight_decay_0.01_bsize_30.out\n",
      "slurm_GCNGAP_ER.Status_layers_1_pooling_sum_dist_40_lr_0.01_graphfeatsize_100_nhiddim1_100_dropout_0.3_weight_decay_0.001_bsize_20.out\n",
      "slurm_GCNGAP_ER.Status_layers_2_pooling_mean_dist_40_lr_0.001_graphfeatsize_50_nhiddim1_150_dropout_0.5_weight_decay_0.001_bsize_10.out\n",
      "slurm_GCNGAP_ER.Status_layers_1_pooling_sum_dist_80_lr_0.001_graphfeatsize_50_nhiddim1_100_dropout_0.3_weight_decay_0.1_bsize_10.out\n",
      "slurm_GCNGAP_ER.Status_layers_2_pooling_mean_dist_40_lr_0.01_graphfeatsize_150_nhiddim1_150_dropout_0.3_weight_decay_0.01_bsize_30.out\n",
      "slurm_GCNGAP_ER.Status_layers_2_pooling_mean_dist_40_lr_0.001_graphfeatsize_150_nhiddim1_150_dropout_0.5_weight_decay_0.1_bsize_20.out\n",
      "slurm_GCNGAP_ER.Status_layers_1_pooling_att_dist_40_lr_0.001_graphfeatsize_100_nhiddim1_100_dropout_0.5_weight_decay_0.1_bsize_20.out\n"
     ]
    },
    {
     "name": "stderr",
     "output_type": "stream",
     "text": [
      "b'Skipping line 448: expected 1 fields, saw 3\\n'\n",
      "b'Skipping line 488: expected 1 fields, saw 3\\n'\n",
      "b'Skipping line 621: expected 1 fields, saw 3\\n'\n",
      "b'Skipping line 500: expected 1 fields, saw 3\\n'\n",
      "b'Skipping line 504: expected 1 fields, saw 3\\n'\n",
      "b'Skipping line 493: expected 1 fields, saw 3\\n'\n",
      "b'Skipping line 468: expected 1 fields, saw 3\\n'\n",
      "b'Skipping line 688: expected 1 fields, saw 3\\n'\n",
      "b'Skipping line 623: expected 1 fields, saw 3\\n'\n",
      "b'Skipping line 520: expected 1 fields, saw 3\\n'\n",
      "b'Skipping line 500: expected 1 fields, saw 3\\n'\n",
      "b'Skipping line 443: expected 1 fields, saw 3\\n'\n"
     ]
    },
    {
     "name": "stdout",
     "output_type": "stream",
     "text": [
      "slurm_GCNGAP_ER.Status_layers_1_pooling_att_dist_40_lr_0.01_graphfeatsize_150_nhiddim1_100_dropout_0.5_weight_decay_0.01_bsize_10.out\n",
      "slurm_GCNGAP_ER.Status_layers_2_pooling_sum_dist_40_lr_0.001_graphfeatsize_150_nhiddim1_50_dropout_0.3_weight_decay_0.1_bsize_10.out\n",
      "slurm_GCNGAP_ER.Status_layers_1_pooling_att_dist_40_lr_0.001_graphfeatsize_50_nhiddim1_150_dropout_0.5_weight_decay_0.01_bsize_10.out\n",
      "slurm_GCNGAP_ER.Status_layers_2_pooling_sum_dist_40_lr_0.001_graphfeatsize_50_nhiddim1_150_dropout_0.3_weight_decay_0.1_bsize_30.out\n",
      "slurm_GCNGAP_ER.Status_layers_1_pooling_mean_dist_80_lr_0.001_graphfeatsize_50_nhiddim1_50_dropout_0.3_weight_decay_0.1_bsize_10.out\n",
      "slurm_GCNGAP_ER.Status_layers_1_pooling_mean_dist_80_lr_0.001_graphfeatsize_150_nhiddim1_50_dropout_0.5_weight_decay_0.01_bsize_20.out\n",
      "slurm_GCNGAP_ER.Status_layers_2_pooling_mean_dist_40_lr_0.01_graphfeatsize_150_nhiddim1_100_dropout_0.3_weight_decay_0.1_bsize_10.out\n",
      "slurm_GCNGAP_ER.Status_layers_1_pooling_sum_dist_40_lr_0.01_graphfeatsize_100_nhiddim1_100_dropout_0.3_weight_decay_0.1_bsize_20.out\n",
      "slurm_GCNGAP_ER.Status_layers_1_pooling_sum_dist_80_lr_0.01_graphfeatsize_50_nhiddim1_50_dropout_0.5_weight_decay_0.001_bsize_20.out\n",
      "not in\n",
      "slurm_GCNGAP_ER.Status_layers_1_pooling_att_dist_40_lr_0.001_graphfeatsize_50_nhiddim1_50_dropout_0.5_weight_decay_0.1_bsize_30.out\n",
      "slurm_GCNGAP_ER.Status_layers_1_pooling_mean_dist_80_lr_0.01_graphfeatsize_150_nhiddim1_100_dropout_0.5_weight_decay_0.1_bsize_20.out\n",
      "slurm_GCNGAP_ER.Status_layers_2_pooling_sum_dist_40_lr_0.01_graphfeatsize_50_nhiddim1_150_dropout_0.5_weight_decay_0.001_bsize_30.out\n",
      "slurm_GCNGAP_ER.Status_layers_2_pooling_att_dist_40_lr_0.001_graphfeatsize_150_nhiddim1_50_dropout_0.3_weight_decay_0.001_bsize_10.out\n"
     ]
    },
    {
     "name": "stderr",
     "output_type": "stream",
     "text": [
      "b'Skipping line 361: expected 1 fields, saw 3\\n'\n",
      "b'Skipping line 469: expected 1 fields, saw 3\\n'\n",
      "b'Skipping line 453: expected 1 fields, saw 3\\n'\n",
      "b'Skipping line 456: expected 1 fields, saw 3\\n'\n",
      "b'Skipping line 442: expected 1 fields, saw 3\\n'\n",
      "b'Skipping line 507: expected 1 fields, saw 3\\n'\n",
      "b'Skipping line 443: expected 1 fields, saw 3\\n'\n",
      "b'Skipping line 463: expected 1 fields, saw 3\\n'\n",
      "b'Skipping line 748: expected 1 fields, saw 3\\n'\n",
      "b'Skipping line 491: expected 1 fields, saw 3\\n'\n",
      "b'Skipping line 369: expected 1 fields, saw 3\\n'\n",
      "b'Skipping line 442: expected 1 fields, saw 3\\n'\n"
     ]
    },
    {
     "name": "stdout",
     "output_type": "stream",
     "text": [
      "slurm_GCNGAP_ER.Status_layers_2_pooling_att_dist_40_lr_0.01_graphfeatsize_50_nhiddim1_100_dropout_0.5_weight_decay_0.001_bsize_20.out\n",
      "slurm_GCNGAP_ER.Status_layers_2_pooling_sum_dist_40_lr_0.01_graphfeatsize_100_nhiddim1_50_dropout_0.5_weight_decay_0.01_bsize_20.out\n",
      "slurm_GCNGAP_ER.Status_layers_1_pooling_sum_dist_80_lr_0.001_graphfeatsize_50_nhiddim1_50_dropout_0.3_weight_decay_0.1_bsize_20.out\n",
      "slurm_GCNGAP_ER.Status_layers_1_pooling_att_dist_40_lr_0.001_graphfeatsize_100_nhiddim1_150_dropout_0.3_weight_decay_0.01_bsize_30.out\n",
      "slurm_GCNGAP_ER.Status_layers_1_pooling_sum_dist_40_lr_0.01_graphfeatsize_150_nhiddim1_100_dropout_0.3_weight_decay_0.001_bsize_20.out\n",
      "slurm_GCNGAP_ER.Status_layers_2_pooling_att_dist_40_lr_0.01_graphfeatsize_50_nhiddim1_50_dropout_0.5_weight_decay_0.001_bsize_30.out\n",
      "slurm_GCNGAP_ER.Status_layers_1_pooling_mean_dist_40_lr_0.01_graphfeatsize_50_nhiddim1_150_dropout_0.3_weight_decay_0.01_bsize_20.out\n",
      "slurm_GCNGAP_ER.Status_layers_2_pooling_att_dist_40_lr_0.001_graphfeatsize_50_nhiddim1_50_dropout_0.5_weight_decay_0.001_bsize_10.out\n",
      "slurm_GCNGAP_ER.Status_layers_1_pooling_sum_dist_40_lr_0.001_graphfeatsize_50_nhiddim1_150_dropout_0.3_weight_decay_0.01_bsize_30.out\n",
      "slurm_GCNGAP_ER.Status_layers_1_pooling_sum_dist_80_lr_0.001_graphfeatsize_50_nhiddim1_100_dropout_0.3_weight_decay_0.01_bsize_10.out\n",
      "slurm_GCNGAP_ER.Status_layers_2_pooling_sum_dist_40_lr_0.01_graphfeatsize_100_nhiddim1_50_dropout_0.5_weight_decay_0.1_bsize_20.out\n"
     ]
    },
    {
     "name": "stderr",
     "output_type": "stream",
     "text": [
      "b'Skipping line 692: expected 1 fields, saw 3\\n'\n",
      "b'Skipping line 485: expected 1 fields, saw 3\\n'\n",
      "b'Skipping line 361: expected 1 fields, saw 3\\n'\n",
      "b'Skipping line 443: expected 1 fields, saw 3\\n'\n",
      "b'Skipping line 443: expected 1 fields, saw 3\\n'\n",
      "b'Skipping line 453: expected 1 fields, saw 3\\n'\n",
      "b'Skipping line 513: expected 1 fields, saw 3\\n'\n",
      "b'Skipping line 492: expected 1 fields, saw 3\\n'\n",
      "b'Skipping line 570: expected 1 fields, saw 3\\n'\n",
      "b'Skipping line 490: expected 1 fields, saw 3\\n'\n",
      "b'Skipping line 507: expected 1 fields, saw 3\\n'\n"
     ]
    },
    {
     "name": "stdout",
     "output_type": "stream",
     "text": [
      "slurm_GCNGAP_ER.Status_layers_1_pooling_mean_dist_40_lr_0.001_graphfeatsize_150_nhiddim1_100_dropout_0.3_weight_decay_0.1_bsize_30.out\n",
      "slurm_GCNGAP_ER.Status_layers_2_pooling_sum_dist_40_lr_0.01_graphfeatsize_100_nhiddim1_50_dropout_0.3_weight_decay_0.001_bsize_20.out\n",
      "slurm_GCNGAP_ER.Status_layers_1_pooling_att_dist_40_lr_0.01_graphfeatsize_100_nhiddim1_150_dropout_0.3_weight_decay_0.1_bsize_10.out\n",
      "slurm_GCNGAP_ER.Status_layers_1_pooling_sum_dist_40_lr_0.01_graphfeatsize_150_nhiddim1_100_dropout_0.3_weight_decay_0.01_bsize_30.out\n",
      "slurm_GCNGAP_ER.Status_layers_1_pooling_sum_dist_80_lr_0.01_graphfeatsize_150_nhiddim1_150_dropout_0.3_weight_decay_0.01_bsize_10.out\n",
      "slurm_GCNGAP_ER.Status_layers_1_pooling_mean_dist_80_lr_0.001_graphfeatsize_50_nhiddim1_100_dropout_0.5_weight_decay_0.001_bsize_30.out\n",
      "slurm_GCNGAP_ER.Status_layers_1_pooling_mean_dist_40_lr_0.001_graphfeatsize_50_nhiddim1_150_dropout_0.3_weight_decay_0.1_bsize_30.out\n",
      "slurm_GCNGAP_ER.Status_layers_2_pooling_att_dist_40_lr_0.001_graphfeatsize_150_nhiddim1_100_dropout_0.5_weight_decay_0.01_bsize_30.out\n",
      "slurm_GCNGAP_ER.Status_layers_2_pooling_mean_dist_40_lr_0.01_graphfeatsize_50_nhiddim1_150_dropout_0.3_weight_decay_0.001_bsize_10.out\n",
      "slurm_GCNGAP_ER.Status_layers_1_pooling_att_dist_40_lr_0.001_graphfeatsize_100_nhiddim1_50_dropout_0.3_weight_decay_0.01_bsize_10.out\n",
      "slurm_GCNGAP_ER.Status_layers_1_pooling_att_dist_40_lr_0.01_graphfeatsize_150_nhiddim1_100_dropout_0.5_weight_decay_0.1_bsize_30.out\n"
     ]
    },
    {
     "name": "stderr",
     "output_type": "stream",
     "text": [
      "b'Skipping line 444: expected 1 fields, saw 3\\n'\n",
      "b'Skipping line 442: expected 1 fields, saw 3\\n'\n",
      "b'Skipping line 498: expected 1 fields, saw 3\\n'\n",
      "b'Skipping line 461: expected 1 fields, saw 3\\n'\n",
      "b'Skipping line 464: expected 1 fields, saw 3\\n'\n",
      "b'Skipping line 454: expected 1 fields, saw 3\\n'\n",
      "b'Skipping line 442: expected 1 fields, saw 3\\n'\n",
      "b'Skipping line 361: expected 1 fields, saw 3\\n'\n",
      "b'Skipping line 457: expected 1 fields, saw 3\\n'\n",
      "b'Skipping line 522: expected 1 fields, saw 3\\n'\n",
      "b'Skipping line 446: expected 1 fields, saw 3\\n'\n",
      "b'Skipping line 530: expected 1 fields, saw 3\\n'\n"
     ]
    },
    {
     "name": "stdout",
     "output_type": "stream",
     "text": [
      "slurm_GCNGAP_ER.Status_layers_2_pooling_sum_dist_40_lr_0.001_graphfeatsize_100_nhiddim1_150_dropout_0.5_weight_decay_0.001_bsize_10.out\n",
      "slurm_GCNGAP_ER.Status_layers_2_pooling_sum_dist_40_lr_0.001_graphfeatsize_50_nhiddim1_50_dropout_0.5_weight_decay_0.1_bsize_10.out\n",
      "slurm_GCNGAP_ER.Status_layers_1_pooling_mean_dist_40_lr_0.001_graphfeatsize_150_nhiddim1_50_dropout_0.3_weight_decay_0.1_bsize_10.out\n",
      "slurm_GCNGAP_ER.Status_layers_1_pooling_sum_dist_80_lr_0.001_graphfeatsize_100_nhiddim1_100_dropout_0.3_weight_decay_0.1_bsize_20.out\n",
      "not in\n",
      "slurm_GCNGAP_ER.Status_layers_2_pooling_att_dist_40_lr_0.001_graphfeatsize_100_nhiddim1_100_dropout_0.3_weight_decay_0.001_bsize_10.out\n",
      "slurm_GCNGAP_ER.Status_layers_1_pooling_mean_dist_40_lr_0.001_graphfeatsize_100_nhiddim1_150_dropout_0.5_weight_decay_0.1_bsize_10.out\n",
      "slurm_GCNGAP_ER.Status_layers_1_pooling_sum_dist_40_lr_0.001_graphfeatsize_50_nhiddim1_100_dropout_0.3_weight_decay_0.001_bsize_10.out\n",
      "slurm_GCNGAP_ER.Status_layers_2_pooling_sum_dist_40_lr_0.01_graphfeatsize_100_nhiddim1_100_dropout_0.5_weight_decay_0.001_bsize_30.out\n",
      "slurm_GCNGAP_ER.Status_layers_2_pooling_mean_dist_40_lr_0.01_graphfeatsize_100_nhiddim1_150_dropout_0.5_weight_decay_0.001_bsize_20.out\n",
      "slurm_GCNGAP_ER.Status_layers_1_pooling_att_dist_40_lr_0.01_graphfeatsize_50_nhiddim1_50_dropout_0.5_weight_decay_0.01_bsize_20.out\n",
      "slurm_GCNGAP_ER.Status_layers_2_pooling_mean_dist_40_lr_0.01_graphfeatsize_50_nhiddim1_50_dropout_0.5_weight_decay_0.1_bsize_10.out\n",
      "slurm_GCNGAP_ER.Status_layers_1_pooling_sum_dist_80_lr_0.01_graphfeatsize_100_nhiddim1_50_dropout_0.3_weight_decay_0.1_bsize_10.out\n",
      "slurm_GCNGAP_ER.Status_layers_1_pooling_mean_dist_80_lr_0.01_graphfeatsize_100_nhiddim1_150_dropout_0.5_weight_decay_0.01_bsize_10.out\n"
     ]
    },
    {
     "name": "stderr",
     "output_type": "stream",
     "text": [
      "b'Skipping line 626: expected 1 fields, saw 3\\n'\n",
      "b'Skipping line 584: expected 1 fields, saw 3\\n'\n",
      "b'Skipping line 443: expected 1 fields, saw 3\\n'\n",
      "b'Skipping line 442: expected 1 fields, saw 3\\n'\n",
      "b'Skipping line 711: expected 1 fields, saw 3\\n'\n",
      "b'Skipping line 455: expected 1 fields, saw 3\\n'\n",
      "b'Skipping line 700: expected 1 fields, saw 3\\n'\n",
      "b'Skipping line 443: expected 1 fields, saw 3\\n'\n",
      "b'Skipping line 442: expected 1 fields, saw 3\\n'\n",
      "b'Skipping line 495: expected 1 fields, saw 3\\n'\n",
      "b'Skipping line 442: expected 1 fields, saw 3\\n'\n",
      "b'Skipping line 444: expected 1 fields, saw 3\\n'\n"
     ]
    },
    {
     "name": "stdout",
     "output_type": "stream",
     "text": [
      "slurm_GCNGAP_ER.Status_layers_1_pooling_mean_dist_40_lr_0.01_graphfeatsize_100_nhiddim1_100_dropout_0.5_weight_decay_0.01_bsize_30.out\n",
      "slurm_GCNGAP_ER.Status_layers_2_pooling_sum_dist_40_lr_0.001_graphfeatsize_150_nhiddim1_150_dropout_0.5_weight_decay_0.001_bsize_10.out\n",
      "slurm_GCNGAP_ER.Status_layers_1_pooling_sum_dist_40_lr_0.01_graphfeatsize_50_nhiddim1_100_dropout_0.3_weight_decay_0.01_bsize_10.out\n",
      "slurm_GCNGAP_ER.Status_layers_1_pooling_mean_dist_80_lr_0.001_graphfeatsize_50_nhiddim1_50_dropout_0.5_weight_decay_0.01_bsize_10.out\n",
      "slurm_GCNGAP_ER.Status_layers_2_pooling_att_dist_40_lr_0.001_graphfeatsize_150_nhiddim1_100_dropout_0.3_weight_decay_0.001_bsize_10.out\n",
      "slurm_GCNGAP_ER.Status_layers_1_pooling_mean_dist_80_lr_0.001_graphfeatsize_100_nhiddim1_100_dropout_0.3_weight_decay_0.01_bsize_30.out\n",
      "slurm_GCNGAP_ER.Status_layers_2_pooling_mean_dist_40_lr_0.01_graphfeatsize_100_nhiddim1_150_dropout_0.5_weight_decay_0.1_bsize_30.out\n",
      "slurm_GCNGAP_ER.Status_layers_1_pooling_sum_dist_40_lr_0.001_graphfeatsize_100_nhiddim1_50_dropout_0.5_weight_decay_0.01_bsize_30.out\n",
      "slurm_GCNGAP_ER.Status_layers_1_pooling_mean_dist_80_lr_0.001_graphfeatsize_100_nhiddim1_50_dropout_0.5_weight_decay_0.1_bsize_30.out\n",
      "slurm_GCNGAP_ER.Status_layers_1_pooling_sum_dist_80_lr_0.01_graphfeatsize_100_nhiddim1_50_dropout_0.5_weight_decay_0.001_bsize_20.out\n",
      "slurm_GCNGAP_ER.Status_layers_1_pooling_mean_dist_80_lr_0.01_graphfeatsize_100_nhiddim1_50_dropout_0.3_weight_decay_0.1_bsize_20.out\n",
      "slurm_GCNGAP_ER.Status_layers_2_pooling_sum_dist_40_lr_0.01_graphfeatsize_150_nhiddim1_100_dropout_0.5_weight_decay_0.001_bsize_30.out\n",
      "slurm_GCNGAP_ER.Status_layers_2_pooling_mean_dist_40_lr_0.01_graphfeatsize_150_nhiddim1_150_dropout_0.5_weight_decay_0.001_bsize_20.out\n"
     ]
    },
    {
     "name": "stderr",
     "output_type": "stream",
     "text": [
      "b'Skipping line 361: expected 1 fields, saw 3\\n'\n",
      "b'Skipping line 534: expected 1 fields, saw 3\\n'\n",
      "b'Skipping line 443: expected 1 fields, saw 3\\n'\n",
      "b'Skipping line 448: expected 1 fields, saw 3\\n'\n",
      "b'Skipping line 652: expected 1 fields, saw 3\\n'\n",
      "b'Skipping line 596: expected 1 fields, saw 3\\n'\n",
      "b'Skipping line 451: expected 1 fields, saw 3\\n'\n",
      "b'Skipping line 442: expected 1 fields, saw 3\\n'\n",
      "b'Skipping line 544: expected 1 fields, saw 3\\n'\n",
      "b'Skipping line 605: expected 1 fields, saw 3\\n'\n",
      "b'Skipping line 453: expected 1 fields, saw 3\\n'\n",
      "b'Skipping line 462: expected 1 fields, saw 3\\n'\n",
      "b'Skipping line 361: expected 1 fields, saw 3\\n'\n"
     ]
    },
    {
     "name": "stdout",
     "output_type": "stream",
     "text": [
      "slurm_GCNGAP_ER.Status_layers_2_pooling_mean_dist_40_lr_0.01_graphfeatsize_50_nhiddim1_150_dropout_0.5_weight_decay_0.1_bsize_20.out\n",
      "slurm_GCNGAP_ER.Status_layers_2_pooling_sum_dist_40_lr_0.001_graphfeatsize_100_nhiddim1_150_dropout_0.5_weight_decay_0.1_bsize_20.out\n",
      "slurm_GCNGAP_ER.Status_layers_1_pooling_mean_dist_40_lr_0.01_graphfeatsize_100_nhiddim1_50_dropout_0.5_weight_decay_0.01_bsize_20.out\n",
      "slurm_GCNGAP_ER.Status_layers_2_pooling_att_dist_40_lr_0.01_graphfeatsize_100_nhiddim1_100_dropout_0.3_weight_decay_0.01_bsize_20.out\n",
      "slurm_GCNGAP_ER.Status_layers_1_pooling_att_dist_40_lr_0.01_graphfeatsize_150_nhiddim1_50_dropout_0.3_weight_decay_0.001_bsize_30.out\n",
      "slurm_GCNGAP_ER.Status_layers_2_pooling_sum_dist_40_lr_0.01_graphfeatsize_50_nhiddim1_150_dropout_0.3_weight_decay_0.01_bsize_20.out\n",
      "slurm_GCNGAP_ER.Status_layers_1_pooling_mean_dist_80_lr_0.01_graphfeatsize_150_nhiddim1_50_dropout_0.3_weight_decay_0.01_bsize_10.out\n",
      "slurm_GCNGAP_ER.Status_layers_2_pooling_mean_dist_40_lr_0.001_graphfeatsize_100_nhiddim1_100_dropout_0.5_weight_decay_0.01_bsize_20.out\n",
      "slurm_GCNGAP_ER.Status_layers_1_pooling_att_dist_40_lr_0.01_graphfeatsize_50_nhiddim1_100_dropout_0.3_weight_decay_0.001_bsize_20.out\n",
      "slurm_GCNGAP_ER.Status_layers_2_pooling_att_dist_40_lr_0.01_graphfeatsize_100_nhiddim1_100_dropout_0.3_weight_decay_0.001_bsize_30.out\n",
      "slurm_GCNGAP_ER.Status_layers_1_pooling_sum_dist_40_lr_0.01_graphfeatsize_50_nhiddim1_150_dropout_0.3_weight_decay_0.001_bsize_30.out\n",
      "slurm_GCNGAP_ER.Status_layers_1_pooling_mean_dist_40_lr_0.001_graphfeatsize_150_nhiddim1_150_dropout_0.3_weight_decay_0.01_bsize_20.out\n"
     ]
    },
    {
     "name": "stderr",
     "output_type": "stream",
     "text": [
      "b'Skipping line 717: expected 1 fields, saw 3\\n'\n",
      "b'Skipping line 503: expected 1 fields, saw 3\\n'\n",
      "b'Skipping line 474: expected 1 fields, saw 3\\n'\n",
      "b'Skipping line 444: expected 1 fields, saw 3\\n'\n",
      "b'Skipping line 457: expected 1 fields, saw 3\\n'\n",
      "b'Skipping line 464: expected 1 fields, saw 3\\n'\n",
      "b'Skipping line 443: expected 1 fields, saw 3\\n'\n",
      "b'Skipping line 682: expected 1 fields, saw 3\\n'\n",
      "b'Skipping line 738: expected 1 fields, saw 3\\n'\n",
      "b'Skipping line 443: expected 1 fields, saw 3\\n'\n",
      "b'Skipping line 442: expected 1 fields, saw 3\\n'\n"
     ]
    },
    {
     "name": "stdout",
     "output_type": "stream",
     "text": [
      "slurm_GCNGAP_ER.Status_layers_1_pooling_sum_dist_80_lr_0.01_graphfeatsize_50_nhiddim1_100_dropout_0.5_weight_decay_0.1_bsize_20.out\n",
      "not in\n",
      "slurm_GCNGAP_ER.Status_layers_1_pooling_att_dist_40_lr_0.001_graphfeatsize_50_nhiddim1_50_dropout_0.3_weight_decay_0.001_bsize_10.out\n",
      "slurm_GCNGAP_ER.Status_layers_2_pooling_sum_dist_40_lr_0.01_graphfeatsize_150_nhiddim1_150_dropout_0.5_weight_decay_0.1_bsize_10.out\n",
      "slurm_GCNGAP_ER.Status_layers_1_pooling_att_dist_40_lr_0.01_graphfeatsize_50_nhiddim1_100_dropout_0.3_weight_decay_0.1_bsize_30.out\n",
      "slurm_GCNGAP_ER.Status_layers_2_pooling_mean_dist_40_lr_0.001_graphfeatsize_50_nhiddim1_100_dropout_0.5_weight_decay_0.1_bsize_30.out\n",
      "slurm_GCNGAP_ER.Status_layers_1_pooling_att_dist_40_lr_0.001_graphfeatsize_50_nhiddim1_100_dropout_0.5_weight_decay_0.001_bsize_10.out\n",
      "slurm_GCNGAP_ER.Status_layers_1_pooling_mean_dist_40_lr_0.01_graphfeatsize_50_nhiddim1_150_dropout_0.5_weight_decay_0.1_bsize_30.out\n",
      "slurm_GCNGAP_ER.Status_layers_1_pooling_mean_dist_40_lr_0.01_graphfeatsize_100_nhiddim1_150_dropout_0.5_weight_decay_0.01_bsize_10.out\n",
      "slurm_GCNGAP_ER.Status_layers_1_pooling_mean_dist_80_lr_0.01_graphfeatsize_100_nhiddim1_100_dropout_0.5_weight_decay_0.01_bsize_30.out\n",
      "slurm_GCNGAP_ER.Status_layers_1_pooling_sum_dist_40_lr_0.01_graphfeatsize_50_nhiddim1_150_dropout_0.3_weight_decay_0.01_bsize_30.out\n",
      "slurm_GCNGAP_ER.Status_layers_1_pooling_sum_dist_80_lr_0.001_graphfeatsize_100_nhiddim1_150_dropout_0.5_weight_decay_0.001_bsize_10.out\n",
      "slurm_GCNGAP_ER.Status_layers_1_pooling_sum_dist_40_lr_0.01_graphfeatsize_100_nhiddim1_50_dropout_0.5_weight_decay_0.001_bsize_20.out\n"
     ]
    },
    {
     "name": "stderr",
     "output_type": "stream",
     "text": [
      "b'Skipping line 442: expected 1 fields, saw 3\\n'\n",
      "b'Skipping line 730: expected 1 fields, saw 3\\n'\n",
      "b'Skipping line 443: expected 1 fields, saw 3\\n'\n",
      "b'Skipping line 461: expected 1 fields, saw 3\\n'\n",
      "b'Skipping line 459: expected 1 fields, saw 3\\n'\n",
      "b'Skipping line 444: expected 1 fields, saw 3\\n'\n",
      "b'Skipping line 443: expected 1 fields, saw 3\\n'\n",
      "b'Skipping line 458: expected 1 fields, saw 3\\n'\n",
      "b'Skipping line 516: expected 1 fields, saw 3\\n'\n",
      "b'Skipping line 516: expected 1 fields, saw 3\\n'\n",
      "b'Skipping line 442: expected 1 fields, saw 3\\n'\n",
      "b'Skipping line 609: expected 1 fields, saw 3\\n'\n"
     ]
    },
    {
     "name": "stdout",
     "output_type": "stream",
     "text": [
      "slurm_GCNGAP_ER.Status_layers_1_pooling_mean_dist_80_lr_0.001_graphfeatsize_100_nhiddim1_150_dropout_0.3_weight_decay_0.01_bsize_10.out\n",
      "slurm_GCNGAP_ER.Status_layers_1_pooling_mean_dist_40_lr_0.01_graphfeatsize_150_nhiddim1_50_dropout_0.5_weight_decay_0.1_bsize_10.out\n",
      "slurm_GCNGAP_ER.Status_layers_1_pooling_mean_dist_40_lr_0.01_graphfeatsize_100_nhiddim1_150_dropout_0.3_weight_decay_0.001_bsize_30.out\n",
      "slurm_GCNGAP_ER.Status_layers_1_pooling_mean_dist_80_lr_0.01_graphfeatsize_50_nhiddim1_50_dropout_0.5_weight_decay_0.001_bsize_30.out\n",
      "slurm_GCNGAP_ER.Status_layers_1_pooling_mean_dist_40_lr_0.01_graphfeatsize_100_nhiddim1_100_dropout_0.3_weight_decay_0.1_bsize_30.out\n",
      "slurm_GCNGAP_ER.Status_layers_2_pooling_att_dist_40_lr_0.01_graphfeatsize_150_nhiddim1_100_dropout_0.5_weight_decay_0.1_bsize_20.out\n",
      "slurm_GCNGAP_ER.Status_layers_2_pooling_att_dist_40_lr_0.01_graphfeatsize_150_nhiddim1_100_dropout_0.3_weight_decay_0.001_bsize_30.out\n",
      "slurm_GCNGAP_ER.Status_layers_1_pooling_sum_dist_40_lr_0.01_graphfeatsize_150_nhiddim1_50_dropout_0.5_weight_decay_0.1_bsize_20.out\n",
      "slurm_GCNGAP_ER.Status_layers_2_pooling_sum_dist_40_lr_0.001_graphfeatsize_100_nhiddim1_150_dropout_0.3_weight_decay_0.01_bsize_20.out\n",
      "slurm_GCNGAP_ER.Status_layers_2_pooling_sum_dist_40_lr_0.01_graphfeatsize_100_nhiddim1_150_dropout_0.5_weight_decay_0.01_bsize_20.out\n",
      "slurm_GCNGAP_ER.Status_layers_2_pooling_mean_dist_40_lr_0.001_graphfeatsize_100_nhiddim1_50_dropout_0.5_weight_decay_0.01_bsize_10.out\n",
      "slurm_GCNGAP_ER.Status_layers_2_pooling_att_dist_40_lr_0.001_graphfeatsize_150_nhiddim1_150_dropout_0.5_weight_decay_0.01_bsize_10.out\n"
     ]
    },
    {
     "name": "stderr",
     "output_type": "stream",
     "text": [
      "b'Skipping line 617: expected 1 fields, saw 3\\n'\n",
      "b'Skipping line 468: expected 1 fields, saw 3\\n'\n",
      "b'Skipping line 443: expected 1 fields, saw 3\\n'\n",
      "b'Skipping line 502: expected 1 fields, saw 3\\n'\n",
      "b'Skipping line 453: expected 1 fields, saw 3\\n'\n",
      "b'Skipping line 442: expected 1 fields, saw 3\\n'\n",
      "b'Skipping line 442: expected 1 fields, saw 3\\n'\n",
      "b'Skipping line 470: expected 1 fields, saw 3\\n'\n",
      "b'Skipping line 492: expected 1 fields, saw 3\\n'\n",
      "b'Skipping line 485: expected 1 fields, saw 3\\n'\n",
      "b'Skipping line 476: expected 1 fields, saw 3\\n'\n",
      "b'Skipping line 472: expected 1 fields, saw 3\\n'\n"
     ]
    },
    {
     "name": "stdout",
     "output_type": "stream",
     "text": [
      "slurm_GCNGAP_ER.Status_layers_1_pooling_mean_dist_40_lr_0.01_graphfeatsize_150_nhiddim1_150_dropout_0.3_weight_decay_0.001_bsize_30.out\n",
      "slurm_GCNGAP_ER.Status_layers_1_pooling_mean_dist_80_lr_0.01_graphfeatsize_50_nhiddim1_100_dropout_0.5_weight_decay_0.1_bsize_10.out\n",
      "slurm_GCNGAP_ER.Status_layers_1_pooling_sum_dist_40_lr_0.001_graphfeatsize_100_nhiddim1_100_dropout_0.3_weight_decay_0.1_bsize_20.out\n",
      "slurm_GCNGAP_ER.Status_layers_1_pooling_mean_dist_80_lr_0.001_graphfeatsize_100_nhiddim1_150_dropout_0.5_weight_decay_0.1_bsize_10.out\n",
      "slurm_GCNGAP_ER.Status_layers_1_pooling_sum_dist_80_lr_0.001_graphfeatsize_150_nhiddim1_150_dropout_0.5_weight_decay_0.001_bsize_10.out\n",
      "slurm_GCNGAP_ER.Status_layers_1_pooling_sum_dist_40_lr_0.001_graphfeatsize_150_nhiddim1_100_dropout_0.3_weight_decay_0.01_bsize_10.out\n",
      "slurm_GCNGAP_ER.Status_layers_1_pooling_mean_dist_40_lr_0.01_graphfeatsize_150_nhiddim1_50_dropout_0.5_weight_decay_0.001_bsize_10.out\n",
      "slurm_GCNGAP_ER.Status_layers_1_pooling_mean_dist_80_lr_0.001_graphfeatsize_150_nhiddim1_100_dropout_0.3_weight_decay_0.001_bsize_20.out\n",
      "slurm_GCNGAP_ER.Status_layers_2_pooling_mean_dist_40_lr_0.001_graphfeatsize_100_nhiddim1_150_dropout_0.3_weight_decay_0.001_bsize_30.out\n",
      "slurm_GCNGAP_ER.Status_layers_1_pooling_sum_dist_40_lr_0.001_graphfeatsize_50_nhiddim1_100_dropout_0.5_weight_decay_0.01_bsize_20.out\n",
      "slurm_GCNGAP_ER.Status_layers_1_pooling_mean_dist_40_lr_0.001_graphfeatsize_50_nhiddim1_150_dropout_0.5_weight_decay_0.1_bsize_20.out\n",
      "slurm_GCNGAP_ER.Status_layers_1_pooling_mean_dist_80_lr_0.001_graphfeatsize_50_nhiddim1_50_dropout_0.5_weight_decay_0.001_bsize_30.out\n"
     ]
    },
    {
     "name": "stderr",
     "output_type": "stream",
     "text": [
      "b'Skipping line 564: expected 1 fields, saw 3\\n'\n",
      "b'Skipping line 551: expected 1 fields, saw 3\\n'\n",
      "b'Skipping line 367: expected 1 fields, saw 3\\n'\n",
      "b'Skipping line 444: expected 1 fields, saw 3\\n'\n",
      "b'Skipping line 568: expected 1 fields, saw 3\\n'\n",
      "b'Skipping line 445: expected 1 fields, saw 3\\n'\n",
      "b'Skipping line 444: expected 1 fields, saw 3\\n'\n",
      "b'Skipping line 470: expected 1 fields, saw 3\\n'\n",
      "b'Skipping line 442: expected 1 fields, saw 3\\n'\n",
      "b'Skipping line 451: expected 1 fields, saw 3\\n'\n",
      "b'Skipping line 442: expected 1 fields, saw 3\\n'\n"
     ]
    },
    {
     "name": "stdout",
     "output_type": "stream",
     "text": [
      "slurm_GCNGAP_ER.Status_layers_2_pooling_sum_dist_40_lr_0.01_graphfeatsize_50_nhiddim1_50_dropout_0.5_weight_decay_0.1_bsize_10.out\n",
      "slurm_GCNGAP_ER.Status_layers_1_pooling_sum_dist_40_lr_0.01_graphfeatsize_150_nhiddim1_150_dropout_0.5_weight_decay_0.01_bsize_20.out\n",
      "slurm_GCNGAP_ER.Status_layers_1_pooling_att_dist_40_lr_0.01_graphfeatsize_150_nhiddim1_100_dropout_0.3_weight_decay_0.1_bsize_20.out\n",
      "slurm_GCNGAP_ER.Status_layers_2_pooling_mean_dist_40_lr_0.01_graphfeatsize_150_nhiddim1_50_dropout_0.3_weight_decay_0.01_bsize_30.out\n",
      "slurm_GCNGAP_ER.Status_layers_1_pooling_mean_dist_80_lr_0.01_graphfeatsize_100_nhiddim1_150_dropout_0.5_weight_decay_0.1_bsize_10.out\n",
      "slurm_GCNGAP_ER.Status_layers_1_pooling_att_dist_40_lr_0.01_graphfeatsize_100_nhiddim1_50_dropout_0.3_weight_decay_0.1_bsize_10.out\n",
      "slurm_GCNGAP_ER.Status_layers_2_pooling_mean_dist_40_lr_0.001_graphfeatsize_100_nhiddim1_50_dropout_0.5_weight_decay_0.1_bsize_10.out\n",
      "slurm_GCNGAP_ER.Status_layers_2_pooling_sum_dist_40_lr_0.001_graphfeatsize_150_nhiddim1_50_dropout_0.3_weight_decay_0.01_bsize_20.out\n",
      "slurm_GCNGAP_ER.Status_layers_1_pooling_sum_dist_80_lr_0.01_graphfeatsize_50_nhiddim1_50_dropout_0.5_weight_decay_0.01_bsize_20.out\n",
      "not in\n",
      "slurm_GCNGAP_ER.Status_layers_1_pooling_att_dist_40_lr_0.01_graphfeatsize_150_nhiddim1_150_dropout_0.5_weight_decay_0.001_bsize_20.out\n",
      "slurm_GCNGAP_ER.Status_layers_1_pooling_sum_dist_80_lr_0.01_graphfeatsize_100_nhiddim1_100_dropout_0.5_weight_decay_0.001_bsize_10.out\n",
      "slurm_GCNGAP_ER.Status_layers_1_pooling_mean_dist_40_lr_0.01_graphfeatsize_50_nhiddim1_100_dropout_0.5_weight_decay_0.01_bsize_30.out\n"
     ]
    },
    {
     "name": "stderr",
     "output_type": "stream",
     "text": [
      "b'Skipping line 576: expected 1 fields, saw 3\\n'\n",
      "b'Skipping line 511: expected 1 fields, saw 3\\n'\n",
      "b'Skipping line 512: expected 1 fields, saw 3\\n'\n",
      "b'Skipping line 703: expected 1 fields, saw 3\\n'\n",
      "b'Skipping line 467: expected 1 fields, saw 3\\n'\n",
      "b'Skipping line 462: expected 1 fields, saw 3\\n'\n",
      "b'Skipping line 361: expected 1 fields, saw 3\\n'\n",
      "b'Skipping line 631: expected 1 fields, saw 3\\n'\n",
      "b'Skipping line 703: expected 1 fields, saw 3\\n'\n",
      "b'Skipping line 660: expected 1 fields, saw 3\\n'\n",
      "b'Skipping line 447: expected 1 fields, saw 3\\n'\n",
      "b'Skipping line 529: expected 1 fields, saw 3\\n'\n"
     ]
    },
    {
     "name": "stdout",
     "output_type": "stream",
     "text": [
      "slurm_GCNGAP_ER.Status_layers_1_pooling_mean_dist_40_lr_0.001_graphfeatsize_150_nhiddim1_100_dropout_0.5_weight_decay_0.001_bsize_30.out\n",
      "slurm_GCNGAP_ER.Status_layers_1_pooling_att_dist_40_lr_0.001_graphfeatsize_100_nhiddim1_100_dropout_0.5_weight_decay_0.01_bsize_20.out\n",
      "slurm_GCNGAP_ER.Status_layers_2_pooling_mean_dist_40_lr_0.001_graphfeatsize_50_nhiddim1_50_dropout_0.5_weight_decay_0.01_bsize_30.out\n",
      "slurm_GCNGAP_ER.Status_layers_2_pooling_att_dist_40_lr_0.001_graphfeatsize_100_nhiddim1_50_dropout_0.5_weight_decay_0.001_bsize_10.out\n",
      "slurm_GCNGAP_ER.Status_layers_1_pooling_att_dist_40_lr_0.001_graphfeatsize_150_nhiddim1_150_dropout_0.5_weight_decay_0.1_bsize_10.out\n",
      "slurm_GCNGAP_ER.Status_layers_2_pooling_sum_dist_40_lr_0.01_graphfeatsize_50_nhiddim1_50_dropout_0.3_weight_decay_0.001_bsize_10.out\n",
      "slurm_GCNGAP_ER.Status_layers_1_pooling_mean_dist_80_lr_0.01_graphfeatsize_50_nhiddim1_50_dropout_0.5_weight_decay_0.01_bsize_10.out\n",
      "slurm_GCNGAP_ER.Status_layers_1_pooling_mean_dist_40_lr_0.001_graphfeatsize_150_nhiddim1_50_dropout_0.3_weight_decay_0.01_bsize_10.out\n",
      "slurm_GCNGAP_ER.Status_layers_2_pooling_att_dist_40_lr_0.001_graphfeatsize_50_nhiddim1_50_dropout_0.3_weight_decay_0.01_bsize_20.out\n",
      "slurm_GCNGAP_ER.Status_layers_1_pooling_mean_dist_80_lr_0.01_graphfeatsize_100_nhiddim1_50_dropout_0.5_weight_decay_0.1_bsize_30.out\n",
      "slurm_GCNGAP_ER.Status_layers_1_pooling_mean_dist_80_lr_0.001_graphfeatsize_100_nhiddim1_100_dropout_0.3_weight_decay_0.001_bsize_20.out\n",
      "slurm_GCNGAP_ER.Status_layers_2_pooling_mean_dist_40_lr_0.001_graphfeatsize_150_nhiddim1_150_dropout_0.3_weight_decay_0.001_bsize_30.out\n"
     ]
    },
    {
     "name": "stderr",
     "output_type": "stream",
     "text": [
      "b'Skipping line 468: expected 1 fields, saw 3\\n'\n",
      "b'Skipping line 478: expected 1 fields, saw 3\\n'\n",
      "b'Skipping line 443: expected 1 fields, saw 3\\n'\n",
      "b'Skipping line 472: expected 1 fields, saw 3\\n'\n",
      "b'Skipping line 455: expected 1 fields, saw 3\\n'\n",
      "b'Skipping line 442: expected 1 fields, saw 3\\n'\n",
      "b'Skipping line 522: expected 1 fields, saw 3\\n'\n",
      "b'Skipping line 443: expected 1 fields, saw 3\\n'\n",
      "b'Skipping line 442: expected 1 fields, saw 3\\n'\n",
      "b'Skipping line 578: expected 1 fields, saw 3\\n'\n",
      "b'Skipping line 668: expected 1 fields, saw 3\\n'\n"
     ]
    },
    {
     "name": "stdout",
     "output_type": "stream",
     "text": [
      "slurm_GCNGAP_ER.Status_layers_1_pooling_sum_dist_40_lr_0.01_graphfeatsize_150_nhiddim1_150_dropout_0.3_weight_decay_0.1_bsize_10.out\n",
      "slurm_GCNGAP_ER.Status_layers_2_pooling_mean_dist_40_lr_0.01_graphfeatsize_100_nhiddim1_150_dropout_0.3_weight_decay_0.1_bsize_20.out\n",
      "slurm_GCNGAP_ER.Status_layers_1_pooling_mean_dist_80_lr_0.001_graphfeatsize_100_nhiddim1_50_dropout_0.3_weight_decay_0.1_bsize_20.out\n",
      "slurm_GCNGAP_ER.Status_layers_1_pooling_att_dist_40_lr_0.01_graphfeatsize_100_nhiddim1_150_dropout_0.5_weight_decay_0.001_bsize_20.out\n",
      "slurm_GCNGAP_ER.Status_layers_1_pooling_sum_dist_80_lr_0.01_graphfeatsize_150_nhiddim1_100_dropout_0.5_weight_decay_0.001_bsize_10.out\n",
      "slurm_GCNGAP_ER.Status_layers_1_pooling_mean_dist_40_lr_0.001_graphfeatsize_100_nhiddim1_100_dropout_0.5_weight_decay_0.001_bsize_30.out\n",
      "slurm_GCNGAP_ER.Status_layers_2_pooling_mean_dist_40_lr_0.01_graphfeatsize_50_nhiddim1_150_dropout_0.3_weight_decay_0.1_bsize_30.out\n",
      "slurm_GCNGAP_ER.Status_layers_2_pooling_sum_dist_40_lr_0.001_graphfeatsize_100_nhiddim1_150_dropout_0.3_weight_decay_0.1_bsize_30.out\n",
      "slurm_GCNGAP_ER.Status_layers_2_pooling_mean_dist_40_lr_0.001_graphfeatsize_50_nhiddim1_150_dropout_0.5_weight_decay_0.01_bsize_20.out\n",
      "slurm_GCNGAP_ER.Status_layers_2_pooling_att_dist_40_lr_0.01_graphfeatsize_150_nhiddim1_50_dropout_0.5_weight_decay_0.01_bsize_20.out\n",
      "slurm_GCNGAP_ER.Status_layers_2_pooling_mean_dist_40_lr_0.01_graphfeatsize_150_nhiddim1_50_dropout_0.3_weight_decay_0.1_bsize_10.out\n"
     ]
    },
    {
     "name": "stderr",
     "output_type": "stream",
     "text": [
      "b'Skipping line 459: expected 1 fields, saw 3\\n'\n",
      "b'Skipping line 361: expected 1 fields, saw 3\\n'\n",
      "b'Skipping line 448: expected 1 fields, saw 3\\n'\n",
      "b'Skipping line 585: expected 1 fields, saw 3\\n'\n",
      "b'Skipping line 442: expected 1 fields, saw 3\\n'\n",
      "b'Skipping line 444: expected 1 fields, saw 3\\n'\n",
      "b'Skipping line 481: expected 1 fields, saw 3\\n'\n",
      "b'Skipping line 564: expected 1 fields, saw 3\\n'\n",
      "b'Skipping line 449: expected 1 fields, saw 3\\n'\n",
      "b'Skipping line 361: expected 1 fields, saw 3\\n'\n",
      "b'Skipping line 524: expected 1 fields, saw 3\\n'\n",
      "b'Skipping line 506: expected 1 fields, saw 3\\n'\n",
      "b'Skipping line 551: expected 1 fields, saw 3\\n'\n"
     ]
    },
    {
     "name": "stdout",
     "output_type": "stream",
     "text": [
      "slurm_GCNGAP_ER.Status_layers_2_pooling_sum_dist_40_lr_0.01_graphfeatsize_150_nhiddim1_50_dropout_0.5_weight_decay_0.001_bsize_20.out\n",
      "slurm_GCNGAP_ER.Status_layers_2_pooling_mean_dist_40_lr_0.001_graphfeatsize_100_nhiddim1_100_dropout_0.5_weight_decay_0.1_bsize_10.out\n",
      "slurm_GCNGAP_ER.Status_layers_2_pooling_mean_dist_40_lr_0.01_graphfeatsize_150_nhiddim1_100_dropout_0.5_weight_decay_0.01_bsize_20.out\n",
      "slurm_GCNGAP_ER.Status_layers_1_pooling_sum_dist_40_lr_0.01_graphfeatsize_150_nhiddim1_150_dropout_0.3_weight_decay_0.001_bsize_20.out\n",
      "slurm_GCNGAP_ER.Status_layers_1_pooling_att_dist_40_lr_0.01_graphfeatsize_50_nhiddim1_100_dropout_0.5_weight_decay_0.1_bsize_20.out\n",
      "slurm_GCNGAP_ER.Status_layers_2_pooling_att_dist_40_lr_0.01_graphfeatsize_50_nhiddim1_150_dropout_0.5_weight_decay_0.001_bsize_20.out\n",
      "slurm_GCNGAP_ER.Status_layers_1_pooling_att_dist_40_lr_0.001_graphfeatsize_50_nhiddim1_50_dropout_0.3_weight_decay_0.01_bsize_30.out\n",
      "slurm_GCNGAP_ER.Status_layers_2_pooling_mean_dist_40_lr_0.001_graphfeatsize_50_nhiddim1_100_dropout_0.3_weight_decay_0.1_bsize_20.out\n",
      "slurm_GCNGAP_ER.Status_layers_2_pooling_sum_dist_40_lr_0.01_graphfeatsize_50_nhiddim1_100_dropout_0.5_weight_decay_0.001_bsize_30.out\n",
      "slurm_GCNGAP_ER.Status_layers_1_pooling_mean_dist_80_lr_0.001_graphfeatsize_100_nhiddim1_50_dropout_0.3_weight_decay_0.001_bsize_20.out\n",
      "slurm_GCNGAP_ER.Status_layers_1_pooling_mean_dist_80_lr_0.001_graphfeatsize_50_nhiddim1_150_dropout_0.5_weight_decay_0.001_bsize_30.out\n",
      "slurm_GCNGAP_ER.Status_layers_1_pooling_mean_dist_40_lr_0.001_graphfeatsize_150_nhiddim1_50_dropout_0.3_weight_decay_0.001_bsize_10.out\n",
      "slurm_GCNGAP_ER.Status_layers_2_pooling_att_dist_40_lr_0.01_graphfeatsize_100_nhiddim1_50_dropout_0.3_weight_decay_0.001_bsize_30.out\n"
     ]
    },
    {
     "name": "stderr",
     "output_type": "stream",
     "text": [
      "b'Skipping line 452: expected 1 fields, saw 3\\n'\n",
      "b'Skipping line 483: expected 1 fields, saw 3\\n'\n",
      "b'Skipping line 443: expected 1 fields, saw 3\\n'\n",
      "b'Skipping line 512: expected 1 fields, saw 3\\n'\n",
      "b'Skipping line 593: expected 1 fields, saw 3\\n'\n",
      "b'Skipping line 452: expected 1 fields, saw 3\\n'\n",
      "b'Skipping line 507: expected 1 fields, saw 3\\n'\n",
      "b'Skipping line 444: expected 1 fields, saw 3\\n'\n",
      "b'Skipping line 479: expected 1 fields, saw 3\\n'\n",
      "b'Skipping line 447: expected 1 fields, saw 3\\n'\n",
      "b'Skipping line 564: expected 1 fields, saw 3\\n'\n",
      "b'Skipping line 443: expected 1 fields, saw 3\\n'\n"
     ]
    },
    {
     "name": "stdout",
     "output_type": "stream",
     "text": [
      "slurm_GCNGAP_ER.Status_layers_1_pooling_att_dist_40_lr_0.01_graphfeatsize_150_nhiddim1_100_dropout_0.3_weight_decay_0.01_bsize_20.out\n",
      "slurm_GCNGAP_ER.Status_layers_1_pooling_mean_dist_40_lr_0.01_graphfeatsize_50_nhiddim1_150_dropout_0.3_weight_decay_0.1_bsize_20.out\n",
      "slurm_GCNGAP_ER.Status_layers_1_pooling_att_dist_40_lr_0.01_graphfeatsize_150_nhiddim1_50_dropout_0.5_weight_decay_0.01_bsize_30.out\n",
      "slurm_GCNGAP_ER.Status_layers_1_pooling_mean_dist_80_lr_0.001_graphfeatsize_150_nhiddim1_50_dropout_0.3_weight_decay_0.01_bsize_10.out\n",
      "slurm_GCNGAP_ER.Status_layers_2_pooling_mean_dist_40_lr_0.01_graphfeatsize_50_nhiddim1_50_dropout_0.5_weight_decay_0.001_bsize_10.out\n",
      "slurm_GCNGAP_ER.Status_layers_1_pooling_att_dist_40_lr_0.001_graphfeatsize_50_nhiddim1_150_dropout_0.3_weight_decay_0.01_bsize_20.out\n",
      "slurm_GCNGAP_ER.Status_layers_1_pooling_mean_dist_40_lr_0.01_graphfeatsize_100_nhiddim1_100_dropout_0.5_weight_decay_0.1_bsize_20.out\n",
      "slurm_GCNGAP_ER.Status_layers_2_pooling_mean_dist_40_lr_0.001_graphfeatsize_50_nhiddim1_100_dropout_0.5_weight_decay_0.001_bsize_10.out\n",
      "slurm_GCNGAP_ER.Status_layers_1_pooling_sum_dist_40_lr_0.01_graphfeatsize_50_nhiddim1_150_dropout_0.3_weight_decay_0.1_bsize_10.out\n",
      "slurm_GCNGAP_ER.Status_layers_1_pooling_sum_dist_40_lr_0.01_graphfeatsize_150_nhiddim1_50_dropout_0.3_weight_decay_0.1_bsize_30.out\n",
      "slurm_GCNGAP_ER.Status_layers_1_pooling_sum_dist_40_lr_0.01_graphfeatsize_100_nhiddim1_150_dropout_0.3_weight_decay_0.001_bsize_20.out\n",
      "slurm_GCNGAP_ER.Status_layers_1_pooling_mean_dist_40_lr_0.01_graphfeatsize_50_nhiddim1_150_dropout_0.5_weight_decay_0.01_bsize_10.out\n",
      "slurm_GCNGAP_ER.Status_layers_2_pooling_sum_dist_40_lr_0.01_graphfeatsize_100_nhiddim1_50_dropout_0.3_weight_decay_0.01_bsize_10.out\n",
      "slurm_GCNGAP_ER.Status_layers_2_pooling_att_dist_40_lr_0.01_graphfeatsize_150_nhiddim1_100_dropout_0.3_weight_decay_0.1_bsize_30.out\n",
      "slurm_GCNGAP_ER.Status_layers_2_pooling_att_dist_40_lr_0.001_graphfeatsize_150_nhiddim1_100_dropout_0.3_weight_decay_0.1_bsize_10.out\n",
      "slurm_GCNGAP_ER.Status_layers_1_pooling_sum_dist_80_lr_0.001_graphfeatsize_50_nhiddim1_100_dropout_0.5_weight_decay_0.01_bsize_20.out\n",
      "not in\n",
      "slurm_GCNGAP_ER.Status_layers_1_pooling_sum_dist_40_lr_0.001_graphfeatsize_150_nhiddim1_150_dropout_0.3_weight_decay_0.01_bsize_30.out\n",
      "slurm_GCNGAP_ER.Status_layers_1_pooling_mean_dist_80_lr_0.01_graphfeatsize_150_nhiddim1_50_dropout_0.5_weight_decay_0.001_bsize_10.out\n",
      "slurm_GCNGAP_ER.Status_layers_2_pooling_sum_dist_40_lr_0.01_graphfeatsize_50_nhiddim1_50_dropout_0.3_weight_decay_0.01_bsize_30.out\n",
      "slurm_GCNGAP_ER.Status_layers_1_pooling_mean_dist_80_lr_0.001_graphfeatsize_50_nhiddim1_100_dropout_0.5_weight_decay_0.1_bsize_10.out\n",
      "slurm_GCNGAP_ER.Status_layers_1_pooling_sum_dist_40_lr_0.001_graphfeatsize_100_nhiddim1_100_dropout_0.5_weight_decay_0.1_bsize_30.out\n",
      "slurm_GCNGAP_ER.Status_layers_1_pooling_mean_dist_40_lr_0.001_graphfeatsize_50_nhiddim1_50_dropout_0.5_weight_decay_0.001_bsize_30.out\n",
      "slurm_GCNGAP_ER.Status_layers_2_pooling_sum_dist_40_lr_0.001_graphfeatsize_100_nhiddim1_50_dropout_0.3_weight_decay_0.001_bsize_10.out\n",
      "slurm_GCNGAP_ER.Status_layers_1_pooling_att_dist_40_lr_0.001_graphfeatsize_100_nhiddim1_50_dropout_0.5_weight_decay_0.01_bsize_20.out\n"
     ]
    },
    {
     "name": "stderr",
     "output_type": "stream",
     "text": [
      "b'Skipping line 648: expected 1 fields, saw 3\\n'\n",
      "b'Skipping line 484: expected 1 fields, saw 3\\n'\n",
      "b'Skipping line 443: expected 1 fields, saw 3\\n'\n",
      "b'Skipping line 446: expected 1 fields, saw 3\\n'\n",
      "b'Skipping line 442: expected 1 fields, saw 3\\n'\n",
      "b'Skipping line 470: expected 1 fields, saw 3\\n'\n",
      "b'Skipping line 459: expected 1 fields, saw 3\\n'\n",
      "b'Skipping line 452: expected 1 fields, saw 3\\n'\n",
      "b'Skipping line 442: expected 1 fields, saw 3\\n'\n",
      "b'Skipping line 618: expected 1 fields, saw 3\\n'\n",
      "b'Skipping line 442: expected 1 fields, saw 3\\n'\n",
      "b'Skipping line 586: expected 1 fields, saw 3\\n'\n"
     ]
    },
    {
     "name": "stdout",
     "output_type": "stream",
     "text": [
      "slurm_GCNGAP_ER.Status_layers_2_pooling_att_dist_40_lr_0.01_graphfeatsize_150_nhiddim1_50_dropout_0.3_weight_decay_0.1_bsize_10.out\n",
      "slurm_GCNGAP_ER.Status_layers_2_pooling_att_dist_40_lr_0.001_graphfeatsize_150_nhiddim1_150_dropout_0.3_weight_decay_0.001_bsize_10.out\n",
      "slurm_GCNGAP_ER.Status_layers_2_pooling_att_dist_40_lr_0.01_graphfeatsize_50_nhiddim1_150_dropout_0.3_weight_decay_0.1_bsize_30.out\n",
      "slurm_GCNGAP_ER.Status_layers_2_pooling_sum_dist_40_lr_0.001_graphfeatsize_150_nhiddim1_100_dropout_0.5_weight_decay_0.001_bsize_10.out\n",
      "slurm_GCNGAP_ER.Status_layers_1_pooling_mean_dist_80_lr_0.001_graphfeatsize_150_nhiddim1_100_dropout_0.5_weight_decay_0.1_bsize_20.out\n",
      "slurm_GCNGAP_ER.Status_layers_1_pooling_sum_dist_40_lr_0.001_graphfeatsize_150_nhiddim1_150_dropout_0.3_weight_decay_0.1_bsize_10.out\n",
      "slurm_GCNGAP_ER.Status_layers_2_pooling_att_dist_40_lr_0.01_graphfeatsize_50_nhiddim1_50_dropout_0.3_weight_decay_0.1_bsize_30.out\n",
      "slurm_GCNGAP_ER.Status_layers_2_pooling_sum_dist_40_lr_0.001_graphfeatsize_100_nhiddim1_100_dropout_0.5_weight_decay_0.01_bsize_30.out\n",
      "slurm_GCNGAP_ER.Status_layers_2_pooling_att_dist_40_lr_0.01_graphfeatsize_100_nhiddim1_150_dropout_0.5_weight_decay_0.1_bsize_10.out\n",
      "slurm_GCNGAP_ER.Status_layers_2_pooling_att_dist_40_lr_0.001_graphfeatsize_100_nhiddim1_150_dropout_0.5_weight_decay_0.1_bsize_30.out\n",
      "slurm_GCNGAP_ER.Status_layers_2_pooling_sum_dist_40_lr_0.01_graphfeatsize_100_nhiddim1_100_dropout_0.3_weight_decay_0.01_bsize_30.out\n",
      "slurm_GCNGAP_ER.Status_layers_1_pooling_sum_dist_40_lr_0.01_graphfeatsize_150_nhiddim1_50_dropout_0.3_weight_decay_0.001_bsize_20.out\n"
     ]
    },
    {
     "name": "stderr",
     "output_type": "stream",
     "text": [
      "b'Skipping line 443: expected 1 fields, saw 3\\n'\n",
      "b'Skipping line 457: expected 1 fields, saw 3\\n'\n",
      "b'Skipping line 443: expected 1 fields, saw 3\\n'\n",
      "b'Skipping line 442: expected 1 fields, saw 3\\n'\n",
      "b'Skipping line 462: expected 1 fields, saw 3\\n'\n",
      "b'Skipping line 484: expected 1 fields, saw 3\\n'\n",
      "b'Skipping line 443: expected 1 fields, saw 3\\n'\n",
      "b'Skipping line 481: expected 1 fields, saw 3\\n'\n",
      "b'Skipping line 454: expected 1 fields, saw 3\\n'\n",
      "b'Skipping line 456: expected 1 fields, saw 3\\n'\n",
      "b'Skipping line 474: expected 1 fields, saw 3\\n'\n",
      "b'Skipping line 444: expected 1 fields, saw 3\\n'\n"
     ]
    },
    {
     "name": "stdout",
     "output_type": "stream",
     "text": [
      "slurm_GCNGAP_ER.Status_layers_2_pooling_sum_dist_40_lr_0.01_graphfeatsize_150_nhiddim1_150_dropout_0.5_weight_decay_0.001_bsize_30.out\n",
      "slurm_GCNGAP_ER.Status_layers_1_pooling_att_dist_40_lr_0.01_graphfeatsize_50_nhiddim1_50_dropout_0.3_weight_decay_0.01_bsize_10.out\n",
      "slurm_GCNGAP_ER.Status_layers_2_pooling_mean_dist_40_lr_0.01_graphfeatsize_150_nhiddim1_100_dropout_0.5_weight_decay_0.001_bsize_20.out\n",
      "slurm_GCNGAP_ER.Status_layers_2_pooling_att_dist_40_lr_0.001_graphfeatsize_100_nhiddim1_150_dropout_0.3_weight_decay_0.001_bsize_10.out\n",
      "slurm_GCNGAP_ER.Status_layers_1_pooling_mean_dist_80_lr_0.001_graphfeatsize_50_nhiddim1_50_dropout_0.3_weight_decay_0.01_bsize_20.out\n",
      "slurm_GCNGAP_ER.Status_layers_1_pooling_sum_dist_40_lr_0.01_graphfeatsize_50_nhiddim1_100_dropout_0.5_weight_decay_0.01_bsize_20.out\n",
      "slurm_GCNGAP_ER.Status_layers_2_pooling_sum_dist_40_lr_0.001_graphfeatsize_100_nhiddim1_100_dropout_0.5_weight_decay_0.001_bsize_10.out\n",
      "slurm_GCNGAP_ER.Status_layers_1_pooling_mean_dist_80_lr_0.01_graphfeatsize_100_nhiddim1_150_dropout_0.3_weight_decay_0.01_bsize_20.out\n",
      "slurm_GCNGAP_ER.Status_layers_2_pooling_mean_dist_40_lr_0.001_graphfeatsize_50_nhiddim1_50_dropout_0.3_weight_decay_0.001_bsize_20.out\n",
      "slurm_GCNGAP_ER.Status_layers_2_pooling_att_dist_40_lr_0.001_graphfeatsize_100_nhiddim1_50_dropout_0.3_weight_decay_0.1_bsize_20.out\n",
      "slurm_GCNGAP_ER.Status_layers_2_pooling_mean_dist_40_lr_0.01_graphfeatsize_50_nhiddim1_100_dropout_0.3_weight_decay_0.001_bsize_10.out\n",
      "slurm_GCNGAP_ER.Status_layers_1_pooling_mean_dist_80_lr_0.01_graphfeatsize_150_nhiddim1_50_dropout_0.5_weight_decay_0.01_bsize_20.out\n"
     ]
    },
    {
     "name": "stderr",
     "output_type": "stream",
     "text": [
      "b'Skipping line 361: expected 1 fields, saw 3\\n'\n",
      "b'Skipping line 463: expected 1 fields, saw 3\\n'\n",
      "b'Skipping line 496: expected 1 fields, saw 3\\n'\n",
      "b'Skipping line 454: expected 1 fields, saw 3\\n'\n",
      "b'Skipping line 700: expected 1 fields, saw 3\\n'\n",
      "b'Skipping line 442: expected 1 fields, saw 3\\n'\n",
      "b'Skipping line 442: expected 1 fields, saw 3\\n'\n",
      "b'Skipping line 714: expected 1 fields, saw 3\\n'\n",
      "b'Skipping line 502: expected 1 fields, saw 3\\n'\n",
      "b'Skipping line 450: expected 1 fields, saw 3\\n'\n",
      "b'Skipping line 488: expected 1 fields, saw 3\\n'\n",
      "b'Skipping line 527: expected 1 fields, saw 3\\n'\n"
     ]
    },
    {
     "name": "stdout",
     "output_type": "stream",
     "text": [
      "slurm_GCNGAP_ER.Status_layers_1_pooling_sum_dist_40_lr_0.001_graphfeatsize_150_nhiddim1_50_dropout_0.5_weight_decay_0.1_bsize_10.out\n",
      "slurm_GCNGAP_ER.Status_layers_2_pooling_mean_dist_40_lr_0.001_graphfeatsize_100_nhiddim1_100_dropout_0.3_weight_decay_0.01_bsize_10.out\n",
      "slurm_GCNGAP_ER.Status_layers_1_pooling_mean_dist_40_lr_0.001_graphfeatsize_150_nhiddim1_100_dropout_0.5_weight_decay_0.01_bsize_30.out\n",
      "slurm_GCNGAP_ER.Status_layers_2_pooling_sum_dist_40_lr_0.01_graphfeatsize_50_nhiddim1_150_dropout_0.5_weight_decay_0.01_bsize_10.out\n",
      "slurm_GCNGAP_ER.Status_layers_1_pooling_mean_dist_40_lr_0.01_graphfeatsize_100_nhiddim1_50_dropout_0.3_weight_decay_0.01_bsize_10.out\n",
      "slurm_GCNGAP_ER.Status_layers_2_pooling_att_dist_40_lr_0.01_graphfeatsize_100_nhiddim1_100_dropout_0.5_weight_decay_0.01_bsize_10.out\n",
      "slurm_GCNGAP_ER.Status_layers_2_pooling_sum_dist_40_lr_0.01_graphfeatsize_100_nhiddim1_150_dropout_0.5_weight_decay_0.001_bsize_30.out\n",
      "slurm_GCNGAP_ER.Status_layers_2_pooling_mean_dist_40_lr_0.01_graphfeatsize_100_nhiddim1_100_dropout_0.5_weight_decay_0.001_bsize_20.out\n",
      "slurm_GCNGAP_ER.Status_layers_2_pooling_sum_dist_40_lr_0.01_graphfeatsize_100_nhiddim1_100_dropout_0.5_weight_decay_0.1_bsize_20.out\n",
      "slurm_GCNGAP_ER.Status_layers_1_pooling_sum_dist_40_lr_0.001_graphfeatsize_50_nhiddim1_150_dropout_0.3_weight_decay_0.001_bsize_10.out\n",
      "slurm_GCNGAP_ER.Status_layers_1_pooling_sum_dist_40_lr_0.001_graphfeatsize_50_nhiddim1_150_dropout_0.5_weight_decay_0.1_bsize_30.out\n"
     ]
    },
    {
     "name": "stderr",
     "output_type": "stream",
     "text": [
      "b'Skipping line 570: expected 1 fields, saw 3\\n'\n",
      "b'Skipping line 549: expected 1 fields, saw 3\\n'\n",
      "b'Skipping line 689: expected 1 fields, saw 3\\n'\n",
      "b'Skipping line 473: expected 1 fields, saw 3\\n'\n",
      "b'Skipping line 679: expected 1 fields, saw 3\\n'\n",
      "b'Skipping line 581: expected 1 fields, saw 3\\n'\n",
      "b'Skipping line 361: expected 1 fields, saw 3\\n'\n",
      "b'Skipping line 448: expected 1 fields, saw 3\\n'\n",
      "b'Skipping line 538: expected 1 fields, saw 3\\n'\n",
      "b'Skipping line 444: expected 1 fields, saw 3\\n'\n",
      "b'Skipping line 741: expected 1 fields, saw 3\\n'\n",
      "b'Skipping line 442: expected 1 fields, saw 3\\n'\n"
     ]
    },
    {
     "name": "stdout",
     "output_type": "stream",
     "text": [
      "slurm_GCNGAP_ER.Status_layers_2_pooling_sum_dist_40_lr_0.01_graphfeatsize_50_nhiddim1_100_dropout_0.5_weight_decay_0.01_bsize_30.out\n",
      "slurm_GCNGAP_ER.Status_layers_2_pooling_mean_dist_40_lr_0.001_graphfeatsize_100_nhiddim1_150_dropout_0.3_weight_decay_0.01_bsize_30.out\n",
      "slurm_GCNGAP_ER.Status_layers_1_pooling_mean_dist_40_lr_0.001_graphfeatsize_150_nhiddim1_150_dropout_0.5_weight_decay_0.01_bsize_10.out\n",
      "slurm_GCNGAP_ER.Status_layers_2_pooling_sum_dist_40_lr_0.001_graphfeatsize_150_nhiddim1_100_dropout_0.5_weight_decay_0.1_bsize_10.out\n",
      "slurm_GCNGAP_ER.Status_layers_1_pooling_att_dist_40_lr_0.001_graphfeatsize_100_nhiddim1_50_dropout_0.3_weight_decay_0.1_bsize_30.out\n",
      "slurm_GCNGAP_ER.Status_layers_2_pooling_att_dist_40_lr_0.01_graphfeatsize_150_nhiddim1_150_dropout_0.3_weight_decay_0.001_bsize_30.out\n",
      "slurm_GCNGAP_ER.Status_layers_2_pooling_att_dist_40_lr_0.01_graphfeatsize_100_nhiddim1_150_dropout_0.5_weight_decay_0.01_bsize_30.out\n",
      "slurm_GCNGAP_ER.Status_layers_1_pooling_sum_dist_80_lr_0.001_graphfeatsize_50_nhiddim1_100_dropout_0.5_weight_decay_0.001_bsize_20.out\n",
      "not in\n",
      "slurm_GCNGAP_ER.Status_layers_2_pooling_mean_dist_40_lr_0.001_graphfeatsize_150_nhiddim1_150_dropout_0.3_weight_decay_0.1_bsize_30.out\n",
      "slurm_GCNGAP_ER.Status_layers_1_pooling_sum_dist_80_lr_0.001_graphfeatsize_150_nhiddim1_100_dropout_0.5_weight_decay_0.001_bsize_10.out\n",
      "slurm_GCNGAP_ER.Status_layers_1_pooling_att_dist_40_lr_0.001_graphfeatsize_100_nhiddim1_100_dropout_0.3_weight_decay_0.1_bsize_30.out\n"
     ]
    },
    {
     "name": "stderr",
     "output_type": "stream",
     "text": [
      "b'Skipping line 641: expected 1 fields, saw 3\\n'\n",
      "b'Skipping line 726: expected 1 fields, saw 3\\n'\n",
      "b'Skipping line 502: expected 1 fields, saw 3\\n'\n",
      "b'Skipping line 463: expected 1 fields, saw 3\\n'\n",
      "b'Skipping line 468: expected 1 fields, saw 3\\n'\n",
      "b'Skipping line 578: expected 1 fields, saw 3\\n'\n",
      "b'Skipping line 455: expected 1 fields, saw 3\\n'\n",
      "b'Skipping line 442: expected 1 fields, saw 3\\n'\n",
      "b'Skipping line 487: expected 1 fields, saw 3\\n'\n",
      "b'Skipping line 743: expected 1 fields, saw 3\\n'\n"
     ]
    },
    {
     "name": "stdout",
     "output_type": "stream",
     "text": [
      "slurm_GCNGAP_ER.Status_layers_1_pooling_mean_dist_40_lr_0.01_graphfeatsize_100_nhiddim1_150_dropout_0.3_weight_decay_0.01_bsize_20.out\n",
      "slurm_GCNGAP_ER.Status_layers_1_pooling_sum_dist_40_lr_0.01_graphfeatsize_100_nhiddim1_100_dropout_0.5_weight_decay_0.1_bsize_30.out\n",
      "slurm_GCNGAP_ER.Status_layers_1_pooling_mean_dist_40_lr_0.01_graphfeatsize_150_nhiddim1_100_dropout_0.3_weight_decay_0.001_bsize_30.out\n",
      "slurm_GCNGAP_ER.Status_layers_2_pooling_sum_dist_40_lr_0.001_graphfeatsize_50_nhiddim1_150_dropout_0.5_weight_decay_0.1_bsize_20.out\n",
      "slurm_GCNGAP_ER.Status_layers_1_pooling_mean_dist_80_lr_0.001_graphfeatsize_100_nhiddim1_150_dropout_0.5_weight_decay_0.01_bsize_20.out\n",
      "slurm_GCNGAP_ER.Status_layers_1_pooling_att_dist_40_lr_0.001_graphfeatsize_50_nhiddim1_150_dropout_0.5_weight_decay_0.001_bsize_10.out\n",
      "slurm_GCNGAP_ER.Status_layers_1_pooling_att_dist_40_lr_0.001_graphfeatsize_50_nhiddim1_50_dropout_0.3_weight_decay_0.1_bsize_20.out\n",
      "slurm_GCNGAP_ER.Status_layers_1_pooling_mean_dist_80_lr_0.01_graphfeatsize_150_nhiddim1_100_dropout_0.3_weight_decay_0.1_bsize_30.out\n",
      "slurm_GCNGAP_ER.Status_layers_2_pooling_sum_dist_40_lr_0.01_graphfeatsize_100_nhiddim1_150_dropout_0.3_weight_decay_0.01_bsize_10.out\n",
      "slurm_GCNGAP_ER.Status_layers_1_pooling_sum_dist_80_lr_0.01_graphfeatsize_150_nhiddim1_50_dropout_0.3_weight_decay_0.001_bsize_20.out\n",
      "slurm_GCNGAP_ER.Status_layers_2_pooling_mean_dist_40_lr_0.001_graphfeatsize_100_nhiddim1_50_dropout_0.3_weight_decay_0.01_bsize_20.out\n",
      "slurm_GCNGAP_ER.Status_layers_1_pooling_sum_dist_40_lr_0.01_graphfeatsize_50_nhiddim1_100_dropout_0.3_weight_decay_0.001_bsize_30.out\n"
     ]
    },
    {
     "name": "stderr",
     "output_type": "stream",
     "text": [
      "b'Skipping line 519: expected 1 fields, saw 3\\n'\n",
      "b'Skipping line 479: expected 1 fields, saw 3\\n'\n",
      "b'Skipping line 496: expected 1 fields, saw 3\\n'\n",
      "b'Skipping line 723: expected 1 fields, saw 3\\n'\n",
      "b'Skipping line 464: expected 1 fields, saw 3\\n'\n",
      "b'Skipping line 454: expected 1 fields, saw 3\\n'\n",
      "b'Skipping line 444: expected 1 fields, saw 3\\n'\n",
      "b'Skipping line 475: expected 1 fields, saw 3\\n'\n",
      "b'Skipping line 442: expected 1 fields, saw 3\\n'\n",
      "b'Skipping line 605: expected 1 fields, saw 3\\n'\n",
      "b'Skipping line 361: expected 1 fields, saw 3\\n'\n",
      "b'Skipping line 442: expected 1 fields, saw 3\\n'\n"
     ]
    },
    {
     "name": "stdout",
     "output_type": "stream",
     "text": [
      "slurm_GCNGAP_ER.Status_layers_2_pooling_sum_dist_40_lr_0.001_graphfeatsize_100_nhiddim1_150_dropout_0.5_weight_decay_0.01_bsize_10.out\n",
      "slurm_GCNGAP_ER.Status_layers_2_pooling_att_dist_40_lr_0.01_graphfeatsize_100_nhiddim1_150_dropout_0.3_weight_decay_0.001_bsize_30.out\n",
      "slurm_GCNGAP_ER.Status_layers_1_pooling_att_dist_40_lr_0.01_graphfeatsize_50_nhiddim1_150_dropout_0.3_weight_decay_0.001_bsize_20.out\n",
      "slurm_GCNGAP_ER.Status_layers_1_pooling_att_dist_40_lr_0.01_graphfeatsize_100_nhiddim1_50_dropout_0.5_weight_decay_0.001_bsize_30.out\n",
      "slurm_GCNGAP_ER.Status_layers_1_pooling_mean_dist_40_lr_0.01_graphfeatsize_100_nhiddim1_100_dropout_0.3_weight_decay_0.001_bsize_30.out\n",
      "slurm_GCNGAP_ER.Status_layers_2_pooling_att_dist_40_lr_0.001_graphfeatsize_150_nhiddim1_150_dropout_0.3_weight_decay_0.01_bsize_20.out\n",
      "slurm_GCNGAP_ER.Status_layers_1_pooling_sum_dist_80_lr_0.001_graphfeatsize_100_nhiddim1_100_dropout_0.5_weight_decay_0.001_bsize_10.out\n",
      "slurm_GCNGAP_ER.Status_layers_1_pooling_mean_dist_40_lr_0.01_graphfeatsize_50_nhiddim1_50_dropout_0.3_weight_decay_0.001_bsize_10.out\n",
      "slurm_GCNGAP_ER.Status_layers_2_pooling_sum_dist_40_lr_0.01_graphfeatsize_100_nhiddim1_50_dropout_0.3_weight_decay_0.1_bsize_30.out\n",
      "slurm_GCNGAP_ER.Status_layers_2_pooling_att_dist_40_lr_0.001_graphfeatsize_50_nhiddim1_100_dropout_0.5_weight_decay_0.1_bsize_10.out\n",
      "slurm_GCNGAP_ER.Status_layers_1_pooling_mean_dist_40_lr_0.001_graphfeatsize_150_nhiddim1_100_dropout_0.5_weight_decay_0.1_bsize_20.out\n",
      "slurm_GCNGAP_ER.Status_layers_1_pooling_sum_dist_80_lr_0.001_graphfeatsize_150_nhiddim1_150_dropout_0.3_weight_decay_0.1_bsize_10.out\n"
     ]
    },
    {
     "name": "stderr",
     "output_type": "stream",
     "text": [
      "b'Skipping line 447: expected 1 fields, saw 3\\n'\n",
      "b'Skipping line 461: expected 1 fields, saw 3\\n'\n",
      "b'Skipping line 459: expected 1 fields, saw 3\\n'\n",
      "b'Skipping line 460: expected 1 fields, saw 3\\n'\n",
      "b'Skipping line 584: expected 1 fields, saw 3\\n'\n",
      "b'Skipping line 442: expected 1 fields, saw 3\\n'\n",
      "b'Skipping line 463: expected 1 fields, saw 3\\n'\n",
      "b'Skipping line 524: expected 1 fields, saw 3\\n'\n",
      "b'Skipping line 446: expected 1 fields, saw 3\\n'\n",
      "b'Skipping line 475: expected 1 fields, saw 3\\n'\n",
      "b'Skipping line 508: expected 1 fields, saw 3\\n'\n",
      "b'Skipping line 624: expected 1 fields, saw 3\\n'\n"
     ]
    },
    {
     "name": "stdout",
     "output_type": "stream",
     "text": [
      "slurm_GCNGAP_ER.Status_layers_2_pooling_mean_dist_40_lr_0.001_graphfeatsize_50_nhiddim1_50_dropout_0.3_weight_decay_0.01_bsize_10.out\n",
      "slurm_GCNGAP_ER.Status_layers_1_pooling_mean_dist_40_lr_0.001_graphfeatsize_100_nhiddim1_150_dropout_0.5_weight_decay_0.001_bsize_20.out\n",
      "slurm_GCNGAP_ER.Status_layers_2_pooling_att_dist_40_lr_0.01_graphfeatsize_100_nhiddim1_150_dropout_0.3_weight_decay_0.1_bsize_10.out\n",
      "slurm_GCNGAP_ER.Status_layers_1_pooling_sum_dist_80_lr_0.001_graphfeatsize_50_nhiddim1_50_dropout_0.5_weight_decay_0.01_bsize_10.out\n",
      "slurm_GCNGAP_ER.Status_layers_1_pooling_mean_dist_40_lr_0.01_graphfeatsize_50_nhiddim1_100_dropout_0.3_weight_decay_0.01_bsize_10.out\n",
      "slurm_GCNGAP_ER.Status_layers_2_pooling_att_dist_40_lr_0.001_graphfeatsize_100_nhiddim1_150_dropout_0.3_weight_decay_0.1_bsize_30.out\n",
      "slurm_GCNGAP_ER.Status_layers_1_pooling_att_dist_40_lr_0.01_graphfeatsize_100_nhiddim1_100_dropout_0.5_weight_decay_0.001_bsize_30.out\n",
      "slurm_GCNGAP_ER.Status_layers_2_pooling_att_dist_40_lr_0.01_graphfeatsize_50_nhiddim1_50_dropout_0.5_weight_decay_0.1_bsize_30.out\n",
      "slurm_GCNGAP_ER.Status_layers_2_pooling_att_dist_40_lr_0.001_graphfeatsize_50_nhiddim1_100_dropout_0.3_weight_decay_0.001_bsize_10.out\n",
      "slurm_GCNGAP_ER.Status_layers_2_pooling_att_dist_40_lr_0.01_graphfeatsize_150_nhiddim1_50_dropout_0.5_weight_decay_0.001_bsize_20.out\n",
      "slurm_GCNGAP_ER.Status_layers_1_pooling_sum_dist_40_lr_0.01_graphfeatsize_100_nhiddim1_50_dropout_0.5_weight_decay_0.01_bsize_20.out\n",
      "slurm_GCNGAP_ER.Status_layers_1_pooling_mean_dist_80_lr_0.001_graphfeatsize_150_nhiddim1_100_dropout_0.3_weight_decay_0.1_bsize_20.out\n"
     ]
    },
    {
     "name": "stderr",
     "output_type": "stream",
     "text": [
      "b'Skipping line 488: expected 1 fields, saw 3\\n'\n",
      "b'Skipping line 447: expected 1 fields, saw 3\\n'\n",
      "b'Skipping line 559: expected 1 fields, saw 3\\n'\n",
      "b'Skipping line 728: expected 1 fields, saw 3\\n'\n",
      "b'Skipping line 453: expected 1 fields, saw 3\\n'\n",
      "b'Skipping line 455: expected 1 fields, saw 3\\n'\n",
      "b'Skipping line 443: expected 1 fields, saw 3\\n'\n",
      "b'Skipping line 474: expected 1 fields, saw 3\\n'\n",
      "b'Skipping line 454: expected 1 fields, saw 3\\n'\n",
      "b'Skipping line 445: expected 1 fields, saw 3\\n'\n",
      "b'Skipping line 461: expected 1 fields, saw 3\\n'\n",
      "b'Skipping line 660: expected 1 fields, saw 3\\n'\n"
     ]
    },
    {
     "name": "stdout",
     "output_type": "stream",
     "text": [
      "slurm_GCNGAP_ER.Status_layers_2_pooling_mean_dist_40_lr_0.01_graphfeatsize_150_nhiddim1_50_dropout_0.5_weight_decay_0.01_bsize_10.out\n",
      "slurm_GCNGAP_ER.Status_layers_1_pooling_sum_dist_40_lr_0.001_graphfeatsize_150_nhiddim1_150_dropout_0.5_weight_decay_0.1_bsize_10.out\n",
      "slurm_GCNGAP_ER.Status_layers_1_pooling_sum_dist_80_lr_0.01_graphfeatsize_150_nhiddim1_50_dropout_0.3_weight_decay_0.01_bsize_10.out\n",
      "slurm_GCNGAP_ER.Status_layers_1_pooling_mean_dist_40_lr_0.001_graphfeatsize_50_nhiddim1_150_dropout_0.3_weight_decay_0.001_bsize_10.out\n",
      "slurm_GCNGAP_ER.Status_layers_1_pooling_att_dist_40_lr_0.01_graphfeatsize_50_nhiddim1_50_dropout_0.5_weight_decay_0.001_bsize_30.out\n",
      "slurm_GCNGAP_ER.Status_layers_1_pooling_mean_dist_80_lr_0.001_graphfeatsize_150_nhiddim1_50_dropout_0.5_weight_decay_0.001_bsize_30.out\n",
      "slurm_GCNGAP_ER.Status_layers_2_pooling_att_dist_40_lr_0.01_graphfeatsize_50_nhiddim1_150_dropout_0.5_weight_decay_0.1_bsize_30.out\n",
      "slurm_GCNGAP_ER.Status_layers_2_pooling_att_dist_40_lr_0.01_graphfeatsize_150_nhiddim1_50_dropout_0.5_weight_decay_0.1_bsize_10.out\n",
      "slurm_GCNGAP_ER.Status_layers_1_pooling_mean_dist_80_lr_0.001_graphfeatsize_100_nhiddim1_150_dropout_0.3_weight_decay_0.001_bsize_30.out\n",
      "slurm_GCNGAP_ER.Status_layers_2_pooling_mean_dist_40_lr_0.001_graphfeatsize_150_nhiddim1_100_dropout_0.3_weight_decay_0.001_bsize_20.out\n",
      "slurm_GCNGAP_ER.Status_layers_1_pooling_sum_dist_40_lr_0.001_graphfeatsize_150_nhiddim1_100_dropout_0.5_weight_decay_0.01_bsize_30.out\n",
      "slurm_GCNGAP_ER.Status_layers_1_pooling_sum_dist_40_lr_0.001_graphfeatsize_50_nhiddim1_150_dropout_0.3_weight_decay_0.1_bsize_30.out\n",
      "slurm_GCNGAP_ER.Status_layers_2_pooling_att_dist_40_lr_0.001_graphfeatsize_150_nhiddim1_50_dropout_0.3_weight_decay_0.01_bsize_20.out\n"
     ]
    },
    {
     "name": "stderr",
     "output_type": "stream",
     "text": [
      "b'Skipping line 508: expected 1 fields, saw 3\\n'\n",
      "b'Skipping line 444: expected 1 fields, saw 3\\n'\n",
      "b'Skipping line 480: expected 1 fields, saw 3\\n'\n",
      "b'Skipping line 450: expected 1 fields, saw 3\\n'\n",
      "b'Skipping line 593: expected 1 fields, saw 3\\n'\n",
      "b'Skipping line 443: expected 1 fields, saw 3\\n'\n",
      "b'Skipping line 444: expected 1 fields, saw 3\\n'\n",
      "b'Skipping line 490: expected 1 fields, saw 3\\n'\n",
      "b'Skipping line 468: expected 1 fields, saw 3\\n'\n",
      "b'Skipping line 442: expected 1 fields, saw 3\\n'\n",
      "b'Skipping line 572: expected 1 fields, saw 3\\n'\n",
      "b'Skipping line 595: expected 1 fields, saw 3\\n'\n",
      "b'Skipping line 510: expected 1 fields, saw 3\\n'\n"
     ]
    },
    {
     "name": "stdout",
     "output_type": "stream",
     "text": [
      "slurm_GCNGAP_ER.Status_layers_2_pooling_sum_dist_40_lr_0.01_graphfeatsize_100_nhiddim1_100_dropout_0.3_weight_decay_0.1_bsize_20.out\n",
      "slurm_GCNGAP_ER.Status_layers_1_pooling_mean_dist_40_lr_0.001_graphfeatsize_150_nhiddim1_150_dropout_0.5_weight_decay_0.001_bsize_20.out\n",
      "slurm_GCNGAP_ER.Status_layers_1_pooling_sum_dist_40_lr_0.001_graphfeatsize_150_nhiddim1_50_dropout_0.3_weight_decay_0.1_bsize_10.out\n",
      "slurm_GCNGAP_ER.Status_layers_1_pooling_att_dist_40_lr_0.01_graphfeatsize_150_nhiddim1_100_dropout_0.5_weight_decay_0.001_bsize_30.out\n",
      "slurm_GCNGAP_ER.Status_layers_1_pooling_att_dist_40_lr_0.001_graphfeatsize_50_nhiddim1_100_dropout_0.5_weight_decay_0.01_bsize_20.out\n",
      "slurm_GCNGAP_ER.Status_layers_1_pooling_mean_dist_80_lr_0.01_graphfeatsize_50_nhiddim1_150_dropout_0.5_weight_decay_0.001_bsize_10.out\n",
      "slurm_GCNGAP_ER.Status_layers_1_pooling_mean_dist_80_lr_0.001_graphfeatsize_150_nhiddim1_150_dropout_0.3_weight_decay_0.001_bsize_30.out\n",
      "slurm_GCNGAP_ER.Status_layers_2_pooling_mean_dist_40_lr_0.001_graphfeatsize_100_nhiddim1_100_dropout_0.3_weight_decay_0.001_bsize_20.out\n",
      "slurm_GCNGAP_ER.Status_layers_1_pooling_mean_dist_40_lr_0.001_graphfeatsize_150_nhiddim1_50_dropout_0.5_weight_decay_0.01_bsize_30.out\n",
      "slurm_GCNGAP_ER.Status_layers_1_pooling_mean_dist_80_lr_0.01_graphfeatsize_50_nhiddim1_50_dropout_0.3_weight_decay_0.01_bsize_30.out\n",
      "slurm_GCNGAP_ER.Status_layers_2_pooling_att_dist_40_lr_0.001_graphfeatsize_100_nhiddim1_50_dropout_0.5_weight_decay_0.1_bsize_20.out\n"
     ]
    },
    {
     "name": "stderr",
     "output_type": "stream",
     "text": [
      "b'Skipping line 524: expected 1 fields, saw 3\\n'\n",
      "b'Skipping line 517: expected 1 fields, saw 3\\n'\n",
      "b'Skipping line 468: expected 1 fields, saw 3\\n'\n",
      "b'Skipping line 521: expected 1 fields, saw 3\\n'\n",
      "b'Skipping line 455: expected 1 fields, saw 3\\n'\n",
      "b'Skipping line 525: expected 1 fields, saw 3\\n'\n",
      "b'Skipping line 479: expected 1 fields, saw 3\\n'\n",
      "b'Skipping line 674: expected 1 fields, saw 3\\n'\n",
      "b'Skipping line 599: expected 1 fields, saw 3\\n'\n",
      "b'Skipping line 452: expected 1 fields, saw 3\\n'\n",
      "b'Skipping line 543: expected 1 fields, saw 3\\n'\n"
     ]
    },
    {
     "name": "stdout",
     "output_type": "stream",
     "text": [
      "slurm_GCNGAP_ER.Status_layers_1_pooling_att_dist_40_lr_0.01_graphfeatsize_150_nhiddim1_150_dropout_0.5_weight_decay_0.01_bsize_20.out\n",
      "slurm_GCNGAP_ER.Status_layers_2_pooling_sum_dist_40_lr_0.001_graphfeatsize_50_nhiddim1_150_dropout_0.3_weight_decay_0.1_bsize_20.out\n",
      "slurm_GCNGAP_ER.Status_layers_1_pooling_mean_dist_80_lr_0.001_graphfeatsize_150_nhiddim1_50_dropout_0.5_weight_decay_0.01_bsize_30.out\n",
      "slurm_GCNGAP_ER.Status_layers_1_pooling_att_dist_40_lr_0.01_graphfeatsize_150_nhiddim1_50_dropout_0.3_weight_decay_0.01_bsize_10.out\n",
      "slurm_GCNGAP_ER.Status_layers_1_pooling_sum_dist_40_lr_0.01_graphfeatsize_100_nhiddim1_100_dropout_0.3_weight_decay_0.1_bsize_30.out\n",
      "slurm_GCNGAP_ER.Status_layers_1_pooling_mean_dist_40_lr_0.01_graphfeatsize_50_nhiddim1_150_dropout_0.5_weight_decay_0.001_bsize_10.out\n",
      "slurm_GCNGAP_ER.Status_layers_1_pooling_att_dist_40_lr_0.001_graphfeatsize_100_nhiddim1_100_dropout_0.5_weight_decay_0.1_bsize_30.out\n",
      "slurm_GCNGAP_ER.Status_layers_2_pooling_mean_dist_40_lr_0.001_graphfeatsize_100_nhiddim1_50_dropout_0.3_weight_decay_0.001_bsize_10.out\n",
      "slurm_GCNGAP_ER.Status_layers_2_pooling_sum_dist_40_lr_0.001_graphfeatsize_50_nhiddim1_100_dropout_0.5_weight_decay_0.001_bsize_10.out\n",
      "slurm_GCNGAP_ER.Status_layers_2_pooling_mean_dist_40_lr_0.01_graphfeatsize_150_nhiddim1_150_dropout_0.3_weight_decay_0.01_bsize_20.out\n",
      "slurm_GCNGAP_ER.Status_layers_1_pooling_att_dist_40_lr_0.001_graphfeatsize_50_nhiddim1_50_dropout_0.5_weight_decay_0.01_bsize_10.out\n",
      "slurm_GCNGAP_ER.Status_layers_2_pooling_mean_dist_40_lr_0.001_graphfeatsize_150_nhiddim1_150_dropout_0.5_weight_decay_0.1_bsize_30.out\n",
      "slurm_GCNGAP_ER.Status_layers_1_pooling_att_dist_40_lr_0.001_graphfeatsize_100_nhiddim1_50_dropout_0.5_weight_decay_0.1_bsize_30.out\n"
     ]
    },
    {
     "name": "stderr",
     "output_type": "stream",
     "text": [
      "b'Skipping line 566: expected 1 fields, saw 3\\n'\n",
      "b'Skipping line 678: expected 1 fields, saw 3\\n'\n",
      "b'Skipping line 461: expected 1 fields, saw 3\\n'\n",
      "b'Skipping line 469: expected 1 fields, saw 3\\n'\n",
      "b'Skipping line 465: expected 1 fields, saw 3\\n'\n",
      "b'Skipping line 480: expected 1 fields, saw 3\\n'\n",
      "b'Skipping line 481: expected 1 fields, saw 3\\n'\n",
      "b'Skipping line 442: expected 1 fields, saw 3\\n'\n",
      "b'Skipping line 562: expected 1 fields, saw 3\\n'\n",
      "b'Skipping line 531: expected 1 fields, saw 3\\n'\n",
      "b'Skipping line 451: expected 1 fields, saw 3\\n'\n",
      "b'Skipping line 464: expected 1 fields, saw 3\\n'\n"
     ]
    },
    {
     "name": "stdout",
     "output_type": "stream",
     "text": [
      "slurm_GCNGAP_ER.Status_layers_2_pooling_mean_dist_40_lr_0.001_graphfeatsize_50_nhiddim1_100_dropout_0.3_weight_decay_0.01_bsize_20.out\n",
      "slurm_GCNGAP_ER.Status_layers_1_pooling_sum_dist_40_lr_0.01_graphfeatsize_100_nhiddim1_100_dropout_0.3_weight_decay_0.001_bsize_30.out\n",
      "slurm_GCNGAP_ER.Status_layers_2_pooling_sum_dist_40_lr_0.001_graphfeatsize_150_nhiddim1_100_dropout_0.3_weight_decay_0.1_bsize_10.out\n",
      "slurm_GCNGAP_ER.Status_layers_2_pooling_sum_dist_40_lr_0.01_graphfeatsize_100_nhiddim1_50_dropout_0.5_weight_decay_0.1_bsize_30.out\n",
      "slurm_GCNGAP_ER.Status_layers_2_pooling_att_dist_40_lr_0.001_graphfeatsize_50_nhiddim1_100_dropout_0.3_weight_decay_0.1_bsize_10.out\n",
      "slurm_GCNGAP_ER.Status_layers_1_pooling_mean_dist_40_lr_0.001_graphfeatsize_150_nhiddim1_100_dropout_0.3_weight_decay_0.1_bsize_20.out\n",
      "slurm_GCNGAP_ER.Status_layers_1_pooling_sum_dist_80_lr_0.001_graphfeatsize_150_nhiddim1_150_dropout_0.5_weight_decay_0.1_bsize_10.out\n",
      "not in\n",
      "slurm_GCNGAP_ER.Status_layers_2_pooling_sum_dist_40_lr_0.01_graphfeatsize_100_nhiddim1_50_dropout_0.3_weight_decay_0.001_bsize_30.out\n",
      "slurm_GCNGAP_ER.Status_layers_1_pooling_sum_dist_40_lr_0.01_graphfeatsize_150_nhiddim1_100_dropout_0.3_weight_decay_0.01_bsize_20.out\n",
      "slurm_GCNGAP_ER.Status_layers_1_pooling_mean_dist_80_lr_0.001_graphfeatsize_50_nhiddim1_100_dropout_0.5_weight_decay_0.001_bsize_20.out\n",
      "slurm_GCNGAP_ER.Status_layers_1_pooling_sum_dist_40_lr_0.001_graphfeatsize_150_nhiddim1_150_dropout_0.5_weight_decay_0.01_bsize_10.out\n",
      "slurm_GCNGAP_ER.Status_layers_2_pooling_sum_dist_40_lr_0.01_graphfeatsize_50_nhiddim1_50_dropout_0.5_weight_decay_0.01_bsize_10.out\n"
     ]
    },
    {
     "name": "stderr",
     "output_type": "stream",
     "text": [
      "b'Skipping line 641: expected 1 fields, saw 3\\n'\n",
      "b'Skipping line 444: expected 1 fields, saw 3\\n'\n",
      "b'Skipping line 563: expected 1 fields, saw 3\\n'\n",
      "b'Skipping line 617: expected 1 fields, saw 3\\n'\n",
      "b'Skipping line 445: expected 1 fields, saw 3\\n'\n",
      "b'Skipping line 464: expected 1 fields, saw 3\\n'\n",
      "b'Skipping line 442: expected 1 fields, saw 3\\n'\n",
      "b'Skipping line 444: expected 1 fields, saw 3\\n'\n",
      "b'Skipping line 493: expected 1 fields, saw 3\\n'\n",
      "b'Skipping line 534: expected 1 fields, saw 3\\n'\n",
      "b'Skipping line 442: expected 1 fields, saw 3\\n'\n"
     ]
    },
    {
     "name": "stdout",
     "output_type": "stream",
     "text": [
      "slurm_GCNGAP_ER.Status_layers_1_pooling_sum_dist_40_lr_0.001_graphfeatsize_50_nhiddim1_150_dropout_0.3_weight_decay_0.01_bsize_20.out\n",
      "slurm_GCNGAP_ER.Status_layers_2_pooling_sum_dist_40_lr_0.01_graphfeatsize_100_nhiddim1_50_dropout_0.5_weight_decay_0.01_bsize_30.out\n",
      "slurm_GCNGAP_ER.Status_layers_1_pooling_att_dist_40_lr_0.001_graphfeatsize_100_nhiddim1_150_dropout_0.3_weight_decay_0.01_bsize_20.out\n",
      "slurm_GCNGAP_ER.Status_layers_1_pooling_sum_dist_40_lr_0.01_graphfeatsize_150_nhiddim1_100_dropout_0.3_weight_decay_0.001_bsize_30.out\n",
      "slurm_GCNGAP_ER.Status_layers_2_pooling_att_dist_40_lr_0.01_graphfeatsize_50_nhiddim1_50_dropout_0.5_weight_decay_0.001_bsize_20.out\n",
      "slurm_GCNGAP_ER.Status_layers_1_pooling_mean_dist_40_lr_0.01_graphfeatsize_50_nhiddim1_150_dropout_0.3_weight_decay_0.01_bsize_30.out\n",
      "slurm_GCNGAP_ER.Status_layers_1_pooling_att_dist_40_lr_0.001_graphfeatsize_50_nhiddim1_50_dropout_0.5_weight_decay_0.1_bsize_20.out\n",
      "slurm_GCNGAP_ER.Status_layers_1_pooling_mean_dist_80_lr_0.01_graphfeatsize_150_nhiddim1_100_dropout_0.5_weight_decay_0.1_bsize_30.out\n",
      "slurm_GCNGAP_ER.Status_layers_2_pooling_sum_dist_40_lr_0.01_graphfeatsize_50_nhiddim1_150_dropout_0.5_weight_decay_0.001_bsize_20.out\n",
      "slurm_GCNGAP_ER.Status_layers_2_pooling_att_dist_40_lr_0.01_graphfeatsize_50_nhiddim1_100_dropout_0.5_weight_decay_0.001_bsize_30.out\n",
      "slurm_GCNGAP_ER.Status_layers_2_pooling_sum_dist_40_lr_0.01_graphfeatsize_100_nhiddim1_100_dropout_0.5_weight_decay_0.001_bsize_20.out\n",
      "slurm_GCNGAP_ER.Status_layers_2_pooling_mean_dist_40_lr_0.01_graphfeatsize_100_nhiddim1_150_dropout_0.5_weight_decay_0.001_bsize_30.out\n"
     ]
    },
    {
     "name": "stderr",
     "output_type": "stream",
     "text": [
      "b'Skipping line 432: expected 1 fields, saw 3\\n'\n",
      "b'Skipping line 465: expected 1 fields, saw 3\\n'\n",
      "b'Skipping line 500: expected 1 fields, saw 3\\n'\n",
      "b'Skipping line 361: expected 1 fields, saw 3\\n'\n",
      "b'Skipping line 509: expected 1 fields, saw 3\\n'\n",
      "b'Skipping line 743: expected 1 fields, saw 3\\n'\n",
      "b'Skipping line 477: expected 1 fields, saw 3\\n'\n",
      "b'Skipping line 444: expected 1 fields, saw 3\\n'\n",
      "b'Skipping line 361: expected 1 fields, saw 3\\n'\n",
      "b'Skipping line 450: expected 1 fields, saw 3\\n'\n",
      "b'Skipping line 361: expected 1 fields, saw 3\\n'\n",
      "b'Skipping line 465: expected 1 fields, saw 3\\n'\n"
     ]
    },
    {
     "name": "stdout",
     "output_type": "stream",
     "text": [
      "slurm_GCNGAP_ER.Status_layers_1_pooling_att_dist_40_lr_0.01_graphfeatsize_50_nhiddim1_50_dropout_0.5_weight_decay_0.01_bsize_30.out\n",
      "slurm_GCNGAP_ER.Status_layers_2_pooling_sum_dist_40_lr_0.01_graphfeatsize_100_nhiddim1_100_dropout_0.5_weight_decay_0.01_bsize_10.out\n",
      "slurm_GCNGAP_ER.Status_layers_2_pooling_mean_dist_40_lr_0.01_graphfeatsize_100_nhiddim1_50_dropout_0.5_weight_decay_0.001_bsize_10.out\n",
      "slurm_GCNGAP_ER.Status_layers_2_pooling_sum_dist_40_lr_0.001_graphfeatsize_100_nhiddim1_100_dropout_0.3_weight_decay_0.01_bsize_10.out\n",
      "slurm_GCNGAP_ER.Status_layers_1_pooling_mean_dist_80_lr_0.01_graphfeatsize_100_nhiddim1_150_dropout_0.3_weight_decay_0.1_bsize_10.out\n",
      "slurm_GCNGAP_ER.Status_layers_1_pooling_att_dist_40_lr_0.01_graphfeatsize_100_nhiddim1_50_dropout_0.5_weight_decay_0.1_bsize_10.out\n",
      "slurm_GCNGAP_ER.Status_layers_2_pooling_mean_dist_40_lr_0.001_graphfeatsize_100_nhiddim1_50_dropout_0.3_weight_decay_0.1_bsize_10.out\n",
      "slurm_GCNGAP_ER.Status_layers_1_pooling_att_dist_40_lr_0.01_graphfeatsize_150_nhiddim1_100_dropout_0.5_weight_decay_0.1_bsize_20.out\n",
      "slurm_GCNGAP_ER.Status_layers_2_pooling_sum_dist_40_lr_0.01_graphfeatsize_50_nhiddim1_50_dropout_0.3_weight_decay_0.1_bsize_10.out\n",
      "slurm_GCNGAP_ER.Status_layers_1_pooling_mean_dist_40_lr_0.001_graphfeatsize_50_nhiddim1_150_dropout_0.3_weight_decay_0.1_bsize_20.out\n",
      "slurm_GCNGAP_ER.Status_layers_2_pooling_att_dist_40_lr_0.001_graphfeatsize_150_nhiddim1_100_dropout_0.5_weight_decay_0.01_bsize_20.out\n"
     ]
    },
    {
     "name": "stderr",
     "output_type": "stream",
     "text": [
      "b'Skipping line 531: expected 1 fields, saw 3\\n'\n",
      "b'Skipping line 461: expected 1 fields, saw 3\\n'\n",
      "b'Skipping line 477: expected 1 fields, saw 3\\n'\n",
      "b'Skipping line 442: expected 1 fields, saw 3\\n'\n",
      "b'Skipping line 444: expected 1 fields, saw 3\\n'\n",
      "b'Skipping line 445: expected 1 fields, saw 3\\n'\n",
      "b'Skipping line 450: expected 1 fields, saw 3\\n'\n",
      "b'Skipping line 444: expected 1 fields, saw 3\\n'\n",
      "b'Skipping line 606: expected 1 fields, saw 3\\n'\n",
      "b'Skipping line 484: expected 1 fields, saw 3\\n'\n",
      "b'Skipping line 616: expected 1 fields, saw 3\\n'\n"
     ]
    },
    {
     "name": "stdout",
     "output_type": "stream",
     "text": [
      "slurm_GCNGAP_ER.Status_layers_1_pooling_mean_dist_80_lr_0.01_graphfeatsize_150_nhiddim1_100_dropout_0.5_weight_decay_0.001_bsize_10.out\n",
      "slurm_GCNGAP_ER.Status_layers_2_pooling_mean_dist_40_lr_0.001_graphfeatsize_100_nhiddim1_100_dropout_0.3_weight_decay_0.1_bsize_10.out\n",
      "slurm_GCNGAP_ER.Status_layers_1_pooling_att_dist_40_lr_0.001_graphfeatsize_150_nhiddim1_50_dropout_0.5_weight_decay_0.001_bsize_10.out\n",
      "slurm_GCNGAP_ER.Status_layers_2_pooling_mean_dist_40_lr_0.01_graphfeatsize_150_nhiddim1_50_dropout_0.5_weight_decay_0.1_bsize_10.out\n",
      "slurm_GCNGAP_ER.Status_layers_2_pooling_sum_dist_40_lr_0.01_graphfeatsize_150_nhiddim1_100_dropout_0.5_weight_decay_0.001_bsize_20.out\n",
      "slurm_GCNGAP_ER.Status_layers_2_pooling_mean_dist_40_lr_0.01_graphfeatsize_150_nhiddim1_150_dropout_0.5_weight_decay_0.001_bsize_30.out\n",
      "slurm_GCNGAP_ER.Status_layers_2_pooling_mean_dist_40_lr_0.01_graphfeatsize_50_nhiddim1_150_dropout_0.5_weight_decay_0.1_bsize_30.out\n",
      "slurm_GCNGAP_ER.Status_layers_1_pooling_mean_dist_40_lr_0.01_graphfeatsize_100_nhiddim1_50_dropout_0.5_weight_decay_0.01_bsize_30.out\n",
      "slurm_GCNGAP_ER.Status_layers_2_pooling_sum_dist_40_lr_0.001_graphfeatsize_100_nhiddim1_150_dropout_0.5_weight_decay_0.1_bsize_30.out\n",
      "slurm_GCNGAP_ER.Status_layers_2_pooling_att_dist_40_lr_0.01_graphfeatsize_100_nhiddim1_100_dropout_0.3_weight_decay_0.01_bsize_30.out\n",
      "slurm_GCNGAP_ER.Status_layers_1_pooling_att_dist_40_lr_0.01_graphfeatsize_150_nhiddim1_50_dropout_0.3_weight_decay_0.001_bsize_20.out\n"
     ]
    },
    {
     "name": "stderr",
     "output_type": "stream",
     "text": [
      "b'Skipping line 457: expected 1 fields, saw 3\\n'\n",
      "b'Skipping line 447: expected 1 fields, saw 3\\n'\n",
      "b'Skipping line 490: expected 1 fields, saw 3\\n'\n",
      "b'Skipping line 444: expected 1 fields, saw 3\\n'\n",
      "b'Skipping line 361: expected 1 fields, saw 3\\n'\n",
      "b'Skipping line 468: expected 1 fields, saw 3\\n'\n",
      "b'Skipping line 443: expected 1 fields, saw 3\\n'\n",
      "b'Skipping line 514: expected 1 fields, saw 3\\n'\n",
      "b'Skipping line 554: expected 1 fields, saw 3\\n'\n",
      "b'Skipping line 625: expected 1 fields, saw 3\\n'\n",
      "b'Skipping line 450: expected 1 fields, saw 3\\n'\n"
     ]
    },
    {
     "name": "stdout",
     "output_type": "stream",
     "text": [
      "slurm_GCNGAP_ER.Status_layers_2_pooling_sum_dist_40_lr_0.01_graphfeatsize_50_nhiddim1_150_dropout_0.3_weight_decay_0.01_bsize_30.out\n",
      "slurm_GCNGAP_ER.Status_layers_2_pooling_mean_dist_40_lr_0.001_graphfeatsize_100_nhiddim1_100_dropout_0.5_weight_decay_0.01_bsize_30.out\n",
      "slurm_GCNGAP_ER.Status_layers_1_pooling_mean_dist_40_lr_0.001_graphfeatsize_150_nhiddim1_100_dropout_0.3_weight_decay_0.01_bsize_10.out\n",
      "slurm_GCNGAP_ER.Status_layers_1_pooling_mean_dist_80_lr_0.001_graphfeatsize_100_nhiddim1_100_dropout_0.3_weight_decay_0.01_bsize_20.out\n",
      "slurm_GCNGAP_ER.Status_layers_1_pooling_sum_dist_40_lr_0.01_graphfeatsize_150_nhiddim1_150_dropout_0.5_weight_decay_0.1_bsize_10.out\n",
      "slurm_GCNGAP_ER.Status_layers_1_pooling_sum_dist_40_lr_0.001_graphfeatsize_100_nhiddim1_50_dropout_0.5_weight_decay_0.01_bsize_20.out\n",
      "slurm_GCNGAP_ER.Status_layers_2_pooling_mean_dist_40_lr_0.01_graphfeatsize_100_nhiddim1_150_dropout_0.5_weight_decay_0.1_bsize_20.out\n",
      "slurm_GCNGAP_ER.Status_layers_1_pooling_mean_dist_80_lr_0.001_graphfeatsize_100_nhiddim1_50_dropout_0.5_weight_decay_0.1_bsize_20.out\n",
      "slurm_GCNGAP_ER.Status_layers_1_pooling_mean_dist_80_lr_0.01_graphfeatsize_100_nhiddim1_50_dropout_0.3_weight_decay_0.1_bsize_30.out\n",
      "slurm_GCNGAP_ER.Status_layers_1_pooling_mean_dist_80_lr_0.01_graphfeatsize_100_nhiddim1_100_dropout_0.5_weight_decay_0.001_bsize_10.out\n",
      "slurm_GCNGAP_ER.Status_layers_1_pooling_mean_dist_40_lr_0.01_graphfeatsize_100_nhiddim1_100_dropout_0.5_weight_decay_0.01_bsize_20.out\n"
     ]
    },
    {
     "name": "stderr",
     "output_type": "stream",
     "text": [
      "b'Skipping line 482: expected 1 fields, saw 3\\n'\n",
      "b'Skipping line 642: expected 1 fields, saw 3\\n'\n",
      "b'Skipping line 688: expected 1 fields, saw 3\\n'\n",
      "b'Skipping line 713: expected 1 fields, saw 3\\n'\n",
      "b'Skipping line 539: expected 1 fields, saw 3\\n'\n",
      "b'Skipping line 466: expected 1 fields, saw 3\\n'\n",
      "b'Skipping line 445: expected 1 fields, saw 3\\n'\n",
      "b'Skipping line 478: expected 1 fields, saw 3\\n'\n",
      "b'Skipping line 448: expected 1 fields, saw 3\\n'\n",
      "b'Skipping line 466: expected 1 fields, saw 3\\n'\n",
      "b'Skipping line 708: expected 1 fields, saw 3\\n'\n"
     ]
    },
    {
     "name": "stdout",
     "output_type": "stream",
     "text": [
      "slurm_GCNGAP_ER.Status_layers_1_pooling_att_dist_40_lr_0.001_graphfeatsize_150_nhiddim1_150_dropout_0.3_weight_decay_0.1_bsize_10.out\n",
      "slurm_GCNGAP_ER.Status_layers_1_pooling_sum_dist_40_lr_0.01_graphfeatsize_100_nhiddim1_50_dropout_0.5_weight_decay_0.001_bsize_30.out\n",
      "slurm_GCNGAP_ER.Status_layers_1_pooling_sum_dist_80_lr_0.001_graphfeatsize_100_nhiddim1_50_dropout_0.5_weight_decay_0.01_bsize_20.out\n",
      "slurm_GCNGAP_ER.Status_layers_1_pooling_mean_dist_40_lr_0.01_graphfeatsize_100_nhiddim1_150_dropout_0.3_weight_decay_0.001_bsize_20.out\n",
      "slurm_GCNGAP_ER.Status_layers_1_pooling_mean_dist_40_lr_0.01_graphfeatsize_50_nhiddim1_150_dropout_0.5_weight_decay_0.1_bsize_20.out\n",
      "slurm_GCNGAP_ER.Status_layers_1_pooling_mean_dist_80_lr_0.01_graphfeatsize_100_nhiddim1_100_dropout_0.5_weight_decay_0.01_bsize_20.out\n",
      "slurm_GCNGAP_ER.Status_layers_1_pooling_sum_dist_40_lr_0.01_graphfeatsize_50_nhiddim1_150_dropout_0.3_weight_decay_0.01_bsize_20.out\n",
      "slurm_GCNGAP_ER.Status_layers_1_pooling_att_dist_40_lr_0.001_graphfeatsize_100_nhiddim1_100_dropout_0.5_weight_decay_0.001_bsize_10.out\n",
      "slurm_GCNGAP_ER.Status_layers_1_pooling_att_dist_40_lr_0.01_graphfeatsize_50_nhiddim1_100_dropout_0.3_weight_decay_0.1_bsize_20.out\n",
      "slurm_GCNGAP_ER.Status_layers_1_pooling_sum_dist_40_lr_0.001_graphfeatsize_100_nhiddim1_150_dropout_0.3_weight_decay_0.001_bsize_10.out\n",
      "slurm_GCNGAP_ER.Status_layers_2_pooling_mean_dist_40_lr_0.001_graphfeatsize_50_nhiddim1_100_dropout_0.5_weight_decay_0.1_bsize_20.out\n",
      "slurm_GCNGAP_ER.Status_layers_2_pooling_att_dist_40_lr_0.01_graphfeatsize_100_nhiddim1_150_dropout_0.3_weight_decay_0.01_bsize_10.out"
     ]
    },
    {
     "name": "stderr",
     "output_type": "stream",
     "text": [
      "b'Skipping line 459: expected 1 fields, saw 3\\n'\n",
      "b'Skipping line 451: expected 1 fields, saw 3\\n'\n",
      "b'Skipping line 442: expected 1 fields, saw 3\\n'\n",
      "b'Skipping line 454: expected 1 fields, saw 3\\n'\n",
      "b'Skipping line 443: expected 1 fields, saw 3\\n'\n",
      "b'Skipping line 503: expected 1 fields, saw 3\\n'\n",
      "b'Skipping line 443: expected 1 fields, saw 3\\n'\n",
      "b'Skipping line 474: expected 1 fields, saw 3\\n'\n",
      "b'Skipping line 445: expected 1 fields, saw 3\\n'\n",
      "b'Skipping line 465: expected 1 fields, saw 3\\n'\n",
      "b'Skipping line 451: expected 1 fields, saw 3\\n'\n"
     ]
    },
    {
     "name": "stdout",
     "output_type": "stream",
     "text": [
      "\n",
      "slurm_GCNGAP_ER.Status_layers_1_pooling_att_dist_40_lr_0.01_graphfeatsize_50_nhiddim1_100_dropout_0.3_weight_decay_0.001_bsize_30.out\n",
      "slurm_GCNGAP_ER.Status_layers_2_pooling_att_dist_40_lr_0.01_graphfeatsize_100_nhiddim1_100_dropout_0.3_weight_decay_0.001_bsize_20.out\n",
      "slurm_GCNGAP_ER.Status_layers_2_pooling_mean_dist_40_lr_0.001_graphfeatsize_100_nhiddim1_150_dropout_0.5_weight_decay_0.01_bsize_10.out\n",
      "slurm_GCNGAP_ER.Status_layers_1_pooling_sum_dist_40_lr_0.01_graphfeatsize_50_nhiddim1_150_dropout_0.3_weight_decay_0.001_bsize_20.out\n",
      "slurm_GCNGAP_ER.Status_layers_1_pooling_mean_dist_40_lr_0.001_graphfeatsize_150_nhiddim1_150_dropout_0.3_weight_decay_0.01_bsize_30.out\n",
      "slurm_GCNGAP_ER.Status_layers_2_pooling_sum_dist_40_lr_0.01_graphfeatsize_50_nhiddim1_100_dropout_0.3_weight_decay_0.01_bsize_10.out\n",
      "slurm_GCNGAP_ER.Status_layers_1_pooling_sum_dist_80_lr_0.001_graphfeatsize_100_nhiddim1_50_dropout_0.3_weight_decay_0.001_bsize_20.out\n",
      "slurm_GCNGAP_ER.Status_layers_1_pooling_sum_dist_40_lr_0.001_graphfeatsize_100_nhiddim1_100_dropout_0.3_weight_decay_0.1_bsize_30.out\n",
      "slurm_GCNGAP_ER.Status_layers_1_pooling_mean_dist_80_lr_0.001_graphfeatsize_50_nhiddim1_100_dropout_0.3_weight_decay_0.1_bsize_10.out\n",
      "slurm_GCNGAP_ER.Status_layers_1_pooling_mean_dist_40_lr_0.01_graphfeatsize_150_nhiddim1_150_dropout_0.3_weight_decay_0.001_bsize_20.out\n",
      "slurm_GCNGAP_ER.Status_layers_2_pooling_att_dist_40_lr_0.01_graphfeatsize_150_nhiddim1_100_dropout_0.5_weight_decay_0.1_bsize_30.out\n",
      "slurm_GCNGAP_ER.Status_layers_2_pooling_att_dist_40_lr_0.01_graphfeatsize_150_nhiddim1_100_dropout_0.3_weight_decay_0.001_bsize_20.out\n"
     ]
    },
    {
     "name": "stderr",
     "output_type": "stream",
     "text": [
      "b'Skipping line 518: expected 1 fields, saw 3\\n'\n",
      "b'Skipping line 458: expected 1 fields, saw 3\\n'\n",
      "b'Skipping line 446: expected 1 fields, saw 3\\n'\n",
      "b'Skipping line 547: expected 1 fields, saw 3\\n'\n",
      "b'Skipping line 443: expected 1 fields, saw 3\\n'\n",
      "b'Skipping line 709: expected 1 fields, saw 3\\n'\n",
      "b'Skipping line 471: expected 1 fields, saw 3\\n'\n",
      "b'Skipping line 519: expected 1 fields, saw 3\\n'\n",
      "b'Skipping line 442: expected 1 fields, saw 3\\n'\n",
      "b'Skipping line 459: expected 1 fields, saw 3\\n'\n",
      "b'Skipping line 467: expected 1 fields, saw 3\\n'\n",
      "b'Skipping line 443: expected 1 fields, saw 3\\n'\n",
      "b'Skipping line 456: expected 1 fields, saw 3\\n'\n"
     ]
    },
    {
     "name": "stdout",
     "output_type": "stream",
     "text": [
      "slurm_GCNGAP_ER.Status_layers_2_pooling_att_dist_40_lr_0.001_graphfeatsize_150_nhiddim1_100_dropout_0.5_weight_decay_0.1_bsize_10.out\n",
      "slurm_GCNGAP_ER.Status_layers_1_pooling_sum_dist_40_lr_0.01_graphfeatsize_150_nhiddim1_50_dropout_0.5_weight_decay_0.1_bsize_30.out\n",
      "slurm_GCNGAP_ER.Status_layers_2_pooling_sum_dist_40_lr_0.001_graphfeatsize_100_nhiddim1_150_dropout_0.3_weight_decay_0.01_bsize_30.out\n",
      "slurm_GCNGAP_ER.Status_layers_2_pooling_sum_dist_40_lr_0.01_graphfeatsize_100_nhiddim1_150_dropout_0.5_weight_decay_0.01_bsize_30.out\n",
      "slurm_GCNGAP_ER.Status_layers_1_pooling_att_dist_40_lr_0.001_graphfeatsize_150_nhiddim1_100_dropout_0.5_weight_decay_0.001_bsize_10.out\n",
      "slurm_GCNGAP_ER.Status_layers_1_pooling_sum_dist_40_lr_0.01_graphfeatsize_50_nhiddim1_150_dropout_0.5_weight_decay_0.1_bsize_10.out\n",
      "slurm_GCNGAP_ER.Status_layers_1_pooling_mean_dist_80_lr_0.01_graphfeatsize_50_nhiddim1_50_dropout_0.5_weight_decay_0.001_bsize_20.out\n",
      "slurm_GCNGAP_ER.Status_layers_1_pooling_sum_dist_40_lr_0.001_graphfeatsize_150_nhiddim1_50_dropout_0.3_weight_decay_0.001_bsize_10.out\n",
      "slurm_GCNGAP_ER.Status_layers_1_pooling_sum_dist_40_lr_0.001_graphfeatsize_150_nhiddim1_150_dropout_0.3_weight_decay_0.001_bsize_10.out\n",
      "slurm_GCNGAP_ER.Status_layers_1_pooling_mean_dist_40_lr_0.01_graphfeatsize_100_nhiddim1_100_dropout_0.3_weight_decay_0.1_bsize_20.out\n",
      "slurm_GCNGAP_ER.Status_layers_2_pooling_att_dist_40_lr_0.01_graphfeatsize_100_nhiddim1_50_dropout_0.3_weight_decay_0.1_bsize_10.out\n",
      "slurm_GCNGAP_ER.Status_layers_2_pooling_sum_dist_40_lr_0.01_graphfeatsize_150_nhiddim1_50_dropout_0.3_weight_decay_0.001_bsize_30.out\n",
      "slurm_GCNGAP_ER.Status_layers_2_pooling_att_dist_40_lr_0.001_graphfeatsize_50_nhiddim1_150_dropout_0.5_weight_decay_0.001_bsize_10.out"
     ]
    },
    {
     "name": "stderr",
     "output_type": "stream",
     "text": [
      "b'Skipping line 457: expected 1 fields, saw 3\\n'\n",
      "b'Skipping line 490: expected 1 fields, saw 3\\n'\n",
      "b'Skipping line 442: expected 1 fields, saw 3\\n'\n",
      "b'Skipping line 494: expected 1 fields, saw 3\\n'\n",
      "b'Skipping line 478: expected 1 fields, saw 3\\n'\n",
      "b'Skipping line 495: expected 1 fields, saw 3\\n'\n",
      "b'Skipping line 458: expected 1 fields, saw 3\\n'\n",
      "b'Skipping line 442: expected 1 fields, saw 3\\n'\n",
      "b'Skipping line 362: expected 1 fields, saw 3\\n'\n",
      "b'Skipping line 443: expected 1 fields, saw 3\\n'\n",
      "b'Skipping line 450: expected 1 fields, saw 3\\n'\n",
      "b'Skipping line 361: expected 1 fields, saw 3\\n'\n",
      "b'Skipping line 470: expected 1 fields, saw 3\\n'\n"
     ]
    },
    {
     "name": "stdout",
     "output_type": "stream",
     "text": [
      "\n",
      "slurm_GCNGAP_ER.Status_layers_1_pooling_sum_dist_40_lr_0.01_graphfeatsize_100_nhiddim1_100_dropout_0.3_weight_decay_0.01_bsize_20.out\n",
      "slurm_GCNGAP_ER.Status_layers_1_pooling_att_dist_40_lr_0.001_graphfeatsize_100_nhiddim1_150_dropout_0.5_weight_decay_0.1_bsize_20.out\n",
      "slurm_GCNGAP_ER.Status_layers_1_pooling_att_dist_40_lr_0.01_graphfeatsize_100_nhiddim1_150_dropout_0.3_weight_decay_0.001_bsize_30.out\n",
      "slurm_GCNGAP_ER.Status_layers_1_pooling_sum_dist_40_lr_0.01_graphfeatsize_100_nhiddim1_150_dropout_0.3_weight_decay_0.1_bsize_20.out\n",
      "slurm_GCNGAP_ER.Status_layers_2_pooling_mean_dist_40_lr_0.01_graphfeatsize_150_nhiddim1_150_dropout_0.3_weight_decay_0.1_bsize_10.out\n",
      "slurm_GCNGAP_ER.Status_layers_1_pooling_mean_dist_40_lr_0.001_graphfeatsize_100_nhiddim1_100_dropout_0.3_weight_decay_0.001_bsize_20.out\n",
      "slurm_GCNGAP_ER.Status_layers_1_pooling_mean_dist_40_lr_0.001_graphfeatsize_100_nhiddim1_50_dropout_0.3_weight_decay_0.01_bsize_20.out\n",
      "slurm_GCNGAP_ER.Status_layers_2_pooling_sum_dist_40_lr_0.001_graphfeatsize_50_nhiddim1_100_dropout_0.3_weight_decay_0.1_bsize_30.out\n",
      "slurm_GCNGAP_ER.Status_layers_1_pooling_sum_dist_40_lr_0.001_graphfeatsize_100_nhiddim1_150_dropout_0.5_weight_decay_0.01_bsize_10.out\n",
      "slurm_GCNGAP_ER.Status_layers_1_pooling_att_dist_40_lr_0.001_graphfeatsize_150_nhiddim1_150_dropout_0.3_weight_decay_0.01_bsize_20.out\n",
      "slurm_GCNGAP_ER.Status_layers_2_pooling_mean_dist_40_lr_0.001_graphfeatsize_150_nhiddim1_150_dropout_0.5_weight_decay_0.001_bsize_20.out\n",
      "slurm_GCNGAP_ER.Status_layers_1_pooling_mean_dist_80_lr_0.001_graphfeatsize_100_nhiddim1_100_dropout_0.5_weight_decay_0.001_bsize_30.out"
     ]
    },
    {
     "name": "stderr",
     "output_type": "stream",
     "text": [
      "b'Skipping line 443: expected 1 fields, saw 3\\n'\n",
      "b'Skipping line 464: expected 1 fields, saw 3\\n'\n",
      "b'Skipping line 448: expected 1 fields, saw 3\\n'\n",
      "b'Skipping line 445: expected 1 fields, saw 3\\n'\n",
      "b'Skipping line 514: expected 1 fields, saw 3\\n'\n",
      "b'Skipping line 519: expected 1 fields, saw 3\\n'\n",
      "b'Skipping line 682: expected 1 fields, saw 3\\n'\n",
      "b'Skipping line 559: expected 1 fields, saw 3\\n'\n",
      "b'Skipping line 442: expected 1 fields, saw 3\\n'\n",
      "b'Skipping line 516: expected 1 fields, saw 3\\n'\n",
      "b'Skipping line 466: expected 1 fields, saw 3\\n'\n",
      "b'Skipping line 513: expected 1 fields, saw 3\\n'\n"
     ]
    },
    {
     "name": "stdout",
     "output_type": "stream",
     "text": [
      "\n",
      "slurm_GCNGAP_ER.Status_layers_1_pooling_mean_dist_80_lr_0.01_graphfeatsize_50_nhiddim1_50_dropout_0.3_weight_decay_0.1_bsize_20.out\n",
      "slurm_GCNGAP_ER.Status_layers_2_pooling_mean_dist_40_lr_0.001_graphfeatsize_150_nhiddim1_100_dropout_0.5_weight_decay_0.1_bsize_20.out\n",
      "slurm_GCNGAP_ER.Status_layers_1_pooling_mean_dist_40_lr_0.001_graphfeatsize_50_nhiddim1_100_dropout_0.5_weight_decay_0.001_bsize_10.out\n",
      "slurm_GCNGAP_ER.Status_layers_2_pooling_att_dist_40_lr_0.01_graphfeatsize_100_nhiddim1_50_dropout_0.5_weight_decay_0.01_bsize_10.out\n",
      "slurm_GCNGAP_ER.Status_layers_1_pooling_sum_dist_80_lr_0.001_graphfeatsize_50_nhiddim1_150_dropout_0.3_weight_decay_0.1_bsize_10.out\n",
      "slurm_GCNGAP_ER.Status_layers_2_pooling_att_dist_40_lr_0.001_graphfeatsize_100_nhiddim1_50_dropout_0.5_weight_decay_0.01_bsize_30.out\n",
      "slurm_GCNGAP_ER.Status_layers_1_pooling_att_dist_40_lr_0.01_graphfeatsize_150_nhiddim1_150_dropout_0.3_weight_decay_0.001_bsize_30.out\n",
      "slurm_GCNGAP_ER.Status_layers_2_pooling_att_dist_40_lr_0.001_graphfeatsize_150_nhiddim1_50_dropout_0.3_weight_decay_0.1_bsize_20.out\n",
      "slurm_GCNGAP_ER.Status_layers_1_pooling_mean_dist_40_lr_0.001_graphfeatsize_150_nhiddim1_100_dropout_0.3_weight_decay_0.001_bsize_20.out\n",
      "slurm_GCNGAP_ER.Status_layers_1_pooling_sum_dist_40_lr_0.01_graphfeatsize_150_nhiddim1_50_dropout_0.3_weight_decay_0.01_bsize_30.out\n",
      "slurm_GCNGAP_ER.Status_layers_1_pooling_mean_dist_40_lr_0.001_graphfeatsize_50_nhiddim1_50_dropout_0.3_weight_decay_0.1_bsize_30.out\n"
     ]
    },
    {
     "name": "stderr",
     "output_type": "stream",
     "text": [
      "b'Skipping line 450: expected 1 fields, saw 3\\n'\n",
      "b'Skipping line 450: expected 1 fields, saw 3\\n'\n",
      "b'Skipping line 489: expected 1 fields, saw 3\\n'\n",
      "b'Skipping line 640: expected 1 fields, saw 3\\n'\n",
      "b'Skipping line 579: expected 1 fields, saw 3\\n'\n",
      "b'Skipping line 648: expected 1 fields, saw 3\\n'\n",
      "b'Skipping line 459: expected 1 fields, saw 3\\n'\n",
      "b'Skipping line 451: expected 1 fields, saw 3\\n'\n",
      "b'Skipping line 524: expected 1 fields, saw 3\\n'\n",
      "b'Skipping line 455: expected 1 fields, saw 3\\n'\n",
      "b'Skipping line 485: expected 1 fields, saw 3\\n'\n",
      "b'Skipping line 443: expected 1 fields, saw 3\\n'\n"
     ]
    },
    {
     "name": "stdout",
     "output_type": "stream",
     "text": [
      "slurm_GCNGAP_ER.Status_layers_1_pooling_att_dist_40_lr_0.01_graphfeatsize_100_nhiddim1_100_dropout_0.3_weight_decay_0.1_bsize_10.out\n",
      "slurm_GCNGAP_ER.Status_layers_2_pooling_mean_dist_40_lr_0.001_graphfeatsize_150_nhiddim1_50_dropout_0.3_weight_decay_0.001_bsize_10.out\n",
      "slurm_GCNGAP_ER.Status_layers_1_pooling_mean_dist_40_lr_0.001_graphfeatsize_150_nhiddim1_150_dropout_0.3_weight_decay_0.1_bsize_30.out\n",
      "slurm_GCNGAP_ER.Status_layers_2_pooling_sum_dist_40_lr_0.001_graphfeatsize_100_nhiddim1_50_dropout_0.3_weight_decay_0.01_bsize_10.out\n",
      "slurm_GCNGAP_ER.Status_layers_1_pooling_mean_dist_80_lr_0.001_graphfeatsize_50_nhiddim1_50_dropout_0.3_weight_decay_0.001_bsize_20.out\n",
      "slurm_GCNGAP_ER.Status_layers_2_pooling_mean_dist_40_lr_0.01_graphfeatsize_100_nhiddim1_150_dropout_0.3_weight_decay_0.01_bsize_20.out\n",
      "slurm_GCNGAP_ER.Status_layers_2_pooling_mean_dist_40_lr_0.01_graphfeatsize_50_nhiddim1_50_dropout_0.3_weight_decay_0.01_bsize_10.out\n",
      "slurm_GCNGAP_ER.Status_layers_1_pooling_mean_dist_80_lr_0.01_graphfeatsize_150_nhiddim1_150_dropout_0.5_weight_decay_0.1_bsize_20.out\n",
      "slurm_GCNGAP_ER.Status_layers_1_pooling_sum_dist_40_lr_0.001_graphfeatsize_100_nhiddim1_50_dropout_0.5_weight_decay_0.1_bsize_10.out\n",
      "slurm_GCNGAP_ER.Status_layers_1_pooling_mean_dist_80_lr_0.01_graphfeatsize_50_nhiddim1_100_dropout_0.3_weight_decay_0.01_bsize_30.out\n",
      "slurm_GCNGAP_ER.Status_layers_2_pooling_mean_dist_40_lr_0.001_graphfeatsize_100_nhiddim1_150_dropout_0.5_weight_decay_0.001_bsize_20.out\n",
      "slurm_GCNGAP_ER.Status_layers_1_pooling_mean_dist_80_lr_0.01_graphfeatsize_50_nhiddim1_100_dropout_0.3_weight_decay_0.001_bsize_10.out\n"
     ]
    },
    {
     "name": "stderr",
     "output_type": "stream",
     "text": [
      "b'Skipping line 479: expected 1 fields, saw 3\\n'\n",
      "b'Skipping line 493: expected 1 fields, saw 3\\n'\n",
      "b'Skipping line 494: expected 1 fields, saw 3\\n'\n",
      "b'Skipping line 523: expected 1 fields, saw 3\\n'\n",
      "b'Skipping line 548: expected 1 fields, saw 3\\n'\n",
      "b'Skipping line 519: expected 1 fields, saw 3\\n'\n",
      "b'Skipping line 443: expected 1 fields, saw 3\\n'\n",
      "b'Skipping line 595: expected 1 fields, saw 3\\n'\n",
      "b'Skipping line 649: expected 1 fields, saw 3\\n'\n",
      "b'Skipping line 472: expected 1 fields, saw 3\\n'\n",
      "b'Skipping line 508: expected 1 fields, saw 3\\n'\n",
      "b'Skipping line 442: expected 1 fields, saw 3\\n'\n"
     ]
    },
    {
     "name": "stdout",
     "output_type": "stream",
     "text": [
      "slurm_GCNGAP_ER.Status_layers_1_pooling_sum_dist_40_lr_0.001_graphfeatsize_50_nhiddim1_50_dropout_0.5_weight_decay_0.01_bsize_30.out\n",
      "slurm_GCNGAP_ER.Status_layers_1_pooling_mean_dist_80_lr_0.001_graphfeatsize_150_nhiddim1_100_dropout_0.5_weight_decay_0.001_bsize_30.out\n",
      "slurm_GCNGAP_ER.Status_layers_1_pooling_att_dist_40_lr_0.001_graphfeatsize_150_nhiddim1_50_dropout_0.3_weight_decay_0.1_bsize_30.out\n",
      "slurm_GCNGAP_ER.Status_layers_1_pooling_mean_dist_40_lr_0.001_graphfeatsize_50_nhiddim1_50_dropout_0.3_weight_decay_0.001_bsize_20.out\n",
      "slurm_GCNGAP_ER.Status_layers_1_pooling_mean_dist_40_lr_0.01_graphfeatsize_150_nhiddim1_100_dropout_0.5_weight_decay_0.1_bsize_10.out\n",
      "slurm_GCNGAP_ER.Status_layers_2_pooling_sum_dist_40_lr_0.01_graphfeatsize_150_nhiddim1_50_dropout_0.3_weight_decay_0.01_bsize_20.out\n",
      "slurm_GCNGAP_ER.Status_layers_2_pooling_mean_dist_40_lr_0.001_graphfeatsize_50_nhiddim1_50_dropout_0.3_weight_decay_0.1_bsize_20.out\n",
      "slurm_GCNGAP_ER.Status_layers_1_pooling_mean_dist_40_lr_0.01_graphfeatsize_50_nhiddim1_100_dropout_0.3_weight_decay_0.001_bsize_10.out\n",
      "slurm_GCNGAP_ER.Status_layers_1_pooling_mean_dist_80_lr_0.01_graphfeatsize_50_nhiddim1_150_dropout_0.3_weight_decay_0.01_bsize_10.out\n",
      "slurm_GCNGAP_ER.Status_layers_2_pooling_att_dist_40_lr_0.001_graphfeatsize_100_nhiddim1_100_dropout_0.3_weight_decay_0.1_bsize_20.out\n",
      "slurm_GCNGAP_ER.Status_layers_1_pooling_att_dist_40_lr_0.001_graphfeatsize_50_nhiddim1_150_dropout_0.3_weight_decay_0.1_bsize_10.out\n",
      "slurm_GCNGAP_ER.Status_layers_1_pooling_sum_dist_40_lr_0.01_graphfeatsize_100_nhiddim1_150_dropout_0.5_weight_decay_0.001_bsize_30.out\n",
      "slurm_GCNGAP_ER.Status_layers_2_pooling_sum_dist_40_lr_0.001_graphfeatsize_50_nhiddim1_50_dropout_0.5_weight_decay_0.01_bsize_20.out"
     ]
    },
    {
     "name": "stderr",
     "output_type": "stream",
     "text": [
      "b'Skipping line 524: expected 1 fields, saw 3\\n'\n",
      "b'Skipping line 506: expected 1 fields, saw 3\\n'\n",
      "b'Skipping line 552: expected 1 fields, saw 3\\n'\n",
      "b'Skipping line 443: expected 1 fields, saw 3\\n'\n",
      "b'Skipping line 487: expected 1 fields, saw 3\\n'\n",
      "b'Skipping line 457: expected 1 fields, saw 3\\n'\n",
      "b'Skipping line 453: expected 1 fields, saw 3\\n'\n",
      "b'Skipping line 535: expected 1 fields, saw 3\\n'\n",
      "b'Skipping line 455: expected 1 fields, saw 3\\n'\n",
      "b'Skipping line 463: expected 1 fields, saw 3\\n'\n",
      "b'Skipping line 361: expected 1 fields, saw 3\\n'\n",
      "b'Skipping line 442: expected 1 fields, saw 3\\n'\n"
     ]
    },
    {
     "name": "stdout",
     "output_type": "stream",
     "text": [
      "\n",
      "slurm_GCNGAP_ER.Status_layers_1_pooling_att_dist_40_lr_0.01_graphfeatsize_100_nhiddim1_150_dropout_0.5_weight_decay_0.01_bsize_20.out\n",
      "slurm_GCNGAP_ER.Status_layers_2_pooling_att_dist_40_lr_0.01_graphfeatsize_50_nhiddim1_100_dropout_0.5_weight_decay_0.1_bsize_20.out\n",
      "slurm_GCNGAP_ER.Status_layers_1_pooling_mean_dist_80_lr_0.001_graphfeatsize_150_nhiddim1_150_dropout_0.3_weight_decay_0.1_bsize_30.out\n",
      "slurm_GCNGAP_ER.Status_layers_2_pooling_sum_dist_40_lr_0.001_graphfeatsize_50_nhiddim1_150_dropout_0.3_weight_decay_0.001_bsize_10.out\n",
      "slurm_GCNGAP_ER.Status_layers_1_pooling_sum_dist_40_lr_0.01_graphfeatsize_50_nhiddim1_50_dropout_0.3_weight_decay_0.01_bsize_30.out\n",
      "slurm_GCNGAP_ER.Status_layers_1_pooling_mean_dist_80_lr_0.001_graphfeatsize_50_nhiddim1_150_dropout_0.3_weight_decay_0.001_bsize_20.out\n",
      "slurm_GCNGAP_ER.Status_layers_2_pooling_sum_dist_40_lr_0.01_graphfeatsize_100_nhiddim1_150_dropout_0.3_weight_decay_0.1_bsize_30.out\n",
      "slurm_GCNGAP_ER.Status_layers_1_pooling_sum_dist_40_lr_0.001_graphfeatsize_50_nhiddim1_100_dropout_0.3_weight_decay_0.1_bsize_20.out\n",
      "slurm_GCNGAP_ER.Status_layers_2_pooling_att_dist_40_lr_0.01_graphfeatsize_100_nhiddim1_50_dropout_0.5_weight_decay_0.001_bsize_20.out\n",
      "slurm_GCNGAP_ER.Status_layers_2_pooling_att_dist_40_lr_0.01_graphfeatsize_50_nhiddim1_150_dropout_0.3_weight_decay_0.001_bsize_30.out\n",
      "slurm_GCNGAP_ER.Status_layers_1_pooling_mean_dist_80_lr_0.001_graphfeatsize_100_nhiddim1_50_dropout_0.5_weight_decay_0.001_bsize_30.out\n"
     ]
    },
    {
     "name": "stderr",
     "output_type": "stream",
     "text": [
      "b'Skipping line 500: expected 1 fields, saw 3\\n'\n",
      "b'Skipping line 447: expected 1 fields, saw 3\\n'\n",
      "b'Skipping line 484: expected 1 fields, saw 3\\n'\n",
      "b'Skipping line 362: expected 1 fields, saw 3\\n'\n",
      "b'Skipping line 443: expected 1 fields, saw 3\\n'\n",
      "b'Skipping line 474: expected 1 fields, saw 3\\n'\n",
      "b'Skipping line 443: expected 1 fields, saw 3\\n'\n",
      "b'Skipping line 535: expected 1 fields, saw 3\\n'\n",
      "b'Skipping line 465: expected 1 fields, saw 3\\n'\n",
      "b'Skipping line 456: expected 1 fields, saw 3\\n'\n",
      "b'Skipping line 556: expected 1 fields, saw 3\\n'\n",
      "b'Skipping line 492: expected 1 fields, saw 3\\n'\n"
     ]
    },
    {
     "name": "stdout",
     "output_type": "stream",
     "text": [
      "slurm_GCNGAP_ER.Status_layers_2_pooling_sum_dist_40_lr_0.01_graphfeatsize_50_nhiddim1_150_dropout_0.3_weight_decay_0.1_bsize_10.out\n",
      "slurm_GCNGAP_ER.Status_layers_2_pooling_sum_dist_40_lr_0.01_graphfeatsize_50_nhiddim1_100_dropout_0.3_weight_decay_0.001_bsize_20.out\n",
      "slurm_GCNGAP_ER.Status_layers_1_pooling_sum_dist_80_lr_0.01_graphfeatsize_100_nhiddim1_100_dropout_0.3_weight_decay_0.01_bsize_20.out\n",
      "not in\n",
      "slurm_GCNGAP_ER.Status_layers_1_pooling_sum_dist_40_lr_0.01_graphfeatsize_50_nhiddim1_50_dropout_0.5_weight_decay_0.001_bsize_10.out\n",
      "slurm_GCNGAP_ER.Status_layers_1_pooling_sum_dist_80_lr_0.01_graphfeatsize_100_nhiddim1_100_dropout_0.3_weight_decay_0.1_bsize_10.out\n",
      "slurm_GCNGAP_ER.Status_layers_2_pooling_sum_dist_40_lr_0.01_graphfeatsize_150_nhiddim1_50_dropout_0.3_weight_decay_0.1_bsize_30.out\n",
      "slurm_GCNGAP_ER.Status_layers_1_pooling_sum_dist_40_lr_0.01_graphfeatsize_150_nhiddim1_150_dropout_0.5_weight_decay_0.001_bsize_30.out\n",
      "slurm_GCNGAP_ER.Status_layers_1_pooling_sum_dist_40_lr_0.001_graphfeatsize_100_nhiddim1_100_dropout_0.5_weight_decay_0.01_bsize_30.out\n",
      "slurm_GCNGAP_ER.Status_layers_1_pooling_mean_dist_80_lr_0.001_graphfeatsize_100_nhiddim1_50_dropout_0.3_weight_decay_0.01_bsize_20.out\n",
      "slurm_GCNGAP_ER.Status_layers_2_pooling_sum_dist_40_lr_0.001_graphfeatsize_50_nhiddim1_50_dropout_0.3_weight_decay_0.001_bsize_10.out\n",
      "slurm_GCNGAP_ER.Status_layers_1_pooling_mean_dist_40_lr_0.001_graphfeatsize_50_nhiddim1_50_dropout_0.5_weight_decay_0.01_bsize_20.out\n",
      "slurm_GCNGAP_ER.Status_layers_1_pooling_sum_dist_80_lr_0.001_graphfeatsize_150_nhiddim1_50_dropout_0.3_weight_decay_0.001_bsize_20.out\n",
      "slurm_GCNGAP_ER.Status_layers_1_pooling_sum_dist_80_lr_0.01_graphfeatsize_50_nhiddim1_100_dropout_0.3_weight_decay_0.01_bsize_20.out\n",
      "not in\n",
      "slurm_GCNGAP_ER.Status_layers_1_pooling_mean_dist_40_lr_0.01_graphfeatsize_50_nhiddim1_100_dropout_0.5_weight_decay_0.1_bsize_30.out\n"
     ]
    },
    {
     "name": "stderr",
     "output_type": "stream",
     "text": [
      "b'Skipping line 361: expected 1 fields, saw 3\\n'\n",
      "b'Skipping line 442: expected 1 fields, saw 3\\n'\n",
      "b'Skipping line 509: expected 1 fields, saw 3\\n'\n",
      "b'Skipping line 537: expected 1 fields, saw 3\\n'\n",
      "b'Skipping line 361: expected 1 fields, saw 3\\n'\n",
      "b'Skipping line 442: expected 1 fields, saw 3\\n'\n",
      "b'Skipping line 685: expected 1 fields, saw 3\\n'\n",
      "b'Skipping line 469: expected 1 fields, saw 3\\n'\n",
      "b'Skipping line 681: expected 1 fields, saw 3\\n'\n",
      "b'Skipping line 442: expected 1 fields, saw 3\\n'\n",
      "b'Skipping line 444: expected 1 fields, saw 3\\n'\n",
      "b'Skipping line 595: expected 1 fields, saw 3\\n'\n"
     ]
    },
    {
     "name": "stdout",
     "output_type": "stream",
     "text": [
      "slurm_GCNGAP_ER.Status_layers_2_pooling_mean_dist_40_lr_0.01_graphfeatsize_50_nhiddim1_100_dropout_0.5_weight_decay_0.01_bsize_20.out\n",
      "slurm_GCNGAP_ER.Status_layers_1_pooling_sum_dist_40_lr_0.001_graphfeatsize_150_nhiddim1_50_dropout_0.3_weight_decay_0.01_bsize_30.out\n",
      "slurm_GCNGAP_ER.Status_layers_2_pooling_att_dist_40_lr_0.01_graphfeatsize_50_nhiddim1_50_dropout_0.3_weight_decay_0.01_bsize_10.out\n",
      "slurm_GCNGAP_ER.Status_layers_2_pooling_mean_dist_40_lr_0.01_graphfeatsize_100_nhiddim1_100_dropout_0.3_weight_decay_0.001_bsize_30.out\n",
      "slurm_GCNGAP_ER.Status_layers_2_pooling_sum_dist_40_lr_0.01_graphfeatsize_100_nhiddim1_150_dropout_0.3_weight_decay_0.001_bsize_20.out\n",
      "slurm_GCNGAP_ER.Status_layers_1_pooling_mean_dist_40_lr_0.01_graphfeatsize_150_nhiddim1_50_dropout_0.3_weight_decay_0.01_bsize_20.out\n",
      "slurm_GCNGAP_ER.Status_layers_1_pooling_mean_dist_80_lr_0.01_graphfeatsize_150_nhiddim1_150_dropout_0.3_weight_decay_0.001_bsize_10.out\n",
      "slurm_GCNGAP_ER.Status_layers_2_pooling_sum_dist_40_lr_0.01_graphfeatsize_150_nhiddim1_150_dropout_0.5_weight_decay_0.01_bsize_30.out\n",
      "slurm_GCNGAP_ER.Status_layers_1_pooling_mean_dist_80_lr_0.01_graphfeatsize_100_nhiddim1_50_dropout_0.5_weight_decay_0.01_bsize_10.out\n",
      "slurm_GCNGAP_ER.Status_layers_2_pooling_mean_dist_40_lr_0.001_graphfeatsize_150_nhiddim1_50_dropout_0.5_weight_decay_0.1_bsize_10.out\n",
      "slurm_GCNGAP_ER.Status_layers_1_pooling_att_dist_40_lr_0.01_graphfeatsize_150_nhiddim1_50_dropout_0.3_weight_decay_0.1_bsize_10.out\n",
      "slurm_GCNGAP_ER.Status_layers_2_pooling_sum_dist_40_lr_0.001_graphfeatsize_150_nhiddim1_150_dropout_0.3_weight_decay_0.01_bsize_30.out\n"
     ]
    },
    {
     "name": "stderr",
     "output_type": "stream",
     "text": [
      "b'Skipping line 496: expected 1 fields, saw 3\\n'\n",
      "b'Skipping line 644: expected 1 fields, saw 3\\n'\n",
      "b'Skipping line 456: expected 1 fields, saw 3\\n'\n",
      "b'Skipping line 361: expected 1 fields, saw 3\\n'\n",
      "b'Skipping line 567: expected 1 fields, saw 3\\n'\n",
      "b'Skipping line 459: expected 1 fields, saw 3\\n'\n",
      "b'Skipping line 442: expected 1 fields, saw 3\\n'\n",
      "b'Skipping line 498: expected 1 fields, saw 3\\n'\n",
      "b'Skipping line 454: expected 1 fields, saw 3\\n'\n",
      "b'Skipping line 443: expected 1 fields, saw 3\\n'\n",
      "b'Skipping line 455: expected 1 fields, saw 3\\n'\n",
      "b'Skipping line 446: expected 1 fields, saw 3\\n'\n"
     ]
    },
    {
     "name": "stdout",
     "output_type": "stream",
     "text": [
      "slurm_GCNGAP_ER.Status_layers_1_pooling_att_dist_40_lr_0.01_graphfeatsize_50_nhiddim1_150_dropout_0.3_weight_decay_0.1_bsize_30.out\n",
      "slurm_GCNGAP_ER.Status_layers_2_pooling_mean_dist_40_lr_0.001_graphfeatsize_50_nhiddim1_150_dropout_0.5_weight_decay_0.1_bsize_30.out\n",
      "slurm_GCNGAP_ER.Status_layers_2_pooling_sum_dist_40_lr_0.001_graphfeatsize_50_nhiddim1_100_dropout_0.5_weight_decay_0.01_bsize_30.out\n",
      "slurm_GCNGAP_ER.Status_layers_1_pooling_sum_dist_40_lr_0.001_graphfeatsize_100_nhiddim1_50_dropout_0.3_weight_decay_0.001_bsize_10.out\n",
      "slurm_GCNGAP_ER.Status_layers_2_pooling_sum_dist_40_lr_0.01_graphfeatsize_150_nhiddim1_100_dropout_0.5_weight_decay_0.1_bsize_10.out\n",
      "slurm_GCNGAP_ER.Status_layers_2_pooling_mean_dist_40_lr_0.001_graphfeatsize_50_nhiddim1_50_dropout_0.5_weight_decay_0.001_bsize_30.out\n",
      "slurm_GCNGAP_ER.Status_layers_1_pooling_mean_dist_80_lr_0.001_graphfeatsize_50_nhiddim1_150_dropout_0.5_weight_decay_0.01_bsize_20.out\n",
      "slurm_GCNGAP_ER.Status_layers_1_pooling_sum_dist_80_lr_0.01_graphfeatsize_50_nhiddim1_100_dropout_0.5_weight_decay_0.001_bsize_20.out\n",
      "not in\n",
      "slurm_GCNGAP_ER.Status_layers_1_pooling_sum_dist_40_lr_0.01_graphfeatsize_150_nhiddim1_50_dropout_0.5_weight_decay_0.001_bsize_30.out\n",
      "slurm_GCNGAP_ER.Status_layers_1_pooling_mean_dist_80_lr_0.01_graphfeatsize_50_nhiddim1_150_dropout_0.5_weight_decay_0.1_bsize_10.out\n",
      "slurm_GCNGAP_ER.Status_layers_1_pooling_att_dist_40_lr_0.001_graphfeatsize_150_nhiddim1_50_dropout_0.5_weight_decay_0.01_bsize_10.out\n",
      "slurm_GCNGAP_ER.Status_layers_2_pooling_mean_dist_40_lr_0.01_graphfeatsize_150_nhiddim1_100_dropout_0.3_weight_decay_0.001_bsize_30.out\n",
      "slurm_GCNGAP_ER.Status_layers_2_pooling_sum_dist_40_lr_0.01_graphfeatsize_150_nhiddim1_150_dropout_0.3_weight_decay_0.001_bsize_20.out\n",
      "slurm_GCNGAP_ER.Status_layers_1_pooling_mean_dist_80_lr_0.001_graphfeatsize_150_nhiddim1_50_dropout_0.3_weight_decay_0.1_bsize_20.out"
     ]
    },
    {
     "name": "stderr",
     "output_type": "stream",
     "text": [
      "b'Skipping line 452: expected 1 fields, saw 3\\n'\n",
      "b'Skipping line 442: expected 1 fields, saw 3\\n'\n",
      "b'Skipping line 442: expected 1 fields, saw 3\\n'\n",
      "b'Skipping line 610: expected 1 fields, saw 3\\n'\n",
      "b'Skipping line 497: expected 1 fields, saw 3\\n'\n",
      "b'Skipping line 566: expected 1 fields, saw 3\\n'\n",
      "b'Skipping line 444: expected 1 fields, saw 3\\n'\n",
      "b'Skipping line 443: expected 1 fields, saw 3\\n'\n",
      "b'Skipping line 524: expected 1 fields, saw 3\\n'\n",
      "b'Skipping line 487: expected 1 fields, saw 3\\n'\n",
      "b'Skipping line 361: expected 1 fields, saw 3\\n'\n",
      "b'Skipping line 489: expected 1 fields, saw 3\\n'\n",
      "b'Skipping line 741: expected 1 fields, saw 3\\n'\n"
     ]
    },
    {
     "name": "stdout",
     "output_type": "stream",
     "text": [
      "\n",
      "slurm_GCNGAP_ER.Status_layers_1_pooling_mean_dist_80_lr_0.01_graphfeatsize_150_nhiddim1_100_dropout_0.5_weight_decay_0.01_bsize_20.out\n",
      "slurm_GCNGAP_ER.Status_layers_1_pooling_mean_dist_80_lr_0.001_graphfeatsize_100_nhiddim1_100_dropout_0.5_weight_decay_0.1_bsize_10.out\n",
      "slurm_GCNGAP_ER.Status_layers_1_pooling_sum_dist_40_lr_0.001_graphfeatsize_100_nhiddim1_150_dropout_0.3_weight_decay_0.1_bsize_20.out\n",
      "slurm_GCNGAP_ER.Status_layers_1_pooling_sum_dist_80_lr_0.001_graphfeatsize_50_nhiddim1_50_dropout_0.5_weight_decay_0.001_bsize_10.out\n",
      "slurm_GCNGAP_ER.Status_layers_1_pooling_mean_dist_80_lr_0.01_graphfeatsize_150_nhiddim1_50_dropout_0.5_weight_decay_0.1_bsize_30.out\n",
      "slurm_GCNGAP_ER.Status_layers_2_pooling_att_dist_40_lr_0.01_graphfeatsize_50_nhiddim1_100_dropout_0.3_weight_decay_0.01_bsize_30.out\n",
      "slurm_GCNGAP_ER.Status_layers_1_pooling_mean_dist_40_lr_0.01_graphfeatsize_100_nhiddim1_150_dropout_0.3_weight_decay_0.1_bsize_30.out\n",
      "slurm_GCNGAP_ER.Status_layers_2_pooling_att_dist_40_lr_0.001_graphfeatsize_50_nhiddim1_100_dropout_0.3_weight_decay_0.01_bsize_10.out\n",
      "slurm_GCNGAP_ER.Status_layers_1_pooling_mean_dist_80_lr_0.01_graphfeatsize_100_nhiddim1_150_dropout_0.3_weight_decay_0.001_bsize_10.out\n"
     ]
    },
    {
     "name": "stderr",
     "output_type": "stream",
     "text": [
      "b'Skipping line 458: expected 1 fields, saw 3\\n'\n",
      "b'Skipping line 521: expected 1 fields, saw 3\\n'\n",
      "b'Skipping line 532: expected 1 fields, saw 3\\n'\n",
      "b'Skipping line 445: expected 1 fields, saw 3\\n'\n",
      "b'Skipping line 590: expected 1 fields, saw 3\\n'\n",
      "b'Skipping line 443: expected 1 fields, saw 3\\n'\n",
      "b'Skipping line 540: expected 1 fields, saw 3\\n'\n",
      "b'Skipping line 469: expected 1 fields, saw 3\\n'\n",
      "b'Skipping line 538: expected 1 fields, saw 3\\n'\n",
      "b'Skipping line 443: expected 1 fields, saw 3\\n'\n"
     ]
    },
    {
     "name": "stdout",
     "output_type": "stream",
     "text": [
      "slurm_GCNGAP_ER.Status_layers_2_pooling_att_dist_40_lr_0.01_graphfeatsize_150_nhiddim1_150_dropout_0.3_weight_decay_0.01_bsize_10.out\n",
      "slurm_GCNGAP_ER.Status_layers_2_pooling_att_dist_40_lr_0.01_graphfeatsize_150_nhiddim1_150_dropout_0.5_weight_decay_0.1_bsize_20.out\n",
      "slurm_GCNGAP_ER.Status_layers_2_pooling_mean_dist_40_lr_0.01_graphfeatsize_100_nhiddim1_50_dropout_0.3_weight_decay_0.1_bsize_10.out\n",
      "slurm_GCNGAP_ER.Status_layers_2_pooling_mean_dist_40_lr_0.001_graphfeatsize_150_nhiddim1_150_dropout_0.5_weight_decay_0.01_bsize_10.out\n",
      "slurm_GCNGAP_ER.Status_layers_1_pooling_mean_dist_40_lr_0.001_graphfeatsize_100_nhiddim1_150_dropout_0.3_weight_decay_0.01_bsize_30.out\n",
      "slurm_GCNGAP_ER.Status_layers_2_pooling_att_dist_40_lr_0.001_graphfeatsize_50_nhiddim1_150_dropout_0.3_weight_decay_0.01_bsize_30.out\n",
      "slurm_GCNGAP_ER.Status_layers_2_pooling_att_dist_40_lr_0.01_graphfeatsize_50_nhiddim1_150_dropout_0.3_weight_decay_0.01_bsize_10.out\n",
      "slurm_GCNGAP_ER.Status_layers_1_pooling_att_dist_40_lr_0.001_graphfeatsize_100_nhiddim1_50_dropout_0.5_weight_decay_0.001_bsize_10.out\n",
      "slurm_GCNGAP_ER.Status_layers_2_pooling_att_dist_40_lr_0.01_graphfeatsize_150_nhiddim1_100_dropout_0.3_weight_decay_0.01_bsize_30.out\n"
     ]
    },
    {
     "name": "stderr",
     "output_type": "stream",
     "text": [
      "b'Skipping line 543: expected 1 fields, saw 3\\n'\n",
      "b'Skipping line 504: expected 1 fields, saw 3\\n'\n",
      "b'Skipping line 707: expected 1 fields, saw 3\\n'\n",
      "b'Skipping line 633: expected 1 fields, saw 3\\n'\n",
      "b'Skipping line 617: expected 1 fields, saw 3\\n'\n",
      "b'Skipping line 492: expected 1 fields, saw 3\\n'\n",
      "b'Skipping line 565: expected 1 fields, saw 3\\n'\n",
      "b'Skipping line 452: expected 1 fields, saw 3\\n'\n",
      "b'Skipping line 529: expected 1 fields, saw 3\\n'\n"
     ]
    },
    {
     "name": "stdout",
     "output_type": "stream",
     "text": [
      "slurm_GCNGAP_ER.Status_layers_1_pooling_att_dist_40_lr_0.01_graphfeatsize_100_nhiddim1_50_dropout_0.3_weight_decay_0.001_bsize_20.out\n",
      "slurm_GCNGAP_ER.Status_layers_1_pooling_mean_dist_40_lr_0.01_graphfeatsize_100_nhiddim1_100_dropout_0.5_weight_decay_0.001_bsize_20.out\n",
      "slurm_GCNGAP_ER.Status_layers_2_pooling_mean_dist_40_lr_0.001_graphfeatsize_150_nhiddim1_100_dropout_0.5_weight_decay_0.01_bsize_30.out\n",
      "slurm_GCNGAP_ER.Status_layers_2_pooling_mean_dist_40_lr_0.001_graphfeatsize_150_nhiddim1_50_dropout_0.3_weight_decay_0.01_bsize_10.out\n",
      "slurm_GCNGAP_ER.Status_layers_1_pooling_mean_dist_40_lr_0.001_graphfeatsize_100_nhiddim1_100_dropout_0.3_weight_decay_0.01_bsize_10.out\n",
      "slurm_GCNGAP_ER.Status_layers_1_pooling_att_dist_40_lr_0.01_graphfeatsize_50_nhiddim1_100_dropout_0.3_weight_decay_0.01_bsize_20.out\n",
      "slurm_GCNGAP_ER.Status_layers_1_pooling_mean_dist_80_lr_0.001_graphfeatsize_150_nhiddim1_100_dropout_0.3_weight_decay_0.01_bsize_20.out\n",
      "slurm_GCNGAP_ER.Status_layers_1_pooling_sum_dist_40_lr_0.01_graphfeatsize_50_nhiddim1_100_dropout_0.5_weight_decay_0.001_bsize_20.out\n",
      "slurm_GCNGAP_ER.Status_layers_1_pooling_mean_dist_40_lr_0.001_graphfeatsize_50_nhiddim1_150_dropout_0.5_weight_decay_0.01_bsize_20.out\n",
      "slurm_GCNGAP_ER.Status_layers_2_pooling_att_dist_40_lr_0.01_graphfeatsize_100_nhiddim1_150_dropout_0.5_weight_decay_0.001_bsize_20.out\n",
      "slurm_GCNGAP_ER.Status_layers_1_pooling_mean_dist_40_lr_0.001_graphfeatsize_50_nhiddim1_100_dropout_0.3_weight_decay_0.1_bsize_30.out\n"
     ]
    },
    {
     "name": "stderr",
     "output_type": "stream",
     "text": [
      "b'Skipping line 583: expected 1 fields, saw 3\\n'\n",
      "b'Skipping line 569: expected 1 fields, saw 3\\n'\n",
      "b'Skipping line 690: expected 1 fields, saw 3\\n'\n",
      "b'Skipping line 490: expected 1 fields, saw 3\\n'\n",
      "b'Skipping line 631: expected 1 fields, saw 3\\n'\n",
      "b'Skipping line 444: expected 1 fields, saw 3\\n'\n",
      "b'Skipping line 715: expected 1 fields, saw 3\\n'\n",
      "b'Skipping line 485: expected 1 fields, saw 3\\n'\n",
      "b'Skipping line 484: expected 1 fields, saw 3\\n'\n",
      "b'Skipping line 454: expected 1 fields, saw 3\\n'\n",
      "b'Skipping line 363: expected 1 fields, saw 3\\n'\n"
     ]
    },
    {
     "name": "stdout",
     "output_type": "stream",
     "text": [
      "slurm_GCNGAP_ER.Status_layers_1_pooling_att_dist_40_lr_0.01_graphfeatsize_50_nhiddim1_150_dropout_0.5_weight_decay_0.001_bsize_30.out\n",
      "slurm_GCNGAP_ER.Status_layers_1_pooling_sum_dist_40_lr_0.001_graphfeatsize_50_nhiddim1_50_dropout_0.5_weight_decay_0.001_bsize_10.out\n",
      "slurm_GCNGAP_ER.Status_layers_1_pooling_sum_dist_40_lr_0.001_graphfeatsize_100_nhiddim1_100_dropout_0.5_weight_decay_0.001_bsize_10.out\n",
      "slurm_GCNGAP_ER.Status_layers_1_pooling_mean_dist_40_lr_0.001_graphfeatsize_100_nhiddim1_100_dropout_0.5_weight_decay_0.1_bsize_10.out\n",
      "slurm_GCNGAP_ER.Status_layers_1_pooling_mean_dist_40_lr_0.01_graphfeatsize_150_nhiddim1_100_dropout_0.5_weight_decay_0.01_bsize_20.out\n",
      "slurm_GCNGAP_ER.Status_layers_1_pooling_att_dist_40_lr_0.001_graphfeatsize_100_nhiddim1_150_dropout_0.3_weight_decay_0.001_bsize_10.out\n",
      "slurm_GCNGAP_ER.Status_layers_1_pooling_att_dist_40_lr_0.01_graphfeatsize_150_nhiddim1_150_dropout_0.5_weight_decay_0.1_bsize_30.out\n",
      "slurm_GCNGAP_ER.Status_layers_1_pooling_mean_dist_40_lr_0.01_graphfeatsize_150_nhiddim1_100_dropout_0.5_weight_decay_0.001_bsize_20.out\n",
      "slurm_GCNGAP_ER.Status_layers_2_pooling_mean_dist_40_lr_0.01_graphfeatsize_50_nhiddim1_100_dropout_0.5_weight_decay_0.1_bsize_20.out\n",
      "slurm_GCNGAP_ER.Status_layers_2_pooling_sum_dist_40_lr_0.001_graphfeatsize_150_nhiddim1_100_dropout_0.3_weight_decay_0.01_bsize_10.out\n",
      "slurm_GCNGAP_ER.Status_layers_2_pooling_mean_dist_40_lr_0.01_graphfeatsize_150_nhiddim1_50_dropout_0.5_weight_decay_0.001_bsize_10.out\n",
      "slurm_GCNGAP_ER.Status_layers_2_pooling_sum_dist_40_lr_0.01_graphfeatsize_150_nhiddim1_100_dropout_0.5_weight_decay_0.01_bsize_10.out\n"
     ]
    },
    {
     "name": "stderr",
     "output_type": "stream",
     "text": [
      "b'Skipping line 362: expected 1 fields, saw 3\\n'\n",
      "b'Skipping line 458: expected 1 fields, saw 3\\n'\n",
      "b'Skipping line 498: expected 1 fields, saw 3\\n'\n",
      "b'Skipping line 461: expected 1 fields, saw 3\\n'\n",
      "b'Skipping line 443: expected 1 fields, saw 3\\n'\n",
      "b'Skipping line 467: expected 1 fields, saw 3\\n'\n",
      "b'Skipping line 443: expected 1 fields, saw 3\\n'\n",
      "b'Skipping line 442: expected 1 fields, saw 3\\n'\n",
      "b'Skipping line 474: expected 1 fields, saw 3\\n'\n",
      "b'Skipping line 443: expected 1 fields, saw 3\\n'\n",
      "b'Skipping line 457: expected 1 fields, saw 3\\n'\n"
     ]
    },
    {
     "name": "stdout",
     "output_type": "stream",
     "text": [
      "slurm_GCNGAP_ER.Status_layers_2_pooling_sum_dist_40_lr_0.001_graphfeatsize_100_nhiddim1_100_dropout_0.5_weight_decay_0.1_bsize_20.out\n",
      "slurm_GCNGAP_ER.Status_layers_2_pooling_sum_dist_40_lr_0.001_graphfeatsize_50_nhiddim1_150_dropout_0.5_weight_decay_0.01_bsize_10.out\n",
      "slurm_GCNGAP_ER.Status_layers_1_pooling_sum_dist_40_lr_0.01_graphfeatsize_100_nhiddim1_50_dropout_0.3_weight_decay_0.1_bsize_30.out\n",
      "slurm_GCNGAP_ER.Status_layers_1_pooling_sum_dist_40_lr_0.01_graphfeatsize_50_nhiddim1_50_dropout_0.5_weight_decay_0.1_bsize_20.out\n",
      "slurm_GCNGAP_ER.Status_layers_1_pooling_sum_dist_40_lr_0.001_graphfeatsize_150_nhiddim1_100_dropout_0.5_weight_decay_0.001_bsize_10.out\n",
      "slurm_GCNGAP_ER.Status_layers_1_pooling_att_dist_40_lr_0.001_graphfeatsize_150_nhiddim1_150_dropout_0.3_weight_decay_0.001_bsize_10.out\n",
      "slurm_GCNGAP_ER.Status_layers_2_pooling_att_dist_40_lr_0.001_graphfeatsize_50_nhiddim1_50_dropout_0.3_weight_decay_0.1_bsize_20.out\n",
      "slurm_GCNGAP_ER.Status_layers_2_pooling_att_dist_40_lr_0.001_graphfeatsize_100_nhiddim1_100_dropout_0.5_weight_decay_0.01_bsize_20.out\n",
      "slurm_GCNGAP_ER.Status_layers_2_pooling_mean_dist_40_lr_0.01_graphfeatsize_100_nhiddim1_100_dropout_0.5_weight_decay_0.1_bsize_30.out\n",
      "slurm_GCNGAP_ER.Status_layers_2_pooling_att_dist_40_lr_0.01_graphfeatsize_150_nhiddim1_150_dropout_0.5_weight_decay_0.001_bsize_20.out\n",
      "slurm_GCNGAP_ER.Status_layers_2_pooling_att_dist_40_lr_0.001_graphfeatsize_100_nhiddim1_50_dropout_0.3_weight_decay_0.01_bsize_10.out\n"
     ]
    },
    {
     "name": "stderr",
     "output_type": "stream",
     "text": [
      "b'Skipping line 442: expected 1 fields, saw 3\\n'\n",
      "b'Skipping line 639: expected 1 fields, saw 3\\n'\n",
      "b'Skipping line 521: expected 1 fields, saw 3\\n'\n",
      "b'Skipping line 442: expected 1 fields, saw 3\\n'\n",
      "b'Skipping line 477: expected 1 fields, saw 3\\n'\n",
      "b'Skipping line 456: expected 1 fields, saw 3\\n'\n",
      "b'Skipping line 591: expected 1 fields, saw 3\\n'\n",
      "b'Skipping line 443: expected 1 fields, saw 3\\n'\n",
      "b'Skipping line 450: expected 1 fields, saw 3\\n'\n",
      "b'Skipping line 539: expected 1 fields, saw 3\\n'\n",
      "b'Skipping line 609: expected 1 fields, saw 3\\n'\n"
     ]
    },
    {
     "name": "stdout",
     "output_type": "stream",
     "text": [
      "slurm_GCNGAP_ER.Status_layers_2_pooling_att_dist_40_lr_0.01_graphfeatsize_100_nhiddim1_50_dropout_0.3_weight_decay_0.01_bsize_30.out\n",
      "slurm_GCNGAP_ER.Status_layers_2_pooling_sum_dist_40_lr_0.01_graphfeatsize_150_nhiddim1_100_dropout_0.3_weight_decay_0.1_bsize_10.out\n",
      "slurm_GCNGAP_ER.Status_layers_1_pooling_att_dist_40_lr_0.01_graphfeatsize_50_nhiddim1_150_dropout_0.5_weight_decay_0.1_bsize_30.out\n",
      "slurm_GCNGAP_ER.Status_layers_2_pooling_mean_dist_40_lr_0.001_graphfeatsize_50_nhiddim1_150_dropout_0.3_weight_decay_0.1_bsize_30.out\n",
      "slurm_GCNGAP_ER.Status_layers_2_pooling_mean_dist_40_lr_0.001_graphfeatsize_150_nhiddim1_50_dropout_0.3_weight_decay_0.1_bsize_10.out\n",
      "slurm_GCNGAP_ER.Status_layers_1_pooling_att_dist_40_lr_0.01_graphfeatsize_150_nhiddim1_50_dropout_0.5_weight_decay_0.1_bsize_10.out\n",
      "slurm_GCNGAP_ER.Status_layers_2_pooling_mean_dist_40_lr_0.001_graphfeatsize_100_nhiddim1_100_dropout_0.5_weight_decay_0.001_bsize_30.out\n",
      "slurm_GCNGAP_ER.Status_layers_1_pooling_mean_dist_80_lr_0.001_graphfeatsize_150_nhiddim1_150_dropout_0.5_weight_decay_0.001_bsize_20.out\n",
      "slurm_GCNGAP_ER.Status_layers_1_pooling_sum_dist_40_lr_0.001_graphfeatsize_100_nhiddim1_150_dropout_0.3_weight_decay_0.01_bsize_30.out\n",
      "slurm_GCNGAP_ER.Status_layers_1_pooling_mean_dist_80_lr_0.01_graphfeatsize_100_nhiddim1_50_dropout_0.5_weight_decay_0.001_bsize_10.out\n",
      "slurm_GCNGAP_ER.Status_layers_1_pooling_mean_dist_40_lr_0.001_graphfeatsize_150_nhiddim1_150_dropout_0.3_weight_decay_0.001_bsize_30.out\n",
      "slurm_GCNGAP_ER.Status_layers_1_pooling_sum_dist_80_lr_0.01_graphfeatsize_100_nhiddim1_150_dropout_0.3_weight_decay_0.001_bsize_10.out\n",
      "not in\n",
      "slurm_GCNGAP_ER.Status_layers_1_pooling_att_dist_40_lr_0.01_graphfeatsize_150_nhiddim1_100_dropout_0.3_weight_decay_0.001_bsize_20.out\n"
     ]
    },
    {
     "name": "stderr",
     "output_type": "stream",
     "text": [
      "b'Skipping line 609: expected 1 fields, saw 3\\n'\n",
      "b'Skipping line 446: expected 1 fields, saw 3\\n'\n",
      "b'Skipping line 451: expected 1 fields, saw 3\\n'\n",
      "b'Skipping line 549: expected 1 fields, saw 3\\n'\n",
      "b'Skipping line 446: expected 1 fields, saw 3\\n'\n",
      "b'Skipping line 494: expected 1 fields, saw 3\\n'\n",
      "b'Skipping line 489: expected 1 fields, saw 3\\n'\n",
      "b'Skipping line 442: expected 1 fields, saw 3\\n'\n",
      "b'Skipping line 461: expected 1 fields, saw 3\\n'\n",
      "b'Skipping line 514: expected 1 fields, saw 3\\n'\n",
      "b'Skipping line 464: expected 1 fields, saw 3\\n'\n",
      "b'Skipping line 442: expected 1 fields, saw 3\\n'\n"
     ]
    },
    {
     "name": "stdout",
     "output_type": "stream",
     "text": [
      "slurm_GCNGAP_ER.Status_layers_2_pooling_sum_dist_40_lr_0.001_graphfeatsize_150_nhiddim1_50_dropout_0.3_weight_decay_0.001_bsize_10.out\n",
      "slurm_GCNGAP_ER.Status_layers_1_pooling_mean_dist_40_lr_0.01_graphfeatsize_50_nhiddim1_100_dropout_0.3_weight_decay_0.1_bsize_30.out\n",
      "slurm_GCNGAP_ER.Status_layers_2_pooling_att_dist_40_lr_0.01_graphfeatsize_150_nhiddim1_150_dropout_0.3_weight_decay_0.1_bsize_20.out\n",
      "slurm_GCNGAP_ER.Status_layers_2_pooling_mean_dist_40_lr_0.01_graphfeatsize_100_nhiddim1_50_dropout_0.5_weight_decay_0.1_bsize_10.out\n",
      "slurm_GCNGAP_ER.Status_layers_2_pooling_mean_dist_40_lr_0.001_graphfeatsize_150_nhiddim1_100_dropout_0.5_weight_decay_0.001_bsize_30.out\n",
      "slurm_GCNGAP_ER.Status_layers_1_pooling_mean_dist_80_lr_0.001_graphfeatsize_100_nhiddim1_150_dropout_0.5_weight_decay_0.001_bsize_20.out\n",
      "slurm_GCNGAP_ER.Status_layers_1_pooling_sum_dist_40_lr_0.001_graphfeatsize_50_nhiddim1_50_dropout_0.3_weight_decay_0.01_bsize_10.out\n",
      "slurm_GCNGAP_ER.Status_layers_1_pooling_mean_dist_80_lr_0.01_graphfeatsize_50_nhiddim1_100_dropout_0.5_weight_decay_0.01_bsize_10.out\n",
      "slurm_GCNGAP_ER.Status_layers_2_pooling_mean_dist_40_lr_0.01_graphfeatsize_50_nhiddim1_50_dropout_0.5_weight_decay_0.01_bsize_30.out\n",
      "slurm_GCNGAP_ER.Status_layers_2_pooling_sum_dist_40_lr_0.001_graphfeatsize_100_nhiddim1_50_dropout_0.5_weight_decay_0.01_bsize_30.out\n",
      "slurm_GCNGAP_ER.Status_layers_1_pooling_mean_dist_40_lr_0.01_graphfeatsize_100_nhiddim1_150_dropout_0.5_weight_decay_0.1_bsize_30.out\n"
     ]
    },
    {
     "name": "stderr",
     "output_type": "stream",
     "text": [
      "b'Skipping line 443: expected 1 fields, saw 3\\n'\n",
      "b'Skipping line 448: expected 1 fields, saw 3\\n'\n",
      "b'Skipping line 450: expected 1 fields, saw 3\\n'\n",
      "b'Skipping line 475: expected 1 fields, saw 3\\n'\n",
      "b'Skipping line 492: expected 1 fields, saw 3\\n'\n",
      "b'Skipping line 551: expected 1 fields, saw 3\\n'\n",
      "b'Skipping line 660: expected 1 fields, saw 3\\n'\n",
      "b'Skipping line 544: expected 1 fields, saw 3\\n'\n",
      "b'Skipping line 442: expected 1 fields, saw 3\\n'\n",
      "b'Skipping line 446: expected 1 fields, saw 3\\n'\n",
      "b'Skipping line 457: expected 1 fields, saw 3\\n'\n"
     ]
    },
    {
     "name": "stdout",
     "output_type": "stream",
     "text": [
      "slurm_GCNGAP_ER.Status_layers_1_pooling_att_dist_40_lr_0.01_graphfeatsize_50_nhiddim1_50_dropout_0.3_weight_decay_0.001_bsize_20.out\n",
      "slurm_GCNGAP_ER.Status_layers_1_pooling_mean_dist_80_lr_0.001_graphfeatsize_150_nhiddim1_50_dropout_0.3_weight_decay_0.001_bsize_20.out\n",
      "slurm_GCNGAP_ER.Status_layers_1_pooling_mean_dist_80_lr_0.01_graphfeatsize_150_nhiddim1_50_dropout_0.3_weight_decay_0.1_bsize_30.out\n",
      "slurm_GCNGAP_ER.Status_layers_1_pooling_mean_dist_40_lr_0.001_graphfeatsize_100_nhiddim1_50_dropout_0.3_weight_decay_0.001_bsize_10.out\n",
      "slurm_GCNGAP_ER.Status_layers_1_pooling_sum_dist_80_lr_0.01_graphfeatsize_100_nhiddim1_50_dropout_0.3_weight_decay_0.01_bsize_20.out\n",
      "slurm_GCNGAP_ER.Status_layers_2_pooling_att_dist_40_lr_0.01_graphfeatsize_150_nhiddim1_50_dropout_0.3_weight_decay_0.001_bsize_30.out\n",
      "slurm_GCNGAP_ER.Status_layers_1_pooling_mean_dist_80_lr_0.001_graphfeatsize_150_nhiddim1_50_dropout_0.5_weight_decay_0.1_bsize_20.out\n",
      "slurm_GCNGAP_ER.Status_layers_1_pooling_att_dist_40_lr_0.01_graphfeatsize_100_nhiddim1_100_dropout_0.3_weight_decay_0.01_bsize_20.out\n",
      "slurm_GCNGAP_ER.Status_layers_1_pooling_sum_dist_40_lr_0.01_graphfeatsize_150_nhiddim1_50_dropout_0.5_weight_decay_0.01_bsize_10.out\n",
      "slurm_GCNGAP_ER.Status_layers_1_pooling_mean_dist_80_lr_0.001_graphfeatsize_100_nhiddim1_100_dropout_0.3_weight_decay_0.1_bsize_10.out\n",
      "slurm_GCNGAP_ER.Status_layers_2_pooling_mean_dist_40_lr_0.01_graphfeatsize_100_nhiddim1_50_dropout_0.5_weight_decay_0.01_bsize_20.out\n"
     ]
    },
    {
     "name": "stderr",
     "output_type": "stream",
     "text": [
      "b'Skipping line 527: expected 1 fields, saw 3\\n'\n",
      "b'Skipping line 450: expected 1 fields, saw 3\\n'\n",
      "b'Skipping line 502: expected 1 fields, saw 3\\n'\n",
      "b'Skipping line 458: expected 1 fields, saw 3\\n'\n",
      "b'Skipping line 450: expected 1 fields, saw 3\\n'\n",
      "b'Skipping line 478: expected 1 fields, saw 3\\n'\n",
      "b'Skipping line 472: expected 1 fields, saw 3\\n'\n",
      "b'Skipping line 445: expected 1 fields, saw 3\\n'\n",
      "b'Skipping line 457: expected 1 fields, saw 3\\n'\n",
      "b'Skipping line 534: expected 1 fields, saw 3\\n'\n",
      "b'Skipping line 531: expected 1 fields, saw 3\\n'\n"
     ]
    },
    {
     "name": "stdout",
     "output_type": "stream",
     "text": [
      "slurm_GCNGAP_ER.Status_layers_1_pooling_sum_dist_40_lr_0.001_graphfeatsize_100_nhiddim1_150_dropout_0.5_weight_decay_0.1_bsize_20.out\n",
      "slurm_GCNGAP_ER.Status_layers_1_pooling_mean_dist_40_lr_0.001_graphfeatsize_100_nhiddim1_150_dropout_0.3_weight_decay_0.001_bsize_30.out\n",
      "slurm_GCNGAP_ER.Status_layers_1_pooling_mean_dist_80_lr_0.01_graphfeatsize_50_nhiddim1_150_dropout_0.3_weight_decay_0.1_bsize_10.out\n",
      "slurm_GCNGAP_ER.Status_layers_1_pooling_sum_dist_80_lr_0.01_graphfeatsize_150_nhiddim1_150_dropout_0.3_weight_decay_0.001_bsize_10.out\n",
      "not in\n",
      "slurm_GCNGAP_ER.Status_layers_1_pooling_att_dist_40_lr_0.01_graphfeatsize_100_nhiddim1_100_dropout_0.3_weight_decay_0.001_bsize_20.out\n",
      "slurm_GCNGAP_ER.Status_layers_1_pooling_att_dist_40_lr_0.01_graphfeatsize_150_nhiddim1_150_dropout_0.3_weight_decay_0.1_bsize_30.out\n",
      "slurm_GCNGAP_ER.Status_layers_2_pooling_att_dist_40_lr_0.001_graphfeatsize_150_nhiddim1_50_dropout_0.5_weight_decay_0.001_bsize_10.out\n",
      "slurm_GCNGAP_ER.Status_layers_2_pooling_sum_dist_40_lr_0.01_graphfeatsize_50_nhiddim1_150_dropout_0.3_weight_decay_0.001_bsize_30.out\n",
      "slurm_GCNGAP_ER.Status_layers_2_pooling_att_dist_40_lr_0.01_graphfeatsize_50_nhiddim1_100_dropout_0.3_weight_decay_0.001_bsize_20.out\n",
      "slurm_GCNGAP_ER.Status_layers_1_pooling_mean_dist_40_lr_0.001_graphfeatsize_100_nhiddim1_100_dropout_0.3_weight_decay_0.1_bsize_10.out\n",
      "slurm_GCNGAP_ER.Status_layers_1_pooling_mean_dist_40_lr_0.001_graphfeatsize_50_nhiddim1_100_dropout_0.5_weight_decay_0.1_bsize_30.out\n",
      "slurm_GCNGAP_ER.Status_layers_2_pooling_att_dist_40_lr_0.01_graphfeatsize_50_nhiddim1_50_dropout_0.3_weight_decay_0.001_bsize_30.out\n",
      "slurm_GCNGAP_ER.Status_layers_1_pooling_sum_dist_40_lr_0.01_graphfeatsize_150_nhiddim1_100_dropout_0.5_weight_decay_0.001_bsize_20.out\n"
     ]
    },
    {
     "name": "stderr",
     "output_type": "stream",
     "text": [
      "b'Skipping line 515: expected 1 fields, saw 3\\n'\n",
      "b'Skipping line 443: expected 1 fields, saw 3\\n'\n",
      "b'Skipping line 458: expected 1 fields, saw 3\\n'\n",
      "b'Skipping line 444: expected 1 fields, saw 3\\n'\n",
      "b'Skipping line 473: expected 1 fields, saw 3\\n'\n",
      "b'Skipping line 361: expected 1 fields, saw 3\\n'\n",
      "b'Skipping line 450: expected 1 fields, saw 3\\n'\n",
      "b'Skipping line 453: expected 1 fields, saw 3\\n'\n",
      "b'Skipping line 498: expected 1 fields, saw 3\\n'\n",
      "b'Skipping line 459: expected 1 fields, saw 3\\n'\n",
      "b'Skipping line 444: expected 1 fields, saw 3\\n'\n",
      "b'Skipping line 672: expected 1 fields, saw 3\\n'\n"
     ]
    },
    {
     "name": "stdout",
     "output_type": "stream",
     "text": [
      "slurm_GCNGAP_ER.Status_layers_1_pooling_mean_dist_40_lr_0.01_graphfeatsize_50_nhiddim1_50_dropout_0.5_weight_decay_0.01_bsize_20.out\n",
      "slurm_GCNGAP_ER.Status_layers_2_pooling_att_dist_40_lr_0.001_graphfeatsize_50_nhiddim1_50_dropout_0.3_weight_decay_0.001_bsize_10.out\n",
      "slurm_GCNGAP_ER.Status_layers_1_pooling_mean_dist_80_lr_0.01_graphfeatsize_50_nhiddim1_150_dropout_0.5_weight_decay_0.01_bsize_30.out\n",
      "slurm_GCNGAP_ER.Status_layers_2_pooling_mean_dist_40_lr_0.01_graphfeatsize_100_nhiddim1_100_dropout_0.5_weight_decay_0.01_bsize_20.out\n",
      "slurm_GCNGAP_ER.Status_layers_1_pooling_mean_dist_80_lr_0.001_graphfeatsize_50_nhiddim1_100_dropout_0.3_weight_decay_0.001_bsize_30.out\n",
      "slurm_GCNGAP_ER.Status_layers_2_pooling_sum_dist_40_lr_0.01_graphfeatsize_100_nhiddim1_50_dropout_0.5_weight_decay_0.001_bsize_20.out\n",
      "slurm_GCNGAP_ER.Status_layers_1_pooling_att_dist_40_lr_0.01_graphfeatsize_100_nhiddim1_50_dropout_0.3_weight_decay_0.01_bsize_20.out\n",
      "slurm_GCNGAP_ER.Status_layers_2_pooling_mean_dist_40_lr_0.01_graphfeatsize_100_nhiddim1_100_dropout_0.3_weight_decay_0.1_bsize_30.out\n",
      "slurm_GCNGAP_ER.Status_layers_1_pooling_mean_dist_40_lr_0.01_graphfeatsize_100_nhiddim1_50_dropout_0.5_weight_decay_0.001_bsize_10.out\n",
      "slurm_GCNGAP_ER.Status_layers_1_pooling_sum_dist_40_lr_0.001_graphfeatsize_100_nhiddim1_100_dropout_0.3_weight_decay_0.01_bsize_10.out\n",
      "slurm_GCNGAP_ER.Status_layers_1_pooling_sum_dist_40_lr_0.01_graphfeatsize_100_nhiddim1_100_dropout_0.5_weight_decay_0.001_bsize_20.out\n",
      "slurm_GCNGAP_ER.Status_layers_2_pooling_mean_dist_40_lr_0.001_graphfeatsize_50_nhiddim1_150_dropout_0.3_weight_decay_0.001_bsize_10.out\n"
     ]
    },
    {
     "name": "stderr",
     "output_type": "stream",
     "text": [
      "b'Skipping line 478: expected 1 fields, saw 3\\n'\n",
      "b'Skipping line 583: expected 1 fields, saw 3\\n'\n",
      "b'Skipping line 589: expected 1 fields, saw 3\\n'\n",
      "b'Skipping line 525: expected 1 fields, saw 3\\n'\n",
      "b'Skipping line 361: expected 1 fields, saw 3\\n'\n",
      "b'Skipping line 480: expected 1 fields, saw 3\\n'\n",
      "b'Skipping line 443: expected 1 fields, saw 3\\n'\n",
      "b'Skipping line 466: expected 1 fields, saw 3\\n'\n",
      "b'Skipping line 442: expected 1 fields, saw 3\\n'\n",
      "b'Skipping line 361: expected 1 fields, saw 3\\n'\n",
      "b'Skipping line 478: expected 1 fields, saw 3\\n'\n",
      "b'Skipping line 369: expected 1 fields, saw 3\\n'\n"
     ]
    },
    {
     "name": "stdout",
     "output_type": "stream",
     "text": [
      "slurm_GCNGAP_ER.Status_layers_1_pooling_sum_dist_40_lr_0.01_graphfeatsize_100_nhiddim1_150_dropout_0.5_weight_decay_0.01_bsize_20.out\n",
      "slurm_GCNGAP_ER.Status_layers_2_pooling_att_dist_40_lr_0.001_graphfeatsize_50_nhiddim1_50_dropout_0.5_weight_decay_0.1_bsize_20.out\n",
      "slurm_GCNGAP_ER.Status_layers_1_pooling_sum_dist_40_lr_0.01_graphfeatsize_50_nhiddim1_50_dropout_0.3_weight_decay_0.1_bsize_20.out\n",
      "slurm_GCNGAP_ER.Status_layers_1_pooling_sum_dist_40_lr_0.01_graphfeatsize_100_nhiddim1_50_dropout_0.5_weight_decay_0.1_bsize_30.out\n",
      "slurm_GCNGAP_ER.Status_layers_2_pooling_mean_dist_40_lr_0.01_graphfeatsize_50_nhiddim1_100_dropout_0.3_weight_decay_0.1_bsize_20.out\n",
      "slurm_GCNGAP_ER.Status_layers_2_pooling_sum_dist_40_lr_0.001_graphfeatsize_100_nhiddim1_100_dropout_0.3_weight_decay_0.1_bsize_20.out\n",
      "slurm_GCNGAP_ER.Status_layers_1_pooling_att_dist_40_lr_0.001_graphfeatsize_150_nhiddim1_100_dropout_0.5_weight_decay_0.01_bsize_20.out\n",
      "slurm_GCNGAP_ER.Status_layers_1_pooling_sum_dist_80_lr_0.01_graphfeatsize_50_nhiddim1_50_dropout_0.3_weight_decay_0.001_bsize_20.out\n",
      "not in\n",
      "slurm_GCNGAP_ER.Status_layers_1_pooling_sum_dist_40_lr_0.01_graphfeatsize_50_nhiddim1_50_dropout_0.5_weight_decay_0.01_bsize_10.out\n",
      "slurm_GCNGAP_ER.Status_layers_1_pooling_sum_dist_80_lr_0.001_graphfeatsize_50_nhiddim1_150_dropout_0.5_weight_decay_0.1_bsize_10.out\n",
      "slurm_GCNGAP_ER.Status_layers_2_pooling_sum_dist_40_lr_0.001_graphfeatsize_50_nhiddim1_100_dropout_0.3_weight_decay_0.01_bsize_10.out\n",
      "slurm_GCNGAP_ER.Status_layers_2_pooling_sum_dist_40_lr_0.001_graphfeatsize_150_nhiddim1_150_dropout_0.3_weight_decay_0.001_bsize_10.out\n",
      "slurm_GCNGAP_ER.Status_layers_1_pooling_mean_dist_80_lr_0.01_graphfeatsize_50_nhiddim1_50_dropout_0.5_weight_decay_0.1_bsize_20.out\n"
     ]
    },
    {
     "name": "stderr",
     "output_type": "stream",
     "text": [
      "b'Skipping line 453: expected 1 fields, saw 3\\n'\n",
      "b'Skipping line 529: expected 1 fields, saw 3\\n'\n",
      "b'Skipping line 448: expected 1 fields, saw 3\\n'\n",
      "b'Skipping line 443: expected 1 fields, saw 3\\n'\n",
      "b'Skipping line 483: expected 1 fields, saw 3\\n'\n",
      "b'Skipping line 514: expected 1 fields, saw 3\\n'\n",
      "b'Skipping line 445: expected 1 fields, saw 3\\n'\n",
      "b'Skipping line 510: expected 1 fields, saw 3\\n'\n",
      "b'Skipping line 442: expected 1 fields, saw 3\\n'\n",
      "b'Skipping line 442: expected 1 fields, saw 3\\n'\n",
      "b'Skipping line 444: expected 1 fields, saw 3\\n'\n"
     ]
    },
    {
     "name": "stdout",
     "output_type": "stream",
     "text": [
      "slurm_GCNGAP_ER.Status_layers_2_pooling_mean_dist_40_lr_0.001_graphfeatsize_150_nhiddim1_100_dropout_0.3_weight_decay_0.1_bsize_20.out\n",
      "slurm_GCNGAP_ER.Status_layers_2_pooling_att_dist_40_lr_0.001_graphfeatsize_150_nhiddim1_100_dropout_0.5_weight_decay_0.001_bsize_10.out\n",
      "slurm_GCNGAP_ER.Status_layers_2_pooling_sum_dist_40_lr_0.001_graphfeatsize_150_nhiddim1_150_dropout_0.5_weight_decay_0.01_bsize_10.out\n",
      "slurm_GCNGAP_ER.Status_layers_1_pooling_mean_dist_80_lr_0.01_graphfeatsize_100_nhiddim1_50_dropout_0.3_weight_decay_0.01_bsize_30.out\n",
      "slurm_GCNGAP_ER.Status_layers_2_pooling_sum_dist_40_lr_0.01_graphfeatsize_150_nhiddim1_150_dropout_0.3_weight_decay_0.01_bsize_10.out\n",
      "slurm_GCNGAP_ER.Status_layers_1_pooling_sum_dist_80_lr_0.01_graphfeatsize_100_nhiddim1_50_dropout_0.3_weight_decay_0.001_bsize_20.out\n",
      "slurm_GCNGAP_ER.Status_layers_2_pooling_mean_dist_40_lr_0.01_graphfeatsize_150_nhiddim1_150_dropout_0.3_weight_decay_0.001_bsize_20.out\n",
      "slurm_GCNGAP_ER.Status_layers_2_pooling_sum_dist_40_lr_0.001_graphfeatsize_50_nhiddim1_100_dropout_0.5_weight_decay_0.1_bsize_30.out\n",
      "slurm_GCNGAP_ER.Status_layers_2_pooling_sum_dist_40_lr_0.01_graphfeatsize_150_nhiddim1_100_dropout_0.3_weight_decay_0.001_bsize_30.out\n",
      "slurm_GCNGAP_ER.Status_layers_1_pooling_att_dist_40_lr_0.01_graphfeatsize_150_nhiddim1_50_dropout_0.5_weight_decay_0.001_bsize_30.out\n",
      "slurm_GCNGAP_ER.Status_layers_2_pooling_att_dist_40_lr_0.01_graphfeatsize_50_nhiddim1_50_dropout_0.5_weight_decay_0.01_bsize_30.out\n",
      "slurm_GCNGAP_ER.Status_layers_1_pooling_sum_dist_40_lr_0.01_graphfeatsize_100_nhiddim1_150_dropout_0.5_weight_decay_0.1_bsize_20.out\n"
     ]
    },
    {
     "name": "stderr",
     "output_type": "stream",
     "text": [
      "b'Skipping line 451: expected 1 fields, saw 3\\n'\n",
      "b'Skipping line 456: expected 1 fields, saw 3\\n'\n",
      "b'Skipping line 444: expected 1 fields, saw 3\\n'\n",
      "b'Skipping line 547: expected 1 fields, saw 3\\n'\n",
      "b'Skipping line 475: expected 1 fields, saw 3\\n'\n",
      "b'Skipping line 442: expected 1 fields, saw 3\\n'\n",
      "b'Skipping line 455: expected 1 fields, saw 3\\n'\n",
      "b'Skipping line 464: expected 1 fields, saw 3\\n'\n",
      "b'Skipping line 361: expected 1 fields, saw 3\\n'\n",
      "b'Skipping line 465: expected 1 fields, saw 3\\n'\n",
      "b'Skipping line 558: expected 1 fields, saw 3\\n'\n",
      "b'Skipping line 451: expected 1 fields, saw 3\\n'\n",
      "b'Skipping line 444: expected 1 fields, saw 3\\n'\n"
     ]
    },
    {
     "name": "stdout",
     "output_type": "stream",
     "text": [
      "slurm_GCNGAP_ER.Status_layers_1_pooling_sum_dist_40_lr_0.001_graphfeatsize_150_nhiddim1_50_dropout_0.5_weight_decay_0.01_bsize_10.out\n",
      "slurm_GCNGAP_ER.Status_layers_2_pooling_mean_dist_40_lr_0.01_graphfeatsize_150_nhiddim1_150_dropout_0.5_weight_decay_0.1_bsize_10.out\n",
      "slurm_GCNGAP_ER.Status_layers_2_pooling_att_dist_40_lr_0.001_graphfeatsize_100_nhiddim1_150_dropout_0.3_weight_decay_0.01_bsize_20.out\n",
      "slurm_GCNGAP_ER.Status_layers_1_pooling_att_dist_40_lr_0.001_graphfeatsize_100_nhiddim1_150_dropout_0.3_weight_decay_0.1_bsize_20.out\n",
      "slurm_GCNGAP_ER.Status_layers_2_pooling_att_dist_40_lr_0.01_graphfeatsize_100_nhiddim1_50_dropout_0.5_weight_decay_0.1_bsize_10.out\n",
      "slurm_GCNGAP_ER.Status_layers_2_pooling_mean_dist_40_lr_0.001_graphfeatsize_150_nhiddim1_150_dropout_0.3_weight_decay_0.01_bsize_30.out\n",
      "slurm_GCNGAP_ER.Status_layers_1_pooling_mean_dist_40_lr_0.001_graphfeatsize_100_nhiddim1_150_dropout_0.5_weight_decay_0.01_bsize_10.out\n",
      "slurm_GCNGAP_ER.Status_layers_2_pooling_mean_dist_40_lr_0.01_graphfeatsize_50_nhiddim1_150_dropout_0.5_weight_decay_0.001_bsize_10.out\n",
      "slurm_GCNGAP_ER.Status_layers_2_pooling_att_dist_40_lr_0.01_graphfeatsize_150_nhiddim1_150_dropout_0.5_weight_decay_0.01_bsize_30.out\n",
      "slurm_GCNGAP_ER.Status_layers_1_pooling_mean_dist_80_lr_0.01_graphfeatsize_150_nhiddim1_150_dropout_0.3_weight_decay_0.1_bsize_20.out\n",
      "slurm_GCNGAP_ER.Status_layers_2_pooling_sum_dist_40_lr_0.001_graphfeatsize_100_nhiddim1_150_dropout_0.3_weight_decay_0.001_bsize_10.out\n",
      "slurm_GCNGAP_ER.Status_layers_1_pooling_sum_dist_40_lr_0.001_graphfeatsize_100_nhiddim1_50_dropout_0.3_weight_decay_0.1_bsize_10.out\n"
     ]
    },
    {
     "name": "stderr",
     "output_type": "stream",
     "text": [
      "b'Skipping line 453: expected 1 fields, saw 3\\n'\n",
      "b'Skipping line 558: expected 1 fields, saw 3\\n'\n",
      "b'Skipping line 458: expected 1 fields, saw 3\\n'\n",
      "b'Skipping line 447: expected 1 fields, saw 3\\n'\n",
      "b'Skipping line 556: expected 1 fields, saw 3\\n'\n",
      "b'Skipping line 728: expected 1 fields, saw 3\\n'\n",
      "b'Skipping line 501: expected 1 fields, saw 3\\n'\n",
      "b'Skipping line 560: expected 1 fields, saw 3\\n'\n",
      "b'Skipping line 446: expected 1 fields, saw 3\\n'\n",
      "b'Skipping line 443: expected 1 fields, saw 3\\n'\n",
      "b'Skipping line 558: expected 1 fields, saw 3\\n'\n",
      "b'Skipping line 697: expected 1 fields, saw 3\\n'\n"
     ]
    },
    {
     "name": "stdout",
     "output_type": "stream",
     "text": [
      "slurm_GCNGAP_ER.Status_layers_2_pooling_att_dist_40_lr_0.001_graphfeatsize_50_nhiddim1_100_dropout_0.5_weight_decay_0.01_bsize_30.out\n",
      "slurm_GCNGAP_ER.Status_layers_2_pooling_att_dist_40_lr_0.01_graphfeatsize_50_nhiddim1_100_dropout_0.5_weight_decay_0.01_bsize_10.out\n",
      "slurm_GCNGAP_ER.Status_layers_2_pooling_att_dist_40_lr_0.001_graphfeatsize_100_nhiddim1_100_dropout_0.5_weight_decay_0.001_bsize_10.out\n",
      "slurm_GCNGAP_ER.Status_layers_1_pooling_mean_dist_40_lr_0.001_graphfeatsize_150_nhiddim1_150_dropout_0.5_weight_decay_0.1_bsize_30.out\n",
      "slurm_GCNGAP_ER.Status_layers_1_pooling_sum_dist_40_lr_0.001_graphfeatsize_50_nhiddim1_100_dropout_0.5_weight_decay_0.001_bsize_10.out\n",
      "slurm_GCNGAP_ER.Status_layers_1_pooling_mean_dist_40_lr_0.01_graphfeatsize_150_nhiddim1_150_dropout_0.3_weight_decay_0.01_bsize_20.out\n",
      "slurm_GCNGAP_ER.Status_layers_1_pooling_mean_dist_40_lr_0.001_graphfeatsize_50_nhiddim1_50_dropout_0.5_weight_decay_0.1_bsize_30.out\n",
      "slurm_GCNGAP_ER.Status_layers_1_pooling_att_dist_40_lr_0.01_graphfeatsize_100_nhiddim1_100_dropout_0.5_weight_decay_0.1_bsize_10.out\n",
      "slurm_GCNGAP_ER.Status_layers_2_pooling_mean_dist_40_lr_0.01_graphfeatsize_100_nhiddim1_150_dropout_0.3_weight_decay_0.001_bsize_20.out\n",
      "slurm_GCNGAP_ER.Status_layers_2_pooling_sum_dist_40_lr_0.01_graphfeatsize_100_nhiddim1_100_dropout_0.3_weight_decay_0.001_bsize_30.out\n",
      "slurm_GCNGAP_ER.Status_layers_1_pooling_att_dist_40_lr_0.001_graphfeatsize_150_nhiddim1_50_dropout_0.3_weight_decay_0.01_bsize_30.out\n",
      "slurm_GCNGAP_ER.Status_layers_2_pooling_att_dist_40_lr_0.001_graphfeatsize_150_nhiddim1_50_dropout_0.5_weight_decay_0.1_bsize_20.out\n"
     ]
    },
    {
     "name": "stderr",
     "output_type": "stream",
     "text": [
      "b'Skipping line 579: expected 1 fields, saw 3\\n'\n",
      "b'Skipping line 465: expected 1 fields, saw 3\\n'\n",
      "b'Skipping line 487: expected 1 fields, saw 3\\n'\n",
      "b'Skipping line 442: expected 1 fields, saw 3\\n'\n",
      "b'Skipping line 721: expected 1 fields, saw 3\\n'\n",
      "b'Skipping line 492: expected 1 fields, saw 3\\n'\n",
      "b'Skipping line 443: expected 1 fields, saw 3\\n'\n",
      "b'Skipping line 463: expected 1 fields, saw 3\\n'\n",
      "b'Skipping line 361: expected 1 fields, saw 3\\n'\n",
      "b'Skipping line 553: expected 1 fields, saw 3\\n'\n",
      "b'Skipping line 452: expected 1 fields, saw 3\\n'\n",
      "b'Skipping line 714: expected 1 fields, saw 3\\n'\n"
     ]
    },
    {
     "name": "stdout",
     "output_type": "stream",
     "text": [
      "slurm_GCNGAP_ER.Status_layers_1_pooling_mean_dist_40_lr_0.001_graphfeatsize_50_nhiddim1_100_dropout_0.3_weight_decay_0.01_bsize_20.out\n",
      "slurm_GCNGAP_ER.Status_layers_1_pooling_att_dist_40_lr_0.01_graphfeatsize_50_nhiddim1_150_dropout_0.5_weight_decay_0.01_bsize_20.out\n",
      "slurm_GCNGAP_ER.Status_layers_1_pooling_mean_dist_80_lr_0.001_graphfeatsize_150_nhiddim1_150_dropout_0.5_weight_decay_0.01_bsize_20.out\n",
      "slurm_GCNGAP_ER.Status_layers_1_pooling_mean_dist_80_lr_0.001_graphfeatsize_150_nhiddim1_150_dropout_0.5_weight_decay_0.1_bsize_30.out\n",
      "slurm_GCNGAP_ER.Status_layers_1_pooling_mean_dist_80_lr_0.01_graphfeatsize_150_nhiddim1_150_dropout_0.3_weight_decay_0.01_bsize_20.out\n",
      "slurm_GCNGAP_ER.Status_layers_1_pooling_mean_dist_80_lr_0.01_graphfeatsize_50_nhiddim1_50_dropout_0.3_weight_decay_0.001_bsize_30.out\n",
      "slurm_GCNGAP_ER.Status_layers_2_pooling_att_dist_40_lr_0.01_graphfeatsize_50_nhiddim1_100_dropout_0.3_weight_decay_0.1_bsize_20.out\n",
      "slurm_GCNGAP_ER.Status_layers_2_pooling_att_dist_40_lr_0.01_graphfeatsize_150_nhiddim1_100_dropout_0.5_weight_decay_0.001_bsize_30.out\n",
      "slurm_GCNGAP_ER.Status_layers_1_pooling_mean_dist_80_lr_0.001_graphfeatsize_50_nhiddim1_100_dropout_0.3_weight_decay_0.01_bsize_20.out\n",
      "slurm_GCNGAP_ER.Status_layers_1_pooling_att_dist_40_lr_0.001_graphfeatsize_50_nhiddim1_150_dropout_0.5_weight_decay_0.1_bsize_10.out\n",
      "slurm_GCNGAP_ER.Status_layers_2_pooling_mean_dist_40_lr_0.001_graphfeatsize_150_nhiddim1_100_dropout_0.3_weight_decay_0.01_bsize_10.out\n"
     ]
    },
    {
     "name": "stderr",
     "output_type": "stream",
     "text": [
      "b'Skipping line 480: expected 1 fields, saw 3\\n'\n",
      "b'Skipping line 582: expected 1 fields, saw 3\\n'\n",
      "b'Skipping line 486: expected 1 fields, saw 3\\n'\n",
      "b'Skipping line 740: expected 1 fields, saw 3\\n'\n",
      "b'Skipping line 462: expected 1 fields, saw 3\\n'\n",
      "b'Skipping line 443: expected 1 fields, saw 3\\n'\n",
      "b'Skipping line 454: expected 1 fields, saw 3\\n'\n",
      "b'Skipping line 690: expected 1 fields, saw 3\\n'\n",
      "b'Skipping line 465: expected 1 fields, saw 3\\n'\n",
      "b'Skipping line 529: expected 1 fields, saw 3\\n'\n",
      "b'Skipping line 696: expected 1 fields, saw 3\\n'\n"
     ]
    },
    {
     "name": "stdout",
     "output_type": "stream",
     "text": [
      "slurm_GCNGAP_ER.Status_layers_1_pooling_mean_dist_40_lr_0.001_graphfeatsize_100_nhiddim1_100_dropout_0.5_weight_decay_0.01_bsize_30.out\n",
      "slurm_GCNGAP_ER.Status_layers_2_pooling_mean_dist_40_lr_0.001_graphfeatsize_150_nhiddim1_50_dropout_0.5_weight_decay_0.01_bsize_30.out\n",
      "slurm_GCNGAP_ER.Status_layers_2_pooling_mean_dist_40_lr_0.001_graphfeatsize_50_nhiddim1_50_dropout_0.5_weight_decay_0.1_bsize_20.out\n",
      "slurm_GCNGAP_ER.Status_layers_1_pooling_mean_dist_40_lr_0.01_graphfeatsize_150_nhiddim1_150_dropout_0.5_weight_decay_0.001_bsize_30.out\n",
      "slurm_GCNGAP_ER.Status_layers_2_pooling_att_dist_40_lr_0.01_graphfeatsize_150_nhiddim1_100_dropout_0.5_weight_decay_0.01_bsize_10.out\n",
      "slurm_GCNGAP_ER.Status_layers_2_pooling_att_dist_40_lr_0.001_graphfeatsize_100_nhiddim1_100_dropout_0.5_weight_decay_0.1_bsize_20.out\n",
      "slurm_GCNGAP_ER.Status_layers_1_pooling_mean_dist_40_lr_0.01_graphfeatsize_150_nhiddim1_100_dropout_0.3_weight_decay_0.1_bsize_10.out\n",
      "slurm_GCNGAP_ER.Status_layers_2_pooling_att_dist_40_lr_0.01_graphfeatsize_50_nhiddim1_150_dropout_0.5_weight_decay_0.01_bsize_30.out\n",
      "slurm_GCNGAP_ER.Status_layers_1_pooling_att_dist_40_lr_0.001_graphfeatsize_150_nhiddim1_50_dropout_0.5_weight_decay_0.1_bsize_30.out\n",
      "slurm_GCNGAP_ER.Status_layers_2_pooling_att_dist_40_lr_0.001_graphfeatsize_50_nhiddim1_150_dropout_0.5_weight_decay_0.01_bsize_10.out\n",
      "slurm_GCNGAP_ER.Status_layers_1_pooling_sum_dist_80_lr_0.001_graphfeatsize_150_nhiddim1_150_dropout_0.3_weight_decay_0.001_bsize_10.out\n"
     ]
    },
    {
     "name": "stderr",
     "output_type": "stream",
     "text": [
      "b'Skipping line 606: expected 1 fields, saw 3\\n'\n",
      "b'Skipping line 457: expected 1 fields, saw 3\\n'\n",
      "b'Skipping line 492: expected 1 fields, saw 3\\n'\n",
      "b'Skipping line 536: expected 1 fields, saw 3\\n'\n",
      "b'Skipping line 454: expected 1 fields, saw 3\\n'\n",
      "b'Skipping line 444: expected 1 fields, saw 3\\n'\n",
      "b'Skipping line 567: expected 1 fields, saw 3\\n'\n",
      "b'Skipping line 499: expected 1 fields, saw 3\\n'\n",
      "b'Skipping line 558: expected 1 fields, saw 3\\n'\n",
      "b'Skipping line 442: expected 1 fields, saw 3\\n'\n",
      "b'Skipping line 457: expected 1 fields, saw 3\\n'\n"
     ]
    },
    {
     "name": "stdout",
     "output_type": "stream",
     "text": [
      "slurm_GCNGAP_ER.Status_layers_1_pooling_att_dist_40_lr_0.01_graphfeatsize_50_nhiddim1_100_dropout_0.5_weight_decay_0.001_bsize_20.out\n",
      "slurm_GCNGAP_ER.Status_layers_2_pooling_att_dist_40_lr_0.01_graphfeatsize_100_nhiddim1_100_dropout_0.5_weight_decay_0.001_bsize_30.out\n",
      "slurm_GCNGAP_ER.Status_layers_1_pooling_sum_dist_40_lr_0.01_graphfeatsize_50_nhiddim1_150_dropout_0.5_weight_decay_0.001_bsize_30.out\n",
      "slurm_GCNGAP_ER.Status_layers_1_pooling_sum_dist_80_lr_0.01_graphfeatsize_100_nhiddim1_100_dropout_0.5_weight_decay_0.1_bsize_10.out\n",
      "slurm_GCNGAP_ER.Status_layers_1_pooling_sum_dist_80_lr_0.001_graphfeatsize_150_nhiddim1_50_dropout_0.5_weight_decay_0.01_bsize_10.out\n",
      "slurm_GCNGAP_ER.Status_layers_2_pooling_sum_dist_40_lr_0.01_graphfeatsize_150_nhiddim1_50_dropout_0.5_weight_decay_0.1_bsize_30.out\n",
      "slurm_GCNGAP_ER.Status_layers_2_pooling_sum_dist_40_lr_0.01_graphfeatsize_50_nhiddim1_150_dropout_0.5_weight_decay_0.1_bsize_10.out\n",
      "slurm_GCNGAP_ER.Status_layers_1_pooling_att_dist_40_lr_0.001_graphfeatsize_50_nhiddim1_50_dropout_0.5_weight_decay_0.001_bsize_10.out\n",
      "slurm_GCNGAP_ER.Status_layers_2_pooling_mean_dist_40_lr_0.01_graphfeatsize_50_nhiddim1_150_dropout_0.3_weight_decay_0.01_bsize_20.out\n",
      "slurm_GCNGAP_ER.Status_layers_1_pooling_att_dist_40_lr_0.001_graphfeatsize_50_nhiddim1_100_dropout_0.3_weight_decay_0.001_bsize_10.out\n",
      "slurm_GCNGAP_ER.Status_layers_2_pooling_sum_dist_40_lr_0.001_graphfeatsize_50_nhiddim1_150_dropout_0.3_weight_decay_0.01_bsize_30.out\n"
     ]
    },
    {
     "name": "stderr",
     "output_type": "stream",
     "text": [
      "b'Skipping line 459: expected 1 fields, saw 3\\n'\n",
      "b'Skipping line 442: expected 1 fields, saw 3\\n'\n",
      "b'Skipping line 564: expected 1 fields, saw 3\\n'\n",
      "b'Skipping line 479: expected 1 fields, saw 3\\n'\n",
      "b'Skipping line 533: expected 1 fields, saw 3\\n'\n",
      "b'Skipping line 604: expected 1 fields, saw 3\\n'\n",
      "b'Skipping line 483: expected 1 fields, saw 3\\n'\n",
      "b'Skipping line 521: expected 1 fields, saw 3\\n'\n",
      "b'Skipping line 476: expected 1 fields, saw 3\\n'\n",
      "b'Skipping line 471: expected 1 fields, saw 3\\n'\n",
      "b'Skipping line 463: expected 1 fields, saw 3\\n'\n"
     ]
    },
    {
     "name": "stdout",
     "output_type": "stream",
     "text": [
      "slurm_GCNGAP_ER.Status_layers_1_pooling_sum_dist_40_lr_0.001_graphfeatsize_50_nhiddim1_100_dropout_0.5_weight_decay_0.1_bsize_20.out\n",
      "slurm_GCNGAP_ER.Status_layers_2_pooling_sum_dist_40_lr_0.01_graphfeatsize_100_nhiddim1_150_dropout_0.5_weight_decay_0.1_bsize_30.out\n",
      "slurm_GCNGAP_ER.Status_layers_1_pooling_sum_dist_80_lr_0.001_graphfeatsize_100_nhiddim1_150_dropout_0.3_weight_decay_0.001_bsize_10.out\n",
      "slurm_GCNGAP_ER.Status_layers_2_pooling_sum_dist_40_lr_0.01_graphfeatsize_150_nhiddim1_100_dropout_0.3_weight_decay_0.01_bsize_30.out\n",
      "slurm_GCNGAP_ER.Status_layers_1_pooling_sum_dist_40_lr_0.01_graphfeatsize_100_nhiddim1_50_dropout_0.3_weight_decay_0.001_bsize_20.out\n",
      "slurm_GCNGAP_ER.Status_layers_2_pooling_sum_dist_40_lr_0.001_graphfeatsize_150_nhiddim1_100_dropout_0.5_weight_decay_0.01_bsize_30.out\n",
      "slurm_GCNGAP_ER.Status_layers_1_pooling_mean_dist_40_lr_0.01_graphfeatsize_100_nhiddim1_150_dropout_0.5_weight_decay_0.001_bsize_30.out\n"
     ]
    },
    {
     "name": "stderr",
     "output_type": "stream",
     "text": [
      "b'Skipping line 529: expected 1 fields, saw 3\\n'\n",
      "b'Skipping line 443: expected 1 fields, saw 3\\n'\n",
      "b'Skipping line 516: expected 1 fields, saw 3\\n'\n",
      "b'Skipping line 361: expected 1 fields, saw 3\\n'\n",
      "b'Skipping line 482: expected 1 fields, saw 3\\n'\n",
      "b'Skipping line 454: expected 1 fields, saw 3\\n'\n"
     ]
    }
   ],
   "source": [
    "lrs = []\n",
    "layers = []\n",
    "pooling = []\n",
    "gfeat = []\n",
    "hidfeat = []\n",
    "dout = []\n",
    "wd =[]\n",
    "bs = []\n",
    "dth = []\n",
    "acc_pat_train = []\n",
    "acc_pat_test = []\n",
    "loss_pat_train = []\n",
    "loss_pat_test = []\n",
    "label = []\n",
    "distances = []\n",
    "for eachFile in files_out:\n",
    "    try:\n",
    "        filename = mydir+'/'+eachFile\n",
    "        print(eachFile)\n",
    "        df = pd.read_csv(filename,header = None, error_bad_lines=False)\n",
    "        temp = df[df[0].str.contains(\"Epoch\")]\n",
    "        temp = temp.reset_index()\n",
    "        temp = temp[0]\n",
    "        A = temp.str.split(pat = ' ',expand=True)\n",
    "        A = A.rename(columns={1: \"epoch\", 4: \"loss\",7:\"acc\",11:\"loss_test\",14:\"acc_test\"})\n",
    "        A = A.drop(columns=[0,2,3,5,6,8,9,10,12,13])\n",
    "        A[['loss_test','delete']] = A.loss_test.str.split(\"|\",n=2,expand=True) \n",
    "        A = A.drop(columns=['delete'])\n",
    "        for i in ['epoch', 'loss', 'acc', 'loss_test', 'acc_test']:\n",
    "            A[i] = A[i].astype(float)\n",
    "        df_patience = A\n",
    "        acc_pat_train.append(df_patience.acc_test.iloc[len(df_patience)-1])\n",
    "        acc_pat_test.append(df_patience.acc.iloc[len(df_patience)-1])\n",
    "        loss_pat_train.append(df_patience.loss.iloc[len(df_patience)-1])\n",
    "        loss_pat_test.append(df_patience.loss_test.iloc[len(df_patience)-1])\n",
    "        names = eachFile.split('_')\n",
    "        distances.append(names[8])\n",
    "        label.append(names[2])\n",
    "        layers.append(float(names[4]))\n",
    "        pooling.append(str(names[6]))\n",
    "        lrs.append(float(names[10]))\n",
    "        gfeat.append(float(names[12]))\n",
    "        hidfeat.append(float(names[14]))\n",
    "        dout.append(float(names[16]))\n",
    "        wd.append(float(names[19]))\n",
    "        last = names[21].split('.')\n",
    "        bs.append(float(last[0]))\n",
    "    except:\n",
    "        print('not in')\n",
    "        "
   ]
  },
  {
   "cell_type": "code",
   "execution_count": 7,
   "metadata": {},
   "outputs": [
    {
     "data": {
      "text/html": [
       "<div>\n",
       "<style scoped>\n",
       "    .dataframe tbody tr th:only-of-type {\n",
       "        vertical-align: middle;\n",
       "    }\n",
       "\n",
       "    .dataframe tbody tr th {\n",
       "        vertical-align: top;\n",
       "    }\n",
       "\n",
       "    .dataframe thead th {\n",
       "        text-align: right;\n",
       "    }\n",
       "</style>\n",
       "<table border=\"1\" class=\"dataframe\">\n",
       "  <thead>\n",
       "    <tr style=\"text-align: right;\">\n",
       "      <th></th>\n",
       "      <th>label</th>\n",
       "      <th>distance</th>\n",
       "      <th>layers</th>\n",
       "      <th>pooling</th>\n",
       "      <th>lr</th>\n",
       "      <th>gfeat</th>\n",
       "      <th>hidfeat</th>\n",
       "      <th>dout</th>\n",
       "      <th>wd</th>\n",
       "      <th>bs</th>\n",
       "      <th>acc_pat_dev</th>\n",
       "      <th>acc_pat_train</th>\n",
       "      <th>loss_pat_train</th>\n",
       "      <th>loss_pat_dev</th>\n",
       "    </tr>\n",
       "  </thead>\n",
       "  <tbody>\n",
       "    <tr>\n",
       "      <th>0</th>\n",
       "      <td>ER.Status</td>\n",
       "      <td>40</td>\n",
       "      <td>1.0</td>\n",
       "      <td>mean</td>\n",
       "      <td>0.001</td>\n",
       "      <td>100.0</td>\n",
       "      <td>100.0</td>\n",
       "      <td>0.5</td>\n",
       "      <td>0.001</td>\n",
       "      <td>10.0</td>\n",
       "      <td>0.7868</td>\n",
       "      <td>0.9722</td>\n",
       "      <td>0.0361</td>\n",
       "      <td>0.2123</td>\n",
       "    </tr>\n",
       "    <tr>\n",
       "      <th>1</th>\n",
       "      <td>ER.Status</td>\n",
       "      <td>40</td>\n",
       "      <td>2.0</td>\n",
       "      <td>mean</td>\n",
       "      <td>0.010</td>\n",
       "      <td>50.0</td>\n",
       "      <td>150.0</td>\n",
       "      <td>0.3</td>\n",
       "      <td>0.100</td>\n",
       "      <td>10.0</td>\n",
       "      <td>0.5000</td>\n",
       "      <td>0.5833</td>\n",
       "      <td>0.4919</td>\n",
       "      <td>0.5362</td>\n",
       "    </tr>\n",
       "    <tr>\n",
       "      <th>2</th>\n",
       "      <td>ER.Status</td>\n",
       "      <td>40</td>\n",
       "      <td>2.0</td>\n",
       "      <td>sum</td>\n",
       "      <td>0.001</td>\n",
       "      <td>100.0</td>\n",
       "      <td>150.0</td>\n",
       "      <td>0.3</td>\n",
       "      <td>0.100</td>\n",
       "      <td>10.0</td>\n",
       "      <td>0.7387</td>\n",
       "      <td>0.9123</td>\n",
       "      <td>0.0795</td>\n",
       "      <td>0.4017</td>\n",
       "    </tr>\n",
       "    <tr>\n",
       "      <th>3</th>\n",
       "      <td>ER.Status</td>\n",
       "      <td>40</td>\n",
       "      <td>2.0</td>\n",
       "      <td>att</td>\n",
       "      <td>0.001</td>\n",
       "      <td>150.0</td>\n",
       "      <td>50.0</td>\n",
       "      <td>0.5</td>\n",
       "      <td>0.010</td>\n",
       "      <td>20.0</td>\n",
       "      <td>0.8231</td>\n",
       "      <td>0.9264</td>\n",
       "      <td>0.1062</td>\n",
       "      <td>0.1693</td>\n",
       "    </tr>\n",
       "    <tr>\n",
       "      <th>4</th>\n",
       "      <td>ER.Status</td>\n",
       "      <td>40</td>\n",
       "      <td>2.0</td>\n",
       "      <td>mean</td>\n",
       "      <td>0.010</td>\n",
       "      <td>150.0</td>\n",
       "      <td>50.0</td>\n",
       "      <td>0.3</td>\n",
       "      <td>0.100</td>\n",
       "      <td>30.0</td>\n",
       "      <td>0.5000</td>\n",
       "      <td>0.5000</td>\n",
       "      <td>0.4894</td>\n",
       "      <td>0.5348</td>\n",
       "    </tr>\n",
       "    <tr>\n",
       "      <th>...</th>\n",
       "      <td>...</td>\n",
       "      <td>...</td>\n",
       "      <td>...</td>\n",
       "      <td>...</td>\n",
       "      <td>...</td>\n",
       "      <td>...</td>\n",
       "      <td>...</td>\n",
       "      <td>...</td>\n",
       "      <td>...</td>\n",
       "      <td>...</td>\n",
       "      <td>...</td>\n",
       "      <td>...</td>\n",
       "      <td>...</td>\n",
       "      <td>...</td>\n",
       "    </tr>\n",
       "    <tr>\n",
       "      <th>2377</th>\n",
       "      <td>ER.Status</td>\n",
       "      <td>40</td>\n",
       "      <td>2.0</td>\n",
       "      <td>sum</td>\n",
       "      <td>0.010</td>\n",
       "      <td>100.0</td>\n",
       "      <td>150.0</td>\n",
       "      <td>0.5</td>\n",
       "      <td>0.100</td>\n",
       "      <td>30.0</td>\n",
       "      <td>0.5000</td>\n",
       "      <td>0.5000</td>\n",
       "      <td>17.5000</td>\n",
       "      <td>22.1154</td>\n",
       "    </tr>\n",
       "    <tr>\n",
       "      <th>2379</th>\n",
       "      <td>ER.Status</td>\n",
       "      <td>40</td>\n",
       "      <td>2.0</td>\n",
       "      <td>sum</td>\n",
       "      <td>0.010</td>\n",
       "      <td>150.0</td>\n",
       "      <td>100.0</td>\n",
       "      <td>0.3</td>\n",
       "      <td>0.010</td>\n",
       "      <td>30.0</td>\n",
       "      <td>0.5000</td>\n",
       "      <td>0.5000</td>\n",
       "      <td>17.5006</td>\n",
       "      <td>22.1154</td>\n",
       "    </tr>\n",
       "    <tr>\n",
       "      <th>2380</th>\n",
       "      <td>ER.Status</td>\n",
       "      <td>40</td>\n",
       "      <td>1.0</td>\n",
       "      <td>sum</td>\n",
       "      <td>0.010</td>\n",
       "      <td>100.0</td>\n",
       "      <td>50.0</td>\n",
       "      <td>0.3</td>\n",
       "      <td>0.001</td>\n",
       "      <td>20.0</td>\n",
       "      <td>0.5000</td>\n",
       "      <td>0.5069</td>\n",
       "      <td>19.3252</td>\n",
       "      <td>22.1154</td>\n",
       "    </tr>\n",
       "    <tr>\n",
       "      <th>2381</th>\n",
       "      <td>ER.Status</td>\n",
       "      <td>40</td>\n",
       "      <td>2.0</td>\n",
       "      <td>sum</td>\n",
       "      <td>0.001</td>\n",
       "      <td>150.0</td>\n",
       "      <td>100.0</td>\n",
       "      <td>0.5</td>\n",
       "      <td>0.010</td>\n",
       "      <td>30.0</td>\n",
       "      <td>0.7641</td>\n",
       "      <td>0.9629</td>\n",
       "      <td>0.8455</td>\n",
       "      <td>4.4448</td>\n",
       "    </tr>\n",
       "    <tr>\n",
       "      <th>2382</th>\n",
       "      <td>ER.Status</td>\n",
       "      <td>40</td>\n",
       "      <td>1.0</td>\n",
       "      <td>mean</td>\n",
       "      <td>0.010</td>\n",
       "      <td>100.0</td>\n",
       "      <td>150.0</td>\n",
       "      <td>0.5</td>\n",
       "      <td>0.001</td>\n",
       "      <td>30.0</td>\n",
       "      <td>0.7703</td>\n",
       "      <td>0.9366</td>\n",
       "      <td>0.0726</td>\n",
       "      <td>0.5069</td>\n",
       "    </tr>\n",
       "  </tbody>\n",
       "</table>\n",
       "<p>1943 rows × 14 columns</p>\n",
       "</div>"
      ],
      "text/plain": [
       "          label distance  layers pooling     lr  gfeat  hidfeat  dout     wd  \\\n",
       "0     ER.Status       40     1.0    mean  0.001  100.0    100.0   0.5  0.001   \n",
       "1     ER.Status       40     2.0    mean  0.010   50.0    150.0   0.3  0.100   \n",
       "2     ER.Status       40     2.0     sum  0.001  100.0    150.0   0.3  0.100   \n",
       "3     ER.Status       40     2.0     att  0.001  150.0     50.0   0.5  0.010   \n",
       "4     ER.Status       40     2.0    mean  0.010  150.0     50.0   0.3  0.100   \n",
       "...         ...      ...     ...     ...    ...    ...      ...   ...    ...   \n",
       "2377  ER.Status       40     2.0     sum  0.010  100.0    150.0   0.5  0.100   \n",
       "2379  ER.Status       40     2.0     sum  0.010  150.0    100.0   0.3  0.010   \n",
       "2380  ER.Status       40     1.0     sum  0.010  100.0     50.0   0.3  0.001   \n",
       "2381  ER.Status       40     2.0     sum  0.001  150.0    100.0   0.5  0.010   \n",
       "2382  ER.Status       40     1.0    mean  0.010  100.0    150.0   0.5  0.001   \n",
       "\n",
       "        bs  acc_pat_dev  acc_pat_train  loss_pat_train  loss_pat_dev  \n",
       "0     10.0       0.7868         0.9722          0.0361        0.2123  \n",
       "1     10.0       0.5000         0.5833          0.4919        0.5362  \n",
       "2     10.0       0.7387         0.9123          0.0795        0.4017  \n",
       "3     20.0       0.8231         0.9264          0.1062        0.1693  \n",
       "4     30.0       0.5000         0.5000          0.4894        0.5348  \n",
       "...    ...          ...            ...             ...           ...  \n",
       "2377  30.0       0.5000         0.5000         17.5000       22.1154  \n",
       "2379  30.0       0.5000         0.5000         17.5006       22.1154  \n",
       "2380  20.0       0.5000         0.5069         19.3252       22.1154  \n",
       "2381  30.0       0.7641         0.9629          0.8455        4.4448  \n",
       "2382  30.0       0.7703         0.9366          0.0726        0.5069  \n",
       "\n",
       "[1943 rows x 14 columns]"
      ]
     },
     "execution_count": 7,
     "metadata": {},
     "output_type": "execute_result"
    }
   ],
   "source": [
    "\n",
    "df_non_corr = pd.DataFrame(list(zip(label,distances,layers, pooling,lrs, gfeat , hidfeat , dout , wd , bs , acc_pat_train, acc_pat_test,loss_pat_train,loss_pat_test)), \n",
    "               columns =['label','distance','layers','pooling','lr','gfeat','hidfeat','dout','wd','bs','acc_pat_dev','acc_pat_train','loss_pat_train','loss_pat_dev']) \n",
    "df_non_corr = df_non_corr[df_non_corr['distance']=='40']"
   ]
  },
  {
   "cell_type": "code",
   "execution_count": 8,
   "metadata": {},
   "outputs": [],
   "source": [
    "def optimize_results(mydf):\n",
    "    df_test = mydf.copy()\n",
    "    hps = ['layers','lr','dout','wd','bs','gfeat','hidfeat']\n",
    "    hps_test = hps\n",
    "\n",
    "    for _ in hps:\n",
    "        smallest_std = 999\n",
    "        for hp in hps_test:\n",
    "            means = df_test.groupby(hp).mean()\n",
    "            stds = df_test.groupby(hp).std()\n",
    "            #plt.errorbar(x=means.index.values, y=means['loss_pat_test'], yerr=stds['loss_pat_test'])\n",
    "            #plt.show()\n",
    "            min_std_id = np.argmin(stds['loss_pat_dev'].values)\n",
    "            if stds['loss_pat_dev'].values[min_std_id]<smallest_std:\n",
    "                smallest_std = stds['loss_pat_dev'].values[min_std_id]\n",
    "                var_to_fix = hp\n",
    "                smallest_mean_id = np.argmin(means['loss_pat_dev'].values)\n",
    "                chosen_hp_value = means.index.values[smallest_mean_id]\n",
    "\n",
    "        #print('I am now going to fix {} at {}'.format(var_to_fix, chosen_hp_value)  )  \n",
    "        #plt.errorbar(x=df_test.groupby(var_to_fix).mean().index.values, y=df_test.groupby(var_to_fix).mean()['loss_pat_dev'], yerr=df_test.groupby(var_to_fix).std()['loss_pat_dev'])\n",
    "        #plt.plot(df_test[var_to_fix], df_test['loss_pat_dev'], 'x')\n",
    "        #plt.title(var_to_fix)\n",
    "        #plt.show()\n",
    "\n",
    "        df_test = df_test[df_test[var_to_fix]==chosen_hp_value].copy()\n",
    "        hps_test = [x for x in hps_test if x!=var_to_fix]\n",
    "\n",
    "        if df_test.shape[0]<9:\n",
    "            #print('Breaking here & inspecting last few rows directly:')\n",
    "            #display(df_test[df_test['loss_pat_dev']==np.min(df_test['loss_pat_dev'].values)])\n",
    "            #display(df_test)\n",
    "            break\n",
    "            \n",
    "    return df_test\n",
    "\n",
    "\n"
   ]
  },
  {
   "cell_type": "code",
   "execution_count": 9,
   "metadata": {},
   "outputs": [
    {
     "name": "stdout",
     "output_type": "stream",
     "text": [
      " ER.Status - Number of layers 1 - pooling att - loss development set 0.199 - acc development set 86.860\n",
      " ER.Status - Number of layers 1 - pooling mean - loss development set 0.174 - acc development set 78.400\n",
      " ER.Status - Number of layers 1 - pooling sum - loss development set 0.353 - acc development set 85.720\n",
      " ER.Status - Number of layers 2 - pooling att - loss development set 0.159 - acc development set 90.000\n",
      " ER.Status - Number of layers 2 - pooling mean - loss development set 0.162 - acc development set 86.000\n",
      " ER.Status - Number of layers 2 - pooling sum - loss development set 0.278 - acc development set 81.160\n"
     ]
    }
   ],
   "source": [
    "for labels in ['ER.Status']:\n",
    "    for numlayers in [1,2]:\n",
    "        for poolingm in ['att','mean','sum']:\n",
    "            try:\n",
    "                mydf = df_non_corr[df_non_corr['label']==labels]\n",
    "                mydf = mydf[mydf['pooling']==poolingm]\n",
    "                mydf = mydf[mydf['layers']==numlayers]\n",
    "                mydf2 = optimize_results(mydf)\n",
    "                result = mydf2[mydf2['loss_pat_dev']==np.min(mydf2['loss_pat_dev'].values)]\n",
    "                print(\" %s - Number of layers %d - pooling %s - loss development set %.3f - acc development set %.3f\" % (labels,numlayers, poolingm,(result.loss_pat_dev),(result.acc_pat_dev)*100))\n",
    "            except:\n",
    "                print('error!')"
   ]
  },
  {
   "cell_type": "code",
   "execution_count": 10,
   "metadata": {},
   "outputs": [],
   "source": [
    "def print_results(result, mydir):\n",
    "    filename = mydir+'/'+'slurm_GCNGAP_ER.Status_layers_' + str(int(result.iloc[0].layers)) + '_pooling_'+ str(result.iloc[0].pooling) + '_dist_'+str(40)+ '_lr_' + str(result.iloc[0].lr) + '_graphfeatsize_' + str(int(result.iloc[0].gfeat)) + '_nhiddim1_' +  str(int(result.iloc[0].hidfeat)) + '_dropout_' +  str(result.iloc[0].dout) + '_weight_decay_' +  str(result.iloc[0].wd) + '_bsize_' +  str(int(result.iloc[0].bs)) + '.out'\n",
    "    df = pd.read_csv(filename,header = None, error_bad_lines=False)\n",
    "    temp = df[df[0].str.contains(\"Epoch\")]\n",
    "    temp = temp.reset_index()\n",
    "    temp = temp[0]\n",
    "    A = temp.str.split(pat = ' ',expand=True)\n",
    "    A = A.rename(columns={1: \"epoch\", 4: \"loss\",7:\"acc\",11:\"loss_test\",14:\"acc_test\"})\n",
    "    A = A.drop(columns=[0,2,3,5,6,8,9,10,12,13])\n",
    "    A[['loss_test','delete']] = A.loss_test.str.split(\"|\",n=2,expand=True) \n",
    "    A = A.drop(columns=['delete'])\n",
    "    for i in ['epoch', 'loss', 'acc', 'loss_test', 'acc_test']:\n",
    "        A[i] = A[i].astype(float)\n",
    "    plt.title('Binary cross entropy averaged over minibatches')\n",
    "    plt.plot(A['loss'], label = \"train\")\n",
    "    plt.plot(A['loss_test'], label = \"test\")\n",
    "    plt.legend()\n",
    "    plt.show()\n",
    "    plt.title('Class balanced accuracy averaged over minibatches')\n",
    "    plt.xlabel(\"epochs\")\n",
    "    plt.ylabel(\"Class balanced accuracy\")\n",
    "    plt.plot(A['acc'], label = \"train\")\n",
    "    plt.plot(A['acc_test'], label = \"test\")\n",
    "    plt.legend()\n",
    "    plt.show()\n",
    "    print(filename)\n",
    "\n",
    "\n",
    "\n"
   ]
  },
  {
   "cell_type": "code",
   "execution_count": 11,
   "metadata": {},
   "outputs": [
    {
     "name": "stdout",
     "output_type": "stream",
     "text": [
      "Survival ER.Status years - Number of layers 2 - pooling att - loss development set 0.16 - acc development set 0.90\n",
      "/home/martin09/nas/martin09/singlecells_dist/code_cam/results/backup/jobs_sc/slurm_GCNGAP_ER.Status_layers_2_pooling_att_lr_0.001_graphfeatsize_150.0_nhiddim1_50.0_dropout_0.5_weight_decay_0.01_bsize_30.0.out\n"
     ]
    },
    {
     "name": "stderr",
     "output_type": "stream",
     "text": [
      "b'Skipping line 663: expected 1 fields, saw 3\\n'\n"
     ]
    },
    {
     "data": {
      "image/png": "[encoded data removed]",
      "text/plain": [
       "<Figure size 432x288 with 1 Axes>"
      ]
     },
     "metadata": {
      "needs_background": "light"
     },
     "output_type": "display_data"
    },
    {
     "data": {
      "image/png": "[encoded data removed]",
      "text/plain": [
       "<Figure size 432x288 with 1 Axes>"
      ]
     },
     "metadata": {
      "needs_background": "light"
     },
     "output_type": "display_data"
    },
    {
     "name": "stdout",
     "output_type": "stream",
     "text": [
      "/home/martin09/nas/martin09/singlecells_dist/code_cam/results/backup/jobs_sc/slurm_GCNGAP_ER.Status_layers_2_pooling_att_dist_40_lr_0.001_graphfeatsize_150_nhiddim1_50_dropout_0.5_weight_decay_0.01_bsize_30.out\n"
     ]
    }
   ],
   "source": [
    "for labels in ['ER.Status']:\n",
    "    for numlayers in [2]:\n",
    "        for poolingm in ['att']:\n",
    "            \n",
    "            mydf = df_non_corr[df_non_corr['label']==labels]\n",
    "            mydf = mydf[mydf['pooling']==poolingm]\n",
    "            mydf = mydf[mydf['layers']==numlayers]\n",
    "            mydf2 = optimize_results(mydf)\n",
    "            result = mydf2[mydf2['loss_pat_dev']==np.min(mydf2['loss_pat_dev'].values)]\n",
    "            print(\"Survival %s years - Number of layers %d - pooling %s - loss development set %.2f - acc development set %.2f\" % (labels,numlayers, poolingm,result.loss_pat_dev,result.acc_pat_dev))\n",
    "\n",
    "filename = mydir+'/'+'slurm_GCNGAP_ER.Status_layers_' + str(int(result.iloc[0].layers)) + '_pooling_'+ str(result.iloc[0].pooling) + '_lr_' + str(result.iloc[0].lr) + '_graphfeatsize_' + str(result.iloc[0].gfeat) + '_nhiddim1_' +  str(result.iloc[0].hidfeat) + '_dropout_' +  str(result.iloc[0].dout) + '_weight_decay_' +  str(result.iloc[0].wd) + '_bsize_' +  str(result.iloc[0].bs) + '.out'\n",
    "print(filename)\n",
    "print_results(result, mydir)"
   ]
  },
  {
   "cell_type": "code",
   "execution_count": null,
   "metadata": {},
   "outputs": [],
   "source": []
  },
  {
   "cell_type": "code",
   "execution_count": null,
   "metadata": {},
   "outputs": [],
   "source": []
  }
 ],
 "metadata": {
  "kernelspec": {
   "display_name": "Python 3",
   "language": "python",
   "name": "python3"
  },
  "language_info": {
   "codemirror_mode": {
    "name": "ipython",
    "version": 3
   },
   "file_extension": ".py",
   "mimetype": "text/x-python",
   "name": "python",
   "nbconvert_exporter": "python",
   "pygments_lexer": "ipython3",
   "version": "3.7.6"
  }
 },
 "nbformat": 4,
 "nbformat_minor": 4
}
